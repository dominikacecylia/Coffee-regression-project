{
 "metadata": {
  "language_info": {
   "codemirror_mode": {
    "name": "ipython",
    "version": 3
   },
   "file_extension": ".py",
   "mimetype": "text/x-python",
   "name": "python",
   "nbconvert_exporter": "python",
   "pygments_lexer": "ipython3",
   "version": "3.9.1"
  },
  "orig_nbformat": 2,
  "kernelspec": {
   "name": "python391jvsc74a57bd0f8b6ea6d13f5748502004c2e5659a6272de46c202ad482ac9f90784c65a6c667",
   "display_name": "Python 3.9.1 64-bit (conda)"
  }
 },
 "nbformat": 4,
 "nbformat_minor": 2,
 "cells": [
  {
   "source": [
    "# Data cleaning for regression #"
   ],
   "cell_type": "markdown",
   "metadata": {}
  },
  {
   "source": [
    "## Imports ##"
   ],
   "cell_type": "markdown",
   "metadata": {}
  },
  {
   "cell_type": "code",
   "execution_count": 2,
   "metadata": {},
   "outputs": [
    {
     "output_type": "stream",
     "name": "stdout",
     "text": [
      "Collecting pandas\n  Downloading pandas-1.2.4-cp39-cp39-win_amd64.whl (9.3 MB)\nRequirement already satisfied: numpy>=1.16.5 in c:\\users\\lucyna\\miniconda3\\lib\\site-packages (from pandas) (1.19.5)\nRequirement already satisfied: python-dateutil>=2.7.3 in c:\\users\\lucyna\\miniconda3\\lib\\site-packages (from pandas) (2.8.1)\nRequirement already satisfied: six>=1.5 in c:\\users\\lucyna\\miniconda3\\lib\\site-packages (from python-dateutil>=2.7.3->pandas) (1.15.0)\nCollecting pytz>=2017.3\n  Downloading pytz-2021.1-py2.py3-none-any.whl (510 kB)\nInstalling collected packages: pytz, pandas\nSuccessfully installed pandas-1.2.4 pytz-2021.1\n"
     ]
    }
   ],
   "source": [
    "!pip install pandas"
   ]
  },
  {
   "cell_type": "code",
   "execution_count": 1,
   "metadata": {},
   "outputs": [
    {
     "output_type": "execute_result",
     "data": {
      "text/plain": [
       "'1.2.4'"
      ]
     },
     "metadata": {},
     "execution_count": 1
    }
   ],
   "source": [
    "import pandas as pd\n",
    "pd.__version__"
   ]
  },
  {
   "source": [
    "## Read data from csv ##"
   ],
   "cell_type": "markdown",
   "metadata": {}
  },
  {
   "cell_type": "code",
   "execution_count": 2,
   "metadata": {},
   "outputs": [
    {
     "output_type": "execute_result",
     "data": {
      "text/plain": [
       "     price(GBP)   weight  process                      brewing method   roast  \\\n",
       "idx                                                                             \n",
       "1         18.80  6 x 60g      NaN  drip (alternative brewing methods)   light   \n",
       "2          7.98    250 g  Natural  drip (alternative brewing methods)  medium   \n",
       "3          9.80    250 g  Natural  drip (alternative brewing methods)   light   \n",
       "4          9.80    250 g   Washed  drip (alternative brewing methods)   light   \n",
       "5          8.80    250 g  Natural  drip (alternative brewing methods)    dark   \n",
       "\n",
       "     grind arabica_robusta     origin  weight(g)  price_per_kg  \n",
       "idx                                                             \n",
       "1    beans    100% Arabica        NaN        360         52.22  \n",
       "2    beans    100% Arabica   Brazylia        250         31.92  \n",
       "3    beans    100% Arabica    Etiopia        250         39.20  \n",
       "4    beans    100% Arabica    Etiopia        250         39.20  \n",
       "5    beans    100% Arabica  Indonezja        250         35.20  "
      ],
      "text/html": "<div>\n<style scoped>\n    .dataframe tbody tr th:only-of-type {\n        vertical-align: middle;\n    }\n\n    .dataframe tbody tr th {\n        vertical-align: top;\n    }\n\n    .dataframe thead th {\n        text-align: right;\n    }\n</style>\n<table border=\"1\" class=\"dataframe\">\n  <thead>\n    <tr style=\"text-align: right;\">\n      <th></th>\n      <th>price(GBP)</th>\n      <th>weight</th>\n      <th>process</th>\n      <th>brewing method</th>\n      <th>roast</th>\n      <th>grind</th>\n      <th>arabica_robusta</th>\n      <th>origin</th>\n      <th>weight(g)</th>\n      <th>price_per_kg</th>\n    </tr>\n    <tr>\n      <th>idx</th>\n      <th></th>\n      <th></th>\n      <th></th>\n      <th></th>\n      <th></th>\n      <th></th>\n      <th></th>\n      <th></th>\n      <th></th>\n      <th></th>\n    </tr>\n  </thead>\n  <tbody>\n    <tr>\n      <th>1</th>\n      <td>18.80</td>\n      <td>6 x 60g</td>\n      <td>NaN</td>\n      <td>drip (alternative brewing methods)</td>\n      <td>light</td>\n      <td>beans</td>\n      <td>100% Arabica</td>\n      <td>NaN</td>\n      <td>360</td>\n      <td>52.22</td>\n    </tr>\n    <tr>\n      <th>2</th>\n      <td>7.98</td>\n      <td>250 g</td>\n      <td>Natural</td>\n      <td>drip (alternative brewing methods)</td>\n      <td>medium</td>\n      <td>beans</td>\n      <td>100% Arabica</td>\n      <td>Brazylia</td>\n      <td>250</td>\n      <td>31.92</td>\n    </tr>\n    <tr>\n      <th>3</th>\n      <td>9.80</td>\n      <td>250 g</td>\n      <td>Natural</td>\n      <td>drip (alternative brewing methods)</td>\n      <td>light</td>\n      <td>beans</td>\n      <td>100% Arabica</td>\n      <td>Etiopia</td>\n      <td>250</td>\n      <td>39.20</td>\n    </tr>\n    <tr>\n      <th>4</th>\n      <td>9.80</td>\n      <td>250 g</td>\n      <td>Washed</td>\n      <td>drip (alternative brewing methods)</td>\n      <td>light</td>\n      <td>beans</td>\n      <td>100% Arabica</td>\n      <td>Etiopia</td>\n      <td>250</td>\n      <td>39.20</td>\n    </tr>\n    <tr>\n      <th>5</th>\n      <td>8.80</td>\n      <td>250 g</td>\n      <td>Natural</td>\n      <td>drip (alternative brewing methods)</td>\n      <td>dark</td>\n      <td>beans</td>\n      <td>100% Arabica</td>\n      <td>Indonezja</td>\n      <td>250</td>\n      <td>35.20</td>\n    </tr>\n  </tbody>\n</table>\n</div>"
     },
     "metadata": {},
     "execution_count": 2
    }
   ],
   "source": [
    "coffee_df = pd.read_csv('data\\coffee_desk_dataset.csv', index_col=\"idx\")\n",
    "coffee_df.head()"
   ]
  },
  {
   "cell_type": "code",
   "execution_count": 3,
   "metadata": {},
   "outputs": [
    {
     "output_type": "execute_result",
     "data": {
      "text/plain": [
       "count    865.000000\n",
       "mean      37.087145\n",
       "std       23.220857\n",
       "min        0.000000\n",
       "25%       22.400000\n",
       "50%       32.800000\n",
       "75%       45.600000\n",
       "max      280.000000\n",
       "Name: price_per_kg, dtype: float64"
      ]
     },
     "metadata": {},
     "execution_count": 3
    }
   ],
   "source": [
    "coffee_df['price_per_kg'].describe()"
   ]
  },
  {
   "source": [
    "## Categorical variables ##"
   ],
   "cell_type": "markdown",
   "metadata": {}
  },
  {
   "cell_type": "code",
   "execution_count": 4,
   "metadata": {},
   "outputs": [
    {
     "output_type": "execute_result",
     "data": {
      "text/plain": [
       "process                        \n",
       "Washed                             268\n",
       "Natural                            195\n",
       "Honey                               20\n",
       "Anaerobic                           15\n",
       "Pulped natural                      13\n",
       "Red Honey                            7\n",
       "Carbonic Maceration                  6\n",
       "Washed i natural                     4\n",
       "Macerated Natural                    4\n",
       "Yellow Honey                         4\n",
       "Black Honey                          4\n",
       "Anaerobic natural                    3\n",
       "Aerobic Fermentation in Piles        2\n",
       "Yeast Process                        2\n",
       "Rum Aged                             2\n",
       "Washed Anaerobic                     2\n",
       "Semi-washed                          1\n",
       "Yellow Bourbon                       1\n",
       "Wet-hulling                          1\n",
       "Washed, Barrel Aged                  1\n",
       "Washed Double Anaerobic              1\n",
       "Fermentacja kontrolowana             1\n",
       "Honey + Anaerobic                    1\n",
       "Semi-Carbonic Maceration             1\n",
       "CRYO                                 1\n",
       "Closed Tank Fermentation             1\n",
       "Experimental                         1\n",
       "Monsooning                           1\n",
       "Experimental Anaerobic               1\n",
       "Hybrid Natural                       1\n",
       "Semi-Washed Kombucha Experiment      1\n",
       "dtype: int64"
      ]
     },
     "metadata": {},
     "execution_count": 4
    }
   ],
   "source": [
    "coffee_df[['process']].value_counts() # check the statistics per type in process variable"
   ]
  },
  {
   "cell_type": "code",
   "execution_count": 7,
   "metadata": {},
   "outputs": [
    {
     "output_type": "execute_result",
     "data": {
      "text/plain": [
       "origin                        \n",
       "Brazylia                          109\n",
       "Etiopia                            84\n",
       "Kolumbia                           81\n",
       "Gwatemala                          60\n",
       "Rwanda                             39\n",
       "Kenia                              31\n",
       "Salwador                           29\n",
       "Peru                               28\n",
       "Honduras                           25\n",
       "Kostaryka                          20\n",
       "Burundi                            14\n",
       "Indonezja                          10\n",
       "Nikaragua                          10\n",
       "Etiopia, Brazylia                   8\n",
       "Meksyk                              7\n",
       "Brazylia, Indie                     7\n",
       "Brazylia, Gwatemala                 7\n",
       "Italy                               6\n",
       "Panama                              6\n",
       "Uganda                              6\n",
       "Boliwia                             5\n",
       "Etiopia, Brazylia, Kolumbia         4\n",
       "Etiopia, Gwatemala                  4\n",
       "Etiopia, Kolumbia                   4\n",
       "Indie                               4\n",
       "Brazylia, Gwatemala, Etiopia        4\n",
       "Brazylia, Honduras                  4\n",
       "Salwador, Indie                     3\n",
       "Chiny                               3\n",
       "Brazylia, inne                      3\n",
       "Peru, Gwatemala                     3\n",
       "Brazylia, Etiopia                   3\n",
       "Brazylia, Uganda                    2\n",
       "Tanzania                            2\n",
       "Papua Nowa Gwinea                   2\n",
       "Brazylia, Kolumbia                  2\n",
       "Mjanma                              2\n",
       "Demokratyczna Republika Konga       1\n",
       "Rwanda, inne                        1\n",
       "Brazylia, Burundi, Peru             1\n",
       "Salwador, Nikaragua                 1\n",
       "Sumatra                             1\n",
       "Peru, Etiopia                       1\n",
       "Brazylia, Kenia                     1\n",
       "Papua Nowa Gwinea, Rwanda           1\n",
       "Brazylia, Gwatemala, Kostaryka      1\n",
       "Malawi                              1\n",
       "Laos                                1\n",
       "Brazylia, Kostaryka, Nikaragua      1\n",
       "Kenia, Indie                        1\n",
       "Brazylia, Peru                      1\n",
       "Brazylia, Peru, Wietnam             1\n",
       "Brazylia, Tanzania                  1\n",
       "Honduras, Kolumbia, Peru            1\n",
       "dtype: int64"
      ]
     },
     "metadata": {},
     "execution_count": 7
    }
   ],
   "source": [
    "coffee_df[['origin']].value_counts()"
   ]
  },
  {
   "cell_type": "code",
   "execution_count": 8,
   "metadata": {},
   "outputs": [
    {
     "output_type": "execute_result",
     "data": {
      "text/plain": [
       "price(GBP)          0.000000\n",
       "weight              0.230947\n",
       "process            34.526559\n",
       "destination         1.270208\n",
       "roast               0.923788\n",
       "blend               1.154734\n",
       "arabica_robusta     2.424942\n",
       "origin             24.018476\n",
       "weight(g)           0.000000\n",
       "price_per_kg        0.000000\n",
       "dtype: float64"
      ]
     },
     "metadata": {},
     "execution_count": 8
    }
   ],
   "source": [
    "coffee_df.isnull().mean() * 100 #checking how many null values per column"
   ]
  },
  {
   "cell_type": "code",
   "execution_count": 6,
   "metadata": {},
   "outputs": [
    {
     "output_type": "execute_result",
     "data": {
      "text/plain": [
       "     price(GBP)   weight              process  \\\n",
       "idx                                             \n",
       "1         18.80  6 x 60g                  NaN   \n",
       "2          7.98    250 g              Natural   \n",
       "3          9.80    250 g              Natural   \n",
       "4          9.80    250 g               Washed   \n",
       "5          8.80    250 g              Natural   \n",
       "6          5.19    250 g              Natural   \n",
       "7          9.00    200 g               Washed   \n",
       "8         35.00    125 g  Carbonic Maceration   \n",
       "9          1.10     11 g                  NaN   \n",
       "10        11.40    250 g               Washed   \n",
       "11        15.80    252 g                Honey   \n",
       "12        13.20    252 g                Honey   \n",
       "13        12.80  8 x 11g              Natural   \n",
       "14        15.00    250 g              Natural   \n",
       "15        12.60    250 g               Washed   \n",
       "16        12.80  8 x 11g              Natural   \n",
       "17        12.80  8 x 11g               Washed   \n",
       "18        10.40    200 g              Natural   \n",
       "19        17.80    200 g               Washed   \n",
       "20        22.00    250 g               Washed   \n",
       "\n",
       "                         brewing method   roast   grind arabica_robusta  \\\n",
       "idx                                                                       \n",
       "1    drip (alternative brewing methods)   light   beans    100% Arabica   \n",
       "2    drip (alternative brewing methods)  medium   beans    100% Arabica   \n",
       "3    drip (alternative brewing methods)   light   beans    100% Arabica   \n",
       "4    drip (alternative brewing methods)   light   beans    100% Arabica   \n",
       "5    drip (alternative brewing methods)    dark   beans    100% Arabica   \n",
       "6    drip (alternative brewing methods)  medium   beans    100% Arabica   \n",
       "7    drip (alternative brewing methods)   light   beans    100% Arabica   \n",
       "8    drip (alternative brewing methods)   light   beans    100% Arabica   \n",
       "9    drip (alternative brewing methods)   light  ground    100% Arabica   \n",
       "10   drip (alternative brewing methods)   light   beans    100% Arabica   \n",
       "11   drip (alternative brewing methods)   light   beans    100% Arabica   \n",
       "12   drip (alternative brewing methods)   light   beans    100% Arabica   \n",
       "13   drip (alternative brewing methods)  medium  ground    100% Arabica   \n",
       "14   drip (alternative brewing methods)   light   beans    100% Arabica   \n",
       "15   drip (alternative brewing methods)   light   beans    100% Arabica   \n",
       "16   drip (alternative brewing methods)   light  ground    100% Arabica   \n",
       "17   drip (alternative brewing methods)   light  ground    100% Arabica   \n",
       "18   drip (alternative brewing methods)   light   beans    100% Arabica   \n",
       "19   drip (alternative brewing methods)   light   beans    100% Arabica   \n",
       "20   drip (alternative brewing methods)   light   beans    100% Arabica   \n",
       "\n",
       "        origin  weight(g)  price_per_kg  \n",
       "idx                                      \n",
       "1          NaN        360         52.22  \n",
       "2     Brazylia        250         31.92  \n",
       "3      Etiopia        250         39.20  \n",
       "4      Etiopia        250         39.20  \n",
       "5    Indonezja        250         35.20  \n",
       "6     Brazylia        250         20.76  \n",
       "7        Kenia        200         45.00  \n",
       "8       Panama        125        280.00  \n",
       "9     Kolumbia         11        100.00  \n",
       "10    Salwador        250         45.60  \n",
       "11     Boliwia        252         62.70  \n",
       "12    Honduras        252         52.38  \n",
       "13    Brazylia         88        145.45  \n",
       "14     Burundi        250         60.00  \n",
       "15     Burundi        250         50.40  \n",
       "16     Etiopia         88        145.45  \n",
       "17   Gwatemala         88        145.45  \n",
       "18    Honduras        200         52.00  \n",
       "19    Kolumbia        200         89.00  \n",
       "20    Kolumbia        250         88.00  "
      ],
      "text/html": "<div>\n<style scoped>\n    .dataframe tbody tr th:only-of-type {\n        vertical-align: middle;\n    }\n\n    .dataframe tbody tr th {\n        vertical-align: top;\n    }\n\n    .dataframe thead th {\n        text-align: right;\n    }\n</style>\n<table border=\"1\" class=\"dataframe\">\n  <thead>\n    <tr style=\"text-align: right;\">\n      <th></th>\n      <th>price(GBP)</th>\n      <th>weight</th>\n      <th>process</th>\n      <th>brewing method</th>\n      <th>roast</th>\n      <th>grind</th>\n      <th>arabica_robusta</th>\n      <th>origin</th>\n      <th>weight(g)</th>\n      <th>price_per_kg</th>\n    </tr>\n    <tr>\n      <th>idx</th>\n      <th></th>\n      <th></th>\n      <th></th>\n      <th></th>\n      <th></th>\n      <th></th>\n      <th></th>\n      <th></th>\n      <th></th>\n      <th></th>\n    </tr>\n  </thead>\n  <tbody>\n    <tr>\n      <th>1</th>\n      <td>18.80</td>\n      <td>6 x 60g</td>\n      <td>NaN</td>\n      <td>drip (alternative brewing methods)</td>\n      <td>light</td>\n      <td>beans</td>\n      <td>100% Arabica</td>\n      <td>NaN</td>\n      <td>360</td>\n      <td>52.22</td>\n    </tr>\n    <tr>\n      <th>2</th>\n      <td>7.98</td>\n      <td>250 g</td>\n      <td>Natural</td>\n      <td>drip (alternative brewing methods)</td>\n      <td>medium</td>\n      <td>beans</td>\n      <td>100% Arabica</td>\n      <td>Brazylia</td>\n      <td>250</td>\n      <td>31.92</td>\n    </tr>\n    <tr>\n      <th>3</th>\n      <td>9.80</td>\n      <td>250 g</td>\n      <td>Natural</td>\n      <td>drip (alternative brewing methods)</td>\n      <td>light</td>\n      <td>beans</td>\n      <td>100% Arabica</td>\n      <td>Etiopia</td>\n      <td>250</td>\n      <td>39.20</td>\n    </tr>\n    <tr>\n      <th>4</th>\n      <td>9.80</td>\n      <td>250 g</td>\n      <td>Washed</td>\n      <td>drip (alternative brewing methods)</td>\n      <td>light</td>\n      <td>beans</td>\n      <td>100% Arabica</td>\n      <td>Etiopia</td>\n      <td>250</td>\n      <td>39.20</td>\n    </tr>\n    <tr>\n      <th>5</th>\n      <td>8.80</td>\n      <td>250 g</td>\n      <td>Natural</td>\n      <td>drip (alternative brewing methods)</td>\n      <td>dark</td>\n      <td>beans</td>\n      <td>100% Arabica</td>\n      <td>Indonezja</td>\n      <td>250</td>\n      <td>35.20</td>\n    </tr>\n    <tr>\n      <th>6</th>\n      <td>5.19</td>\n      <td>250 g</td>\n      <td>Natural</td>\n      <td>drip (alternative brewing methods)</td>\n      <td>medium</td>\n      <td>beans</td>\n      <td>100% Arabica</td>\n      <td>Brazylia</td>\n      <td>250</td>\n      <td>20.76</td>\n    </tr>\n    <tr>\n      <th>7</th>\n      <td>9.00</td>\n      <td>200 g</td>\n      <td>Washed</td>\n      <td>drip (alternative brewing methods)</td>\n      <td>light</td>\n      <td>beans</td>\n      <td>100% Arabica</td>\n      <td>Kenia</td>\n      <td>200</td>\n      <td>45.00</td>\n    </tr>\n    <tr>\n      <th>8</th>\n      <td>35.00</td>\n      <td>125 g</td>\n      <td>Carbonic Maceration</td>\n      <td>drip (alternative brewing methods)</td>\n      <td>light</td>\n      <td>beans</td>\n      <td>100% Arabica</td>\n      <td>Panama</td>\n      <td>125</td>\n      <td>280.00</td>\n    </tr>\n    <tr>\n      <th>9</th>\n      <td>1.10</td>\n      <td>11 g</td>\n      <td>NaN</td>\n      <td>drip (alternative brewing methods)</td>\n      <td>light</td>\n      <td>ground</td>\n      <td>100% Arabica</td>\n      <td>Kolumbia</td>\n      <td>11</td>\n      <td>100.00</td>\n    </tr>\n    <tr>\n      <th>10</th>\n      <td>11.40</td>\n      <td>250 g</td>\n      <td>Washed</td>\n      <td>drip (alternative brewing methods)</td>\n      <td>light</td>\n      <td>beans</td>\n      <td>100% Arabica</td>\n      <td>Salwador</td>\n      <td>250</td>\n      <td>45.60</td>\n    </tr>\n    <tr>\n      <th>11</th>\n      <td>15.80</td>\n      <td>252 g</td>\n      <td>Honey</td>\n      <td>drip (alternative brewing methods)</td>\n      <td>light</td>\n      <td>beans</td>\n      <td>100% Arabica</td>\n      <td>Boliwia</td>\n      <td>252</td>\n      <td>62.70</td>\n    </tr>\n    <tr>\n      <th>12</th>\n      <td>13.20</td>\n      <td>252 g</td>\n      <td>Honey</td>\n      <td>drip (alternative brewing methods)</td>\n      <td>light</td>\n      <td>beans</td>\n      <td>100% Arabica</td>\n      <td>Honduras</td>\n      <td>252</td>\n      <td>52.38</td>\n    </tr>\n    <tr>\n      <th>13</th>\n      <td>12.80</td>\n      <td>8 x 11g</td>\n      <td>Natural</td>\n      <td>drip (alternative brewing methods)</td>\n      <td>medium</td>\n      <td>ground</td>\n      <td>100% Arabica</td>\n      <td>Brazylia</td>\n      <td>88</td>\n      <td>145.45</td>\n    </tr>\n    <tr>\n      <th>14</th>\n      <td>15.00</td>\n      <td>250 g</td>\n      <td>Natural</td>\n      <td>drip (alternative brewing methods)</td>\n      <td>light</td>\n      <td>beans</td>\n      <td>100% Arabica</td>\n      <td>Burundi</td>\n      <td>250</td>\n      <td>60.00</td>\n    </tr>\n    <tr>\n      <th>15</th>\n      <td>12.60</td>\n      <td>250 g</td>\n      <td>Washed</td>\n      <td>drip (alternative brewing methods)</td>\n      <td>light</td>\n      <td>beans</td>\n      <td>100% Arabica</td>\n      <td>Burundi</td>\n      <td>250</td>\n      <td>50.40</td>\n    </tr>\n    <tr>\n      <th>16</th>\n      <td>12.80</td>\n      <td>8 x 11g</td>\n      <td>Natural</td>\n      <td>drip (alternative brewing methods)</td>\n      <td>light</td>\n      <td>ground</td>\n      <td>100% Arabica</td>\n      <td>Etiopia</td>\n      <td>88</td>\n      <td>145.45</td>\n    </tr>\n    <tr>\n      <th>17</th>\n      <td>12.80</td>\n      <td>8 x 11g</td>\n      <td>Washed</td>\n      <td>drip (alternative brewing methods)</td>\n      <td>light</td>\n      <td>ground</td>\n      <td>100% Arabica</td>\n      <td>Gwatemala</td>\n      <td>88</td>\n      <td>145.45</td>\n    </tr>\n    <tr>\n      <th>18</th>\n      <td>10.40</td>\n      <td>200 g</td>\n      <td>Natural</td>\n      <td>drip (alternative brewing methods)</td>\n      <td>light</td>\n      <td>beans</td>\n      <td>100% Arabica</td>\n      <td>Honduras</td>\n      <td>200</td>\n      <td>52.00</td>\n    </tr>\n    <tr>\n      <th>19</th>\n      <td>17.80</td>\n      <td>200 g</td>\n      <td>Washed</td>\n      <td>drip (alternative brewing methods)</td>\n      <td>light</td>\n      <td>beans</td>\n      <td>100% Arabica</td>\n      <td>Kolumbia</td>\n      <td>200</td>\n      <td>89.00</td>\n    </tr>\n    <tr>\n      <th>20</th>\n      <td>22.00</td>\n      <td>250 g</td>\n      <td>Washed</td>\n      <td>drip (alternative brewing methods)</td>\n      <td>light</td>\n      <td>beans</td>\n      <td>100% Arabica</td>\n      <td>Kolumbia</td>\n      <td>250</td>\n      <td>88.00</td>\n    </tr>\n  </tbody>\n</table>\n</div>"
     },
     "metadata": {},
     "execution_count": 6
    }
   ],
   "source": [
    "coffee_df_backup = coffee_df #creates backup df\n",
    "coffee_df_backup.head(20)"
   ]
  },
  {
   "cell_type": "code",
   "execution_count": 10,
   "metadata": {},
   "outputs": [
    {
     "output_type": "execute_result",
     "data": {
      "text/plain": [
       "price(GBP)         float64\n",
       "weight              object\n",
       "process             object\n",
       "destination         object\n",
       "roast               object\n",
       "blend               object\n",
       "arabica_robusta     object\n",
       "origin              object\n",
       "weight(g)            int64\n",
       "price_per_kg       float64\n",
       "dtype: object"
      ]
     },
     "metadata": {},
     "execution_count": 10
    }
   ],
   "source": [
    "coffee_df_backup.dtypes"
   ]
  },
  {
   "source": [
    "## Generalize some of the variables ##"
   ],
   "cell_type": "markdown",
   "metadata": {}
  },
  {
   "cell_type": "code",
   "execution_count": 6,
   "metadata": {},
   "outputs": [],
   "source": [
    "# coffee_df_backup['origin'].replace({'Honduras, Kolumbia, Peru' : 'Mixed origin', 'Brazylia, Tanzania' : 'Brazil and others', 'Brazylia, Peru, Wietnam' : 'Brazil and others',\n",
    "#                                      'Brazylia, Peru' : 'Brazil and others', 'Brazylia, Kostaryka, Nikaragua' : 'Brazil and others', 'Brazylia, Gwatemala, Kostaryka' : 'Brazil and others',\n",
    "#                                      'Brazylia, Indie':'Brazil and others', 'Brazylia, Gwatemala' : 'Brazil and others', 'Brazylia, Kolumbia' : 'Brazil and others', 'Brazylia, Honduras' : 'Brazil and others',\n",
    "#                                      'Peru, Gwatemala' : 'Mixed origin', 'Peru, Etiopia' : 'Mixed origin', 'Papua Nowa Gwinea, Rwanda' : 'Mixed origin', 'Etiopia, Gwatemala' : 'Mixed origin', \n",
    "#                                      'Brazylia, Uganda' : 'Brazil and others', 'Salwador, Indie' : 'Mixed origin', 'Rwanda, inne' : 'Mixed origin', 'Salwador, Nikaragua' : 'Mixed origin',\n",
    "#                                      'Kenia, Indie' : 'Mixed origin', 'Brazylia, Kenia' : 'Brazil and others', 'Brazylia, Etiopia' : 'Brazil and others', 'Etiopia, Kolumbia' : 'Mixed origin',\n",
    "#                                      'Etiopia, Brazylia' : 'Brazil and others', 'Etiopia, Brazylia, Kolumbia' : 'Mixed origin', 'Brazylia, Gwatemala, Etiopia' : 'Mixed origin',\n",
    "#                                      'Brazylia, inne' : 'Brazil and others', 'Brazylia, Burundi, Peru' : 'Brazil and others'}, inplace=True)"
   ]
  },
  {
   "cell_type": "code",
   "execution_count": 7,
   "metadata": {},
   "outputs": [
    {
     "output_type": "execute_result",
     "data": {
      "text/plain": [
       "Washed                             268\n",
       "Natural                            195\n",
       "Honey                               20\n",
       "Anaerobic                           15\n",
       "Pulped natural                      13\n",
       "Red Honey                            7\n",
       "Carbonic Maceration                  6\n",
       "Macerated Natural                    4\n",
       "Yellow Honey                         4\n",
       "Black Honey                          4\n",
       "Washed i natural                     4\n",
       "Anaerobic natural                    3\n",
       "Aerobic Fermentation in Piles        2\n",
       "Yeast Process                        2\n",
       "Rum Aged                             2\n",
       "Washed Anaerobic                     2\n",
       "Experimental                         1\n",
       "Closed Tank Fermentation             1\n",
       "Monsooning                           1\n",
       "Experimental Anaerobic               1\n",
       "Hybrid Natural                       1\n",
       "Semi-washed                          1\n",
       "Washed, Barrel Aged                  1\n",
       "Wet-hulling                          1\n",
       "Honey + Anaerobic                    1\n",
       "Washed Double Anaerobic              1\n",
       "CRYO                                 1\n",
       "Semi-Carbonic Maceration             1\n",
       "Semi-Washed Kombucha Experiment      1\n",
       "Yellow Bourbon                       1\n",
       "Fermentacja kontrolowana             1\n",
       "Name: process, dtype: int64"
      ]
     },
     "metadata": {},
     "execution_count": 7
    }
   ],
   "source": [
    "coffee_df_backup['process'].value_counts()"
   ]
  },
  {
   "cell_type": "code",
   "execution_count": 7,
   "metadata": {},
   "outputs": [
    {
     "output_type": "execute_result",
     "data": {
      "text/plain": [
       "Washed                             268\n",
       "Natural                            195\n",
       "Honey                               35\n",
       "Anaerobic                           15\n",
       "Pulped natural                      13\n",
       "Carbonic Maceration                  6\n",
       "Washed and natural                   5\n",
       "Macerated Natural                    4\n",
       "Anaerobic natural                    3\n",
       "Aerobic Fermentation in Piles        2\n",
       "Rum Aged                             2\n",
       "Semi-washed                          2\n",
       "Washed Anaerobic                     2\n",
       "Yeast Process                        2\n",
       "Monsooning                           1\n",
       "Washed Double Anaerobic              1\n",
       "Honey + Anaerobic                    1\n",
       "Yellow Bourbon                       1\n",
       "Semi-Carbonic Maceration             1\n",
       "CRYO                                 1\n",
       "Fermentacja kontrolowana             1\n",
       "Washed, Barrel Aged                  1\n",
       "Experimental                         1\n",
       "Experimental Anaerobic               1\n",
       "Closed Tank Fermentation             1\n",
       "Semi-Washed Kombucha Experiment      1\n",
       "Name: process, dtype: int64"
      ]
     },
     "metadata": {},
     "execution_count": 7
    }
   ],
   "source": [
    "# merging same processes together, wet-hulling and semi-washed are the same thing\n",
    "coffee_df_backup['process'].replace({'Red Honey' : 'Honey', 'Yellow Honey' : 'Honey', 'Black Honey' : 'Honey', 'Washed i natural' : 'Washed and natural',\n",
    "                                    'Hybrid Natural' : 'Washed and natural', 'Wet-hulling' : 'Semi-washed'}, inplace=True)\n",
    "coffee_df_backup['process'].value_counts()"
   ]
  },
  {
   "source": [
    "## Imputing missing categorical variables ##"
   ],
   "cell_type": "markdown",
   "metadata": {}
  },
  {
   "cell_type": "code",
   "execution_count": 8,
   "metadata": {},
   "outputs": [
    {
     "output_type": "execute_result",
     "data": {
      "text/plain": [
       "     process                      brewing method   roast  grind  \\\n",
       "idx                                                               \n",
       "1        NaN  drip (alternative brewing methods)   light  beans   \n",
       "2    Natural  drip (alternative brewing methods)  medium  beans   \n",
       "3    Natural  drip (alternative brewing methods)   light  beans   \n",
       "4     Washed  drip (alternative brewing methods)   light  beans   \n",
       "5    Natural  drip (alternative brewing methods)    dark  beans   \n",
       "..       ...                                 ...     ...    ...   \n",
       "862      NaN                                 NaN     NaN    NaN   \n",
       "863  Natural                                 NaN     NaN  beans   \n",
       "864      NaN                                 NaN     NaN    NaN   \n",
       "865   Washed                                 NaN   light  beans   \n",
       "866   Washed                                 NaN   light  beans   \n",
       "\n",
       "    arabica_robusta     origin  price_per_kg  \n",
       "idx                                           \n",
       "1      100% Arabica        NaN         52.22  \n",
       "2      100% Arabica   Brazylia         31.92  \n",
       "3      100% Arabica    Etiopia         39.20  \n",
       "4      100% Arabica    Etiopia         39.20  \n",
       "5      100% Arabica  Indonezja         35.20  \n",
       "..              ...        ...           ...  \n",
       "862             NaN  Gwatemala         73.33  \n",
       "863             NaN     Panama         50.00  \n",
       "864             NaN  Nikaragua         36.00  \n",
       "865    100% Arabica  Gwatemala         25.00  \n",
       "866    100% Arabica  Gwatemala         29.60  \n",
       "\n",
       "[865 rows x 7 columns]"
      ],
      "text/html": "<div>\n<style scoped>\n    .dataframe tbody tr th:only-of-type {\n        vertical-align: middle;\n    }\n\n    .dataframe tbody tr th {\n        vertical-align: top;\n    }\n\n    .dataframe thead th {\n        text-align: right;\n    }\n</style>\n<table border=\"1\" class=\"dataframe\">\n  <thead>\n    <tr style=\"text-align: right;\">\n      <th></th>\n      <th>process</th>\n      <th>brewing method</th>\n      <th>roast</th>\n      <th>grind</th>\n      <th>arabica_robusta</th>\n      <th>origin</th>\n      <th>price_per_kg</th>\n    </tr>\n    <tr>\n      <th>idx</th>\n      <th></th>\n      <th></th>\n      <th></th>\n      <th></th>\n      <th></th>\n      <th></th>\n      <th></th>\n    </tr>\n  </thead>\n  <tbody>\n    <tr>\n      <th>1</th>\n      <td>NaN</td>\n      <td>drip (alternative brewing methods)</td>\n      <td>light</td>\n      <td>beans</td>\n      <td>100% Arabica</td>\n      <td>NaN</td>\n      <td>52.22</td>\n    </tr>\n    <tr>\n      <th>2</th>\n      <td>Natural</td>\n      <td>drip (alternative brewing methods)</td>\n      <td>medium</td>\n      <td>beans</td>\n      <td>100% Arabica</td>\n      <td>Brazylia</td>\n      <td>31.92</td>\n    </tr>\n    <tr>\n      <th>3</th>\n      <td>Natural</td>\n      <td>drip (alternative brewing methods)</td>\n      <td>light</td>\n      <td>beans</td>\n      <td>100% Arabica</td>\n      <td>Etiopia</td>\n      <td>39.20</td>\n    </tr>\n    <tr>\n      <th>4</th>\n      <td>Washed</td>\n      <td>drip (alternative brewing methods)</td>\n      <td>light</td>\n      <td>beans</td>\n      <td>100% Arabica</td>\n      <td>Etiopia</td>\n      <td>39.20</td>\n    </tr>\n    <tr>\n      <th>5</th>\n      <td>Natural</td>\n      <td>drip (alternative brewing methods)</td>\n      <td>dark</td>\n      <td>beans</td>\n      <td>100% Arabica</td>\n      <td>Indonezja</td>\n      <td>35.20</td>\n    </tr>\n    <tr>\n      <th>...</th>\n      <td>...</td>\n      <td>...</td>\n      <td>...</td>\n      <td>...</td>\n      <td>...</td>\n      <td>...</td>\n      <td>...</td>\n    </tr>\n    <tr>\n      <th>862</th>\n      <td>NaN</td>\n      <td>NaN</td>\n      <td>NaN</td>\n      <td>NaN</td>\n      <td>NaN</td>\n      <td>Gwatemala</td>\n      <td>73.33</td>\n    </tr>\n    <tr>\n      <th>863</th>\n      <td>Natural</td>\n      <td>NaN</td>\n      <td>NaN</td>\n      <td>beans</td>\n      <td>NaN</td>\n      <td>Panama</td>\n      <td>50.00</td>\n    </tr>\n    <tr>\n      <th>864</th>\n      <td>NaN</td>\n      <td>NaN</td>\n      <td>NaN</td>\n      <td>NaN</td>\n      <td>NaN</td>\n      <td>Nikaragua</td>\n      <td>36.00</td>\n    </tr>\n    <tr>\n      <th>865</th>\n      <td>Washed</td>\n      <td>NaN</td>\n      <td>light</td>\n      <td>beans</td>\n      <td>100% Arabica</td>\n      <td>Gwatemala</td>\n      <td>25.00</td>\n    </tr>\n    <tr>\n      <th>866</th>\n      <td>Washed</td>\n      <td>NaN</td>\n      <td>light</td>\n      <td>beans</td>\n      <td>100% Arabica</td>\n      <td>Gwatemala</td>\n      <td>29.60</td>\n    </tr>\n  </tbody>\n</table>\n<p>865 rows × 7 columns</p>\n</div>"
     },
     "metadata": {},
     "execution_count": 8
    }
   ],
   "source": [
    "coffee_df_backup.drop(['price(GBP)', 'weight', 'weight(g)'], axis=1)"
   ]
  },
  {
   "cell_type": "code",
   "execution_count": 9,
   "metadata": {},
   "outputs": [],
   "source": [
    "import sklearn\n",
    "from sklearn.impute import KNNImputer\n",
    "from sklearn.preprocessing import OrdinalEncoder"
   ]
  },
  {
   "cell_type": "code",
   "execution_count": 10,
   "metadata": {},
   "outputs": [],
   "source": [
    "# initialize KNN imputer\n",
    "knn_imputer = KNNImputer(n_neighbors=5, weights='distance')"
   ]
  },
  {
   "cell_type": "code",
   "execution_count": 11,
   "metadata": {},
   "outputs": [],
   "source": [
    "# change categorical variables to codes\n",
    "columns_for_imput = ['process', 'brewing method', 'roast', 'grind', 'arabica_robusta', 'origin']"
   ]
  },
  {
   "cell_type": "code",
   "execution_count": 12,
   "metadata": {},
   "outputs": [
    {
     "output_type": "stream",
     "name": "stdout",
     "text": [
      "Column, Category dict: {0: 'Aerobic Fermentation in Piles', 1: 'Anaerobic', 2: 'Anaerobic natural', 3: 'CRYO', 4: 'Carbonic Maceration', 5: 'Closed Tank Fermentation', 6: 'Experimental', 7: 'Experimental Anaerobic', 8: 'Fermentacja kontrolowana', 9: 'Honey', 10: 'Honey + Anaerobic', 11: 'Macerated Natural', 12: 'Monsooning', 13: 'Natural', 14: 'Pulped natural', 15: 'Rum Aged', 16: 'Semi-Carbonic Maceration', 17: 'Semi-Washed Kombucha Experiment', 18: 'Semi-washed', 19: 'Washed', 20: 'Washed Anaerobic', 21: 'Washed Double Anaerobic', 22: 'Washed and natural', 23: 'Washed, Barrel Aged', 24: 'Yeast Process', 25: 'Yellow Bourbon'}\n",
      "Inverted Column, Category dict: {'Aerobic Fermentation in Piles': 0, 'Anaerobic': 1, 'Anaerobic natural': 2, 'CRYO': 3, 'Carbonic Maceration': 4, 'Closed Tank Fermentation': 5, 'Experimental': 6, 'Experimental Anaerobic': 7, 'Fermentacja kontrolowana': 8, 'Honey': 9, 'Honey + Anaerobic': 10, 'Macerated Natural': 11, 'Monsooning': 12, 'Natural': 13, 'Pulped natural': 14, 'Rum Aged': 15, 'Semi-Carbonic Maceration': 16, 'Semi-Washed Kombucha Experiment': 17, 'Semi-washed': 18, 'Washed': 19, 'Washed Anaerobic': 20, 'Washed Double Anaerobic': 21, 'Washed and natural': 22, 'Washed, Barrel Aged': 23, 'Yeast Process': 24, 'Yellow Bourbon': 25}\n",
      "Column, Category dict: {0: 'drip (alternative brewing methods)', 1: 'drip, espresso', 2: 'espresso'}\n",
      "Inverted Column, Category dict: {'drip (alternative brewing methods)': 0, 'drip, espresso': 1, 'espresso': 2}\n",
      "Column, Category dict: {0: 'dark', 1: 'light', 2: 'medium'}\n",
      "Inverted Column, Category dict: {'dark': 0, 'light': 1, 'medium': 2}\n",
      "Column, Category dict: {0: 'beans', 1: 'ground'}\n",
      "Inverted Column, Category dict: {'beans': 0, 'ground': 1}\n",
      "Column, Category dict: {0: '100% Arabica', 1: '100% Robusta', 2: '30/70', 3: '35/65', 4: '40/60', 5: '50/50', 6: '55/45', 7: '60/40', 8: '65/35', 9: '70/30', 10: '75/25', 11: '78/22', 12: '80/20', 13: '84/16', 14: '85/15', 15: '90/10', 16: '92/8', 17: '95/5', 18: 'Oct-90'}\n",
      "Inverted Column, Category dict: {'100% Arabica': 0, '100% Robusta': 1, '30/70': 2, '35/65': 3, '40/60': 4, '50/50': 5, '55/45': 6, '60/40': 7, '65/35': 8, '70/30': 9, '75/25': 10, '78/22': 11, '80/20': 12, '84/16': 13, '85/15': 14, '90/10': 15, '92/8': 16, '95/5': 17, 'Oct-90': 18}\n",
      "Column, Category dict: {0: 'Boliwia', 1: 'Brazylia', 2: 'Brazylia, Burundi, Peru', 3: 'Brazylia, Etiopia', 4: 'Brazylia, Gwatemala', 5: 'Brazylia, Gwatemala, Etiopia', 6: 'Brazylia, Gwatemala, Kostaryka', 7: 'Brazylia, Honduras', 8: 'Brazylia, Indie', 9: 'Brazylia, Kenia', 10: 'Brazylia, Kolumbia', 11: 'Brazylia, Kostaryka, Nikaragua', 12: 'Brazylia, Peru', 13: 'Brazylia, Peru, Wietnam', 14: 'Brazylia, Tanzania', 15: 'Brazylia, Uganda', 16: 'Brazylia, inne', 17: 'Burundi', 18: 'Chiny', 19: 'Demokratyczna Republika Konga', 20: 'Etiopia', 21: 'Etiopia, Brazylia', 22: 'Etiopia, Brazylia, Kolumbia', 23: 'Etiopia, Gwatemala', 24: 'Etiopia, Kolumbia', 25: 'Gwatemala', 26: 'Honduras', 27: 'Honduras, Kolumbia, Peru', 28: 'Indie', 29: 'Indonezja', 30: 'Italy', 31: 'Kenia', 32: 'Kenia, Indie', 33: 'Kolumbia', 34: 'Kostaryka', 35: 'Laos', 36: 'Malawi', 37: 'Meksyk', 38: 'Mjanma', 39: 'Nikaragua', 40: 'Panama', 41: 'Papua Nowa Gwinea', 42: 'Papua Nowa Gwinea, Rwanda', 43: 'Peru', 44: 'Peru, Etiopia', 45: 'Peru, Gwatemala', 46: 'Rwanda', 47: 'Rwanda, inne', 48: 'Salwador', 49: 'Salwador, Indie', 50: 'Salwador, Nikaragua', 51: 'Sumatra', 52: 'Tanzania', 53: 'Uganda'}\n",
      "Inverted Column, Category dict: {'Boliwia': 0, 'Brazylia': 1, 'Brazylia, Burundi, Peru': 2, 'Brazylia, Etiopia': 3, 'Brazylia, Gwatemala': 4, 'Brazylia, Gwatemala, Etiopia': 5, 'Brazylia, Gwatemala, Kostaryka': 6, 'Brazylia, Honduras': 7, 'Brazylia, Indie': 8, 'Brazylia, Kenia': 9, 'Brazylia, Kolumbia': 10, 'Brazylia, Kostaryka, Nikaragua': 11, 'Brazylia, Peru': 12, 'Brazylia, Peru, Wietnam': 13, 'Brazylia, Tanzania': 14, 'Brazylia, Uganda': 15, 'Brazylia, inne': 16, 'Burundi': 17, 'Chiny': 18, 'Demokratyczna Republika Konga': 19, 'Etiopia': 20, 'Etiopia, Brazylia': 21, 'Etiopia, Brazylia, Kolumbia': 22, 'Etiopia, Gwatemala': 23, 'Etiopia, Kolumbia': 24, 'Gwatemala': 25, 'Honduras': 26, 'Honduras, Kolumbia, Peru': 27, 'Indie': 28, 'Indonezja': 29, 'Italy': 30, 'Kenia': 31, 'Kenia, Indie': 32, 'Kolumbia': 33, 'Kostaryka': 34, 'Laos': 35, 'Malawi': 36, 'Meksyk': 37, 'Mjanma': 38, 'Nikaragua': 39, 'Panama': 40, 'Papua Nowa Gwinea': 41, 'Papua Nowa Gwinea, Rwanda': 42, 'Peru': 43, 'Peru, Etiopia': 44, 'Peru, Gwatemala': 45, 'Rwanda': 46, 'Rwanda, inne': 47, 'Salwador': 48, 'Salwador, Indie': 49, 'Salwador, Nikaragua': 50, 'Sumatra': 51, 'Tanzania': 52, 'Uganda': 53}\n",
      "\n",
      "Category dict ENCODE: {'process': {'Aerobic Fermentation in Piles': 0, 'Anaerobic': 1, 'Anaerobic natural': 2, 'CRYO': 3, 'Carbonic Maceration': 4, 'Closed Tank Fermentation': 5, 'Experimental': 6, 'Experimental Anaerobic': 7, 'Fermentacja kontrolowana': 8, 'Honey': 9, 'Honey + Anaerobic': 10, 'Macerated Natural': 11, 'Monsooning': 12, 'Natural': 13, 'Pulped natural': 14, 'Rum Aged': 15, 'Semi-Carbonic Maceration': 16, 'Semi-Washed Kombucha Experiment': 17, 'Semi-washed': 18, 'Washed': 19, 'Washed Anaerobic': 20, 'Washed Double Anaerobic': 21, 'Washed and natural': 22, 'Washed, Barrel Aged': 23, 'Yeast Process': 24, 'Yellow Bourbon': 25}, 'brewing method': {'drip (alternative brewing methods)': 0, 'drip, espresso': 1, 'espresso': 2}, 'roast': {'dark': 0, 'light': 1, 'medium': 2}, 'grind': {'beans': 0, 'ground': 1}, 'arabica_robusta': {'100% Arabica': 0, '100% Robusta': 1, '30/70': 2, '35/65': 3, '40/60': 4, '50/50': 5, '55/45': 6, '60/40': 7, '65/35': 8, '70/30': 9, '75/25': 10, '78/22': 11, '80/20': 12, '84/16': 13, '85/15': 14, '90/10': 15, '92/8': 16, '95/5': 17, 'Oct-90': 18}, 'origin': {'Boliwia': 0, 'Brazylia': 1, 'Brazylia, Burundi, Peru': 2, 'Brazylia, Etiopia': 3, 'Brazylia, Gwatemala': 4, 'Brazylia, Gwatemala, Etiopia': 5, 'Brazylia, Gwatemala, Kostaryka': 6, 'Brazylia, Honduras': 7, 'Brazylia, Indie': 8, 'Brazylia, Kenia': 9, 'Brazylia, Kolumbia': 10, 'Brazylia, Kostaryka, Nikaragua': 11, 'Brazylia, Peru': 12, 'Brazylia, Peru, Wietnam': 13, 'Brazylia, Tanzania': 14, 'Brazylia, Uganda': 15, 'Brazylia, inne': 16, 'Burundi': 17, 'Chiny': 18, 'Demokratyczna Republika Konga': 19, 'Etiopia': 20, 'Etiopia, Brazylia': 21, 'Etiopia, Brazylia, Kolumbia': 22, 'Etiopia, Gwatemala': 23, 'Etiopia, Kolumbia': 24, 'Gwatemala': 25, 'Honduras': 26, 'Honduras, Kolumbia, Peru': 27, 'Indie': 28, 'Indonezja': 29, 'Italy': 30, 'Kenia': 31, 'Kenia, Indie': 32, 'Kolumbia': 33, 'Kostaryka': 34, 'Laos': 35, 'Malawi': 36, 'Meksyk': 37, 'Mjanma': 38, 'Nikaragua': 39, 'Panama': 40, 'Papua Nowa Gwinea': 41, 'Papua Nowa Gwinea, Rwanda': 42, 'Peru': 43, 'Peru, Etiopia': 44, 'Peru, Gwatemala': 45, 'Rwanda': 46, 'Rwanda, inne': 47, 'Salwador': 48, 'Salwador, Indie': 49, 'Salwador, Nikaragua': 50, 'Sumatra': 51, 'Tanzania': 52, 'Uganda': 53}}\n",
      "Category dict DECODE: {'process': {0: 'Aerobic Fermentation in Piles', 1: 'Anaerobic', 2: 'Anaerobic natural', 3: 'CRYO', 4: 'Carbonic Maceration', 5: 'Closed Tank Fermentation', 6: 'Experimental', 7: 'Experimental Anaerobic', 8: 'Fermentacja kontrolowana', 9: 'Honey', 10: 'Honey + Anaerobic', 11: 'Macerated Natural', 12: 'Monsooning', 13: 'Natural', 14: 'Pulped natural', 15: 'Rum Aged', 16: 'Semi-Carbonic Maceration', 17: 'Semi-Washed Kombucha Experiment', 18: 'Semi-washed', 19: 'Washed', 20: 'Washed Anaerobic', 21: 'Washed Double Anaerobic', 22: 'Washed and natural', 23: 'Washed, Barrel Aged', 24: 'Yeast Process', 25: 'Yellow Bourbon'}, 'brewing method': {0: 'drip (alternative brewing methods)', 1: 'drip, espresso', 2: 'espresso'}, 'roast': {0: 'dark', 1: 'light', 2: 'medium'}, 'grind': {0: 'beans', 1: 'ground'}, 'arabica_robusta': {0: '100% Arabica', 1: '100% Robusta', 2: '30/70', 3: '35/65', 4: '40/60', 5: '50/50', 6: '55/45', 7: '60/40', 8: '65/35', 9: '70/30', 10: '75/25', 11: '78/22', 12: '80/20', 13: '84/16', 14: '85/15', 15: '90/10', 16: '92/8', 17: '95/5', 18: 'Oct-90'}, 'origin': {0: 'Boliwia', 1: 'Brazylia', 2: 'Brazylia, Burundi, Peru', 3: 'Brazylia, Etiopia', 4: 'Brazylia, Gwatemala', 5: 'Brazylia, Gwatemala, Etiopia', 6: 'Brazylia, Gwatemala, Kostaryka', 7: 'Brazylia, Honduras', 8: 'Brazylia, Indie', 9: 'Brazylia, Kenia', 10: 'Brazylia, Kolumbia', 11: 'Brazylia, Kostaryka, Nikaragua', 12: 'Brazylia, Peru', 13: 'Brazylia, Peru, Wietnam', 14: 'Brazylia, Tanzania', 15: 'Brazylia, Uganda', 16: 'Brazylia, inne', 17: 'Burundi', 18: 'Chiny', 19: 'Demokratyczna Republika Konga', 20: 'Etiopia', 21: 'Etiopia, Brazylia', 22: 'Etiopia, Brazylia, Kolumbia', 23: 'Etiopia, Gwatemala', 24: 'Etiopia, Kolumbia', 25: 'Gwatemala', 26: 'Honduras', 27: 'Honduras, Kolumbia, Peru', 28: 'Indie', 29: 'Indonezja', 30: 'Italy', 31: 'Kenia', 32: 'Kenia, Indie', 33: 'Kolumbia', 34: 'Kostaryka', 35: 'Laos', 36: 'Malawi', 37: 'Meksyk', 38: 'Mjanma', 39: 'Nikaragua', 40: 'Panama', 41: 'Papua Nowa Gwinea', 42: 'Papua Nowa Gwinea, Rwanda', 43: 'Peru', 44: 'Peru, Etiopia', 45: 'Peru, Gwatemala', 46: 'Rwanda', 47: 'Rwanda, inne', 48: 'Salwador', 49: 'Salwador, Indie', 50: 'Salwador, Nikaragua', 51: 'Sumatra', 52: 'Tanzania', 53: 'Uganda'}}\n",
      "<ipython-input-12-d12d8109a94c>:9: SettingWithCopyWarning: \n",
      "A value is trying to be set on a copy of a slice from a DataFrame.\n",
      "Try using .loc[row_indexer,col_indexer] = value instead\n",
      "\n",
      "See the caveats in the documentation: https://pandas.pydata.org/pandas-docs/stable/user_guide/indexing.html#returning-a-view-versus-a-copy\n",
      "  coffee_df_imput[col] = coffee_df_imput[col].astype(\"category\")\n",
      "C:\\Users\\Lucyna\\miniconda3\\lib\\site-packages\\pandas\\core\\indexing.py:1676: SettingWithCopyWarning: \n",
      "A value is trying to be set on a copy of a slice from a DataFrame.\n",
      "Try using .loc[row_indexer,col_indexer] = value instead\n",
      "\n",
      "See the caveats in the documentation: https://pandas.pydata.org/pandas-docs/stable/user_guide/indexing.html#returning-a-view-versus-a-copy\n",
      "  self._setitem_single_column(ilocs[0], value, pi)\n"
     ]
    },
    {
     "output_type": "execute_result",
     "data": {
      "text/plain": [
       "     process  brewing method  roast  grind  arabica_robusta  origin\n",
       "idx                                                                \n",
       "1        NaN             0.0    1.0    0.0              0.0     NaN\n",
       "2       13.0             0.0    2.0    0.0              0.0     1.0\n",
       "3       13.0             0.0    1.0    0.0              0.0    20.0\n",
       "4       19.0             0.0    1.0    0.0              0.0    20.0\n",
       "5       13.0             0.0    0.0    0.0              0.0    29.0"
      ],
      "text/html": "<div>\n<style scoped>\n    .dataframe tbody tr th:only-of-type {\n        vertical-align: middle;\n    }\n\n    .dataframe tbody tr th {\n        vertical-align: top;\n    }\n\n    .dataframe thead th {\n        text-align: right;\n    }\n</style>\n<table border=\"1\" class=\"dataframe\">\n  <thead>\n    <tr style=\"text-align: right;\">\n      <th></th>\n      <th>process</th>\n      <th>brewing method</th>\n      <th>roast</th>\n      <th>grind</th>\n      <th>arabica_robusta</th>\n      <th>origin</th>\n    </tr>\n    <tr>\n      <th>idx</th>\n      <th></th>\n      <th></th>\n      <th></th>\n      <th></th>\n      <th></th>\n      <th></th>\n    </tr>\n  </thead>\n  <tbody>\n    <tr>\n      <th>1</th>\n      <td>NaN</td>\n      <td>0.0</td>\n      <td>1.0</td>\n      <td>0.0</td>\n      <td>0.0</td>\n      <td>NaN</td>\n    </tr>\n    <tr>\n      <th>2</th>\n      <td>13.0</td>\n      <td>0.0</td>\n      <td>2.0</td>\n      <td>0.0</td>\n      <td>0.0</td>\n      <td>1.0</td>\n    </tr>\n    <tr>\n      <th>3</th>\n      <td>13.0</td>\n      <td>0.0</td>\n      <td>1.0</td>\n      <td>0.0</td>\n      <td>0.0</td>\n      <td>20.0</td>\n    </tr>\n    <tr>\n      <th>4</th>\n      <td>19.0</td>\n      <td>0.0</td>\n      <td>1.0</td>\n      <td>0.0</td>\n      <td>0.0</td>\n      <td>20.0</td>\n    </tr>\n    <tr>\n      <th>5</th>\n      <td>13.0</td>\n      <td>0.0</td>\n      <td>0.0</td>\n      <td>0.0</td>\n      <td>0.0</td>\n      <td>29.0</td>\n    </tr>\n  </tbody>\n</table>\n</div>"
     },
     "metadata": {},
     "execution_count": 12
    }
   ],
   "source": [
    "coffee_df_imput = coffee_df_backup[columns_for_imput]\n",
    "\n",
    "# collections to encode and decode categorical data:\n",
    "category_dict_encode = {}\n",
    "category_dict_decode = {}\n",
    "\n",
    "# encoding categorical data:\n",
    "for col in columns_for_imput:\n",
    "    coffee_df_imput[col] = coffee_df_imput[col].astype(\"category\")\n",
    "    categories = coffee_df_imput[col].cat.categories\n",
    "\n",
    "    col_cat_dict = dict(enumerate(categories))\n",
    "    print(\"Column, Category dict:\", col_cat_dict)\n",
    "    category_dict_decode[col] = col_cat_dict\n",
    "\n",
    "    col_cat_dict = {v:k for k,v in col_cat_dict.items()}\n",
    "    print(\"Inverted Column, Category dict:\", col_cat_dict)\n",
    "    category_dict_encode[col] = col_cat_dict\n",
    "\n",
    "\n",
    "print()\n",
    "print(\"Category dict ENCODE:\", category_dict_encode)\n",
    "print(\"Category dict DECODE:\", category_dict_decode)\n",
    "coffee_df_imput.replace(category_dict_encode, inplace=True)\n",
    "coffee_df_imput.head()"
   ]
  },
  {
   "cell_type": "code",
   "execution_count": 13,
   "metadata": {},
   "outputs": [
    {
     "output_type": "execute_result",
     "data": {
      "text/plain": [
       "    process  brewing method  roast  grind  arabica_robusta  origin\n",
       "0      12.2             0.0    1.0    0.0              0.0    34.8\n",
       "1      13.0             0.0    2.0    0.0              0.0     1.0\n",
       "2      13.0             0.0    1.0    0.0              0.0    20.0\n",
       "3      19.0             0.0    1.0    0.0              0.0    20.0\n",
       "4      13.0             0.0    0.0    0.0              0.0    29.0\n",
       "5      13.0             0.0    2.0    0.0              0.0     1.0\n",
       "6      19.0             0.0    1.0    0.0              0.0    31.0\n",
       "7       4.0             0.0    1.0    0.0              0.0    40.0\n",
       "8      17.8             0.0    1.0    1.0              0.0    33.0\n",
       "9      19.0             0.0    1.0    0.0              0.0    48.0\n",
       "10      9.0             0.0    1.0    0.0              0.0     0.0\n",
       "11      9.0             0.0    1.0    0.0              0.0    26.0\n",
       "12     13.0             0.0    2.0    1.0              0.0     1.0\n",
       "13     13.0             0.0    1.0    0.0              0.0    17.0\n",
       "14     19.0             0.0    1.0    0.0              0.0    17.0\n",
       "15     13.0             0.0    1.0    1.0              0.0    20.0\n",
       "16     19.0             0.0    1.0    1.0              0.0    25.0\n",
       "17     13.0             0.0    1.0    0.0              0.0    26.0\n",
       "18     19.0             0.0    1.0    0.0              0.0    33.0\n",
       "19     19.0             0.0    1.0    0.0              0.0    33.0\n",
       "20     19.0             0.0    2.0    0.0              0.0    20.0\n",
       "21     13.0             0.0    1.0    0.0              0.0    32.2\n",
       "22     12.2             0.0    1.0    0.0              0.0    34.8\n",
       "23     19.0             0.0    1.0    0.0              0.0    33.0\n",
       "24     13.0             0.0    1.0    0.0              0.0    33.0\n",
       "25     19.0             0.0    1.0    0.0              0.0    16.0\n",
       "26     19.0             0.0    1.0    0.0              0.0    20.0\n",
       "27     20.0             0.0    1.0    0.0              0.0    26.0\n",
       "28      9.0             0.0    1.0    0.0              0.0    28.0\n",
       "29     19.0             0.0    1.0    0.0              0.0    43.0\n",
       "30     19.0             0.0    1.0    0.0              0.0    46.0\n",
       "31     19.0             0.0    1.0    0.0              0.0    46.0\n",
       "32     13.0             0.0    1.0    0.0              0.0    20.0\n",
       "33     19.0             0.0    1.0    0.0              0.0    25.0\n",
       "34      1.0             0.0    1.0    0.0              0.0    26.0\n",
       "35     19.0             0.0    1.0    0.0              0.0    33.0\n",
       "36      4.0             0.0    1.0    0.0              0.0    25.0\n",
       "37      4.0             0.0    1.0    0.0              0.0    25.0\n",
       "38     12.2             0.0    1.0    0.0              0.0    34.8\n",
       "39     19.0             0.0    1.0    0.0              0.0    46.0\n",
       "40     10.6             0.0    1.0    1.0              0.0     1.0\n",
       "41     10.6             0.0    1.0    1.0              0.0     1.0\n",
       "42     19.0             0.0    1.0    1.0              0.0    20.0\n",
       "43     19.0             0.0    1.0    1.0              0.0    20.0\n",
       "44     18.2             0.0    1.0    1.0              0.0    26.0\n",
       "45     18.2             0.0    1.0    1.0              0.0    26.0\n",
       "46     19.0             0.0    1.0    1.0              0.0    31.0\n",
       "47     19.0             0.0    1.0    1.0              0.0    31.0\n",
       "48     17.8             0.0    1.0    1.0              0.0    33.0\n",
       "49     17.8             0.0    1.0    1.0              0.0    27.0"
      ],
      "text/html": "<div>\n<style scoped>\n    .dataframe tbody tr th:only-of-type {\n        vertical-align: middle;\n    }\n\n    .dataframe tbody tr th {\n        vertical-align: top;\n    }\n\n    .dataframe thead th {\n        text-align: right;\n    }\n</style>\n<table border=\"1\" class=\"dataframe\">\n  <thead>\n    <tr style=\"text-align: right;\">\n      <th></th>\n      <th>process</th>\n      <th>brewing method</th>\n      <th>roast</th>\n      <th>grind</th>\n      <th>arabica_robusta</th>\n      <th>origin</th>\n    </tr>\n  </thead>\n  <tbody>\n    <tr>\n      <th>0</th>\n      <td>12.2</td>\n      <td>0.0</td>\n      <td>1.0</td>\n      <td>0.0</td>\n      <td>0.0</td>\n      <td>34.8</td>\n    </tr>\n    <tr>\n      <th>1</th>\n      <td>13.0</td>\n      <td>0.0</td>\n      <td>2.0</td>\n      <td>0.0</td>\n      <td>0.0</td>\n      <td>1.0</td>\n    </tr>\n    <tr>\n      <th>2</th>\n      <td>13.0</td>\n      <td>0.0</td>\n      <td>1.0</td>\n      <td>0.0</td>\n      <td>0.0</td>\n      <td>20.0</td>\n    </tr>\n    <tr>\n      <th>3</th>\n      <td>19.0</td>\n      <td>0.0</td>\n      <td>1.0</td>\n      <td>0.0</td>\n      <td>0.0</td>\n      <td>20.0</td>\n    </tr>\n    <tr>\n      <th>4</th>\n      <td>13.0</td>\n      <td>0.0</td>\n      <td>0.0</td>\n      <td>0.0</td>\n      <td>0.0</td>\n      <td>29.0</td>\n    </tr>\n    <tr>\n      <th>5</th>\n      <td>13.0</td>\n      <td>0.0</td>\n      <td>2.0</td>\n      <td>0.0</td>\n      <td>0.0</td>\n      <td>1.0</td>\n    </tr>\n    <tr>\n      <th>6</th>\n      <td>19.0</td>\n      <td>0.0</td>\n      <td>1.0</td>\n      <td>0.0</td>\n      <td>0.0</td>\n      <td>31.0</td>\n    </tr>\n    <tr>\n      <th>7</th>\n      <td>4.0</td>\n      <td>0.0</td>\n      <td>1.0</td>\n      <td>0.0</td>\n      <td>0.0</td>\n      <td>40.0</td>\n    </tr>\n    <tr>\n      <th>8</th>\n      <td>17.8</td>\n      <td>0.0</td>\n      <td>1.0</td>\n      <td>1.0</td>\n      <td>0.0</td>\n      <td>33.0</td>\n    </tr>\n    <tr>\n      <th>9</th>\n      <td>19.0</td>\n      <td>0.0</td>\n      <td>1.0</td>\n      <td>0.0</td>\n      <td>0.0</td>\n      <td>48.0</td>\n    </tr>\n    <tr>\n      <th>10</th>\n      <td>9.0</td>\n      <td>0.0</td>\n      <td>1.0</td>\n      <td>0.0</td>\n      <td>0.0</td>\n      <td>0.0</td>\n    </tr>\n    <tr>\n      <th>11</th>\n      <td>9.0</td>\n      <td>0.0</td>\n      <td>1.0</td>\n      <td>0.0</td>\n      <td>0.0</td>\n      <td>26.0</td>\n    </tr>\n    <tr>\n      <th>12</th>\n      <td>13.0</td>\n      <td>0.0</td>\n      <td>2.0</td>\n      <td>1.0</td>\n      <td>0.0</td>\n      <td>1.0</td>\n    </tr>\n    <tr>\n      <th>13</th>\n      <td>13.0</td>\n      <td>0.0</td>\n      <td>1.0</td>\n      <td>0.0</td>\n      <td>0.0</td>\n      <td>17.0</td>\n    </tr>\n    <tr>\n      <th>14</th>\n      <td>19.0</td>\n      <td>0.0</td>\n      <td>1.0</td>\n      <td>0.0</td>\n      <td>0.0</td>\n      <td>17.0</td>\n    </tr>\n    <tr>\n      <th>15</th>\n      <td>13.0</td>\n      <td>0.0</td>\n      <td>1.0</td>\n      <td>1.0</td>\n      <td>0.0</td>\n      <td>20.0</td>\n    </tr>\n    <tr>\n      <th>16</th>\n      <td>19.0</td>\n      <td>0.0</td>\n      <td>1.0</td>\n      <td>1.0</td>\n      <td>0.0</td>\n      <td>25.0</td>\n    </tr>\n    <tr>\n      <th>17</th>\n      <td>13.0</td>\n      <td>0.0</td>\n      <td>1.0</td>\n      <td>0.0</td>\n      <td>0.0</td>\n      <td>26.0</td>\n    </tr>\n    <tr>\n      <th>18</th>\n      <td>19.0</td>\n      <td>0.0</td>\n      <td>1.0</td>\n      <td>0.0</td>\n      <td>0.0</td>\n      <td>33.0</td>\n    </tr>\n    <tr>\n      <th>19</th>\n      <td>19.0</td>\n      <td>0.0</td>\n      <td>1.0</td>\n      <td>0.0</td>\n      <td>0.0</td>\n      <td>33.0</td>\n    </tr>\n    <tr>\n      <th>20</th>\n      <td>19.0</td>\n      <td>0.0</td>\n      <td>2.0</td>\n      <td>0.0</td>\n      <td>0.0</td>\n      <td>20.0</td>\n    </tr>\n    <tr>\n      <th>21</th>\n      <td>13.0</td>\n      <td>0.0</td>\n      <td>1.0</td>\n      <td>0.0</td>\n      <td>0.0</td>\n      <td>32.2</td>\n    </tr>\n    <tr>\n      <th>22</th>\n      <td>12.2</td>\n      <td>0.0</td>\n      <td>1.0</td>\n      <td>0.0</td>\n      <td>0.0</td>\n      <td>34.8</td>\n    </tr>\n    <tr>\n      <th>23</th>\n      <td>19.0</td>\n      <td>0.0</td>\n      <td>1.0</td>\n      <td>0.0</td>\n      <td>0.0</td>\n      <td>33.0</td>\n    </tr>\n    <tr>\n      <th>24</th>\n      <td>13.0</td>\n      <td>0.0</td>\n      <td>1.0</td>\n      <td>0.0</td>\n      <td>0.0</td>\n      <td>33.0</td>\n    </tr>\n    <tr>\n      <th>25</th>\n      <td>19.0</td>\n      <td>0.0</td>\n      <td>1.0</td>\n      <td>0.0</td>\n      <td>0.0</td>\n      <td>16.0</td>\n    </tr>\n    <tr>\n      <th>26</th>\n      <td>19.0</td>\n      <td>0.0</td>\n      <td>1.0</td>\n      <td>0.0</td>\n      <td>0.0</td>\n      <td>20.0</td>\n    </tr>\n    <tr>\n      <th>27</th>\n      <td>20.0</td>\n      <td>0.0</td>\n      <td>1.0</td>\n      <td>0.0</td>\n      <td>0.0</td>\n      <td>26.0</td>\n    </tr>\n    <tr>\n      <th>28</th>\n      <td>9.0</td>\n      <td>0.0</td>\n      <td>1.0</td>\n      <td>0.0</td>\n      <td>0.0</td>\n      <td>28.0</td>\n    </tr>\n    <tr>\n      <th>29</th>\n      <td>19.0</td>\n      <td>0.0</td>\n      <td>1.0</td>\n      <td>0.0</td>\n      <td>0.0</td>\n      <td>43.0</td>\n    </tr>\n    <tr>\n      <th>30</th>\n      <td>19.0</td>\n      <td>0.0</td>\n      <td>1.0</td>\n      <td>0.0</td>\n      <td>0.0</td>\n      <td>46.0</td>\n    </tr>\n    <tr>\n      <th>31</th>\n      <td>19.0</td>\n      <td>0.0</td>\n      <td>1.0</td>\n      <td>0.0</td>\n      <td>0.0</td>\n      <td>46.0</td>\n    </tr>\n    <tr>\n      <th>32</th>\n      <td>13.0</td>\n      <td>0.0</td>\n      <td>1.0</td>\n      <td>0.0</td>\n      <td>0.0</td>\n      <td>20.0</td>\n    </tr>\n    <tr>\n      <th>33</th>\n      <td>19.0</td>\n      <td>0.0</td>\n      <td>1.0</td>\n      <td>0.0</td>\n      <td>0.0</td>\n      <td>25.0</td>\n    </tr>\n    <tr>\n      <th>34</th>\n      <td>1.0</td>\n      <td>0.0</td>\n      <td>1.0</td>\n      <td>0.0</td>\n      <td>0.0</td>\n      <td>26.0</td>\n    </tr>\n    <tr>\n      <th>35</th>\n      <td>19.0</td>\n      <td>0.0</td>\n      <td>1.0</td>\n      <td>0.0</td>\n      <td>0.0</td>\n      <td>33.0</td>\n    </tr>\n    <tr>\n      <th>36</th>\n      <td>4.0</td>\n      <td>0.0</td>\n      <td>1.0</td>\n      <td>0.0</td>\n      <td>0.0</td>\n      <td>25.0</td>\n    </tr>\n    <tr>\n      <th>37</th>\n      <td>4.0</td>\n      <td>0.0</td>\n      <td>1.0</td>\n      <td>0.0</td>\n      <td>0.0</td>\n      <td>25.0</td>\n    </tr>\n    <tr>\n      <th>38</th>\n      <td>12.2</td>\n      <td>0.0</td>\n      <td>1.0</td>\n      <td>0.0</td>\n      <td>0.0</td>\n      <td>34.8</td>\n    </tr>\n    <tr>\n      <th>39</th>\n      <td>19.0</td>\n      <td>0.0</td>\n      <td>1.0</td>\n      <td>0.0</td>\n      <td>0.0</td>\n      <td>46.0</td>\n    </tr>\n    <tr>\n      <th>40</th>\n      <td>10.6</td>\n      <td>0.0</td>\n      <td>1.0</td>\n      <td>1.0</td>\n      <td>0.0</td>\n      <td>1.0</td>\n    </tr>\n    <tr>\n      <th>41</th>\n      <td>10.6</td>\n      <td>0.0</td>\n      <td>1.0</td>\n      <td>1.0</td>\n      <td>0.0</td>\n      <td>1.0</td>\n    </tr>\n    <tr>\n      <th>42</th>\n      <td>19.0</td>\n      <td>0.0</td>\n      <td>1.0</td>\n      <td>1.0</td>\n      <td>0.0</td>\n      <td>20.0</td>\n    </tr>\n    <tr>\n      <th>43</th>\n      <td>19.0</td>\n      <td>0.0</td>\n      <td>1.0</td>\n      <td>1.0</td>\n      <td>0.0</td>\n      <td>20.0</td>\n    </tr>\n    <tr>\n      <th>44</th>\n      <td>18.2</td>\n      <td>0.0</td>\n      <td>1.0</td>\n      <td>1.0</td>\n      <td>0.0</td>\n      <td>26.0</td>\n    </tr>\n    <tr>\n      <th>45</th>\n      <td>18.2</td>\n      <td>0.0</td>\n      <td>1.0</td>\n      <td>1.0</td>\n      <td>0.0</td>\n      <td>26.0</td>\n    </tr>\n    <tr>\n      <th>46</th>\n      <td>19.0</td>\n      <td>0.0</td>\n      <td>1.0</td>\n      <td>1.0</td>\n      <td>0.0</td>\n      <td>31.0</td>\n    </tr>\n    <tr>\n      <th>47</th>\n      <td>19.0</td>\n      <td>0.0</td>\n      <td>1.0</td>\n      <td>1.0</td>\n      <td>0.0</td>\n      <td>31.0</td>\n    </tr>\n    <tr>\n      <th>48</th>\n      <td>17.8</td>\n      <td>0.0</td>\n      <td>1.0</td>\n      <td>1.0</td>\n      <td>0.0</td>\n      <td>33.0</td>\n    </tr>\n    <tr>\n      <th>49</th>\n      <td>17.8</td>\n      <td>0.0</td>\n      <td>1.0</td>\n      <td>1.0</td>\n      <td>0.0</td>\n      <td>27.0</td>\n    </tr>\n  </tbody>\n</table>\n</div>"
     },
     "metadata": {},
     "execution_count": 13
    }
   ],
   "source": [
    "# TODO: make sure you don't have the target variable in imputations!!!\n",
    "knn_coffee_df = pd.DataFrame(knn_imputer.fit_transform(coffee_df_imput), columns=columns_for_imput)\n",
    "knn_coffee_df.head(50)"
   ]
  },
  {
   "cell_type": "code",
   "execution_count": 14,
   "metadata": {},
   "outputs": [],
   "source": [
    "for col in columns_for_imput: #round values not to have decimals in categories\n",
    "    knn_coffee_df[col] = knn_coffee_df[col].round(decimals=0)"
   ]
  },
  {
   "cell_type": "code",
   "execution_count": 15,
   "metadata": {},
   "outputs": [
    {
     "output_type": "execute_result",
     "data": {
      "text/plain": [
       "     process  brewing method  roast  grind  arabica_robusta  origin\n",
       "idx                                                                \n",
       "1       12.0             0.0    1.0    0.0              0.0    35.0\n",
       "2       13.0             0.0    2.0    0.0              0.0     1.0\n",
       "3       13.0             0.0    1.0    0.0              0.0    20.0\n",
       "4       19.0             0.0    1.0    0.0              0.0    20.0\n",
       "5       13.0             0.0    0.0    0.0              0.0    29.0\n",
       "6       13.0             0.0    2.0    0.0              0.0     1.0\n",
       "7       19.0             0.0    1.0    0.0              0.0    31.0\n",
       "8        4.0             0.0    1.0    0.0              0.0    40.0\n",
       "9       18.0             0.0    1.0    1.0              0.0    33.0\n",
       "10      19.0             0.0    1.0    0.0              0.0    48.0\n",
       "11       9.0             0.0    1.0    0.0              0.0     0.0\n",
       "12       9.0             0.0    1.0    0.0              0.0    26.0\n",
       "13      13.0             0.0    2.0    1.0              0.0     1.0\n",
       "14      13.0             0.0    1.0    0.0              0.0    17.0\n",
       "15      19.0             0.0    1.0    0.0              0.0    17.0\n",
       "16      13.0             0.0    1.0    1.0              0.0    20.0\n",
       "17      19.0             0.0    1.0    1.0              0.0    25.0\n",
       "18      13.0             0.0    1.0    0.0              0.0    26.0\n",
       "19      19.0             0.0    1.0    0.0              0.0    33.0\n",
       "20      19.0             0.0    1.0    0.0              0.0    33.0"
      ],
      "text/html": "<div>\n<style scoped>\n    .dataframe tbody tr th:only-of-type {\n        vertical-align: middle;\n    }\n\n    .dataframe tbody tr th {\n        vertical-align: top;\n    }\n\n    .dataframe thead th {\n        text-align: right;\n    }\n</style>\n<table border=\"1\" class=\"dataframe\">\n  <thead>\n    <tr style=\"text-align: right;\">\n      <th></th>\n      <th>process</th>\n      <th>brewing method</th>\n      <th>roast</th>\n      <th>grind</th>\n      <th>arabica_robusta</th>\n      <th>origin</th>\n    </tr>\n    <tr>\n      <th>idx</th>\n      <th></th>\n      <th></th>\n      <th></th>\n      <th></th>\n      <th></th>\n      <th></th>\n    </tr>\n  </thead>\n  <tbody>\n    <tr>\n      <th>1</th>\n      <td>12.0</td>\n      <td>0.0</td>\n      <td>1.0</td>\n      <td>0.0</td>\n      <td>0.0</td>\n      <td>35.0</td>\n    </tr>\n    <tr>\n      <th>2</th>\n      <td>13.0</td>\n      <td>0.0</td>\n      <td>2.0</td>\n      <td>0.0</td>\n      <td>0.0</td>\n      <td>1.0</td>\n    </tr>\n    <tr>\n      <th>3</th>\n      <td>13.0</td>\n      <td>0.0</td>\n      <td>1.0</td>\n      <td>0.0</td>\n      <td>0.0</td>\n      <td>20.0</td>\n    </tr>\n    <tr>\n      <th>4</th>\n      <td>19.0</td>\n      <td>0.0</td>\n      <td>1.0</td>\n      <td>0.0</td>\n      <td>0.0</td>\n      <td>20.0</td>\n    </tr>\n    <tr>\n      <th>5</th>\n      <td>13.0</td>\n      <td>0.0</td>\n      <td>0.0</td>\n      <td>0.0</td>\n      <td>0.0</td>\n      <td>29.0</td>\n    </tr>\n    <tr>\n      <th>6</th>\n      <td>13.0</td>\n      <td>0.0</td>\n      <td>2.0</td>\n      <td>0.0</td>\n      <td>0.0</td>\n      <td>1.0</td>\n    </tr>\n    <tr>\n      <th>7</th>\n      <td>19.0</td>\n      <td>0.0</td>\n      <td>1.0</td>\n      <td>0.0</td>\n      <td>0.0</td>\n      <td>31.0</td>\n    </tr>\n    <tr>\n      <th>8</th>\n      <td>4.0</td>\n      <td>0.0</td>\n      <td>1.0</td>\n      <td>0.0</td>\n      <td>0.0</td>\n      <td>40.0</td>\n    </tr>\n    <tr>\n      <th>9</th>\n      <td>18.0</td>\n      <td>0.0</td>\n      <td>1.0</td>\n      <td>1.0</td>\n      <td>0.0</td>\n      <td>33.0</td>\n    </tr>\n    <tr>\n      <th>10</th>\n      <td>19.0</td>\n      <td>0.0</td>\n      <td>1.0</td>\n      <td>0.0</td>\n      <td>0.0</td>\n      <td>48.0</td>\n    </tr>\n    <tr>\n      <th>11</th>\n      <td>9.0</td>\n      <td>0.0</td>\n      <td>1.0</td>\n      <td>0.0</td>\n      <td>0.0</td>\n      <td>0.0</td>\n    </tr>\n    <tr>\n      <th>12</th>\n      <td>9.0</td>\n      <td>0.0</td>\n      <td>1.0</td>\n      <td>0.0</td>\n      <td>0.0</td>\n      <td>26.0</td>\n    </tr>\n    <tr>\n      <th>13</th>\n      <td>13.0</td>\n      <td>0.0</td>\n      <td>2.0</td>\n      <td>1.0</td>\n      <td>0.0</td>\n      <td>1.0</td>\n    </tr>\n    <tr>\n      <th>14</th>\n      <td>13.0</td>\n      <td>0.0</td>\n      <td>1.0</td>\n      <td>0.0</td>\n      <td>0.0</td>\n      <td>17.0</td>\n    </tr>\n    <tr>\n      <th>15</th>\n      <td>19.0</td>\n      <td>0.0</td>\n      <td>1.0</td>\n      <td>0.0</td>\n      <td>0.0</td>\n      <td>17.0</td>\n    </tr>\n    <tr>\n      <th>16</th>\n      <td>13.0</td>\n      <td>0.0</td>\n      <td>1.0</td>\n      <td>1.0</td>\n      <td>0.0</td>\n      <td>20.0</td>\n    </tr>\n    <tr>\n      <th>17</th>\n      <td>19.0</td>\n      <td>0.0</td>\n      <td>1.0</td>\n      <td>1.0</td>\n      <td>0.0</td>\n      <td>25.0</td>\n    </tr>\n    <tr>\n      <th>18</th>\n      <td>13.0</td>\n      <td>0.0</td>\n      <td>1.0</td>\n      <td>0.0</td>\n      <td>0.0</td>\n      <td>26.0</td>\n    </tr>\n    <tr>\n      <th>19</th>\n      <td>19.0</td>\n      <td>0.0</td>\n      <td>1.0</td>\n      <td>0.0</td>\n      <td>0.0</td>\n      <td>33.0</td>\n    </tr>\n    <tr>\n      <th>20</th>\n      <td>19.0</td>\n      <td>0.0</td>\n      <td>1.0</td>\n      <td>0.0</td>\n      <td>0.0</td>\n      <td>33.0</td>\n    </tr>\n  </tbody>\n</table>\n</div>"
     },
     "metadata": {},
     "execution_count": 15
    }
   ],
   "source": [
    "knn_coffee_df.index = coffee_df_backup.index\n",
    "knn_coffee_df.head(20)"
   ]
  },
  {
   "source": [
    "## Decode imputed data"
   ],
   "cell_type": "markdown",
   "metadata": {}
  },
  {
   "cell_type": "code",
   "execution_count": 16,
   "metadata": {},
   "outputs": [
    {
     "output_type": "execute_result",
     "data": {
      "text/plain": [
       "                 process                      brewing method   roast   grind  \\\n",
       "idx                                                                            \n",
       "1             Monsooning  drip (alternative brewing methods)   light   beans   \n",
       "2                Natural  drip (alternative brewing methods)  medium   beans   \n",
       "3                Natural  drip (alternative brewing methods)   light   beans   \n",
       "4                 Washed  drip (alternative brewing methods)   light   beans   \n",
       "5                Natural  drip (alternative brewing methods)    dark   beans   \n",
       "6                Natural  drip (alternative brewing methods)  medium   beans   \n",
       "7                 Washed  drip (alternative brewing methods)   light   beans   \n",
       "8    Carbonic Maceration  drip (alternative brewing methods)   light   beans   \n",
       "9            Semi-washed  drip (alternative brewing methods)   light  ground   \n",
       "10                Washed  drip (alternative brewing methods)   light   beans   \n",
       "11                 Honey  drip (alternative brewing methods)   light   beans   \n",
       "12                 Honey  drip (alternative brewing methods)   light   beans   \n",
       "13               Natural  drip (alternative brewing methods)  medium  ground   \n",
       "14               Natural  drip (alternative brewing methods)   light   beans   \n",
       "15                Washed  drip (alternative brewing methods)   light   beans   \n",
       "16               Natural  drip (alternative brewing methods)   light  ground   \n",
       "17                Washed  drip (alternative brewing methods)   light  ground   \n",
       "18               Natural  drip (alternative brewing methods)   light   beans   \n",
       "19                Washed  drip (alternative brewing methods)   light   beans   \n",
       "20                Washed  drip (alternative brewing methods)   light   beans   \n",
       "\n",
       "    arabica_robusta     origin  \n",
       "idx                             \n",
       "1      100% Arabica       Laos  \n",
       "2      100% Arabica   Brazylia  \n",
       "3      100% Arabica    Etiopia  \n",
       "4      100% Arabica    Etiopia  \n",
       "5      100% Arabica  Indonezja  \n",
       "6      100% Arabica   Brazylia  \n",
       "7      100% Arabica      Kenia  \n",
       "8      100% Arabica     Panama  \n",
       "9      100% Arabica   Kolumbia  \n",
       "10     100% Arabica   Salwador  \n",
       "11     100% Arabica    Boliwia  \n",
       "12     100% Arabica   Honduras  \n",
       "13     100% Arabica   Brazylia  \n",
       "14     100% Arabica    Burundi  \n",
       "15     100% Arabica    Burundi  \n",
       "16     100% Arabica    Etiopia  \n",
       "17     100% Arabica  Gwatemala  \n",
       "18     100% Arabica   Honduras  \n",
       "19     100% Arabica   Kolumbia  \n",
       "20     100% Arabica   Kolumbia  "
      ],
      "text/html": "<div>\n<style scoped>\n    .dataframe tbody tr th:only-of-type {\n        vertical-align: middle;\n    }\n\n    .dataframe tbody tr th {\n        vertical-align: top;\n    }\n\n    .dataframe thead th {\n        text-align: right;\n    }\n</style>\n<table border=\"1\" class=\"dataframe\">\n  <thead>\n    <tr style=\"text-align: right;\">\n      <th></th>\n      <th>process</th>\n      <th>brewing method</th>\n      <th>roast</th>\n      <th>grind</th>\n      <th>arabica_robusta</th>\n      <th>origin</th>\n    </tr>\n    <tr>\n      <th>idx</th>\n      <th></th>\n      <th></th>\n      <th></th>\n      <th></th>\n      <th></th>\n      <th></th>\n    </tr>\n  </thead>\n  <tbody>\n    <tr>\n      <th>1</th>\n      <td>Monsooning</td>\n      <td>drip (alternative brewing methods)</td>\n      <td>light</td>\n      <td>beans</td>\n      <td>100% Arabica</td>\n      <td>Laos</td>\n    </tr>\n    <tr>\n      <th>2</th>\n      <td>Natural</td>\n      <td>drip (alternative brewing methods)</td>\n      <td>medium</td>\n      <td>beans</td>\n      <td>100% Arabica</td>\n      <td>Brazylia</td>\n    </tr>\n    <tr>\n      <th>3</th>\n      <td>Natural</td>\n      <td>drip (alternative brewing methods)</td>\n      <td>light</td>\n      <td>beans</td>\n      <td>100% Arabica</td>\n      <td>Etiopia</td>\n    </tr>\n    <tr>\n      <th>4</th>\n      <td>Washed</td>\n      <td>drip (alternative brewing methods)</td>\n      <td>light</td>\n      <td>beans</td>\n      <td>100% Arabica</td>\n      <td>Etiopia</td>\n    </tr>\n    <tr>\n      <th>5</th>\n      <td>Natural</td>\n      <td>drip (alternative brewing methods)</td>\n      <td>dark</td>\n      <td>beans</td>\n      <td>100% Arabica</td>\n      <td>Indonezja</td>\n    </tr>\n    <tr>\n      <th>6</th>\n      <td>Natural</td>\n      <td>drip (alternative brewing methods)</td>\n      <td>medium</td>\n      <td>beans</td>\n      <td>100% Arabica</td>\n      <td>Brazylia</td>\n    </tr>\n    <tr>\n      <th>7</th>\n      <td>Washed</td>\n      <td>drip (alternative brewing methods)</td>\n      <td>light</td>\n      <td>beans</td>\n      <td>100% Arabica</td>\n      <td>Kenia</td>\n    </tr>\n    <tr>\n      <th>8</th>\n      <td>Carbonic Maceration</td>\n      <td>drip (alternative brewing methods)</td>\n      <td>light</td>\n      <td>beans</td>\n      <td>100% Arabica</td>\n      <td>Panama</td>\n    </tr>\n    <tr>\n      <th>9</th>\n      <td>Semi-washed</td>\n      <td>drip (alternative brewing methods)</td>\n      <td>light</td>\n      <td>ground</td>\n      <td>100% Arabica</td>\n      <td>Kolumbia</td>\n    </tr>\n    <tr>\n      <th>10</th>\n      <td>Washed</td>\n      <td>drip (alternative brewing methods)</td>\n      <td>light</td>\n      <td>beans</td>\n      <td>100% Arabica</td>\n      <td>Salwador</td>\n    </tr>\n    <tr>\n      <th>11</th>\n      <td>Honey</td>\n      <td>drip (alternative brewing methods)</td>\n      <td>light</td>\n      <td>beans</td>\n      <td>100% Arabica</td>\n      <td>Boliwia</td>\n    </tr>\n    <tr>\n      <th>12</th>\n      <td>Honey</td>\n      <td>drip (alternative brewing methods)</td>\n      <td>light</td>\n      <td>beans</td>\n      <td>100% Arabica</td>\n      <td>Honduras</td>\n    </tr>\n    <tr>\n      <th>13</th>\n      <td>Natural</td>\n      <td>drip (alternative brewing methods)</td>\n      <td>medium</td>\n      <td>ground</td>\n      <td>100% Arabica</td>\n      <td>Brazylia</td>\n    </tr>\n    <tr>\n      <th>14</th>\n      <td>Natural</td>\n      <td>drip (alternative brewing methods)</td>\n      <td>light</td>\n      <td>beans</td>\n      <td>100% Arabica</td>\n      <td>Burundi</td>\n    </tr>\n    <tr>\n      <th>15</th>\n      <td>Washed</td>\n      <td>drip (alternative brewing methods)</td>\n      <td>light</td>\n      <td>beans</td>\n      <td>100% Arabica</td>\n      <td>Burundi</td>\n    </tr>\n    <tr>\n      <th>16</th>\n      <td>Natural</td>\n      <td>drip (alternative brewing methods)</td>\n      <td>light</td>\n      <td>ground</td>\n      <td>100% Arabica</td>\n      <td>Etiopia</td>\n    </tr>\n    <tr>\n      <th>17</th>\n      <td>Washed</td>\n      <td>drip (alternative brewing methods)</td>\n      <td>light</td>\n      <td>ground</td>\n      <td>100% Arabica</td>\n      <td>Gwatemala</td>\n    </tr>\n    <tr>\n      <th>18</th>\n      <td>Natural</td>\n      <td>drip (alternative brewing methods)</td>\n      <td>light</td>\n      <td>beans</td>\n      <td>100% Arabica</td>\n      <td>Honduras</td>\n    </tr>\n    <tr>\n      <th>19</th>\n      <td>Washed</td>\n      <td>drip (alternative brewing methods)</td>\n      <td>light</td>\n      <td>beans</td>\n      <td>100% Arabica</td>\n      <td>Kolumbia</td>\n    </tr>\n    <tr>\n      <th>20</th>\n      <td>Washed</td>\n      <td>drip (alternative brewing methods)</td>\n      <td>light</td>\n      <td>beans</td>\n      <td>100% Arabica</td>\n      <td>Kolumbia</td>\n    </tr>\n  </tbody>\n</table>\n</div>"
     },
     "metadata": {},
     "execution_count": 16
    }
   ],
   "source": [
    "knn_coffee_df.replace(category_dict_decode, inplace=True)\n",
    "knn_coffee_df.head(20)"
   ]
  },
  {
   "cell_type": "code",
   "execution_count": 17,
   "metadata": {},
   "outputs": [
    {
     "output_type": "execute_result",
     "data": {
      "text/plain": [
       "process            0.0\n",
       "brewing method     0.0\n",
       "roast              0.0\n",
       "grind              0.0\n",
       "arabica_robusta    0.0\n",
       "origin             0.0\n",
       "dtype: float64"
      ]
     },
     "metadata": {},
     "execution_count": 17
    }
   ],
   "source": [
    "knn_coffee_df.isnull().mean() * 100 # double check for null values"
   ]
  },
  {
   "cell_type": "code",
   "execution_count": 18,
   "metadata": {},
   "outputs": [
    {
     "output_type": "execute_result",
     "data": {
      "text/plain": [
       "            process                      brewing method   roast  grind  \\\n",
       "idx                                                                      \n",
       "1        Monsooning  drip (alternative brewing methods)   light  beans   \n",
       "2           Natural  drip (alternative brewing methods)  medium  beans   \n",
       "3           Natural  drip (alternative brewing methods)   light  beans   \n",
       "4            Washed  drip (alternative brewing methods)   light  beans   \n",
       "5           Natural  drip (alternative brewing methods)    dark  beans   \n",
       "..              ...                                 ...     ...    ...   \n",
       "862        Rum Aged  drip (alternative brewing methods)   light  beans   \n",
       "863         Natural                            espresso   light  beans   \n",
       "864  Pulped natural  drip (alternative brewing methods)   light  beans   \n",
       "865          Washed  drip (alternative brewing methods)   light  beans   \n",
       "866          Washed  drip (alternative brewing methods)   light  beans   \n",
       "\n",
       "    arabica_robusta     origin  \n",
       "idx                             \n",
       "1      100% Arabica       Laos  \n",
       "2      100% Arabica   Brazylia  \n",
       "3      100% Arabica    Etiopia  \n",
       "4      100% Arabica    Etiopia  \n",
       "5      100% Arabica  Indonezja  \n",
       "..              ...        ...  \n",
       "862    100% Arabica  Gwatemala  \n",
       "863           30/70     Panama  \n",
       "864    100% Arabica  Nikaragua  \n",
       "865    100% Arabica  Gwatemala  \n",
       "866    100% Arabica  Gwatemala  \n",
       "\n",
       "[865 rows x 6 columns]"
      ],
      "text/html": "<div>\n<style scoped>\n    .dataframe tbody tr th:only-of-type {\n        vertical-align: middle;\n    }\n\n    .dataframe tbody tr th {\n        vertical-align: top;\n    }\n\n    .dataframe thead th {\n        text-align: right;\n    }\n</style>\n<table border=\"1\" class=\"dataframe\">\n  <thead>\n    <tr style=\"text-align: right;\">\n      <th></th>\n      <th>process</th>\n      <th>brewing method</th>\n      <th>roast</th>\n      <th>grind</th>\n      <th>arabica_robusta</th>\n      <th>origin</th>\n    </tr>\n    <tr>\n      <th>idx</th>\n      <th></th>\n      <th></th>\n      <th></th>\n      <th></th>\n      <th></th>\n      <th></th>\n    </tr>\n  </thead>\n  <tbody>\n    <tr>\n      <th>1</th>\n      <td>Monsooning</td>\n      <td>drip (alternative brewing methods)</td>\n      <td>light</td>\n      <td>beans</td>\n      <td>100% Arabica</td>\n      <td>Laos</td>\n    </tr>\n    <tr>\n      <th>2</th>\n      <td>Natural</td>\n      <td>drip (alternative brewing methods)</td>\n      <td>medium</td>\n      <td>beans</td>\n      <td>100% Arabica</td>\n      <td>Brazylia</td>\n    </tr>\n    <tr>\n      <th>3</th>\n      <td>Natural</td>\n      <td>drip (alternative brewing methods)</td>\n      <td>light</td>\n      <td>beans</td>\n      <td>100% Arabica</td>\n      <td>Etiopia</td>\n    </tr>\n    <tr>\n      <th>4</th>\n      <td>Washed</td>\n      <td>drip (alternative brewing methods)</td>\n      <td>light</td>\n      <td>beans</td>\n      <td>100% Arabica</td>\n      <td>Etiopia</td>\n    </tr>\n    <tr>\n      <th>5</th>\n      <td>Natural</td>\n      <td>drip (alternative brewing methods)</td>\n      <td>dark</td>\n      <td>beans</td>\n      <td>100% Arabica</td>\n      <td>Indonezja</td>\n    </tr>\n    <tr>\n      <th>...</th>\n      <td>...</td>\n      <td>...</td>\n      <td>...</td>\n      <td>...</td>\n      <td>...</td>\n      <td>...</td>\n    </tr>\n    <tr>\n      <th>862</th>\n      <td>Rum Aged</td>\n      <td>drip (alternative brewing methods)</td>\n      <td>light</td>\n      <td>beans</td>\n      <td>100% Arabica</td>\n      <td>Gwatemala</td>\n    </tr>\n    <tr>\n      <th>863</th>\n      <td>Natural</td>\n      <td>espresso</td>\n      <td>light</td>\n      <td>beans</td>\n      <td>30/70</td>\n      <td>Panama</td>\n    </tr>\n    <tr>\n      <th>864</th>\n      <td>Pulped natural</td>\n      <td>drip (alternative brewing methods)</td>\n      <td>light</td>\n      <td>beans</td>\n      <td>100% Arabica</td>\n      <td>Nikaragua</td>\n    </tr>\n    <tr>\n      <th>865</th>\n      <td>Washed</td>\n      <td>drip (alternative brewing methods)</td>\n      <td>light</td>\n      <td>beans</td>\n      <td>100% Arabica</td>\n      <td>Gwatemala</td>\n    </tr>\n    <tr>\n      <th>866</th>\n      <td>Washed</td>\n      <td>drip (alternative brewing methods)</td>\n      <td>light</td>\n      <td>beans</td>\n      <td>100% Arabica</td>\n      <td>Gwatemala</td>\n    </tr>\n  </tbody>\n</table>\n<p>865 rows × 6 columns</p>\n</div>"
     },
     "metadata": {},
     "execution_count": 18
    }
   ],
   "source": [
    "imputed_coffee_df = knn_coffee_df\n",
    "imputed_coffee_df"
   ]
  },
  {
   "cell_type": "code",
   "execution_count": 19,
   "metadata": {},
   "outputs": [
    {
     "output_type": "execute_result",
     "data": {
      "text/plain": [
       "                 process                      brewing method   roast   grind  \\\n",
       "idx                                                                            \n",
       "1             Monsooning  drip (alternative brewing methods)   light   beans   \n",
       "2                Natural  drip (alternative brewing methods)  medium   beans   \n",
       "3                Natural  drip (alternative brewing methods)   light   beans   \n",
       "4                 Washed  drip (alternative brewing methods)   light   beans   \n",
       "5                Natural  drip (alternative brewing methods)    dark   beans   \n",
       "6                Natural  drip (alternative brewing methods)  medium   beans   \n",
       "7                 Washed  drip (alternative brewing methods)   light   beans   \n",
       "8    Carbonic Maceration  drip (alternative brewing methods)   light   beans   \n",
       "9            Semi-washed  drip (alternative brewing methods)   light  ground   \n",
       "10                Washed  drip (alternative brewing methods)   light   beans   \n",
       "11                 Honey  drip (alternative brewing methods)   light   beans   \n",
       "12                 Honey  drip (alternative brewing methods)   light   beans   \n",
       "13               Natural  drip (alternative brewing methods)  medium  ground   \n",
       "14               Natural  drip (alternative brewing methods)   light   beans   \n",
       "15                Washed  drip (alternative brewing methods)   light   beans   \n",
       "16               Natural  drip (alternative brewing methods)   light  ground   \n",
       "17                Washed  drip (alternative brewing methods)   light  ground   \n",
       "18               Natural  drip (alternative brewing methods)   light   beans   \n",
       "19                Washed  drip (alternative brewing methods)   light   beans   \n",
       "20                Washed  drip (alternative brewing methods)   light   beans   \n",
       "\n",
       "    arabica_robusta     origin  price_per_kg  \n",
       "idx                                           \n",
       "1      100% Arabica       Laos         52.22  \n",
       "2      100% Arabica   Brazylia         31.92  \n",
       "3      100% Arabica    Etiopia         39.20  \n",
       "4      100% Arabica    Etiopia         39.20  \n",
       "5      100% Arabica  Indonezja         35.20  \n",
       "6      100% Arabica   Brazylia         20.76  \n",
       "7      100% Arabica      Kenia         45.00  \n",
       "8      100% Arabica     Panama        280.00  \n",
       "9      100% Arabica   Kolumbia        100.00  \n",
       "10     100% Arabica   Salwador         45.60  \n",
       "11     100% Arabica    Boliwia         62.70  \n",
       "12     100% Arabica   Honduras         52.38  \n",
       "13     100% Arabica   Brazylia        145.45  \n",
       "14     100% Arabica    Burundi         60.00  \n",
       "15     100% Arabica    Burundi         50.40  \n",
       "16     100% Arabica    Etiopia        145.45  \n",
       "17     100% Arabica  Gwatemala        145.45  \n",
       "18     100% Arabica   Honduras         52.00  \n",
       "19     100% Arabica   Kolumbia         89.00  \n",
       "20     100% Arabica   Kolumbia         88.00  "
      ],
      "text/html": "<div>\n<style scoped>\n    .dataframe tbody tr th:only-of-type {\n        vertical-align: middle;\n    }\n\n    .dataframe tbody tr th {\n        vertical-align: top;\n    }\n\n    .dataframe thead th {\n        text-align: right;\n    }\n</style>\n<table border=\"1\" class=\"dataframe\">\n  <thead>\n    <tr style=\"text-align: right;\">\n      <th></th>\n      <th>process</th>\n      <th>brewing method</th>\n      <th>roast</th>\n      <th>grind</th>\n      <th>arabica_robusta</th>\n      <th>origin</th>\n      <th>price_per_kg</th>\n    </tr>\n    <tr>\n      <th>idx</th>\n      <th></th>\n      <th></th>\n      <th></th>\n      <th></th>\n      <th></th>\n      <th></th>\n      <th></th>\n    </tr>\n  </thead>\n  <tbody>\n    <tr>\n      <th>1</th>\n      <td>Monsooning</td>\n      <td>drip (alternative brewing methods)</td>\n      <td>light</td>\n      <td>beans</td>\n      <td>100% Arabica</td>\n      <td>Laos</td>\n      <td>52.22</td>\n    </tr>\n    <tr>\n      <th>2</th>\n      <td>Natural</td>\n      <td>drip (alternative brewing methods)</td>\n      <td>medium</td>\n      <td>beans</td>\n      <td>100% Arabica</td>\n      <td>Brazylia</td>\n      <td>31.92</td>\n    </tr>\n    <tr>\n      <th>3</th>\n      <td>Natural</td>\n      <td>drip (alternative brewing methods)</td>\n      <td>light</td>\n      <td>beans</td>\n      <td>100% Arabica</td>\n      <td>Etiopia</td>\n      <td>39.20</td>\n    </tr>\n    <tr>\n      <th>4</th>\n      <td>Washed</td>\n      <td>drip (alternative brewing methods)</td>\n      <td>light</td>\n      <td>beans</td>\n      <td>100% Arabica</td>\n      <td>Etiopia</td>\n      <td>39.20</td>\n    </tr>\n    <tr>\n      <th>5</th>\n      <td>Natural</td>\n      <td>drip (alternative brewing methods)</td>\n      <td>dark</td>\n      <td>beans</td>\n      <td>100% Arabica</td>\n      <td>Indonezja</td>\n      <td>35.20</td>\n    </tr>\n    <tr>\n      <th>6</th>\n      <td>Natural</td>\n      <td>drip (alternative brewing methods)</td>\n      <td>medium</td>\n      <td>beans</td>\n      <td>100% Arabica</td>\n      <td>Brazylia</td>\n      <td>20.76</td>\n    </tr>\n    <tr>\n      <th>7</th>\n      <td>Washed</td>\n      <td>drip (alternative brewing methods)</td>\n      <td>light</td>\n      <td>beans</td>\n      <td>100% Arabica</td>\n      <td>Kenia</td>\n      <td>45.00</td>\n    </tr>\n    <tr>\n      <th>8</th>\n      <td>Carbonic Maceration</td>\n      <td>drip (alternative brewing methods)</td>\n      <td>light</td>\n      <td>beans</td>\n      <td>100% Arabica</td>\n      <td>Panama</td>\n      <td>280.00</td>\n    </tr>\n    <tr>\n      <th>9</th>\n      <td>Semi-washed</td>\n      <td>drip (alternative brewing methods)</td>\n      <td>light</td>\n      <td>ground</td>\n      <td>100% Arabica</td>\n      <td>Kolumbia</td>\n      <td>100.00</td>\n    </tr>\n    <tr>\n      <th>10</th>\n      <td>Washed</td>\n      <td>drip (alternative brewing methods)</td>\n      <td>light</td>\n      <td>beans</td>\n      <td>100% Arabica</td>\n      <td>Salwador</td>\n      <td>45.60</td>\n    </tr>\n    <tr>\n      <th>11</th>\n      <td>Honey</td>\n      <td>drip (alternative brewing methods)</td>\n      <td>light</td>\n      <td>beans</td>\n      <td>100% Arabica</td>\n      <td>Boliwia</td>\n      <td>62.70</td>\n    </tr>\n    <tr>\n      <th>12</th>\n      <td>Honey</td>\n      <td>drip (alternative brewing methods)</td>\n      <td>light</td>\n      <td>beans</td>\n      <td>100% Arabica</td>\n      <td>Honduras</td>\n      <td>52.38</td>\n    </tr>\n    <tr>\n      <th>13</th>\n      <td>Natural</td>\n      <td>drip (alternative brewing methods)</td>\n      <td>medium</td>\n      <td>ground</td>\n      <td>100% Arabica</td>\n      <td>Brazylia</td>\n      <td>145.45</td>\n    </tr>\n    <tr>\n      <th>14</th>\n      <td>Natural</td>\n      <td>drip (alternative brewing methods)</td>\n      <td>light</td>\n      <td>beans</td>\n      <td>100% Arabica</td>\n      <td>Burundi</td>\n      <td>60.00</td>\n    </tr>\n    <tr>\n      <th>15</th>\n      <td>Washed</td>\n      <td>drip (alternative brewing methods)</td>\n      <td>light</td>\n      <td>beans</td>\n      <td>100% Arabica</td>\n      <td>Burundi</td>\n      <td>50.40</td>\n    </tr>\n    <tr>\n      <th>16</th>\n      <td>Natural</td>\n      <td>drip (alternative brewing methods)</td>\n      <td>light</td>\n      <td>ground</td>\n      <td>100% Arabica</td>\n      <td>Etiopia</td>\n      <td>145.45</td>\n    </tr>\n    <tr>\n      <th>17</th>\n      <td>Washed</td>\n      <td>drip (alternative brewing methods)</td>\n      <td>light</td>\n      <td>ground</td>\n      <td>100% Arabica</td>\n      <td>Gwatemala</td>\n      <td>145.45</td>\n    </tr>\n    <tr>\n      <th>18</th>\n      <td>Natural</td>\n      <td>drip (alternative brewing methods)</td>\n      <td>light</td>\n      <td>beans</td>\n      <td>100% Arabica</td>\n      <td>Honduras</td>\n      <td>52.00</td>\n    </tr>\n    <tr>\n      <th>19</th>\n      <td>Washed</td>\n      <td>drip (alternative brewing methods)</td>\n      <td>light</td>\n      <td>beans</td>\n      <td>100% Arabica</td>\n      <td>Kolumbia</td>\n      <td>89.00</td>\n    </tr>\n    <tr>\n      <th>20</th>\n      <td>Washed</td>\n      <td>drip (alternative brewing methods)</td>\n      <td>light</td>\n      <td>beans</td>\n      <td>100% Arabica</td>\n      <td>Kolumbia</td>\n      <td>88.00</td>\n    </tr>\n  </tbody>\n</table>\n</div>"
     },
     "metadata": {},
     "execution_count": 19
    }
   ],
   "source": [
    "imputed_coffee_df['price_per_kg'] = coffee_df_backup['price_per_kg'] # add back the target value\n",
    "imputed_coffee_df.head(20)"
   ]
  },
  {
   "source": [
    "## Save cleaned and imputed file"
   ],
   "cell_type": "markdown",
   "metadata": {}
  },
  {
   "cell_type": "code",
   "execution_count": 20,
   "metadata": {},
   "outputs": [],
   "source": [
    "imputed_coffee_df.to_csv('data\\coffee_desk_dataset_clean.csv')"
   ]
  }
 ]
}