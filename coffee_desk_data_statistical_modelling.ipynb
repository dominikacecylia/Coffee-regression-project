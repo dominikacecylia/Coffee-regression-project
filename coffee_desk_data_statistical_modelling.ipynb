{
 "metadata": {
  "language_info": {
   "codemirror_mode": {
    "name": "ipython",
    "version": 3
   },
   "file_extension": ".py",
   "mimetype": "text/x-python",
   "name": "python",
   "nbconvert_exporter": "python",
   "pygments_lexer": "ipython3",
   "version": "3.9.1"
  },
  "orig_nbformat": 2,
  "kernelspec": {
   "name": "python391jvsc74a57bd0f8b6ea6d13f5748502004c2e5659a6272de46c202ad482ac9f90784c65a6c667",
   "display_name": "Python 3.9.1 64-bit (conda)"
  }
 },
 "nbformat": 4,
 "nbformat_minor": 2,
 "cells": [
  {
   "source": [
    "# Statistical modelling of coffee desk data"
   ],
   "cell_type": "markdown",
   "metadata": {}
  },
  {
   "source": [
    "## Import and read data from csv file"
   ],
   "cell_type": "markdown",
   "metadata": {}
  },
  {
   "cell_type": "code",
   "execution_count": 30,
   "metadata": {},
   "outputs": [
    {
     "output_type": "stream",
     "name": "stdout",
     "text": [
      "Collecting statsmodels\n",
      "  Downloading statsmodels-0.12.2-cp39-none-win_amd64.whl (9.4 MB)\n",
      "Requirement already satisfied: numpy>=1.15 in c:\\users\\lucyna\\miniconda3\\lib\\site-packages (from statsmodels) (1.19.5)\n",
      "Requirement already satisfied: pandas>=0.21 in c:\\users\\lucyna\\miniconda3\\lib\\site-packages (from statsmodels) (1.2.4)\n",
      "Requirement already satisfied: scipy>=1.1 in c:\\users\\lucyna\\miniconda3\\lib\\site-packages (from statsmodels) (1.6.3)\n",
      "Requirement already satisfied: python-dateutil>=2.7.3 in c:\\users\\lucyna\\miniconda3\\lib\\site-packages (from pandas>=0.21->statsmodels) (2.8.1)\n",
      "Requirement already satisfied: pytz>=2017.3 in c:\\users\\lucyna\\miniconda3\\lib\\site-packages (from pandas>=0.21->statsmodels) (2021.1)\n",
      "Requirement already satisfied: numpy>=1.15 in c:\\users\\lucyna\\miniconda3\\lib\\site-packages (from statsmodels) (1.19.5)\n",
      "Collecting patsy>=0.5\n",
      "  Using cached patsy-0.5.1-py2.py3-none-any.whl (231 kB)\n",
      "Requirement already satisfied: six in c:\\users\\lucyna\\miniconda3\\lib\\site-packages (from patsy>=0.5->statsmodels) (1.15.0)\n",
      "Requirement already satisfied: numpy>=1.15 in c:\\users\\lucyna\\miniconda3\\lib\\site-packages (from statsmodels) (1.19.5)\n",
      "Requirement already satisfied: six in c:\\users\\lucyna\\miniconda3\\lib\\site-packages (from patsy>=0.5->statsmodels) (1.15.0)\n",
      "Requirement already satisfied: numpy>=1.15 in c:\\users\\lucyna\\miniconda3\\lib\\site-packages (from statsmodels) (1.19.5)\n",
      "Installing collected packages: patsy, statsmodels\n",
      "Successfully installed patsy-0.5.1 statsmodels-0.12.2\n"
     ]
    }
   ],
   "source": [
    "!pip install statsmodels"
   ]
  },
  {
   "cell_type": "code",
   "execution_count": 31,
   "metadata": {},
   "outputs": [],
   "source": [
    "import pandas as pd\n",
    "import numpy as np\n",
    "from sklearn.model_selection import train_test_split\n",
    "import statsmodels.formula.api as smf"
   ]
  },
  {
   "cell_type": "code",
   "execution_count": null,
   "metadata": {},
   "outputs": [],
   "source": []
  },
  {
   "cell_type": "code",
   "execution_count": 153,
   "metadata": {},
   "outputs": [
    {
     "output_type": "execute_result",
     "data": {
      "text/plain": [
       "            process                      brewing method   roast  grind  \\\n",
       "0        Monsooning  drip (alternative brewing methods)   light  beans   \n",
       "1           Natural  drip (alternative brewing methods)  medium  beans   \n",
       "2           Natural  drip (alternative brewing methods)   light  beans   \n",
       "3            Washed  drip (alternative brewing methods)   light  beans   \n",
       "4           Natural  drip (alternative brewing methods)    dark  beans   \n",
       "..              ...                                 ...     ...    ...   \n",
       "857        Rum Aged  drip (alternative brewing methods)   light  beans   \n",
       "858         Natural                            espresso   light  beans   \n",
       "859  Pulped natural  drip (alternative brewing methods)   light  beans   \n",
       "860          Washed  drip (alternative brewing methods)   light  beans   \n",
       "861          Washed  drip (alternative brewing methods)   light  beans   \n",
       "\n",
       "        origin  price_per_kg  arabica (%)  Pure arabica  \\\n",
       "0         Laos         52.22          100          True   \n",
       "1     Brazylia         31.92          100          True   \n",
       "2      Etiopia         39.20          100          True   \n",
       "3      Etiopia         39.20          100          True   \n",
       "4    Indonezja         35.20          100          True   \n",
       "..         ...           ...          ...           ...   \n",
       "857  Gwatemala         73.33          100          True   \n",
       "858     Panama         50.00           30         False   \n",
       "859  Nikaragua         36.00          100          True   \n",
       "860  Gwatemala         25.00          100          True   \n",
       "861  Gwatemala         29.60          100          True   \n",
       "\n",
       "                                    roast_brew  Washed  Natural  \\\n",
       "0     light_drip (alternative brewing methods)   False    False   \n",
       "1    medium_drip (alternative brewing methods)   False     True   \n",
       "2     light_drip (alternative brewing methods)   False     True   \n",
       "3     light_drip (alternative brewing methods)    True    False   \n",
       "4      dark_drip (alternative brewing methods)   False     True   \n",
       "..                                         ...     ...      ...   \n",
       "857   light_drip (alternative brewing methods)   False    False   \n",
       "858                             light_espresso   False     True   \n",
       "859   light_drip (alternative brewing methods)    True     True   \n",
       "860   light_drip (alternative brewing methods)    True    False   \n",
       "861   light_drip (alternative brewing methods)    True    False   \n",
       "\n",
       "     Fermented/macerated (traditional)  Fermented/macerated (closed tank)  \\\n",
       "0                                False                              False   \n",
       "1                                False                              False   \n",
       "2                                False                              False   \n",
       "3                                False                              False   \n",
       "4                                False                              False   \n",
       "..                                 ...                                ...   \n",
       "857                              False                              False   \n",
       "858                              False                              False   \n",
       "859                              False                              False   \n",
       "860                              False                              False   \n",
       "861                              False                              False   \n",
       "\n",
       "    process_general region of origin  \n",
       "0        Monsooning             Asia  \n",
       "1           Natural            Latam  \n",
       "2           Natural           Africa  \n",
       "3            Washed           Africa  \n",
       "4           Natural             Asia  \n",
       "..              ...              ...  \n",
       "857       Fermented            Latam  \n",
       "858         Natural            Latam  \n",
       "859          Hybrid            Latam  \n",
       "860          Washed            Latam  \n",
       "861          Washed            Latam  \n",
       "\n",
       "[862 rows x 15 columns]"
      ],
      "text/html": "<div>\n<style scoped>\n    .dataframe tbody tr th:only-of-type {\n        vertical-align: middle;\n    }\n\n    .dataframe tbody tr th {\n        vertical-align: top;\n    }\n\n    .dataframe thead th {\n        text-align: right;\n    }\n</style>\n<table border=\"1\" class=\"dataframe\">\n  <thead>\n    <tr style=\"text-align: right;\">\n      <th></th>\n      <th>process</th>\n      <th>brewing method</th>\n      <th>roast</th>\n      <th>grind</th>\n      <th>origin</th>\n      <th>price_per_kg</th>\n      <th>arabica (%)</th>\n      <th>Pure arabica</th>\n      <th>roast_brew</th>\n      <th>Washed</th>\n      <th>Natural</th>\n      <th>Fermented/macerated (traditional)</th>\n      <th>Fermented/macerated (closed tank)</th>\n      <th>process_general</th>\n      <th>region of origin</th>\n    </tr>\n  </thead>\n  <tbody>\n    <tr>\n      <th>0</th>\n      <td>Monsooning</td>\n      <td>drip (alternative brewing methods)</td>\n      <td>light</td>\n      <td>beans</td>\n      <td>Laos</td>\n      <td>52.22</td>\n      <td>100</td>\n      <td>True</td>\n      <td>light_drip (alternative brewing methods)</td>\n      <td>False</td>\n      <td>False</td>\n      <td>False</td>\n      <td>False</td>\n      <td>Monsooning</td>\n      <td>Asia</td>\n    </tr>\n    <tr>\n      <th>1</th>\n      <td>Natural</td>\n      <td>drip (alternative brewing methods)</td>\n      <td>medium</td>\n      <td>beans</td>\n      <td>Brazylia</td>\n      <td>31.92</td>\n      <td>100</td>\n      <td>True</td>\n      <td>medium_drip (alternative brewing methods)</td>\n      <td>False</td>\n      <td>True</td>\n      <td>False</td>\n      <td>False</td>\n      <td>Natural</td>\n      <td>Latam</td>\n    </tr>\n    <tr>\n      <th>2</th>\n      <td>Natural</td>\n      <td>drip (alternative brewing methods)</td>\n      <td>light</td>\n      <td>beans</td>\n      <td>Etiopia</td>\n      <td>39.20</td>\n      <td>100</td>\n      <td>True</td>\n      <td>light_drip (alternative brewing methods)</td>\n      <td>False</td>\n      <td>True</td>\n      <td>False</td>\n      <td>False</td>\n      <td>Natural</td>\n      <td>Africa</td>\n    </tr>\n    <tr>\n      <th>3</th>\n      <td>Washed</td>\n      <td>drip (alternative brewing methods)</td>\n      <td>light</td>\n      <td>beans</td>\n      <td>Etiopia</td>\n      <td>39.20</td>\n      <td>100</td>\n      <td>True</td>\n      <td>light_drip (alternative brewing methods)</td>\n      <td>True</td>\n      <td>False</td>\n      <td>False</td>\n      <td>False</td>\n      <td>Washed</td>\n      <td>Africa</td>\n    </tr>\n    <tr>\n      <th>4</th>\n      <td>Natural</td>\n      <td>drip (alternative brewing methods)</td>\n      <td>dark</td>\n      <td>beans</td>\n      <td>Indonezja</td>\n      <td>35.20</td>\n      <td>100</td>\n      <td>True</td>\n      <td>dark_drip (alternative brewing methods)</td>\n      <td>False</td>\n      <td>True</td>\n      <td>False</td>\n      <td>False</td>\n      <td>Natural</td>\n      <td>Asia</td>\n    </tr>\n    <tr>\n      <th>...</th>\n      <td>...</td>\n      <td>...</td>\n      <td>...</td>\n      <td>...</td>\n      <td>...</td>\n      <td>...</td>\n      <td>...</td>\n      <td>...</td>\n      <td>...</td>\n      <td>...</td>\n      <td>...</td>\n      <td>...</td>\n      <td>...</td>\n      <td>...</td>\n      <td>...</td>\n    </tr>\n    <tr>\n      <th>857</th>\n      <td>Rum Aged</td>\n      <td>drip (alternative brewing methods)</td>\n      <td>light</td>\n      <td>beans</td>\n      <td>Gwatemala</td>\n      <td>73.33</td>\n      <td>100</td>\n      <td>True</td>\n      <td>light_drip (alternative brewing methods)</td>\n      <td>False</td>\n      <td>False</td>\n      <td>False</td>\n      <td>False</td>\n      <td>Fermented</td>\n      <td>Latam</td>\n    </tr>\n    <tr>\n      <th>858</th>\n      <td>Natural</td>\n      <td>espresso</td>\n      <td>light</td>\n      <td>beans</td>\n      <td>Panama</td>\n      <td>50.00</td>\n      <td>30</td>\n      <td>False</td>\n      <td>light_espresso</td>\n      <td>False</td>\n      <td>True</td>\n      <td>False</td>\n      <td>False</td>\n      <td>Natural</td>\n      <td>Latam</td>\n    </tr>\n    <tr>\n      <th>859</th>\n      <td>Pulped natural</td>\n      <td>drip (alternative brewing methods)</td>\n      <td>light</td>\n      <td>beans</td>\n      <td>Nikaragua</td>\n      <td>36.00</td>\n      <td>100</td>\n      <td>True</td>\n      <td>light_drip (alternative brewing methods)</td>\n      <td>True</td>\n      <td>True</td>\n      <td>False</td>\n      <td>False</td>\n      <td>Hybrid</td>\n      <td>Latam</td>\n    </tr>\n    <tr>\n      <th>860</th>\n      <td>Washed</td>\n      <td>drip (alternative brewing methods)</td>\n      <td>light</td>\n      <td>beans</td>\n      <td>Gwatemala</td>\n      <td>25.00</td>\n      <td>100</td>\n      <td>True</td>\n      <td>light_drip (alternative brewing methods)</td>\n      <td>True</td>\n      <td>False</td>\n      <td>False</td>\n      <td>False</td>\n      <td>Washed</td>\n      <td>Latam</td>\n    </tr>\n    <tr>\n      <th>861</th>\n      <td>Washed</td>\n      <td>drip (alternative brewing methods)</td>\n      <td>light</td>\n      <td>beans</td>\n      <td>Gwatemala</td>\n      <td>29.60</td>\n      <td>100</td>\n      <td>True</td>\n      <td>light_drip (alternative brewing methods)</td>\n      <td>True</td>\n      <td>False</td>\n      <td>False</td>\n      <td>False</td>\n      <td>Washed</td>\n      <td>Latam</td>\n    </tr>\n  </tbody>\n</table>\n<p>862 rows × 15 columns</p>\n</div>"
     },
     "metadata": {},
     "execution_count": 153
    }
   ],
   "source": [
    "coffee_df = pd.read_csv('data\\coffee_desk_dataset_ead.csv')\n",
    "coffee_df.drop(columns='idx', axis=1, inplace=True) #dropping index not to be treated as vector dimension\n",
    "coffee_df"
   ]
  },
  {
   "cell_type": "code",
   "execution_count": 181,
   "metadata": {},
   "outputs": [],
   "source": [
    "coffee_df.rename(columns={'brewing method':'brewing_method', 'arabica (%)':'percentage_of_arabica', 'Pure arabica':'pure_arabica', 'region of origin':'region_of_origin', 'Fermented/macerated (traditional)':'Fermented_traditional', 'Fermented/macerated (closed tank)':'Fermented_closedtank'}, inplace=True)"
   ]
  },
  {
   "cell_type": "code",
   "execution_count": 328,
   "metadata": {},
   "outputs": [],
   "source": [
    "coffee_df = coffee_df[coffee_df.price_per_kg != 135.2]\n",
    "coffee_df = coffee_df[coffee_df.price_per_kg != 71.88]\n",
    "coffee_df = coffee_df[coffee_df.price_per_kg < 100]"
   ]
  },
  {
   "cell_type": "code",
   "execution_count": 329,
   "metadata": {},
   "outputs": [
    {
     "output_type": "display_data",
     "data": {
      "application/vnd.plotly.v1+json": {
       "config": {
        "plotlyServerURL": "https://plot.ly"
       },
       "data": [
        {
         "alignmentgroup": "True",
         "box": {
          "visible": true
         },
         "hovertemplate": "region_of_origin=%{x}<br>price_per_kg=%{y}<extra></extra>",
         "legendgroup": "",
         "marker": {
          "color": "#636efa"
         },
         "name": "",
         "offsetgroup": "",
         "orientation": "v",
         "points": "all",
         "scalegroup": "True",
         "showlegend": false,
         "type": "violin",
         "x": [
          "Asia",
          "Latam",
          "Africa",
          "Africa",
          "Asia",
          "Latam",
          "Africa",
          "Latam",
          "Latam",
          "Latam",
          "Africa",
          "Africa",
          "Latam",
          "Latam",
          "Latam",
          "Africa",
          "Mixed",
          "Asia",
          "Latam",
          "Latam",
          "Mixed",
          "Africa",
          "Latam",
          "Asia",
          "Latam",
          "Africa",
          "Africa",
          "Africa",
          "Latam",
          "Latam",
          "Latam",
          "Latam",
          "Asia",
          "Africa",
          "Latam",
          "Latam",
          "Africa",
          "Africa",
          "Latam",
          "Latam",
          "Africa",
          "Latam",
          "Latam",
          "Latam",
          "Latam",
          "Latam",
          "Latam",
          "Latam",
          "Asia",
          "Latam",
          "Africa",
          "Africa",
          "Africa",
          "Africa",
          "Latam",
          "Latam",
          "Latam",
          "Asia",
          "Africa",
          "Africa",
          "Latam",
          "Asia",
          "Africa",
          "Asia",
          "Latam",
          "Latam",
          "Latam",
          "Africa",
          "Africa",
          "Latam",
          "Latam",
          "Africa",
          "Latam",
          "Latam",
          "Latam",
          "Latam",
          "Latam",
          "Asia",
          "Latam",
          "Africa",
          "Latam",
          "Latam",
          "Latam",
          "Africa",
          "Latam",
          "Africa",
          "Latam",
          "Africa",
          "Latam",
          "Africa",
          "Africa",
          "Latam",
          "Latam",
          "Mixed",
          "Africa",
          "Latam",
          "Latam",
          "Latam",
          "Africa",
          "Africa",
          "Latam",
          "Latam",
          "Africa",
          "Africa",
          "Africa",
          "Latam",
          "Latam",
          "Latam",
          "Latam",
          "Latam",
          "Latam",
          "Latam",
          "Latam",
          "Mixed",
          "Mixed",
          "Africa",
          "Africa",
          "Africa",
          "Africa",
          "Africa",
          "Africa",
          "Latam",
          "Latam",
          "Latam",
          "Latam",
          "Latam",
          "Latam",
          "Africa",
          "Africa",
          "Africa",
          "Latam",
          "Africa",
          "Africa",
          "Latam",
          "Latam",
          "Latam",
          "Latam",
          "Africa",
          "Africa",
          "Latam",
          "Africa",
          "Africa",
          "Africa",
          "Africa",
          "Latam",
          "Latam",
          "Latam",
          "Latam",
          "Africa",
          "Latam",
          "Latam",
          "Latam",
          "Africa",
          "Latam",
          "Latam",
          "Latam",
          "Latam",
          "Latam",
          "Latam",
          "Latam",
          "Latam",
          "Latam",
          "Latam",
          "Africa",
          "Latam",
          "Latam",
          "Africa",
          "Latam",
          "Latam",
          "Africa",
          "Latam",
          "Africa",
          "Africa",
          "Asia",
          "Africa",
          "Latam",
          "Latam",
          "Africa",
          "Africa",
          "Latam",
          "Latam",
          "Africa",
          "Latam",
          "Latam",
          "Latam",
          "Africa",
          "Latam",
          "Latam",
          "Latam",
          "Latam",
          "Asia",
          "Latam",
          "Africa",
          "Africa",
          "Africa",
          "Latam",
          "Latam",
          "Africa",
          "Latam",
          "Latam",
          "Africa",
          "Latam",
          "Africa",
          "Latam",
          "Latam",
          "Africa",
          "Asia",
          "Latam",
          "Africa",
          "Latam",
          "Africa",
          "Latam",
          "Africa",
          "Africa",
          "Latam",
          "Africa",
          "Latam",
          "Mixed",
          "Africa",
          "Africa",
          "Latam",
          "Latam",
          "Asia",
          "Africa",
          "Latam",
          "Latam",
          "Africa",
          "Latam",
          "Latam",
          "Latam",
          "Latam",
          "Africa",
          "Africa",
          "Latam",
          "Latam",
          "Africa",
          "Africa",
          "Africa",
          "Africa",
          "Latam",
          "Latam",
          "Africa",
          "Latam",
          "Latam",
          "Latam",
          "Africa",
          "Asia",
          "Latam",
          "Asia",
          "Africa",
          "Africa",
          "Africa",
          "Africa",
          "Africa",
          "Africa",
          "Asia",
          "Latam",
          "Latam",
          "Latam",
          "Latam",
          "Africa",
          "Latam",
          "Africa",
          "Africa",
          "Latam",
          "Latam",
          "Africa",
          "Latam",
          "Latam",
          "Africa",
          "Latam",
          "Latam",
          "Latam",
          "Africa",
          "Latam",
          "Latam",
          "Asia",
          "Latam",
          "Latam",
          "Latam",
          "Latam",
          "Africa",
          "Latam",
          "Latam",
          "Latam",
          "Africa",
          "Africa",
          "Africa",
          "Latam",
          "Africa",
          "Latam",
          "Latam",
          "Latam",
          "Africa",
          "Africa",
          "Africa",
          "Latam",
          "Africa",
          "Africa",
          "Latam",
          "Latam",
          "Latam",
          "Latam",
          "Latam",
          "Latam",
          "Latam",
          "Latam",
          "Latam",
          "Latam",
          "Latam",
          "Africa",
          "Latam",
          "Latam",
          "Latam",
          "Asia",
          "Latam",
          "Latam",
          "Latam",
          "Latam",
          "Mixed",
          "Latam",
          "Africa",
          "Latam",
          "Latam",
          "Africa",
          "Latam",
          "Asia",
          "Latam",
          "Latam",
          "Latam",
          "Latam",
          "Latam",
          "Latam",
          "Latam",
          "Latam",
          "Latam",
          "Latam",
          "Africa",
          "Africa",
          "Latam",
          "Africa",
          "Latam",
          "Africa",
          "Africa",
          "Africa",
          "Latam",
          "Africa",
          "Latam",
          "Latam",
          "Latam",
          "Africa",
          "Latam",
          "Latam",
          "Africa",
          "Latam",
          "Africa",
          "Africa",
          "Latam",
          "Africa",
          "Latam",
          "Latam",
          "Africa",
          "Mixed",
          "Africa",
          "Mixed",
          "Mixed",
          "Africa",
          "Africa",
          "Latam",
          "Latam",
          "Latam",
          "Latam",
          "Latam",
          "Africa",
          "Africa",
          "Latam",
          "Latam",
          "Latam",
          "Latam",
          "Asia",
          "Latam",
          "Latam",
          "Latam",
          "Africa",
          "Africa",
          "Latam",
          "Latam",
          "Africa",
          "Latam",
          "Latam",
          "Latam",
          "Africa",
          "Africa",
          "Latam",
          "Africa",
          "Africa",
          "Latam",
          "Latam",
          "Africa",
          "Latam",
          "Latam",
          "Latam",
          "Africa",
          "Mixed",
          "Latam",
          "Latam",
          "Latam",
          "Latam",
          "Africa",
          "Latam",
          "Latam",
          "Latam",
          "Latam",
          "Africa",
          "Latam",
          "Latam",
          "Latam",
          "Africa",
          "Africa",
          "Asia",
          "Africa",
          "Africa",
          "Latam",
          "Latam",
          "Latam",
          "Africa",
          "Latam",
          "Latam",
          "Africa",
          "Africa",
          "Africa",
          "Mixed",
          "Europe",
          "Europe",
          "Mixed",
          "Africa",
          "Europe",
          "Europe",
          "Mixed",
          "Mixed",
          "Latam",
          "Latam",
          "Mixed",
          "Europe",
          "Latam",
          "Africa",
          "Africa",
          "Latam",
          "Latam",
          "Latam",
          "Mixed",
          "Mixed",
          "Mixed",
          "Mixed",
          "Mixed",
          "Africa",
          "Latam",
          "Mixed",
          "Mixed",
          "Latam",
          "Latam",
          "Latam",
          "Latam",
          "Mixed",
          "Europe",
          "Mixed",
          "Latam",
          "Latam",
          "Latam",
          "Latam",
          "Latam",
          "Latam",
          "Latam",
          "Mixed",
          "Mixed",
          "Latam",
          "Latam",
          "Latam",
          "Latam",
          "Mixed",
          "Mixed",
          "Mixed",
          "Mixed",
          "Mixed",
          "Mixed",
          "Latam",
          "Latam",
          "Latam",
          "Latam",
          "Africa",
          "Africa",
          "Africa",
          "Africa",
          "Mixed",
          "Mixed",
          "Mixed",
          "Mixed",
          "Mixed",
          "Mixed",
          "Mixed",
          "Mixed",
          "Mixed",
          "Mixed",
          "Latam",
          "Latam",
          "Latam",
          "Latam",
          "Latam",
          "Mixed",
          "Mixed",
          "Mixed",
          "Mixed",
          "Mixed",
          "Mixed",
          "Latam",
          "Latam",
          "Latam",
          "Latam",
          "Latam",
          "Africa",
          "Africa",
          "Latam",
          "Latam",
          "Latam",
          "Latam",
          "Latam",
          "Latam",
          "Africa",
          "Latam",
          "Mixed",
          "Mixed",
          "Mixed",
          "Mixed",
          "Mixed",
          "Mixed",
          "Latam",
          "Latam",
          "Latam",
          "Mixed",
          "Mixed",
          "Mixed",
          "Mixed",
          "Asia",
          "Latam",
          "Latam",
          "Mixed",
          "Mixed",
          "Mixed",
          "Latam",
          "Mixed",
          "Latam",
          "Latam",
          "Africa",
          "Africa",
          "Mixed",
          "Mixed",
          "Mixed",
          "Mixed",
          "Mixed",
          "Mixed",
          "Mixed",
          "Latam",
          "Latam",
          "Mixed",
          "Latam",
          "Mixed",
          "Mixed",
          "Mixed",
          "Mixed",
          "Mixed",
          "Latam",
          "Latam",
          "Latam",
          "Latam",
          "Mixed",
          "Latam",
          "Latam",
          "Latam",
          "Latam",
          "Latam",
          "Africa",
          "Africa",
          "Africa",
          "Mixed",
          "Mixed",
          "Mixed",
          "Latam",
          "Latam",
          "Mixed",
          "Mixed",
          "Mixed",
          "Mixed",
          "Latam",
          "Latam",
          "Latam",
          "Latam",
          "Mixed",
          "Latam",
          "Africa",
          "Africa",
          "Africa",
          "Asia",
          "Mixed",
          "Latam",
          "Mixed",
          "Latam",
          "Mixed",
          "Africa",
          "Latam",
          "Latam",
          "Latam",
          "Latam",
          "Mixed",
          "Mixed",
          "Mixed",
          "Mixed",
          "Latam",
          "Latam",
          "Mixed",
          "Latam",
          "Mixed",
          "Latam",
          "Mixed",
          "Asia",
          "Latam",
          "Latam",
          "Mixed",
          "Latam",
          "Latam",
          "Latam",
          "Latam",
          "Mixed",
          "Asia",
          "Latam",
          "Latam",
          "Latam",
          "Latam",
          "Latam",
          "Latam",
          "Latam",
          "Latam",
          "Latam",
          "Latam",
          "Latam",
          "Latam",
          "Latam",
          "Latam",
          "Latam",
          "Africa",
          "Mixed",
          "Mixed",
          "Latam",
          "Latam",
          "Mixed",
          "Latam",
          "Latam",
          "Latam",
          "Latam",
          "Latam",
          "Latam",
          "Latam",
          "Latam",
          "Latam",
          "Latam",
          "Latam",
          "Latam",
          "Mixed",
          "Latam",
          "Mixed",
          "Latam",
          "Africa",
          "Latam",
          "Latam",
          "Latam",
          "Latam",
          "Latam",
          "Latam",
          "Latam",
          "Latam",
          "Mixed",
          "Mixed",
          "Mixed",
          "Mixed",
          "Mixed",
          "Latam",
          "Latam",
          "Latam",
          "Latam",
          "Latam",
          "Africa",
          "Africa",
          "Africa",
          "Latam",
          "Latam",
          "Latam",
          "Mixed",
          "Mixed",
          "Latam",
          "Latam",
          "Mixed",
          "Mixed",
          "Africa",
          "Mixed",
          "Africa",
          "Africa",
          "Latam",
          "Latam",
          "Mixed",
          "Latam",
          "Latam",
          "Latam",
          "Latam",
          "Latam",
          "Latam",
          "Latam",
          "Africa",
          "Asia",
          "Latam",
          "Mixed",
          "Mixed",
          "Africa",
          "Mixed",
          "Africa",
          "Latam",
          "Latam",
          "Mixed",
          "Latam",
          "Africa",
          "Africa",
          "Mixed",
          "Latam",
          "Mixed",
          "Latam",
          "Mixed",
          "Mixed",
          "Mixed",
          "Latam",
          "Latam",
          "Latam",
          "Africa",
          "Africa",
          "Africa",
          "Mixed",
          "Mixed",
          "Mixed",
          "Latam",
          "Latam",
          "Mixed",
          "Latam",
          "Latam",
          "Mixed",
          "Mixed",
          "Asia",
          "Mixed",
          "Latam",
          "Mixed",
          "Latam",
          "Africa",
          "Mixed",
          "Latam",
          "Mixed",
          "Latam",
          "Latam",
          "Africa",
          "Mixed",
          "Mixed",
          "Mixed",
          "Latam",
          "Mixed",
          "Mixed",
          "Africa",
          "Mixed",
          "Mixed",
          "Mixed",
          "Latam",
          "Latam",
          "Latam",
          "Africa",
          "Mixed",
          "Mixed",
          "Latam",
          "Mixed",
          "Latam",
          "Latam",
          "Mixed",
          "Latam",
          "Latam",
          "Africa",
          "Latam",
          "Mixed",
          "Latam",
          "Latam",
          "Mixed",
          "Latam",
          "Mixed",
          "Latam",
          "Latam",
          "Latam",
          "Mixed",
          "Mixed",
          "Latam",
          "Mixed",
          "Latam",
          "Africa",
          "Latam",
          "Latam",
          "Latam",
          "Asia",
          "Asia",
          "Latam",
          "Latam",
          "Latam",
          "Africa",
          "Latam",
          "Africa",
          "Latam",
          "Latam",
          "Latam",
          "Latam",
          "Latam",
          "Latam",
          "Mixed",
          "Africa",
          "Africa",
          "Mixed",
          "Mixed",
          "Latam",
          "Latam",
          "Latam",
          "Latam",
          "Mixed",
          "Latam",
          "Latam",
          "Latam",
          "Latam",
          "Latam",
          "Latam"
         ],
         "x0": " ",
         "xaxis": "x",
         "y": [
          52.22,
          31.92,
          39.2,
          39.2,
          35.2,
          20.76,
          45,
          45.6,
          62.7,
          52.38,
          60,
          50.4,
          52,
          89,
          88,
          33.6,
          37.6,
          52.5,
          48.8,
          50.4,
          23.8,
          46.4,
          50.4,
          44.8,
          44.8,
          44.8,
          44.8,
          50.4,
          44,
          47.2,
          39.2,
          96,
          26.4,
          38.4,
          81.82,
          71.59,
          90.91,
          79.55,
          81.82,
          71.59,
          87.5,
          79.55,
          73.86,
          41.6,
          29.2,
          44,
          45,
          48,
          45,
          42,
          45,
          46.4,
          47.2,
          42.4,
          44,
          44,
          21.6,
          43.2,
          40,
          40,
          40,
          40,
          43.2,
          43.2,
          28,
          32,
          44,
          40.8,
          56,
          24,
          24,
          33.6,
          35.2,
          24,
          57.6,
          31.2,
          33.6,
          34.4,
          32,
          43.33,
          34.67,
          46.67,
          44.67,
          39.33,
          27.2,
          40.8,
          42.4,
          53.6,
          40,
          44,
          44,
          46.4,
          56,
          31.8,
          51.2,
          39.2,
          46.4,
          38.4,
          40,
          40,
          44,
          47.2,
          48,
          51.2,
          51.2,
          51.2,
          54.4,
          54.4,
          54.4,
          56,
          48,
          48,
          40,
          21,
          23.2,
          29,
          32,
          30.8,
          30,
          32.8,
          31.6,
          20,
          38.08,
          41.6,
          33.6,
          33.6,
          63.2,
          62.4,
          60,
          44,
          23.2,
          39.2,
          44,
          44,
          79,
          44,
          55.2,
          44,
          32.12,
          45.6,
          44,
          48,
          44.8,
          40,
          60,
          40,
          40,
          42.4,
          53.6,
          34.4,
          45,
          47,
          38,
          78.4,
          69.3,
          52.8,
          52.8,
          88,
          58.4,
          75,
          89,
          82,
          73,
          48,
          46.4,
          52,
          48,
          26.4,
          47.2,
          39.2,
          40,
          47.2,
          33.04,
          54.4,
          47.2,
          46.4,
          48,
          46.4,
          36,
          36,
          32.8,
          39.2,
          36,
          36,
          54.4,
          33.6,
          44,
          26.4,
          51.2,
          33.6,
          31.6,
          33.6,
          39,
          40,
          47.2,
          82.29,
          52.38,
          52,
          49.6,
          52.8,
          60,
          60,
          87.2,
          46.4,
          37.6,
          46.4,
          36.8,
          43.2,
          42.4,
          57.5,
          60,
          52.8,
          55.2,
          63.2,
          40.8,
          50.4,
          50.4,
          27,
          46.4,
          43.2,
          34.72,
          34.72,
          35.84,
          31.36,
          44,
          43.2,
          48,
          33,
          51.2,
          34.56,
          57.27,
          52.8,
          45.6,
          48,
          38.4,
          40,
          41.6,
          45.6,
          40,
          35.2,
          33.28,
          28.8,
          45,
          42,
          45,
          43,
          31.5,
          39.2,
          47.2,
          49.6,
          39.2,
          40.8,
          41.6,
          40.8,
          40,
          27.2,
          27.6,
          27.6,
          36.8,
          28.8,
          28,
          28,
          47.2,
          46.4,
          47.2,
          45.6,
          45.6,
          35.4,
          34.2,
          34.2,
          32,
          31.2,
          34.4,
          31.2,
          49.6,
          25.6,
          33.6,
          26.4,
          25.8,
          23.4,
          25.2,
          39.33,
          60,
          39,
          36,
          33,
          56,
          65.6,
          53.6,
          46.4,
          37.12,
          37.52,
          33.6,
          37.6,
          37.6,
          40.8,
          40,
          36,
          36,
          26.4,
          31.2,
          44,
          52,
          42.4,
          23.2,
          37.96,
          54.4,
          38.08,
          35.84,
          33.6,
          48,
          33.6,
          34.56,
          48,
          60,
          59.25,
          27,
          40.28,
          68,
          24.8,
          45.6,
          51.2,
          54.4,
          36,
          55.2,
          38,
          62,
          64,
          80,
          60,
          80,
          65.6,
          99,
          90,
          49.6,
          37.2,
          36.8,
          36.8,
          31.2,
          36,
          40.8,
          25.2,
          28.56,
          51.2,
          52.8,
          55.2,
          52.8,
          50.4,
          52.8,
          55.2,
          60,
          36,
          36,
          36,
          48,
          38.4,
          40,
          36,
          31.5,
          35.2,
          29.6,
          31.6,
          22,
          45.6,
          28.8,
          19.2,
          19.2,
          22,
          36,
          44.8,
          44.8,
          38.4,
          47.2,
          54.4,
          48,
          49.6,
          39.2,
          22.4,
          25.6,
          28,
          33.6,
          40.8,
          45.6,
          47.2,
          51.2,
          52.8,
          52,
          66.4,
          61.6,
          68,
          37.6,
          50.4,
          51.2,
          29.96,
          29.6,
          17.8,
          47.2,
          28.8,
          48,
          45.6,
          59.2,
          59.2,
          64.5,
          35.2,
          43.2,
          25.6,
          21.6,
          19.2,
          48,
          41.6,
          49.6,
          46.4,
          42.12,
          53.6,
          39.2,
          49.6,
          58.4,
          56,
          49.6,
          45.6,
          65.6,
          78.4,
          64,
          46.4,
          59,
          36.8,
          34.8,
          40,
          33.6,
          27.8,
          34.4,
          31.6,
          19.8,
          25.6,
          26,
          15.8,
          19.8,
          25.52,
          25,
          28.8,
          30,
          28,
          21.8,
          23.2,
          24,
          24,
          24.8,
          31.6,
          40,
          20.8,
          18.4,
          19.68,
          23.12,
          23.92,
          17.8,
          27.6,
          32,
          12.98,
          15.98,
          21.8,
          22.4,
          25.8,
          28,
          29.6,
          19.98,
          17.98,
          37.6,
          18.4,
          25.6,
          26,
          28,
          20.8,
          15.96,
          28,
          23.8,
          13.8,
          11.8,
          14,
          22,
          15.2,
          25,
          22.8,
          23.6,
          17.8,
          20,
          21.8,
          25.6,
          19,
          21.6,
          17.8,
          20,
          24,
          28,
          24,
          28,
          19,
          21.6,
          19,
          21.6,
          17.28,
          31.8,
          29.8,
          31.2,
          25,
          31.2,
          31.2,
          19.8,
          22.4,
          17.6,
          19.2,
          18.4,
          23.8,
          25.6,
          24.8,
          19,
          20.4,
          25.8,
          28.8,
          25.2,
          31,
          33.6,
          23.6,
          25.6,
          24,
          45.24,
          23.2,
          28,
          23.92,
          23.92,
          23.12,
          23.12,
          23.92,
          23.92,
          23.92,
          23.12,
          22.32,
          17.8,
          19.18,
          15.92,
          14.32,
          12.98,
          14.32,
          11.92,
          10.98,
          11.92,
          12.72,
          12.98,
          13.52,
          7.8,
          13.98,
          13.98,
          15.4,
          31.8,
          39.2,
          13.8,
          12.38,
          12.38,
          12.38,
          12.38,
          12.98,
          12.76,
          9.58,
          10.4,
          11.12,
          10.98,
          10.98,
          15.92,
          15.92,
          13.58,
          11.92,
          11.92,
          11.96,
          9.98,
          12.98,
          19.98,
          18.4,
          23.92,
          23.92,
          35.8,
          41.6,
          28.72,
          28.72,
          26.36,
          23.98,
          26.36,
          19.98,
          20.2,
          37.36,
          23.92,
          23.92,
          23.92,
          23.92,
          13.98,
          21.8,
          11,
          16.4,
          24.8,
          19.8,
          13.98,
          11.58,
          12.8,
          15.12,
          11.36,
          23.92,
          19.92,
          27.2,
          39.2,
          22.9,
          59.88,
          59.88,
          87.6,
          27,
          26,
          23.8,
          22.8,
          29.8,
          22.4,
          19.8,
          16.8,
          18,
          15.2,
          13.6,
          13.6,
          16.8,
          18,
          13.18,
          17.98,
          15.98,
          17.18,
          11.98,
          32,
          27.2,
          28,
          25.6,
          20.4,
          18.4,
          21.6,
          21.8,
          20,
          18.6,
          21.6,
          20.4,
          36,
          25,
          25.6,
          21.8,
          24,
          27.2,
          28,
          22,
          24,
          26,
          26.4,
          32,
          20.8,
          28.8,
          25.2,
          28.8,
          20.8,
          19,
          20.8,
          24,
          26.4,
          26.4,
          20,
          22.4,
          19.78,
          11.8,
          9.98,
          40,
          33.6,
          15.98,
          12.9,
          23.8,
          24,
          27.2,
          23.8,
          27.2,
          39.2,
          14.32,
          13.56,
          12.72,
          16,
          13.6,
          15,
          13.98,
          15,
          14.6,
          40.4,
          38,
          31.8,
          39.2,
          37.6,
          36,
          28.8,
          19.92,
          21.8,
          24,
          24,
          21,
          27,
          14.98,
          38.4,
          56,
          47.6,
          30,
          35.2,
          24.8,
          37.6,
          25.2,
          51.2,
          23.2,
          23.2,
          11.98,
          14.4,
          13.6,
          23.2,
          19,
          25.6,
          21.8,
          15.98,
          31.6,
          29.6,
          23.92,
          44,
          19.5,
          30,
          15.96,
          19.96,
          29.8,
          15.92,
          37.6,
          37.6,
          25.2,
          25.6,
          16,
          19.62,
          19.2,
          14.25,
          12.46,
          17,
          19.6,
          16.8,
          21,
          15.2,
          19.8,
          23.2,
          16.66,
          20.64,
          27.6,
          17.6,
          15.2,
          17.6,
          15.12,
          15,
          14.32,
          11,
          11,
          15,
          12.98,
          9.8,
          9.8,
          23.92,
          39.2,
          23.92,
          23.92,
          17.98,
          13.98,
          21,
          24.32,
          21.8,
          14.32,
          33.8,
          23.66,
          20.8,
          20.8,
          74.29,
          29.6,
          16.8,
          16.8,
          20,
          24,
          32.8,
          24.6,
          28,
          22.2,
          20.16,
          35.2,
          42.4,
          14.76,
          11.58,
          13.98,
          28,
          28.8,
          24.8,
          27.2,
          28.8,
          26.8,
          23.8,
          28,
          30.4,
          24.8,
          28,
          46.4,
          45.6,
          49.6,
          18,
          15.2,
          34.4,
          32,
          36,
          25.2,
          39.2,
          29.6,
          41.6,
          33.6,
          18,
          18,
          46.4,
          50.4,
          22.4,
          23.92,
          20.72,
          19.98,
          20.72,
          15.92,
          18.17,
          16.5,
          18.17,
          45.6,
          23.92,
          39,
          73.33,
          50,
          36,
          25,
          29.6
         ],
         "y0": " ",
         "yaxis": "y"
        }
       ],
       "layout": {
        "legend": {
         "tracegroupgap": 0
        },
        "template": {
         "data": {
          "bar": [
           {
            "error_x": {
             "color": "#2a3f5f"
            },
            "error_y": {
             "color": "#2a3f5f"
            },
            "marker": {
             "line": {
              "color": "#E5ECF6",
              "width": 0.5
             }
            },
            "type": "bar"
           }
          ],
          "barpolar": [
           {
            "marker": {
             "line": {
              "color": "#E5ECF6",
              "width": 0.5
             }
            },
            "type": "barpolar"
           }
          ],
          "carpet": [
           {
            "aaxis": {
             "endlinecolor": "#2a3f5f",
             "gridcolor": "white",
             "linecolor": "white",
             "minorgridcolor": "white",
             "startlinecolor": "#2a3f5f"
            },
            "baxis": {
             "endlinecolor": "#2a3f5f",
             "gridcolor": "white",
             "linecolor": "white",
             "minorgridcolor": "white",
             "startlinecolor": "#2a3f5f"
            },
            "type": "carpet"
           }
          ],
          "choropleth": [
           {
            "colorbar": {
             "outlinewidth": 0,
             "ticks": ""
            },
            "type": "choropleth"
           }
          ],
          "contour": [
           {
            "colorbar": {
             "outlinewidth": 0,
             "ticks": ""
            },
            "colorscale": [
             [
              0,
              "#0d0887"
             ],
             [
              0.1111111111111111,
              "#46039f"
             ],
             [
              0.2222222222222222,
              "#7201a8"
             ],
             [
              0.3333333333333333,
              "#9c179e"
             ],
             [
              0.4444444444444444,
              "#bd3786"
             ],
             [
              0.5555555555555556,
              "#d8576b"
             ],
             [
              0.6666666666666666,
              "#ed7953"
             ],
             [
              0.7777777777777778,
              "#fb9f3a"
             ],
             [
              0.8888888888888888,
              "#fdca26"
             ],
             [
              1,
              "#f0f921"
             ]
            ],
            "type": "contour"
           }
          ],
          "contourcarpet": [
           {
            "colorbar": {
             "outlinewidth": 0,
             "ticks": ""
            },
            "type": "contourcarpet"
           }
          ],
          "heatmap": [
           {
            "colorbar": {
             "outlinewidth": 0,
             "ticks": ""
            },
            "colorscale": [
             [
              0,
              "#0d0887"
             ],
             [
              0.1111111111111111,
              "#46039f"
             ],
             [
              0.2222222222222222,
              "#7201a8"
             ],
             [
              0.3333333333333333,
              "#9c179e"
             ],
             [
              0.4444444444444444,
              "#bd3786"
             ],
             [
              0.5555555555555556,
              "#d8576b"
             ],
             [
              0.6666666666666666,
              "#ed7953"
             ],
             [
              0.7777777777777778,
              "#fb9f3a"
             ],
             [
              0.8888888888888888,
              "#fdca26"
             ],
             [
              1,
              "#f0f921"
             ]
            ],
            "type": "heatmap"
           }
          ],
          "heatmapgl": [
           {
            "colorbar": {
             "outlinewidth": 0,
             "ticks": ""
            },
            "colorscale": [
             [
              0,
              "#0d0887"
             ],
             [
              0.1111111111111111,
              "#46039f"
             ],
             [
              0.2222222222222222,
              "#7201a8"
             ],
             [
              0.3333333333333333,
              "#9c179e"
             ],
             [
              0.4444444444444444,
              "#bd3786"
             ],
             [
              0.5555555555555556,
              "#d8576b"
             ],
             [
              0.6666666666666666,
              "#ed7953"
             ],
             [
              0.7777777777777778,
              "#fb9f3a"
             ],
             [
              0.8888888888888888,
              "#fdca26"
             ],
             [
              1,
              "#f0f921"
             ]
            ],
            "type": "heatmapgl"
           }
          ],
          "histogram": [
           {
            "marker": {
             "colorbar": {
              "outlinewidth": 0,
              "ticks": ""
             }
            },
            "type": "histogram"
           }
          ],
          "histogram2d": [
           {
            "colorbar": {
             "outlinewidth": 0,
             "ticks": ""
            },
            "colorscale": [
             [
              0,
              "#0d0887"
             ],
             [
              0.1111111111111111,
              "#46039f"
             ],
             [
              0.2222222222222222,
              "#7201a8"
             ],
             [
              0.3333333333333333,
              "#9c179e"
             ],
             [
              0.4444444444444444,
              "#bd3786"
             ],
             [
              0.5555555555555556,
              "#d8576b"
             ],
             [
              0.6666666666666666,
              "#ed7953"
             ],
             [
              0.7777777777777778,
              "#fb9f3a"
             ],
             [
              0.8888888888888888,
              "#fdca26"
             ],
             [
              1,
              "#f0f921"
             ]
            ],
            "type": "histogram2d"
           }
          ],
          "histogram2dcontour": [
           {
            "colorbar": {
             "outlinewidth": 0,
             "ticks": ""
            },
            "colorscale": [
             [
              0,
              "#0d0887"
             ],
             [
              0.1111111111111111,
              "#46039f"
             ],
             [
              0.2222222222222222,
              "#7201a8"
             ],
             [
              0.3333333333333333,
              "#9c179e"
             ],
             [
              0.4444444444444444,
              "#bd3786"
             ],
             [
              0.5555555555555556,
              "#d8576b"
             ],
             [
              0.6666666666666666,
              "#ed7953"
             ],
             [
              0.7777777777777778,
              "#fb9f3a"
             ],
             [
              0.8888888888888888,
              "#fdca26"
             ],
             [
              1,
              "#f0f921"
             ]
            ],
            "type": "histogram2dcontour"
           }
          ],
          "mesh3d": [
           {
            "colorbar": {
             "outlinewidth": 0,
             "ticks": ""
            },
            "type": "mesh3d"
           }
          ],
          "parcoords": [
           {
            "line": {
             "colorbar": {
              "outlinewidth": 0,
              "ticks": ""
             }
            },
            "type": "parcoords"
           }
          ],
          "pie": [
           {
            "automargin": true,
            "type": "pie"
           }
          ],
          "scatter": [
           {
            "marker": {
             "colorbar": {
              "outlinewidth": 0,
              "ticks": ""
             }
            },
            "type": "scatter"
           }
          ],
          "scatter3d": [
           {
            "line": {
             "colorbar": {
              "outlinewidth": 0,
              "ticks": ""
             }
            },
            "marker": {
             "colorbar": {
              "outlinewidth": 0,
              "ticks": ""
             }
            },
            "type": "scatter3d"
           }
          ],
          "scattercarpet": [
           {
            "marker": {
             "colorbar": {
              "outlinewidth": 0,
              "ticks": ""
             }
            },
            "type": "scattercarpet"
           }
          ],
          "scattergeo": [
           {
            "marker": {
             "colorbar": {
              "outlinewidth": 0,
              "ticks": ""
             }
            },
            "type": "scattergeo"
           }
          ],
          "scattergl": [
           {
            "marker": {
             "colorbar": {
              "outlinewidth": 0,
              "ticks": ""
             }
            },
            "type": "scattergl"
           }
          ],
          "scattermapbox": [
           {
            "marker": {
             "colorbar": {
              "outlinewidth": 0,
              "ticks": ""
             }
            },
            "type": "scattermapbox"
           }
          ],
          "scatterpolar": [
           {
            "marker": {
             "colorbar": {
              "outlinewidth": 0,
              "ticks": ""
             }
            },
            "type": "scatterpolar"
           }
          ],
          "scatterpolargl": [
           {
            "marker": {
             "colorbar": {
              "outlinewidth": 0,
              "ticks": ""
             }
            },
            "type": "scatterpolargl"
           }
          ],
          "scatterternary": [
           {
            "marker": {
             "colorbar": {
              "outlinewidth": 0,
              "ticks": ""
             }
            },
            "type": "scatterternary"
           }
          ],
          "surface": [
           {
            "colorbar": {
             "outlinewidth": 0,
             "ticks": ""
            },
            "colorscale": [
             [
              0,
              "#0d0887"
             ],
             [
              0.1111111111111111,
              "#46039f"
             ],
             [
              0.2222222222222222,
              "#7201a8"
             ],
             [
              0.3333333333333333,
              "#9c179e"
             ],
             [
              0.4444444444444444,
              "#bd3786"
             ],
             [
              0.5555555555555556,
              "#d8576b"
             ],
             [
              0.6666666666666666,
              "#ed7953"
             ],
             [
              0.7777777777777778,
              "#fb9f3a"
             ],
             [
              0.8888888888888888,
              "#fdca26"
             ],
             [
              1,
              "#f0f921"
             ]
            ],
            "type": "surface"
           }
          ],
          "table": [
           {
            "cells": {
             "fill": {
              "color": "#EBF0F8"
             },
             "line": {
              "color": "white"
             }
            },
            "header": {
             "fill": {
              "color": "#C8D4E3"
             },
             "line": {
              "color": "white"
             }
            },
            "type": "table"
           }
          ]
         },
         "layout": {
          "annotationdefaults": {
           "arrowcolor": "#2a3f5f",
           "arrowhead": 0,
           "arrowwidth": 1
          },
          "autotypenumbers": "strict",
          "coloraxis": {
           "colorbar": {
            "outlinewidth": 0,
            "ticks": ""
           }
          },
          "colorscale": {
           "diverging": [
            [
             0,
             "#8e0152"
            ],
            [
             0.1,
             "#c51b7d"
            ],
            [
             0.2,
             "#de77ae"
            ],
            [
             0.3,
             "#f1b6da"
            ],
            [
             0.4,
             "#fde0ef"
            ],
            [
             0.5,
             "#f7f7f7"
            ],
            [
             0.6,
             "#e6f5d0"
            ],
            [
             0.7,
             "#b8e186"
            ],
            [
             0.8,
             "#7fbc41"
            ],
            [
             0.9,
             "#4d9221"
            ],
            [
             1,
             "#276419"
            ]
           ],
           "sequential": [
            [
             0,
             "#0d0887"
            ],
            [
             0.1111111111111111,
             "#46039f"
            ],
            [
             0.2222222222222222,
             "#7201a8"
            ],
            [
             0.3333333333333333,
             "#9c179e"
            ],
            [
             0.4444444444444444,
             "#bd3786"
            ],
            [
             0.5555555555555556,
             "#d8576b"
            ],
            [
             0.6666666666666666,
             "#ed7953"
            ],
            [
             0.7777777777777778,
             "#fb9f3a"
            ],
            [
             0.8888888888888888,
             "#fdca26"
            ],
            [
             1,
             "#f0f921"
            ]
           ],
           "sequentialminus": [
            [
             0,
             "#0d0887"
            ],
            [
             0.1111111111111111,
             "#46039f"
            ],
            [
             0.2222222222222222,
             "#7201a8"
            ],
            [
             0.3333333333333333,
             "#9c179e"
            ],
            [
             0.4444444444444444,
             "#bd3786"
            ],
            [
             0.5555555555555556,
             "#d8576b"
            ],
            [
             0.6666666666666666,
             "#ed7953"
            ],
            [
             0.7777777777777778,
             "#fb9f3a"
            ],
            [
             0.8888888888888888,
             "#fdca26"
            ],
            [
             1,
             "#f0f921"
            ]
           ]
          },
          "colorway": [
           "#636efa",
           "#EF553B",
           "#00cc96",
           "#ab63fa",
           "#FFA15A",
           "#19d3f3",
           "#FF6692",
           "#B6E880",
           "#FF97FF",
           "#FECB52"
          ],
          "font": {
           "color": "#2a3f5f"
          },
          "geo": {
           "bgcolor": "white",
           "lakecolor": "white",
           "landcolor": "#E5ECF6",
           "showlakes": true,
           "showland": true,
           "subunitcolor": "white"
          },
          "hoverlabel": {
           "align": "left"
          },
          "hovermode": "closest",
          "mapbox": {
           "style": "light"
          },
          "paper_bgcolor": "white",
          "plot_bgcolor": "#E5ECF6",
          "polar": {
           "angularaxis": {
            "gridcolor": "white",
            "linecolor": "white",
            "ticks": ""
           },
           "bgcolor": "#E5ECF6",
           "radialaxis": {
            "gridcolor": "white",
            "linecolor": "white",
            "ticks": ""
           }
          },
          "scene": {
           "xaxis": {
            "backgroundcolor": "#E5ECF6",
            "gridcolor": "white",
            "gridwidth": 2,
            "linecolor": "white",
            "showbackground": true,
            "ticks": "",
            "zerolinecolor": "white"
           },
           "yaxis": {
            "backgroundcolor": "#E5ECF6",
            "gridcolor": "white",
            "gridwidth": 2,
            "linecolor": "white",
            "showbackground": true,
            "ticks": "",
            "zerolinecolor": "white"
           },
           "zaxis": {
            "backgroundcolor": "#E5ECF6",
            "gridcolor": "white",
            "gridwidth": 2,
            "linecolor": "white",
            "showbackground": true,
            "ticks": "",
            "zerolinecolor": "white"
           }
          },
          "shapedefaults": {
           "line": {
            "color": "#2a3f5f"
           }
          },
          "ternary": {
           "aaxis": {
            "gridcolor": "white",
            "linecolor": "white",
            "ticks": ""
           },
           "baxis": {
            "gridcolor": "white",
            "linecolor": "white",
            "ticks": ""
           },
           "bgcolor": "#E5ECF6",
           "caxis": {
            "gridcolor": "white",
            "linecolor": "white",
            "ticks": ""
           }
          },
          "title": {
           "x": 0.05
          },
          "xaxis": {
           "automargin": true,
           "gridcolor": "white",
           "linecolor": "white",
           "ticks": "",
           "title": {
            "standoff": 15
           },
           "zerolinecolor": "white",
           "zerolinewidth": 2
          },
          "yaxis": {
           "automargin": true,
           "gridcolor": "white",
           "linecolor": "white",
           "ticks": "",
           "title": {
            "standoff": 15
           },
           "zerolinecolor": "white",
           "zerolinewidth": 2
          }
         }
        },
        "title": {
         "text": "Coffee region of origin vs coffee price"
        },
        "violinmode": "group",
        "xaxis": {
         "anchor": "y",
         "categoryorder": "mean ascending",
         "domain": [
          0,
          1
         ],
         "title": {
          "text": "region_of_origin"
         },
         "type": "category"
        },
        "yaxis": {
         "anchor": "x",
         "domain": [
          0,
          1
         ],
         "title": {
          "text": "price_per_kg"
         }
        }
       }
      }
     },
     "metadata": {}
    }
   ],
   "source": [
    "region_fig = px.violin(coffee_df, x='region_of_origin', y='price_per_kg', box=True, points=\"all\", title=\"Coffee region of origin vs coffee price\")\n",
    "region_fig.update_layout(xaxis_type=\"category\", xaxis={'categoryorder':'mean ascending'})"
   ]
  },
  {
   "source": [
    "## Train-val-test split"
   ],
   "cell_type": "markdown",
   "metadata": {}
  },
  {
   "cell_type": "code",
   "execution_count": 330,
   "metadata": {},
   "outputs": [],
   "source": [
    "X_df = coffee_df.drop('price_per_kg', axis=1) #defining predictors\n",
    "y_df = coffee_df['price_per_kg'] #defining target variable"
   ]
  },
  {
   "cell_type": "code",
   "execution_count": 331,
   "metadata": {},
   "outputs": [],
   "source": [
    "X_train, X_test, y_train, y_test = train_test_split(X_df, y_df, test_size=0.1, random_state=True) #using random state to ensure I always have random division with the same random numbers"
   ]
  },
  {
   "cell_type": "code",
   "execution_count": 332,
   "metadata": {},
   "outputs": [
    {
     "output_type": "execute_result",
     "data": {
      "text/plain": [
       "     price_per_kg                          process  \\\n",
       "837          39.2                          Natural   \n",
       "697          24.0                          Natural   \n",
       "96           44.0                           Washed   \n",
       "677          20.8                           Washed   \n",
       "823          23.8  Semi-Washed Kombucha Experiment   \n",
       "\n",
       "                         brewing_method   roast  grind           origin  \\\n",
       "837                            espresso  medium  beans          Etiopia   \n",
       "697                            espresso  medium  beans         Brazylia   \n",
       "96   drip (alternative brewing methods)   light  beans           Rwanda   \n",
       "677                            espresso  medium  beans  Peru, Gwatemala   \n",
       "823                            espresso    dark  beans  Brazylia, Indie   \n",
       "\n",
       "     percentage_of_arabica  pure_arabica  \\\n",
       "837                    100          True   \n",
       "697                    100          True   \n",
       "96                     100          True   \n",
       "677                    100          True   \n",
       "823                    100          True   \n",
       "\n",
       "                                   roast_brew  Washed  Natural  \\\n",
       "837                           medium_espresso   False     True   \n",
       "697                           medium_espresso   False     True   \n",
       "96   light_drip (alternative brewing methods)    True    False   \n",
       "677                           medium_espresso    True    False   \n",
       "823                             dark_espresso    True    False   \n",
       "\n",
       "     Fermented_traditional  Fermented_closedtank process_general  \\\n",
       "837                  False                 False         Natural   \n",
       "697                  False                 False         Natural   \n",
       "96                   False                 False          Washed   \n",
       "677                  False                 False          Washed   \n",
       "823                  False                  True       Fermented   \n",
       "\n",
       "    region_of_origin  \n",
       "837           Africa  \n",
       "697            Latam  \n",
       "96            Africa  \n",
       "677            Latam  \n",
       "823            Mixed  "
      ],
      "text/html": "<div>\n<style scoped>\n    .dataframe tbody tr th:only-of-type {\n        vertical-align: middle;\n    }\n\n    .dataframe tbody tr th {\n        vertical-align: top;\n    }\n\n    .dataframe thead th {\n        text-align: right;\n    }\n</style>\n<table border=\"1\" class=\"dataframe\">\n  <thead>\n    <tr style=\"text-align: right;\">\n      <th></th>\n      <th>price_per_kg</th>\n      <th>process</th>\n      <th>brewing_method</th>\n      <th>roast</th>\n      <th>grind</th>\n      <th>origin</th>\n      <th>percentage_of_arabica</th>\n      <th>pure_arabica</th>\n      <th>roast_brew</th>\n      <th>Washed</th>\n      <th>Natural</th>\n      <th>Fermented_traditional</th>\n      <th>Fermented_closedtank</th>\n      <th>process_general</th>\n      <th>region_of_origin</th>\n    </tr>\n  </thead>\n  <tbody>\n    <tr>\n      <th>837</th>\n      <td>39.2</td>\n      <td>Natural</td>\n      <td>espresso</td>\n      <td>medium</td>\n      <td>beans</td>\n      <td>Etiopia</td>\n      <td>100</td>\n      <td>True</td>\n      <td>medium_espresso</td>\n      <td>False</td>\n      <td>True</td>\n      <td>False</td>\n      <td>False</td>\n      <td>Natural</td>\n      <td>Africa</td>\n    </tr>\n    <tr>\n      <th>697</th>\n      <td>24.0</td>\n      <td>Natural</td>\n      <td>espresso</td>\n      <td>medium</td>\n      <td>beans</td>\n      <td>Brazylia</td>\n      <td>100</td>\n      <td>True</td>\n      <td>medium_espresso</td>\n      <td>False</td>\n      <td>True</td>\n      <td>False</td>\n      <td>False</td>\n      <td>Natural</td>\n      <td>Latam</td>\n    </tr>\n    <tr>\n      <th>96</th>\n      <td>44.0</td>\n      <td>Washed</td>\n      <td>drip (alternative brewing methods)</td>\n      <td>light</td>\n      <td>beans</td>\n      <td>Rwanda</td>\n      <td>100</td>\n      <td>True</td>\n      <td>light_drip (alternative brewing methods)</td>\n      <td>True</td>\n      <td>False</td>\n      <td>False</td>\n      <td>False</td>\n      <td>Washed</td>\n      <td>Africa</td>\n    </tr>\n    <tr>\n      <th>677</th>\n      <td>20.8</td>\n      <td>Washed</td>\n      <td>espresso</td>\n      <td>medium</td>\n      <td>beans</td>\n      <td>Peru, Gwatemala</td>\n      <td>100</td>\n      <td>True</td>\n      <td>medium_espresso</td>\n      <td>True</td>\n      <td>False</td>\n      <td>False</td>\n      <td>False</td>\n      <td>Washed</td>\n      <td>Latam</td>\n    </tr>\n    <tr>\n      <th>823</th>\n      <td>23.8</td>\n      <td>Semi-Washed Kombucha Experiment</td>\n      <td>espresso</td>\n      <td>dark</td>\n      <td>beans</td>\n      <td>Brazylia, Indie</td>\n      <td>100</td>\n      <td>True</td>\n      <td>dark_espresso</td>\n      <td>True</td>\n      <td>False</td>\n      <td>False</td>\n      <td>True</td>\n      <td>Fermented</td>\n      <td>Mixed</td>\n    </tr>\n  </tbody>\n</table>\n</div>"
     },
     "metadata": {},
     "execution_count": 332
    }
   ],
   "source": [
    "train_df = pd.concat([y_train, X_train], axis=1)\n",
    "train_df.head()"
   ]
  },
  {
   "source": [
    "## Initial stats modelling"
   ],
   "cell_type": "markdown",
   "metadata": {}
  },
  {
   "source": [
    "## Forward stepwise selection\n",
    "1. Begins with a model that contains no variables (called the Null Model)\n",
    "2. Then starts adding the most significant variables one after the other\n",
    "3. Until a pre-specified stopping rule is reached or until all the variables under consideration are included in the model"
   ],
   "cell_type": "markdown",
   "metadata": {}
  },
  {
   "source": [
    "Steps:\n",
    "* determine the most significant variables:\n",
    "    - has the smallest p-value\n",
    "    - provides the highest increase in R^2\n",
    "    - provides the highest drop in modell RSS (Residuals Sum of Squares)\n",
    "* choose a stopping rule"
   ],
   "cell_type": "markdown",
   "metadata": {}
  },
  {
   "cell_type": "code",
   "execution_count": 333,
   "metadata": {},
   "outputs": [
    {
     "output_type": "stream",
     "name": "stdout",
     "text": [
      "                            OLS Regression Results                            \n==============================================================================\nDep. Variable:           price_per_kg   R-squared:                      -0.000\nModel:                            OLS   Adj. R-squared:                 -0.000\nMethod:                 Least Squares   F-statistic:                       nan\nDate:                Mon, 31 May 2021   Prob (F-statistic):                nan\nTime:                        21:53:41   Log-Likelihood:                -3168.0\nNo. Observations:                 753   AIC:                             6338.\nDf Residuals:                     752   BIC:                             6343.\nDf Model:                           0                                         \nCovariance Type:            nonrobust                                         \n==============================================================================\n                 coef    std err          t      P>|t|      [0.025      0.975]\n------------------------------------------------------------------------------\nIntercept     34.5084      0.593     58.224      0.000      33.345      35.672\n==============================================================================\nOmnibus:                      107.962   Durbin-Watson:                   1.980\nProb(Omnibus):                  0.000   Jarque-Bera (JB):              162.500\nSkew:                           0.972   Prob(JB):                     5.17e-36\nKurtosis:                       4.182   Cond. No.                         1.00\n==============================================================================\n\nNotes:\n[1] Standard Errors assume that the covariance matrix of the errors is correctly specified.\n"
     ]
    }
   ],
   "source": [
    "model_0 = smf.ols(formula=\"price_per_kg ~ 1\", data=train_df).fit() # the initial model with no variables\n",
    "print(model_0.summary())"
   ]
  },
  {
   "cell_type": "code",
   "execution_count": 334,
   "metadata": {},
   "outputs": [
    {
     "output_type": "execute_result",
     "data": {
      "text/plain": [
       "198914.01561938913"
      ]
     },
     "metadata": {},
     "execution_count": 334
    }
   ],
   "source": [
    "model_0.ssr # sum in squares for the original model"
   ]
  },
  {
   "cell_type": "code",
   "execution_count": 335,
   "metadata": {},
   "outputs": [
    {
     "output_type": "stream",
     "name": "stdout",
     "text": [
      "                            OLS Regression Results                            \n==============================================================================\nDep. Variable:           price_per_kg   R-squared:                       0.205\nModel:                            OLS   Adj. R-squared:                  0.179\nMethod:                 Least Squares   F-statistic:                     7.829\nDate:                Mon, 31 May 2021   Prob (F-statistic):           6.91e-24\nTime:                        21:53:48   Log-Likelihood:                -3081.6\nNo. Observations:                 753   AIC:                             6213.\nDf Residuals:                     728   BIC:                             6329.\nDf Model:                          24                                         \nCovariance Type:            nonrobust                                         \n=================================================================================================================\n                                                    coef    std err          t      P>|t|      [0.025      0.975]\n-----------------------------------------------------------------------------------------------------------------\nIntercept                                        44.0000     10.421      4.222      0.000      23.542      64.458\nC(process)[T.Anaerobic]                          10.6545     11.328      0.941      0.347     -11.586      32.895\nC(process)[T.Anaerobic natural]                   1.6933     13.453      0.126      0.900     -24.718      28.105\nC(process)[T.CRYO]                               29.0000     18.049      1.607      0.109      -6.435      64.435\nC(process)[T.Carbonic Maceration]                31.2000     14.737      2.117      0.035       2.268      60.132\nC(process)[T.Closed Tank Fermentation]           18.0000     18.049      0.997      0.319     -17.435      53.435\nC(process)[T.Experimental]                      -14.4000     18.049     -0.798      0.425     -49.835      21.035\nC(process)[T.Experimental Anaerobic]              8.0000     18.049      0.443      0.658     -27.435      43.435\nC(process)[T.Fermentacja kontrolowana]           -4.0000     18.049     -0.222      0.825     -39.435      31.435\nC(process)[T.Honey]                              -1.4015     10.732     -0.131      0.896     -22.471      19.667\nC(process)[T.Macerated Natural]                  11.2975     12.763      0.885      0.376     -13.759      36.354\nC(process)[T.Monsooning]                         -0.7700     12.763     -0.060      0.952     -25.826      24.286\nC(process)[T.Natural]                           -11.2292     10.464     -1.073      0.284     -31.772       9.314\nC(process)[T.Pulped natural]                    -21.7579     10.636     -2.046      0.041     -42.638      -0.878\nC(process)[T.Rum Aged]                          -18.6987     10.846     -1.724      0.085     -39.992       2.595\nC(process)[T.Semi-Carbonic Maceration]          -15.9925     11.053     -1.447      0.148     -37.692       5.707\nC(process)[T.Semi-Washed Kombucha Experiment]   -22.0293     10.650     -2.069      0.039     -42.937      -1.121\nC(process)[T.Semi-washed]                        -0.1900     11.053     -0.017      0.986     -21.889      21.509\nC(process)[T.Washed]                             -6.8767     10.457     -0.658      0.511     -27.406      13.652\nC(process)[T.Washed Anaerobic]                    6.8000     14.737      0.461      0.645     -22.132      35.732\nC(process)[T.Washed Double Anaerobic]            46.0000     18.049      2.549      0.011      10.565      81.435\nC(process)[T.Washed and natural]                 -2.2800     12.330     -0.185      0.853     -26.486      21.926\nC(process)[T.Washed, Barrel Aged]                 7.2000     18.049      0.399      0.690     -28.235      42.635\nC(process)[T.Yeast Process]                       8.0000     18.049      0.443      0.658     -27.435      43.435\nC(process)[T.Yellow Bourbon]                      2.4000     18.049      0.133      0.894     -33.035      37.835\n==============================================================================\nOmnibus:                      143.045   Durbin-Watson:                   1.952\nProb(Omnibus):                  0.000   Jarque-Bera (JB):              285.051\nSkew:                           1.080   Prob(JB):                     1.26e-62\nKurtosis:                       5.102   Cond. No.                         112.\n==============================================================================\n\nNotes:\n[1] Standard Errors assume that the covariance matrix of the errors is correctly specified.\n"
     ]
    },
    {
     "output_type": "execute_result",
     "data": {
      "text/plain": [
       "158107.86030682793"
      ]
     },
     "metadata": {},
     "execution_count": 335
    }
   ],
   "source": [
    "# process - not such a good variable, high granularity and high pvalues\n",
    "process_model = smf.ols(formula=\"price_per_kg ~ C(process)\", data=train_df).fit()\n",
    "print(process_model.summary())\n",
    "process_model.ssr"
   ]
  },
  {
   "cell_type": "code",
   "execution_count": 336,
   "metadata": {},
   "outputs": [
    {
     "output_type": "stream",
     "name": "stdout",
     "text": [
      "                            OLS Regression Results                            \n==============================================================================\nDep. Variable:           price_per_kg   R-squared:                       0.432\nModel:                            OLS   Adj. R-squared:                  0.426\nMethod:                 Least Squares   F-statistic:                     70.70\nDate:                Mon, 31 May 2021   Prob (F-statistic):           3.16e-86\nTime:                        21:53:52   Log-Likelihood:                -2955.1\nNo. Observations:                 753   AIC:                             5928.\nDf Residuals:                     744   BIC:                             5970.\nDf Model:                           8                                         \nCovariance Type:            nonrobust                                         \n==============================================================================================================================\n                                                                 coef    std err          t      P>|t|      [0.025      0.975]\n------------------------------------------------------------------------------------------------------------------------------\nIntercept                                                     35.2000     12.324      2.856      0.004      11.005      59.395\nC(roast_brew)[T.dark_drip, espresso]                          -5.4200     15.094     -0.359      0.720     -35.052      24.212\nC(roast_brew)[T.dark_espresso]                               -13.8511     12.361     -1.121      0.263     -38.118      10.415\nC(roast_brew)[T.light_drip (alternative brewing methods)]     10.0406     12.343      0.813      0.416     -14.191      34.273\nC(roast_brew)[T.light_drip, espresso]                          6.1675     13.072      0.472      0.637     -19.495      31.830\nC(roast_brew)[T.light_espresso]                                9.3000     15.094      0.616      0.538     -20.332      38.932\nC(roast_brew)[T.medium_drip (alternative brewing methods)]    -5.2650     13.072     -0.403      0.687     -30.927      20.397\nC(roast_brew)[T.medium_drip, espresso]                         6.7857     12.434      0.546      0.585     -17.624      31.195\nC(roast_brew)[T.medium_espresso]                              -9.9019     12.358     -0.801      0.423     -34.162      14.358\n==============================================================================\nOmnibus:                      214.973   Durbin-Watson:                   2.056\nProb(Omnibus):                  0.000   Jarque-Bera (JB):              657.827\nSkew:                           1.385   Prob(JB):                    1.43e-143\nKurtosis:                       6.646   Cond. No.                         95.2\n==============================================================================\n\nNotes:\n[1] Standard Errors assume that the covariance matrix of the errors is correctly specified.\n"
     ]
    },
    {
     "output_type": "execute_result",
     "data": {
      "text/plain": [
       "113005.03734407586"
      ]
     },
     "metadata": {},
     "execution_count": 336
    }
   ],
   "source": [
    "# roast_brew - higher p-value -> not such a good variable\n",
    "roast_brew_model = smf.ols(formula=\"price_per_kg ~ C(roast_brew)\", data=train_df).fit()\n",
    "print(roast_brew_model.summary())\n",
    "roast_brew_model.ssr"
   ]
  },
  {
   "cell_type": "code",
   "execution_count": 248,
   "metadata": {},
   "outputs": [
    {
     "output_type": "execute_result",
     "data": {
      "text/plain": [
       "348018.5580086071"
      ]
     },
     "metadata": {},
     "execution_count": 248
    }
   ],
   "source": [
    "process_general_model.ssr"
   ]
  },
  {
   "cell_type": "code",
   "execution_count": 345,
   "metadata": {},
   "outputs": [
    {
     "output_type": "stream",
     "name": "stdout",
     "text": [
      "                            OLS Regression Results                            \n==============================================================================\nDep. Variable:           price_per_kg   R-squared:                       0.000\nModel:                            OLS   Adj. R-squared:                 -0.001\nMethod:                 Least Squares   F-statistic:                    0.3679\nDate:                Mon, 31 May 2021   Prob (F-statistic):              0.544\nTime:                        21:55:01   Log-Likelihood:                -3167.9\nNo. Observations:                 753   AIC:                             6340.\nDf Residuals:                     751   BIC:                             6349.\nDf Model:                           1                                         \nCovariance Type:            nonrobust                                         \n===================================================================================================\n                                      coef    std err          t      P>|t|      [0.025      0.975]\n---------------------------------------------------------------------------------------------------\nIntercept                          34.6208      0.621     55.731      0.000      33.401      35.840\nC(Fermented_closedtank)[T.True]    -1.2632      2.083     -0.607      0.544      -5.352       2.825\n==============================================================================\nOmnibus:                      110.533   Durbin-Watson:                   1.980\nProb(Omnibus):                  0.000   Jarque-Bera (JB):              168.502\nSkew:                           0.985   Prob(JB):                     2.57e-37\nKurtosis:                       4.222   Cond. No.                         3.54\n==============================================================================\n\nNotes:\n[1] Standard Errors assume that the covariance matrix of the errors is correctly specified.\n"
     ]
    },
    {
     "output_type": "execute_result",
     "data": {
      "text/plain": [
       "198816.61736076756"
      ]
     },
     "metadata": {},
     "execution_count": 345
    }
   ],
   "source": [
    "# Fermented_closedtank - low p-value -> not a good variable AND low r-squared\n",
    "Fermented_closedtank_model = smf.ols(formula=\"price_per_kg ~ C(Fermented_closedtank)\", data=train_df).fit()\n",
    "print(Fermented_closedtank_model.summary())\n",
    "Fermented_closedtank_model.ssr"
   ]
  },
  {
   "cell_type": "code",
   "execution_count": 347,
   "metadata": {},
   "outputs": [
    {
     "output_type": "stream",
     "name": "stdout",
     "text": [
      "                            OLS Regression Results                            \n==============================================================================\nDep. Variable:           price_per_kg   R-squared:                       0.073\nModel:                            OLS   Adj. R-squared:                  0.063\nMethod:                 Least Squares   F-statistic:                     7.271\nDate:                Mon, 31 May 2021   Prob (F-statistic):           2.54e-09\nTime:                        21:55:50   Log-Likelihood:                -3139.7\nNo. Observations:                 753   AIC:                             6297.\nDf Residuals:                     744   BIC:                             6339.\nDf Model:                           8                                         \nCovariance Type:            nonrobust                                         \n======================================================================================================\n                                         coef    std err          t      P>|t|      [0.025      0.975]\n------------------------------------------------------------------------------------------------------\nIntercept                             73.0000     15.747      4.636      0.000      42.086     103.914\nC(process_general)[T.Experimental]   -43.4000     22.270     -1.949      0.052     -87.119       0.319\nC(process_general)[T.Fermented]      -40.7836     15.815     -2.579      0.010     -71.831      -9.737\nC(process_general)[T.Honey]          -30.4015     15.984     -1.902      0.058     -61.780       0.977\nC(process_general)[T.Hybrid]         -48.9204     15.895     -3.078      0.002     -80.125     -17.716\nC(process_general)[T.Monsooning]     -29.7700     17.606     -1.691      0.091     -64.333       4.793\nC(process_general)[T.Natural]        -40.2292     15.780     -2.549      0.011     -71.207      -9.251\nC(process_general)[T.Semi-washed]    -29.1900     16.232     -1.798      0.073     -61.055       2.675\nC(process_general)[T.Washed]         -35.8767     15.774     -2.274      0.023     -66.844      -4.909\n==============================================================================\nOmnibus:                      128.173   Durbin-Watson:                   1.983\nProb(Omnibus):                  0.000   Jarque-Bera (JB):              216.282\nSkew:                           1.059   Prob(JB):                     1.08e-47\nKurtosis:                       4.553   Cond. No.                         94.5\n==============================================================================\n\nNotes:\n[1] Standard Errors assume that the covariance matrix of the errors is correctly specified.\n"
     ]
    },
    {
     "output_type": "execute_result",
     "data": {
      "text/plain": [
       "184489.34473003048"
      ]
     },
     "metadata": {},
     "execution_count": 347
    }
   ],
   "source": [
    "# process_general - low p-value -> not such a good good variable\n",
    "process_general_model = smf.ols(formula=\"price_per_kg ~ C(process_general)\", data=train_df).fit()\n",
    "print(process_general_model.summary())\n",
    "process_general_model.ssr"
   ]
  },
  {
   "cell_type": "code",
   "execution_count": 337,
   "metadata": {},
   "outputs": [
    {
     "output_type": "stream",
     "name": "stdout",
     "text": [
      "                            OLS Regression Results                            \n==============================================================================\nDep. Variable:           price_per_kg   R-squared:                       0.102\nModel:                            OLS   Adj. R-squared:                  0.101\nMethod:                 Least Squares   F-statistic:                     85.69\nDate:                Mon, 31 May 2021   Prob (F-statistic):           2.16e-19\nTime:                        21:54:03   Log-Likelihood:                -3127.4\nNo. Observations:                 753   AIC:                             6259.\nDf Residuals:                     751   BIC:                             6268.\nDf Model:                           1                                         \nCovariance Type:            nonrobust                                         \n=========================================================================================\n                            coef    std err          t      P>|t|      [0.025      0.975]\n-----------------------------------------------------------------------------------------\nIntercept                 3.1681      3.432      0.923      0.356      -3.569       9.906\npercentage_of_arabica     0.3306      0.036      9.257      0.000       0.260       0.401\n==============================================================================\nOmnibus:                      147.580   Durbin-Watson:                   2.022\nProb(Omnibus):                  0.000   Jarque-Bera (JB):              265.803\nSkew:                           1.169   Prob(JB):                     1.91e-58\nKurtosis:                       4.734   Cond. No.                         587.\n==============================================================================\n\nNotes:\n[1] Standard Errors assume that the covariance matrix of the errors is correctly specified.\n"
     ]
    },
    {
     "output_type": "execute_result",
     "data": {
      "text/plain": [
       "178542.98170310314"
      ]
     },
     "metadata": {},
     "execution_count": 337
    }
   ],
   "source": [
    "# percentage_of_arabica -> very high p-value, not a good variable!\n",
    "percentage_of_arabica_model = smf.ols(formula=\"price_per_kg ~ percentage_of_arabica\", data=train_df).fit()\n",
    "print(percentage_of_arabica_model.summary())\n",
    "percentage_of_arabica_model.ssr"
   ]
  },
  {
   "cell_type": "code",
   "execution_count": 348,
   "metadata": {},
   "outputs": [
    {
     "output_type": "stream",
     "name": "stdout",
     "text": [
      "                            OLS Regression Results                            \n==============================================================================\nDep. Variable:           price_per_kg   R-squared:                       0.363\nModel:                            OLS   Adj. R-squared:                  0.314\nMethod:                 Least Squares   F-statistic:                     7.507\nDate:                Mon, 31 May 2021   Prob (F-statistic):           6.51e-41\nTime:                        21:56:16   Log-Likelihood:                -2998.4\nNo. Observations:                 753   AIC:                             6105.\nDf Residuals:                     699   BIC:                             6355.\nDf Model:                          53                                         \nCovariance Type:            nonrobust                                         \n===============================================================================================================\n                                                  coef    std err          t      P>|t|      [0.025      0.975]\n---------------------------------------------------------------------------------------------------------------\nIntercept                                      51.4900      6.733      7.647      0.000      38.270      64.710\nC(origin)[T.Brazylia]                         -21.8616      6.871     -3.182      0.002     -35.351      -8.372\nC(origin)[T.Brazylia, Burundi, Peru]          -19.4900     15.056     -1.294      0.196     -49.051      10.071\nC(origin)[T.Brazylia, Etiopia]                -22.8900     10.285     -2.226      0.026     -43.084      -2.696\nC(origin)[T.Brazylia, Gwatemala]              -28.2567      8.693     -3.251      0.001     -45.324     -11.190\nC(origin)[T.Brazylia, Gwatemala, Etiopia]     -28.7750      9.522     -3.022      0.003     -47.471     -10.079\nC(origin)[T.Brazylia, Gwatemala, Kostaryka]   -13.8900     15.056     -0.923      0.357     -43.451      15.671\nC(origin)[T.Brazylia, Honduras]               -30.3400      9.522     -3.186      0.002     -49.036     -11.644\nC(origin)[T.Brazylia, Indie]                  -29.2513      7.155     -4.088      0.000     -43.298     -15.204\nC(origin)[T.Brazylia, Kenia]                  -19.6900     15.056     -1.308      0.191     -49.251       9.871\nC(origin)[T.Brazylia, Kolumbia]               -27.6100      9.522     -2.899      0.004     -46.306      -8.914\nC(origin)[T.Brazylia, Kostaryka, Nikaragua]   -16.7900     11.662     -1.440      0.150     -39.688       6.108\nC(origin)[T.Brazylia, Peru]                   -24.2900     15.056     -1.613      0.107     -53.851       5.271\nC(origin)[T.Brazylia, Peru, Wietnam]          -32.4900      7.320     -4.439      0.000     -46.862     -18.118\nC(origin)[T.Brazylia, Tanzania]               -29.8590      7.155     -4.173      0.000     -43.906     -15.812\nC(origin)[T.Brazylia, Uganda]                 -28.4900     11.662     -2.443      0.015     -51.388      -5.592\nC(origin)[T.Brazylia, inne]                   -28.8233     10.285     -2.802      0.005     -49.017      -8.630\nC(origin)[T.Burundi]                           -3.2614      7.635     -0.427      0.669     -18.251      11.729\nC(origin)[T.Chiny]                            -12.0233     10.285     -1.169      0.243     -32.217       8.170\nC(origin)[T.Demokratyczna Republika Konga]    -25.6650      8.247     -3.112      0.002     -41.856      -9.474\nC(origin)[T.Etiopia]                           -8.9526      6.915     -1.295      0.196     -22.530       4.625\nC(origin)[T.Etiopia, Brazylia]                -32.9089      7.408     -4.442      0.000     -47.454     -18.364\nC(origin)[T.Etiopia, Brazylia, Kolumbia]      -32.7900      9.522     -3.443      0.001     -51.486     -14.094\nC(origin)[T.Etiopia, Gwatemala]               -27.6550      9.522     -2.904      0.004     -46.351      -8.959\nC(origin)[T.Etiopia, Kolumbia]                -34.2180      9.034     -3.788      0.000     -51.954     -16.482\nC(origin)[T.Gwatemala]                        -15.5476      6.978     -2.228      0.026     -29.248      -1.847\nC(origin)[T.Honduras]                          -6.3404      7.252     -0.874      0.382     -20.579       7.898\nC(origin)[T.Honduras, Kolumbia, Peru]         -29.5425      8.247     -3.582      0.000     -45.734     -13.351\nC(origin)[T.Indie]                            -12.3433     10.285     -1.200      0.231     -32.537       7.850\nC(origin)[T.Indonezja]                        -16.6283      7.775     -2.139      0.033     -31.893      -1.363\nC(origin)[T.Italy]                            -29.8140      9.034     -3.300      0.001     -47.550     -12.078\nC(origin)[T.Kenia]                            -11.3706      7.098     -1.602      0.110     -25.306       2.565\nC(origin)[T.Kenia, Indie]                     -30.4167      8.693     -3.499      0.000     -47.484     -13.350\nC(origin)[T.Kolumbia]                          -3.2436      6.941     -0.467      0.640     -16.870      10.383\nC(origin)[T.Kostaryka]                         -6.5161      7.444     -0.875      0.382     -21.131       8.099\nC(origin)[T.Laos]                             -20.7260      9.034     -2.294      0.022     -38.462      -2.990\nC(origin)[T.Malawi]                             2.9100     15.056      0.193      0.847     -26.651      32.471\nC(origin)[T.Meksyk]                           -10.5186      8.441     -1.246      0.213     -27.091       6.054\nC(origin)[T.Mjanma]                           -13.0900     11.662     -1.122      0.262     -35.988       9.808\nC(origin)[T.Nikaragua]                         -8.5700      8.247     -1.039      0.299     -24.761       7.621\nC(origin)[T.Panama]                           -26.2279      7.047     -3.722      0.000     -40.063     -12.393\nC(origin)[T.Papua Nowa Gwinea]                -12.6900     11.662     -1.088      0.277     -35.588      10.208\nC(origin)[T.Papua Nowa Gwinea, Rwanda]        -22.6900     15.056     -1.507      0.132     -52.251       6.871\nC(origin)[T.Peru]                             -15.4961      7.295     -2.124      0.034     -29.820      -1.173\nC(origin)[T.Peru, Etiopia]                    -19.8900     15.056     -1.321      0.187     -49.451       9.671\nC(origin)[T.Peru, Gwatemala]                  -33.4129      8.441     -3.959      0.000     -49.985     -16.841\nC(origin)[T.Rwanda]                            -9.3839      7.098     -1.322      0.187     -23.319       4.551\nC(origin)[T.Rwanda, inne]                     -24.4900     15.056     -1.627      0.104     -54.051       5.071\nC(origin)[T.Salwador]                          -5.4200      7.198     -0.753      0.452     -19.553       8.713\nC(origin)[T.Salwador, Indie]                  -27.1300     11.662     -2.326      0.020     -50.028      -4.232\nC(origin)[T.Salwador, Nikaragua]              -13.8900     15.056     -0.923      0.357     -43.451      15.671\nC(origin)[T.Sumatra]                          -19.8900     15.056     -1.321      0.187     -49.451       9.671\nC(origin)[T.Tanzania]                         -20.2900     15.056     -1.348      0.178     -49.851       9.271\nC(origin)[T.Uganda]                           -18.8367      8.693     -2.167      0.031     -35.904      -1.770\n==============================================================================\nOmnibus:                      198.084   Durbin-Watson:                   1.862\nProb(Omnibus):                  0.000   Jarque-Bera (JB):              608.415\nSkew:                           1.271   Prob(JB):                    7.66e-133\nKurtosis:                       6.596   Cond. No.                         105.\n==============================================================================\n\nNotes:\n[1] Standard Errors assume that the covariance matrix of the errors is correctly specified.\n"
     ]
    },
    {
     "output_type": "execute_result",
     "data": {
      "text/plain": [
       "126764.0238601965"
      ]
     },
     "metadata": {},
     "execution_count": 348
    }
   ],
   "source": [
    "# origin   - low p-value -> potentially good variable, BUT it has high granularuty\n",
    "origin_model = smf.ols(formula=\"price_per_kg ~ C(origin)\", data=train_df).fit()\n",
    "print(origin_model.summary())\n",
    "origin_model.ssr"
   ]
  },
  {
   "cell_type": "code",
   "execution_count": 349,
   "metadata": {},
   "outputs": [
    {
     "output_type": "stream",
     "name": "stdout",
     "text": [
      "                            OLS Regression Results                            \n==============================================================================\nDep. Variable:           price_per_kg   R-squared:                       0.001\nModel:                            OLS   Adj. R-squared:                 -0.001\nMethod:                 Least Squares   F-statistic:                    0.5793\nDate:                Mon, 31 May 2021   Prob (F-statistic):              0.447\nTime:                        21:56:21   Log-Likelihood:                -3167.7\nNo. Observations:                 753   AIC:                             6339.\nDf Residuals:                     751   BIC:                             6349.\nDf Model:                           1                                         \nCovariance Type:            nonrobust                                         \n=====================================================================================\n                        coef    std err          t      P>|t|      [0.025      0.975]\n-------------------------------------------------------------------------------------\nIntercept            33.9749      0.918     37.006      0.000      32.173      35.777\nC(Washed)[T.True]     0.9152      1.202      0.761      0.447      -1.445       3.276\n==============================================================================\nOmnibus:                      109.713   Durbin-Watson:                   1.980\nProb(Omnibus):                  0.000   Jarque-Bera (JB):              166.100\nSkew:                           0.983   Prob(JB):                     8.55e-37\nKurtosis:                       4.196   Cond. No.                         2.86\n==============================================================================\n\nNotes:\n[1] Standard Errors assume that the covariance matrix of the errors is correctly specified.\n"
     ]
    },
    {
     "output_type": "execute_result",
     "data": {
      "text/plain": [
       "198760.6932439933"
      ]
     },
     "metadata": {},
     "execution_count": 349
    }
   ],
   "source": [
    "# Washed - low p-value -> potentially good variable BUT low r-squared\n",
    "Washed_model = smf.ols(formula=\"price_per_kg ~ C(Washed)\", data=train_df).fit()\n",
    "print(Washed_model.summary())\n",
    "Washed_model.ssr"
   ]
  },
  {
   "cell_type": "code",
   "execution_count": 351,
   "metadata": {},
   "outputs": [
    {
     "output_type": "stream",
     "name": "stdout",
     "text": [
      "                            OLS Regression Results                            \n==============================================================================\nDep. Variable:           price_per_kg   R-squared:                       0.010\nModel:                            OLS   Adj. R-squared:                  0.009\nMethod:                 Least Squares   F-statistic:                     7.937\nDate:                Mon, 31 May 2021   Prob (F-statistic):            0.00497\nTime:                        21:56:30   Log-Likelihood:                -3164.1\nNo. Observations:                 753   AIC:                             6332.\nDf Residuals:                     751   BIC:                             6341.\nDf Model:                           1                                         \nCovariance Type:            nonrobust                                         \n======================================================================================\n                         coef    std err          t      P>|t|      [0.025      0.975]\n--------------------------------------------------------------------------------------\nIntercept             35.0019      0.615     56.874      0.000      33.794      36.210\nC(grind)[T.ground]    -6.0916      2.162     -2.817      0.005     -10.336      -1.847\n==============================================================================\nOmnibus:                      131.290   Durbin-Watson:                   1.976\nProb(Omnibus):                  0.000   Jarque-Bera (JB):              223.730\nSkew:                           1.077   Prob(JB):                     2.62e-49\nKurtosis:                       4.579   Cond. No.                         3.69\n==============================================================================\n\nNotes:\n[1] Standard Errors assume that the covariance matrix of the errors is correctly specified.\n"
     ]
    },
    {
     "output_type": "execute_result",
     "data": {
      "text/plain": [
       "196833.84601352934"
      ]
     },
     "metadata": {},
     "execution_count": 351
    }
   ],
   "source": [
    "# grind - low p-value -> potentially good variable BUT low r-squared\n",
    "grind_model = smf.ols(formula=\"price_per_kg ~ C(grind)\", data=train_df).fit()\n",
    "print(grind_model.summary())\n",
    "grind_model.ssr"
   ]
  },
  {
   "cell_type": "code",
   "execution_count": 352,
   "metadata": {},
   "outputs": [
    {
     "output_type": "stream",
     "name": "stdout",
     "text": [
      "                            OLS Regression Results                            \n==============================================================================\nDep. Variable:           price_per_kg   R-squared:                       0.143\nModel:                            OLS   Adj. R-squared:                  0.142\nMethod:                 Least Squares   F-statistic:                     125.6\nDate:                Mon, 31 May 2021   Prob (F-statistic):           4.62e-27\nTime:                        21:56:36   Log-Likelihood:                -3109.8\nNo. Observations:                 753   AIC:                             6224.\nDf Residuals:                     751   BIC:                             6233.\nDf Model:                           1                                         \nCovariance Type:            nonrobust                                         \n===========================================================================================\n                              coef    std err          t      P>|t|      [0.025      0.975]\n-------------------------------------------------------------------------------------------\nIntercept                  19.1401      1.477     12.958      0.000      16.240      22.040\nC(pure_arabica)[T.True]    17.8310      1.591     11.207      0.000      14.708      20.955\n==============================================================================\nOmnibus:                      163.700   Durbin-Watson:                   2.040\nProb(Omnibus):                  0.000   Jarque-Bera (JB):              339.820\nSkew:                           1.208   Prob(JB):                     1.62e-74\nKurtosis:                       5.235   Cond. No.                         5.20\n==============================================================================\n\nNotes:\n[1] Standard Errors assume that the covariance matrix of the errors is correctly specified.\n"
     ]
    },
    {
     "output_type": "execute_result",
     "data": {
      "text/plain": [
       "170414.55725527884"
      ]
     },
     "metadata": {},
     "execution_count": 352
    }
   ],
   "source": [
    "# pure_arabica - low p-value -> potentially good variable  BUT low r-squared\n",
    "pure_arabica_model = smf.ols(formula=\"price_per_kg ~ C(pure_arabica)\", data=train_df).fit()\n",
    "print(pure_arabica_model.summary())\n",
    "pure_arabica_model.ssr"
   ]
  },
  {
   "cell_type": "code",
   "execution_count": 353,
   "metadata": {},
   "outputs": [
    {
     "output_type": "stream",
     "name": "stdout",
     "text": [
      "                            OLS Regression Results                            \n==============================================================================\nDep. Variable:           price_per_kg   R-squared:                       0.009\nModel:                            OLS   Adj. R-squared:                  0.008\nMethod:                 Least Squares   F-statistic:                     7.085\nDate:                Mon, 31 May 2021   Prob (F-statistic):            0.00794\nTime:                        21:56:40   Log-Likelihood:                -3164.5\nNo. Observations:                 753   AIC:                             6333.\nDf Residuals:                     751   BIC:                             6342.\nDf Model:                           1                                         \nCovariance Type:            nonrobust                                         \n======================================================================================\n                         coef    std err          t      P>|t|      [0.025      0.975]\n--------------------------------------------------------------------------------------\nIntercept             35.9113      0.791     45.380      0.000      34.358      37.465\nC(Natural)[T.True]    -3.1628      1.188     -2.662      0.008      -5.495      -0.830\n==============================================================================\nOmnibus:                      106.443   Durbin-Watson:                   1.989\nProb(Omnibus):                  0.000   Jarque-Bera (JB):              157.324\nSkew:                           0.974   Prob(JB):                     6.88e-35\nKurtosis:                       4.105   Cond. No.                         2.51\n==============================================================================\n\nNotes:\n[1] Standard Errors assume that the covariance matrix of the errors is correctly specified.\n"
     ]
    },
    {
     "output_type": "execute_result",
     "data": {
      "text/plain": [
       "197054.94088519498"
      ]
     },
     "metadata": {},
     "execution_count": 353
    }
   ],
   "source": [
    "# Natural  - low p-value -> potentially good variable BUT low r-squared\n",
    "Natural_model = smf.ols(formula=\"price_per_kg ~ C(Natural)\", data=train_df).fit()\n",
    "print(Natural_model.summary())\n",
    "Natural_model.ssr"
   ]
  },
  {
   "cell_type": "code",
   "execution_count": 354,
   "metadata": {},
   "outputs": [
    {
     "output_type": "stream",
     "name": "stdout",
     "text": [
      "                            OLS Regression Results                            \n==============================================================================\nDep. Variable:           price_per_kg   R-squared:                       0.027\nModel:                            OLS   Adj. R-squared:                  0.025\nMethod:                 Least Squares   F-statistic:                     20.50\nDate:                Mon, 31 May 2021   Prob (F-statistic):           6.93e-06\nTime:                        21:56:45   Log-Likelihood:                -3157.9\nNo. Observations:                 753   AIC:                             6320.\nDf Residuals:                     751   BIC:                             6329.\nDf Model:                           1                                         \nCovariance Type:            nonrobust                                         \n====================================================================================================\n                                       coef    std err          t      P>|t|      [0.025      0.975]\n----------------------------------------------------------------------------------------------------\nIntercept                           33.7574      0.608     55.504      0.000      32.563      34.951\nC(Fermented_traditional)[T.True]    10.0979      2.230      4.528      0.000       5.720      14.476\n==============================================================================\nOmnibus:                      112.579   Durbin-Watson:                   1.972\nProb(Omnibus):                  0.000   Jarque-Bera (JB):              174.789\nSkew:                           0.988   Prob(JB):                     1.11e-38\nKurtosis:                       4.290   Cond. No.                         3.83\n==============================================================================\n\nNotes:\n[1] Standard Errors assume that the covariance matrix of the errors is correctly specified.\n"
     ]
    },
    {
     "output_type": "execute_result",
     "data": {
      "text/plain": [
       "193628.48124708954"
      ]
     },
     "metadata": {},
     "execution_count": 354
    }
   ],
   "source": [
    "# Fermented_traditional - low p-value -> potentially good variable BUT low r-squared\n",
    "Fermented_traditional_model = smf.ols(formula=\"price_per_kg ~ C(Fermented_traditional)\", data=train_df).fit()\n",
    "print(Fermented_traditional_model.summary())\n",
    "Fermented_traditional_model.ssr"
   ]
  },
  {
   "cell_type": "code",
   "execution_count": 350,
   "metadata": {},
   "outputs": [
    {
     "output_type": "stream",
     "name": "stdout",
     "text": [
      "                            OLS Regression Results                            \n==============================================================================\nDep. Variable:           price_per_kg   R-squared:                       0.409\nModel:                            OLS   Adj. R-squared:                  0.408\nMethod:                 Least Squares   F-statistic:                     260.0\nDate:                Mon, 31 May 2021   Prob (F-statistic):           1.68e-86\nTime:                        21:56:26   Log-Likelihood:                -2969.7\nNo. Observations:                 753   AIC:                             5945.\nDf Residuals:                     750   BIC:                             5959.\nDf Model:                           2                                         \nCovariance Type:            nonrobust                                         \n=======================================================================================================\n                                          coef    std err          t      P>|t|      [0.025      0.975]\n-------------------------------------------------------------------------------------------------------\nIntercept                              44.8415      0.687     65.285      0.000      43.493      46.190\nC(brewing_method)[T.drip, espresso]    -3.3006      1.687     -1.957      0.051      -6.612       0.011\nC(brewing_method)[T.espresso]         -21.3042      0.956    -22.296      0.000     -23.180     -19.428\n==============================================================================\nOmnibus:                      196.750   Durbin-Watson:                   2.072\nProb(Omnibus):                  0.000   Jarque-Bera (JB):              528.321\nSkew:                           1.317   Prob(JB):                    1.89e-115\nKurtosis:                       6.146   Cond. No.                         4.35\n==============================================================================\n\nNotes:\n[1] Standard Errors assume that the covariance matrix of the errors is correctly specified.\n"
     ]
    },
    {
     "output_type": "execute_result",
     "data": {
      "text/plain": [
       "117472.06330342843"
      ]
     },
     "metadata": {},
     "execution_count": 350
    }
   ],
   "source": [
    "# brewing_method - very low p-value but not on all, to be tested now after removing outliers\n",
    "brewing_method_model = smf.ols(formula=\"price_per_kg ~ C(brewing_method)\", data=train_df).fit()\n",
    "print(brewing_method_model.summary())\n",
    "brewing_method_model.ssr"
   ]
  },
  {
   "cell_type": "code",
   "execution_count": 355,
   "metadata": {},
   "outputs": [
    {
     "output_type": "stream",
     "name": "stdout",
     "text": [
      "                            OLS Regression Results                            \n==============================================================================\nDep. Variable:           price_per_kg   R-squared:                       0.175\nModel:                            OLS   Adj. R-squared:                  0.170\nMethod:                 Least Squares   F-statistic:                     39.59\nDate:                Mon, 31 May 2021   Prob (F-statistic):           4.25e-30\nTime:                        21:56:49   Log-Likelihood:                -3095.7\nNo. Observations:                 753   AIC:                             6201.\nDf Residuals:                     748   BIC:                             6225.\nDf Model:                           4                                         \nCovariance Type:            nonrobust                                         \n=================================================================================================\n                                    coef    std err          t      P>|t|      [0.025      0.975]\n-------------------------------------------------------------------------------------------------\nIntercept                        41.2083      1.110     37.112      0.000      39.028      43.388\nC(region_of_origin)[T.Asia]      -5.9621      3.110     -1.917      0.056     -12.068       0.144\nC(region_of_origin)[T.Europe]   -19.5323      6.718     -2.908      0.004     -32.720      -6.345\nC(region_of_origin)[T.Latam]     -4.9582      1.332     -3.722      0.000      -7.574      -2.343\nC(region_of_origin)[T.Mixed]    -20.0304      1.677    -11.945      0.000     -23.322     -16.739\n==============================================================================\nOmnibus:                      122.680   Durbin-Watson:                   1.895\nProb(Omnibus):                  0.000   Jarque-Bera (JB):              233.757\nSkew:                           0.957   Prob(JB):                     1.74e-51\nKurtosis:                       4.947   Cond. No.                         14.6\n==============================================================================\n\nNotes:\n[1] Standard Errors assume that the covariance matrix of the errors is correctly specified.\n"
     ]
    },
    {
     "output_type": "execute_result",
     "data": {
      "text/plain": [
       "164157.0998470273"
      ]
     },
     "metadata": {},
     "execution_count": 355
    }
   ],
   "source": [
    "# region_of_origin - low p-value -> potentially good variable\n",
    "region_of_origin_model = smf.ols(formula=\"price_per_kg ~ C(region_of_origin)\", data=train_df).fit()\n",
    "print(region_of_origin_model.summary())\n",
    "region_of_origin_model.ssr"
   ]
  },
  {
   "cell_type": "code",
   "execution_count": 356,
   "metadata": {},
   "outputs": [
    {
     "output_type": "stream",
     "name": "stdout",
     "text": [
      "                            OLS Regression Results                            \n==============================================================================\nDep. Variable:           price_per_kg   R-squared:                       0.369\nModel:                            OLS   Adj. R-squared:                  0.368\nMethod:                 Least Squares   F-statistic:                     219.7\nDate:                Mon, 31 May 2021   Prob (F-statistic):           7.89e-76\nTime:                        21:56:58   Log-Likelihood:                -2994.4\nNo. Observations:                 753   AIC:                             5995.\nDf Residuals:                     750   BIC:                             6009.\nDf Model:                           2                                         \nCovariance Type:            nonrobust                                         \n======================================================================================\n                         coef    std err          t      P>|t|      [0.025      0.975]\n--------------------------------------------------------------------------------------\nIntercept             21.5285      0.989     21.769      0.000      19.587      23.470\nC(roast)[T.light]     23.6146      1.217     19.410      0.000      21.226      26.003\nC(roast)[T.medium]     7.6716      1.284      5.973      0.000       5.150      10.193\n==============================================================================\nOmnibus:                      204.865   Durbin-Watson:                   2.019\nProb(Omnibus):                  0.000   Jarque-Bera (JB):              527.987\nSkew:                           1.393   Prob(JB):                    2.23e-115\nKurtosis:                       6.011   Cond. No.                         4.48\n==============================================================================\n\nNotes:\n[1] Standard Errors assume that the covariance matrix of the errors is correctly specified.\n"
     ]
    },
    {
     "output_type": "execute_result",
     "data": {
      "text/plain": [
       "125426.95277673956"
      ]
     },
     "metadata": {},
     "execution_count": 356
    }
   ],
   "source": [
    "# roast - very low p-value -> potentially good variable AND has good r-squared AND low ssr\n",
    "roast_model = smf.ols(formula=\"price_per_kg ~ C(roast)\", data=train_df).fit()\n",
    "print(roast_model.summary())\n",
    "roast_model.ssr"
   ]
  },
  {
   "cell_type": "code",
   "execution_count": 363,
   "metadata": {},
   "outputs": [
    {
     "output_type": "stream",
     "name": "stdout",
     "text": [
      "                            OLS Regression Results                            \n==============================================================================\nDep. Variable:           price_per_kg   R-squared:                       0.426\nModel:                            OLS   Adj. R-squared:                  0.422\nMethod:                 Least Squares   F-statistic:                     138.5\nDate:                Mon, 31 May 2021   Prob (F-statistic):           1.49e-88\nTime:                        21:59:53   Log-Likelihood:                -2959.3\nNo. Observations:                 753   AIC:                             5929.\nDf Residuals:                     748   BIC:                             5952.\nDf Model:                           4                                         \nCovariance Type:            nonrobust                                         \n=======================================================================================================\n                                          coef    std err          t      P>|t|      [0.025      0.975]\n-------------------------------------------------------------------------------------------------------\nIntercept                              31.9034      3.145     10.145      0.000      25.730      38.077\nC(brewing_method)[T.drip, espresso]     4.4994      3.003      1.498      0.134      -1.396      10.395\nC(brewing_method)[T.espresso]         -10.6138      3.023     -3.511      0.000     -16.549      -4.679\nC(roast)[T.light]                      13.1953      3.144      4.196      0.000       7.022      19.368\nC(roast)[T.medium]                      4.1705      1.294      3.222      0.001       1.629       6.712\n==============================================================================\nOmnibus:                      210.721   Durbin-Watson:                   2.054\nProb(Omnibus):                  0.000   Jarque-Bera (JB):              649.618\nSkew:                           1.353   Prob(JB):                    8.65e-142\nKurtosis:                       6.658   Cond. No.                         16.3\n==============================================================================\n\nNotes:\n[1] Standard Errors assume that the covariance matrix of the errors is correctly specified.\n"
     ]
    },
    {
     "output_type": "execute_result",
     "data": {
      "text/plain": [
       "114271.32317079302"
      ]
     },
     "metadata": {},
     "execution_count": 363
    }
   ],
   "source": [
    "# Adding next best variable to the model\n",
    "model_2 = smf.ols(formula=\"price_per_kg ~  C(brewing_method) + C(roast)\", data=train_df).fit()\n",
    "print(model_2.summary())\n",
    "model_2.ssr"
   ]
  },
  {
   "source": [
    "**Observations:** We see that adding region of origin to roast decreases srr of the model"
   ],
   "cell_type": "markdown",
   "metadata": {}
  },
  {
   "cell_type": "code",
   "execution_count": 362,
   "metadata": {},
   "outputs": [
    {
     "output_type": "stream",
     "name": "stdout",
     "text": [
      "                            OLS Regression Results                            \n==============================================================================\nDep. Variable:           price_per_kg   R-squared:                       0.440\nModel:                            OLS   Adj. R-squared:                  0.436\nMethod:                 Least Squares   F-statistic:                     117.2\nDate:                Mon, 31 May 2021   Prob (F-statistic):           1.74e-91\nTime:                        21:59:14   Log-Likelihood:                -2949.9\nNo. Observations:                 753   AIC:                             5912.\nDf Residuals:                     747   BIC:                             5940.\nDf Model:                           5                                         \nCovariance Type:            nonrobust                                         \n=======================================================================================================\n                                          coef    std err          t      P>|t|      [0.025      0.975]\n-------------------------------------------------------------------------------------------------------\nIntercept                              25.7120      3.419      7.521      0.000      19.001      32.423\nC(roast)[T.light]                      12.8226      3.109      4.125      0.000       6.720      18.925\nC(roast)[T.medium]                      2.0253      1.371      1.477      0.140      -0.667       4.717\nC(brewing_method)[T.drip, espresso]     6.2507      2.995      2.087      0.037       0.371      12.130\nC(brewing_method)[T.espresso]          -8.0287      3.046     -2.636      0.009     -14.009      -2.048\nC(pure_arabica)[T.True]                 6.6058      1.520      4.346      0.000       3.622       9.590\n==============================================================================\nOmnibus:                      242.583   Durbin-Watson:                   2.061\nProb(Omnibus):                  0.000   Jarque-Bera (JB):              879.218\nSkew:                           1.501   Prob(JB):                    1.20e-191\nKurtosis:                       7.361   Cond. No.                         20.3\n==============================================================================\n\nNotes:\n[1] Standard Errors assume that the covariance matrix of the errors is correctly specified.\n"
     ]
    },
    {
     "output_type": "execute_result",
     "data": {
      "text/plain": [
       "111453.17215187248"
      ]
     },
     "metadata": {},
     "execution_count": 362
    }
   ],
   "source": [
    "# Adding next best variable to the model\n",
    "model_3 = smf.ols(formula=\"price_per_kg ~ C(brewing_method) + C(roast) + C(pure_arabica)\", data=train_df).fit()\n",
    "print(model_3.summary())\n",
    "model_3.ssr # again the ssr decreased"
   ]
  },
  {
   "cell_type": "code",
   "execution_count": 364,
   "metadata": {},
   "outputs": [
    {
     "output_type": "stream",
     "name": "stdout",
     "text": [
      "                            OLS Regression Results                            \n==============================================================================\nDep. Variable:           price_per_kg   R-squared:                       0.442\nModel:                            OLS   Adj. R-squared:                  0.437\nMethod:                 Least Squares   F-statistic:                     98.40\nDate:                Mon, 31 May 2021   Prob (F-statistic):           5.01e-91\nTime:                        22:00:36   Log-Likelihood:                -2948.5\nNo. Observations:                 753   AIC:                             5911.\nDf Residuals:                     746   BIC:                             5943.\nDf Model:                           6                                         \nCovariance Type:            nonrobust                                         \n=======================================================================================================\n                                          coef    std err          t      P>|t|      [0.025      0.975]\n-------------------------------------------------------------------------------------------------------\nIntercept                              25.0236      3.439      7.275      0.000      18.271      31.776\nC(brewing_method)[T.drip, espresso]     6.2612      2.992      2.093      0.037       0.388      12.134\nC(brewing_method)[T.espresso]          -8.0621      3.043     -2.650      0.008     -14.035      -2.089\nC(roast)[T.light]                      13.3550      3.121      4.279      0.000       7.227      19.483\nC(roast)[T.medium]                      2.5759      1.409      1.828      0.068      -0.190       5.342\nC(pure_arabica)[T.True]                 6.6680      1.519      4.391      0.000       3.687       9.649\nC(grind)[T.ground]                      2.8646      1.718      1.667      0.096      -0.508       6.237\n==============================================================================\nOmnibus:                      237.791   Durbin-Watson:                   2.058\nProb(Omnibus):                  0.000   Jarque-Bera (JB):              862.625\nSkew:                           1.468   Prob(JB):                    4.82e-188\nKurtosis:                       7.344   Cond. No.                         20.4\n==============================================================================\n\nNotes:\n[1] Standard Errors assume that the covariance matrix of the errors is correctly specified.\n"
     ]
    },
    {
     "output_type": "execute_result",
     "data": {
      "text/plain": [
       "111039.32822297813"
      ]
     },
     "metadata": {},
     "execution_count": 364
    }
   ],
   "source": [
    "# Adding next best variable to the model\n",
    "model_4 = smf.ols(formula=\"price_per_kg ~ C(brewing_method) + C(roast) + C(pure_arabica) + C(grind)\", data=train_df).fit()\n",
    "print(model_4.summary())\n",
    "model_4.ssr # again the ssr decreased"
   ]
  },
  {
   "cell_type": "code",
   "execution_count": 367,
   "metadata": {},
   "outputs": [
    {
     "output_type": "stream",
     "name": "stdout",
     "text": [
      "                            OLS Regression Results                            \n==============================================================================\nDep. Variable:           price_per_kg   R-squared:                       0.461\nModel:                            OLS   Adj. R-squared:                  0.454\nMethod:                 Least Squares   F-statistic:                     63.43\nDate:                Mon, 31 May 2021   Prob (F-statistic):           1.07e-92\nTime:                        22:01:42   Log-Likelihood:                -2935.4\nNo. Observations:                 753   AIC:                             5893.\nDf Residuals:                     742   BIC:                             5944.\nDf Model:                          10                                         \nCovariance Type:            nonrobust                                         \n=======================================================================================================\n                                          coef    std err          t      P>|t|      [0.025      0.975]\n-------------------------------------------------------------------------------------------------------\nIntercept                              27.2183      3.567      7.632      0.000      20.217      34.220\nC(brewing_method)[T.drip, espresso]     5.6858      2.980      1.908      0.057      -0.164      11.535\nC(brewing_method)[T.espresso]          -7.1172      3.056     -2.329      0.020     -13.117      -1.118\nC(roast)[T.light]                      10.9499      3.132      3.496      0.001       4.801      17.099\nC(roast)[T.medium]                      0.9964      1.433      0.695      0.487      -1.816       3.809\nC(pure_arabica)[T.True]                 7.6611      1.530      5.006      0.000       4.657      10.665\nC(grind)[T.ground]                      4.6421      1.733      2.679      0.008       1.240       8.044\nC(region_of_origin)[T.Asia]            -3.4436      2.577     -1.336      0.182      -8.503       1.616\nC(region_of_origin)[T.Europe]          -2.2867      5.539     -0.413      0.680     -13.160       8.587\nC(region_of_origin)[T.Latam]           -0.9266      1.106     -0.838      0.402      -3.097       1.244\nC(region_of_origin)[T.Mixed]           -7.4292      1.610     -4.613      0.000     -10.591      -4.268\n==============================================================================\nOmnibus:                      232.572   Durbin-Watson:                   2.039\nProb(Omnibus):                  0.000   Jarque-Bera (JB):              816.435\nSkew:                           1.446   Prob(JB):                    5.17e-178\nKurtosis:                       7.202   Cond. No.                         22.5\n==============================================================================\n\nNotes:\n[1] Standard Errors assume that the covariance matrix of the errors is correctly specified.\n"
     ]
    },
    {
     "output_type": "execute_result",
     "data": {
      "text/plain": [
       "107242.58714235995"
      ]
     },
     "metadata": {},
     "execution_count": 367
    }
   ],
   "source": [
    "# Adding next best variable to the model\n",
    "model_5 = smf.ols(formula=\"price_per_kg ~ C(brewing_method) + C(roast) + C(pure_arabica) + C(grind) + C(region_of_origin)\", data=train_df).fit()\n",
    "print(model_5.summary())\n",
    "model_5.ssr # again the ssr decreased "
   ]
  },
  {
   "source": [
    "## Backward stepwise selection"
   ],
   "cell_type": "markdown",
   "metadata": {}
  },
  {
   "cell_type": "code",
   "execution_count": 376,
   "metadata": {},
   "outputs": [
    {
     "output_type": "stream",
     "name": "stdout",
     "text": [
      "                            OLS Regression Results                            \n==============================================================================\nDep. Variable:           price_per_kg   R-squared:                       0.595\nModel:                            OLS   Adj. R-squared:                  0.541\nMethod:                 Least Squares   F-statistic:                     11.08\nDate:                Mon, 31 May 2021   Prob (F-statistic):           7.25e-84\nTime:                        22:15:41   Log-Likelihood:                -2827.8\nNo. Observations:                 753   AIC:                             5834.\nDf Residuals:                     664   BIC:                             6245.\nDf Model:                          88                                         \nCovariance Type:            nonrobust                                         \n==============================================================================================================================\n                                                                 coef    std err          t      P>|t|      [0.025      0.975]\n------------------------------------------------------------------------------------------------------------------------------\nIntercept                                                     19.9947      9.775      2.045      0.041       0.801      39.188\nC(process)[T.Anaerobic]                                       -4.0533      4.107     -0.987      0.324     -12.118       4.011\nC(process)[T.Anaerobic natural]                               -8.3124      5.226     -1.591      0.112     -18.574       1.949\nC(process)[T.CRYO]                                            30.8432      9.347      3.300      0.001      12.489      49.197\nC(process)[T.Carbonic Maceration]                             16.8876      7.329      2.304      0.022       2.498      31.278\nC(process)[T.Closed Tank Fermentation]                         8.4630      9.890      0.856      0.392     -10.956      27.882\nC(process)[T.Experimental]                                    -1.3646      5.717     -0.239      0.811     -12.591       9.862\nC(process)[T.Experimental Anaerobic]                          -1.4879      9.955     -0.149      0.881     -21.035      18.059\nC(process)[T.Fermentacja kontrolowana]                        -4.1653     13.601     -0.306      0.760     -30.872      22.541\nC(process)[T.Honey]                                           -2.0708      2.204     -0.940      0.348      -6.398       2.256\nC(process)[T.Macerated Natural]                                8.6769      7.274      1.193      0.233      -5.607      22.960\nC(process)[T.Monsooning]                                       0.3816      3.567      0.107      0.915      -6.623       7.386\nC(process)[T.Natural]                                         -0.4450      1.973     -0.225      0.822      -4.320       3.430\nC(process)[T.Pulped natural]                                  -3.8007      2.649     -1.435      0.152      -9.001       1.400\nC(process)[T.Rum Aged]                                        -4.1373      4.201     -0.985      0.325     -12.386       4.111\nC(process)[T.Semi-Carbonic Maceration]                        -5.8731      4.310     -1.363      0.173     -14.336       2.590\nC(process)[T.Semi-Washed Kombucha Experiment]                -12.2392      4.568     -2.679      0.008     -21.208      -3.270\nC(process)[T.Semi-washed]                                     -3.3952      3.376     -1.006      0.315     -10.023       3.233\nC(process)[T.Washed]                                          -3.9070      1.721     -2.271      0.023      -7.286      -0.528\nC(process)[T.Washed Anaerobic]                                -7.6216      7.422     -1.027      0.305     -22.194       6.951\nC(process)[T.Washed Double Anaerobic]                         24.5337      9.557      2.567      0.010       5.768      43.299\nC(process)[T.Washed and natural]                               2.3672      3.494      0.678      0.498      -4.493       9.227\nC(process)[T.Washed, Barrel Aged]                             -4.6606      9.972     -0.467      0.640     -24.241      14.920\nC(process)[T.Yeast Process]                                   -8.8936     10.001     -0.889      0.374     -28.530      10.743\nC(process)[T.Yellow Bourbon]                                   2.8573      9.895      0.289      0.773     -16.572      22.286\nC(brewing_method)[T.drip, espresso]                           -3.6737      6.356     -0.578      0.563     -16.154       8.807\nC(brewing_method)[T.espresso]                                 -4.4843      6.144     -0.730      0.466     -16.548       7.580\nC(roast)[T.light]                                              8.0302      6.196      1.296      0.195      -4.136      20.197\nC(roast)[T.medium]                                            -2.2329      6.022     -0.371      0.711     -14.058       9.592\nC(grind)[T.ground]                                            11.8833      2.336      5.088      0.000       7.297      16.469\nC(origin)[T.Brazylia]                                        -14.3129      5.736     -2.495      0.013     -25.576      -3.050\nC(origin)[T.Brazylia, Burundi, Peru]                          -5.4611     12.414     -0.440      0.660     -29.836      18.913\nC(origin)[T.Brazylia, Etiopia]                                 7.6905      6.742      1.141      0.254      -5.548      20.929\nC(origin)[T.Brazylia, Gwatemala]                             -13.7366      7.345     -1.870      0.062     -28.158       0.685\nC(origin)[T.Brazylia, Gwatemala, Etiopia]                      1.2309      5.539      0.222      0.824      -9.646      12.108\nC(origin)[T.Brazylia, Gwatemala, Kostaryka]                    0.1389     12.414      0.011      0.991     -24.236      24.513\nC(origin)[T.Brazylia, Honduras]                              -16.3111      7.943     -2.054      0.040     -31.907      -0.716\nC(origin)[T.Brazylia, Indie]                                   3.1906      2.898      1.101      0.271      -2.500       8.881\nC(origin)[T.Brazylia, Kenia]                                  -4.2179     10.549     -0.400      0.689     -24.931      16.495\nC(origin)[T.Brazylia, Kolumbia]                              -23.2417      8.545     -2.720      0.007     -40.021      -6.462\nC(origin)[T.Brazylia, Kostaryka, Nikaragua]                   -3.2661      9.638     -0.339      0.735     -22.191      15.659\nC(origin)[T.Brazylia, Peru]                                  -10.2611     12.414     -0.827      0.409     -34.636      14.113\nC(origin)[T.Brazylia, Peru, Wietnam]                          -8.5107      3.535     -2.407      0.016     -15.452      -1.569\nC(origin)[T.Brazylia, Tanzania]                               -1.2607      4.086     -0.309      0.758      -9.284       6.762\nC(origin)[T.Brazylia, Uganda]                                 -1.1076      7.713     -0.144      0.886     -16.252      14.037\nC(origin)[T.Brazylia, inne]                                  -13.0063      6.634     -1.960      0.050     -26.033       0.021\nC(origin)[T.Burundi]                                           8.4229      3.291      2.559      0.011       1.961      14.885\nC(origin)[T.Chiny]                                             3.2080      6.059      0.529      0.597      -8.689      15.105\nC(origin)[T.Demokratyczna Republika Konga]                   -11.8813      4.609     -2.578      0.010     -20.932      -2.831\nC(origin)[T.Etiopia]                                           6.4566      2.192      2.945      0.003       2.152      10.761\nC(origin)[T.Etiopia, Brazylia]                                 5.6292      3.117      1.806      0.071      -0.492      11.750\nC(origin)[T.Etiopia, Brazylia, Kolumbia]                      -2.3167      5.546     -0.418      0.676     -13.206       8.572\nC(origin)[T.Etiopia, Gwatemala]                                1.5290      5.649      0.271      0.787      -9.562      12.620\nC(origin)[T.Etiopia, Kolumbia]                               -14.0775      5.117     -2.751      0.006     -24.126      -4.030\nC(origin)[T.Gwatemala]                                       -11.6441      5.769     -2.018      0.044     -22.972      -0.316\nC(origin)[T.Honduras]                                         -9.0397      6.043     -1.496      0.135     -20.905       2.825\nC(origin)[T.Honduras, Kolumbia, Peru]                        -13.9501      7.011     -1.990      0.047     -27.716      -0.184\nC(origin)[T.Indie]                                             0.3851      6.287      0.061      0.951     -11.959      12.729\nC(origin)[T.Indonezja]                                        -3.3692      4.036     -0.835      0.404     -11.294       4.555\nC(origin)[T.Italy]                                             0.7761      2.744      0.283      0.777      -4.612       6.164\nC(origin)[T.Kenia]                                             8.3760      2.573      3.256      0.001       3.324      13.428\nC(origin)[T.Kenia, Indie]                                      0.0997      4.921      0.020      0.984      -9.562       9.761\nC(origin)[T.Kolumbia]                                         -1.9950      5.725     -0.348      0.728     -13.237       9.247\nC(origin)[T.Kostaryka]                                        -5.8873      6.202     -0.949      0.343     -18.066       6.291\nC(origin)[T.Laos]                                              0.9622      5.594      0.172      0.863     -10.022      11.946\nC(origin)[T.Malawi]                                            9.0241     11.283      0.800      0.424     -13.132      31.180\nC(origin)[T.Meksyk]                                           -8.7584      6.940     -1.262      0.207     -22.386       4.869\nC(origin)[T.Mjanma]                                           -2.5350      7.157     -0.354      0.723     -16.589      11.519\nC(origin)[T.Nikaragua]                                        -8.6387      6.769     -1.276      0.202     -21.929       4.652\nC(origin)[T.Panama]                                            1.5600      6.233      0.250      0.802     -10.680      13.800\nC(origin)[T.Papua Nowa Gwinea]                                 5.7813      7.455      0.775      0.438      -8.857      20.419\nC(origin)[T.Papua Nowa Gwinea, Rwanda]                       -10.4757     10.385     -1.009      0.313     -30.866       9.915\nC(origin)[T.Peru]                                            -11.9213      6.001     -1.987      0.047     -23.704      -0.139\nC(origin)[T.Peru, Etiopia]                                    10.1159     10.533      0.960      0.337     -10.566      30.798\nC(origin)[T.Peru, Gwatemala]                                 -11.8740      7.283     -1.630      0.103     -26.174       2.426\nC(origin)[T.Rwanda]                                            1.9021      2.517      0.756      0.450      -3.040       6.844\nC(origin)[T.Rwanda, inne]                                     -8.0080     10.539     -0.760      0.448     -28.703      12.687\nC(origin)[T.Salwador]                                         -4.2384      5.994     -0.707      0.480     -16.007       7.531\nC(origin)[T.Salwador, Indie]                                  18.7517      7.884      2.378      0.018       3.271      34.232\nC(origin)[T.Salwador, Nikaragua]                               0.1389     12.414      0.011      0.991     -24.236      24.513\nC(origin)[T.Sumatra]                                           2.5031     10.397      0.241      0.810     -17.912      22.919\nC(origin)[T.Tanzania]                                         -8.0757     10.385     -0.778      0.437     -28.466      12.315\nC(origin)[T.Uganda]                                            1.0927      4.979      0.219      0.826      -8.684      10.870\nC(pure_arabica)[T.True]                                        9.9298      3.087      3.217      0.001       3.868      15.991\nC(roast_brew)[T.dark_drip, espresso]                         -17.2306      8.320     -2.071      0.039     -33.567      -0.895\nC(roast_brew)[T.dark_espresso]                                -9.1236      6.147     -1.484      0.138     -21.193       2.946\nC(roast_brew)[T.light_drip (alternative brewing methods)]     -5.1595      6.174     -0.836      0.404     -17.283       6.964\nC(roast_brew)[T.light_drip, espresso]                          4.6144      3.524      1.310      0.191      -2.304      11.533\nC(roast_brew)[T.light_espresso]                                8.5752      4.832      1.775      0.076      -0.912      18.063\nC(roast_brew)[T.medium_drip (alternative brewing methods)]    -7.2395      6.709     -1.079      0.281     -20.413       5.934\nC(roast_brew)[T.medium_drip, espresso]                         8.9426      2.339      3.823      0.000       4.349      13.536\nC(roast_brew)[T.medium_espresso]                              -3.9360      1.872     -2.103      0.036      -7.611      -0.261\nC(Washed)[T.True]                                              2.3293      3.258      0.715      0.475      -4.068       8.727\nC(Natural)[T.True]                                            -3.5848      3.338     -1.074      0.283     -10.139       2.969\nC(Fermented_traditional)[T.True]                               0.4573      6.453      0.071      0.944     -12.214      13.128\nC(Fermented_closedtank)[T.True]                                7.2763      3.355      2.169      0.030       0.688      13.864\nC(process_general)[T.Experimental]                            -1.3646      5.717     -0.239      0.811     -12.591       9.862\nC(process_general)[T.Fermented]                                1.3859      3.668      0.378      0.706      -5.817       8.589\nC(process_general)[T.Honey]                                   -2.0708      2.204     -0.940      0.348      -6.398       2.256\nC(process_general)[T.Hybrid]                                  -1.4335      2.979     -0.481      0.630      -7.282       4.415\nC(process_general)[T.Monsooning]                               0.3816      3.567      0.107      0.915      -6.623       7.386\nC(process_general)[T.Natural]                                 -0.4450      1.973     -0.225      0.822      -4.320       3.430\nC(process_general)[T.Semi-washed]                             -3.3952      3.376     -1.006      0.315     -10.023       3.233\nC(process_general)[T.Washed]                                  -3.9070      1.721     -2.271      0.023      -7.286      -0.528\nC(region_of_origin)[T.Asia]                                    1.1543      2.962      0.390      0.697      -4.661       6.969\nC(region_of_origin)[T.Europe]                                  0.7761      2.744      0.283      0.777      -4.612       6.164\nC(region_of_origin)[T.Latam]                                  11.7093      5.445      2.150      0.032       1.018      22.401\nC(region_of_origin)[T.Mixed]                                  -4.2677      2.378     -1.795      0.073      -8.937       0.401\npercentage_of_arabica                                          0.1197      0.052      2.281      0.023       0.017       0.223\n==============================================================================\nOmnibus:                      211.542   Durbin-Watson:                   1.970\nProb(Omnibus):                  0.000   Jarque-Bera (JB):              812.114\nSkew:                           1.274   Prob(JB):                    4.48e-177\nKurtosis:                       7.403   Cond. No.                     3.34e+17\n==============================================================================\n\nNotes:\n[1] Standard Errors assume that the covariance matrix of the errors is correctly specified.\n[2] The smallest eigenvalue is 6.24e-29. This might indicate that there are\nstrong multicollinearity problems or that the design matrix is singular.\n"
     ]
    }
   ],
   "source": [
    "# Modelling with all variables\n",
    "# columns = ['process', 'brewing_method', 'roast', 'grind', 'origin', 'percentage_of_arabica', 'pure_arabica', 'roast_brew', 'Washed', 'Natural', 'Fermented_traditional',                       'Fermented_closedtank', 'process_general', 'region_of_origin']\n",
    "\n",
    "# for idx, col in enumerate(columns):\n",
    "#     if idx == 0:\n",
    "#         all_columns = col\n",
    "#     else:\n",
    "#         all_columns = all_columns + ' + ' + col\n",
    "# print(all_columns)\n",
    "\n",
    "model_step1 = smf.ols(formula=\"price_per_kg ~ C(process) + C(brewing_method) + C(roast) + C(grind) + C(origin) + percentage_of_arabica + C(pure_arabica) + C(roast_brew) + C(Washed) + C(Natural) + C(Fermented_traditional) + C(Fermented_closedtank) + C(process_general) + C(region_of_origin)\", data=train_df).fit()\n",
    "print(model_step1.summary())\n"
   ]
  },
  {
   "cell_type": "code",
   "execution_count": 377,
   "metadata": {},
   "outputs": [
    {
     "output_type": "execute_result",
     "data": {
      "text/plain": [
       "C(origin)[T.Salwador, Nikaragua]               9.910767e-01\n",
       "C(origin)[T.Brazylia, Gwatemala, Kostaryka]    9.910767e-01\n",
       "C(origin)[T.Kenia, Indie]                      9.838365e-01\n",
       "C(origin)[T.Indie]                             9.511700e-01\n",
       "C(Fermented_traditional)[T.True]               9.435251e-01\n",
       "                                                   ...     \n",
       "C(pure_arabica)[T.True]                        1.359930e-03\n",
       "C(origin)[T.Kenia]                             1.189321e-03\n",
       "C(process)[T.CRYO]                             1.019602e-03\n",
       "C(roast_brew)[T.medium_drip, espresso]         1.443895e-04\n",
       "C(grind)[T.ground]                             4.715045e-07\n",
       "Length: 109, dtype: float64"
      ]
     },
     "metadata": {},
     "execution_count": 377
    }
   ],
   "source": [
    "model_step1.pvalues.sort_values(ascending=False)"
   ]
  },
  {
   "cell_type": "code",
   "execution_count": 384,
   "metadata": {},
   "outputs": [
    {
     "output_type": "stream",
     "name": "stdout",
     "text": [
      "                            OLS Regression Results                            \n==============================================================================\nDep. Variable:           price_per_kg   R-squared:                       0.516\nModel:                            OLS   Adj. R-squared:                  0.489\nMethod:                 Least Squares   F-statistic:                     19.48\nDate:                Mon, 31 May 2021   Prob (F-statistic):           2.36e-87\nTime:                        22:22:44   Log-Likelihood:                -2894.9\nNo. Observations:                 753   AIC:                             5870.\nDf Residuals:                     713   BIC:                             6055.\nDf Model:                          39                                         \nCovariance Type:            nonrobust                                         \n==============================================================================================================================\n                                                                 coef    std err          t      P>|t|      [0.025      0.975]\n------------------------------------------------------------------------------------------------------------------------------\nIntercept                                                     24.8112     10.514      2.360      0.019       4.169      45.453\nC(process)[T.Anaerobic]                                       -0.4521      4.281     -0.106      0.916      -8.858       7.953\nC(process)[T.Anaerobic natural]                               -9.2753      5.412     -1.714      0.087     -19.901       1.350\nC(process)[T.CRYO]                                            28.0063      9.824      2.851      0.004       8.719      47.294\nC(process)[T.Carbonic Maceration]                             18.9552      7.652      2.477      0.013       3.932      33.978\nC(process)[T.Closed Tank Fermentation]                         4.2061     10.166      0.414      0.679     -15.753      24.166\nC(process)[T.Experimental]                                    -0.5846      5.573     -0.105      0.916     -11.527      10.358\nC(process)[T.Experimental Anaerobic]                          -4.2448     10.378     -0.409      0.683     -24.620      16.130\nC(process)[T.Fermentacja kontrolowana]                        -2.3024     14.339     -0.161      0.872     -30.454      25.849\nC(process)[T.Honey]                                           -0.8166      2.251     -0.363      0.717      -5.236       3.603\nC(process)[T.Macerated Natural]                               10.6268      7.522      1.413      0.158      -4.141      25.395\nC(process)[T.Monsooning]                                       1.6465      3.448      0.477      0.633      -5.123       8.416\nC(process)[T.Natural]                                         -0.2987      2.032     -0.147      0.883      -4.289       3.692\nC(process)[T.Pulped natural]                                  -5.7673      2.652     -2.175      0.030     -10.974      -0.560\nC(process)[T.Rum Aged]                                        -6.7350      3.936     -1.711      0.087     -14.463       0.992\nC(process)[T.Semi-Carbonic Maceration]                        -6.1929      4.074     -1.520      0.129     -14.192       1.806\nC(process)[T.Semi-Washed Kombucha Experiment]                -15.1617      4.037     -3.755      0.000     -23.088      -7.235\nC(process)[T.Semi-washed]                                     -0.5092      3.436     -0.148      0.882      -7.255       6.237\nC(process)[T.Washed]                                          -2.9395      1.745     -1.685      0.092      -6.365       0.486\nC(process)[T.Washed Anaerobic]                                -9.4925      7.498     -1.266      0.206     -24.213       5.228\nC(process)[T.Washed Double Anaerobic]                         29.7075      9.977      2.978      0.003      10.120      49.295\nC(process)[T.Washed and natural]                               4.8207      3.601      1.339      0.181      -2.250      11.891\nC(process)[T.Washed, Barrel Aged]                              4.9527     10.398      0.476      0.634     -15.462      25.367\nC(process)[T.Yeast Process]                                   -4.2448     10.378     -0.409      0.683     -24.620      16.130\nC(process)[T.Yellow Bourbon]                                   0.1527     10.398      0.015      0.988     -20.262      20.567\nC(brewing_method)[T.drip, espresso]                            0.0191      6.527      0.003      0.998     -12.795      12.834\nC(brewing_method)[T.espresso]                                 -2.3865      6.288     -0.380      0.704     -14.732       9.959\nC(roast)[T.light]                                              9.3426      6.358      1.469      0.142      -3.141      21.826\nC(roast)[T.medium]                                            -2.5072      6.120     -0.410      0.682     -14.522       9.508\nC(grind)[T.ground]                                             5.5240      1.833      3.013      0.003       1.925       9.123\nC(pure_arabica)[T.True]                                        1.8118      2.582      0.702      0.483      -3.257       6.880\nC(roast_brew)[T.dark_drip, espresso]                          -7.9377      8.396     -0.945      0.345     -24.421       8.545\nC(roast_brew)[T.dark_espresso]                                -8.8569      6.292     -1.408      0.160     -21.210       3.496\nC(roast_brew)[T.light_drip (alternative brewing methods)]     -3.3551      6.345     -0.529      0.597     -15.812       9.101\nC(roast_brew)[T.light_drip, espresso]                          1.1788      3.356      0.351      0.725      -5.409       7.767\nC(roast_brew)[T.light_espresso]                               11.5189      4.988      2.309      0.021       1.726      21.312\nC(roast_brew)[T.medium_drip (alternative brewing methods)]    -4.2367      6.663     -0.636      0.525     -17.319       8.846\nC(roast_brew)[T.medium_drip, espresso]                         6.7780      2.357      2.875      0.004       2.150      11.406\nC(roast_brew)[T.medium_espresso]                              -5.0485      1.841     -2.742      0.006      -8.663      -1.434\nC(Washed)[T.True]                                              4.0476      3.302      1.226      0.221      -2.435      10.530\nC(Natural)[T.True]                                            -0.7103      3.465     -0.205      0.838      -7.513       6.092\nC(Fermented_traditional)[T.True]                              -2.2473      6.744     -0.333      0.739     -15.488      10.993\nC(Fermented_closedtank)[T.True]                                9.9975      3.441      2.905      0.004       3.242      16.753\nC(process_general)[T.Experimental]                            -0.5846      5.573     -0.105      0.916     -11.527      10.358\nC(process_general)[T.Fermented]                                1.2535      3.806      0.329      0.742      -6.218       8.725\nC(process_general)[T.Honey]                                   -0.8166      2.251     -0.363      0.717      -5.236       3.603\nC(process_general)[T.Hybrid]                                  -0.9465      3.096     -0.306      0.760      -7.025       5.132\nC(process_general)[T.Monsooning]                               1.6465      3.448      0.477      0.633      -5.123       8.416\nC(process_general)[T.Natural]                                 -0.2987      2.032     -0.147      0.883      -4.289       3.692\nC(process_general)[T.Semi-washed]                             -0.5092      3.436     -0.148      0.882      -7.255       6.237\nC(process_general)[T.Washed]                                  -2.9395      1.745     -1.685      0.092      -6.365       0.486\nC(region_of_origin)[T.Asia]                                   -4.2037      2.738     -1.536      0.125      -9.578       1.171\nC(region_of_origin)[T.Europe]                                 -3.8211      5.549     -0.689      0.491     -14.715       7.072\nC(region_of_origin)[T.Latam]                                  -1.7052      1.108     -1.538      0.124      -3.881       0.471\nC(region_of_origin)[T.Mixed]                                  -8.0548      1.735     -4.642      0.000     -11.462      -4.648\npercentage_of_arabica                                          0.1409      0.051      2.744      0.006       0.040       0.242\n==============================================================================\nOmnibus:                      254.038   Durbin-Watson:                   2.038\nProb(Omnibus):                  0.000   Jarque-Bera (JB):             1028.804\nSkew:                           1.533   Prob(JB):                    3.96e-224\nKurtosis:                       7.837   Cond. No.                     1.89e+17\n==============================================================================\n\nNotes:\n[1] Standard Errors assume that the covariance matrix of the errors is correctly specified.\n[2] The smallest eigenvalue is 1.95e-28. This might indicate that there are\nstrong multicollinearity problems or that the design matrix is singular.\n"
     ]
    }
   ],
   "source": [
    "model_step2 = smf.ols(formula=\"price_per_kg ~ C(process) + C(brewing_method) + C(roast) + C(grind) + percentage_of_arabica + C(pure_arabica) + C(roast_brew) + C(Washed) + C(Natural) + C(Fermented_traditional) + C(Fermented_closedtank) + C(process_general) + C(region_of_origin)\", data=train_df).fit()\n",
    "print(model_step2.summary()) # there was a decrease in intercept p-value by 0.052"
   ]
  },
  {
   "cell_type": "code",
   "execution_count": 385,
   "metadata": {},
   "outputs": [
    {
     "output_type": "execute_result",
     "data": {
      "text/plain": [
       "C(brewing_method)[T.drip, espresso]                           0.997663\n",
       "C(process)[T.Yellow Bourbon]                                  0.988286\n",
       "C(process_general)[T.Experimental]                            0.916494\n",
       "C(process)[T.Experimental]                                    0.916494\n",
       "C(process)[T.Anaerobic]                                       0.915922\n",
       "C(process_general)[T.Natural]                                 0.883215\n",
       "C(process)[T.Natural]                                         0.883215\n",
       "C(process_general)[T.Semi-washed]                             0.882239\n",
       "C(process)[T.Semi-washed]                                     0.882239\n",
       "C(process)[T.Fermentacja kontrolowana]                        0.872476\n",
       "C(Natural)[T.True]                                            0.837632\n",
       "C(process_general)[T.Hybrid]                                  0.759918\n",
       "C(process_general)[T.Fermented]                               0.741949\n",
       "C(Fermented_traditional)[T.True]                              0.739063\n",
       "C(roast_brew)[T.light_drip, espresso]                         0.725489\n",
       "C(process_general)[T.Honey]                                   0.716894\n",
       "C(process)[T.Honey]                                           0.716894\n",
       "C(brewing_method)[T.espresso]                                 0.704425\n",
       "C(process)[T.Yeast Process]                                   0.682650\n",
       "C(process)[T.Experimental Anaerobic]                          0.682650\n",
       "C(roast)[T.medium]                                            0.682161\n",
       "C(process)[T.Closed Tank Fermentation]                        0.679198\n",
       "C(process)[T.Washed, Barrel Aged]                             0.633997\n",
       "C(process_general)[T.Monsooning]                              0.633157\n",
       "C(process)[T.Monsooning]                                      0.633157\n",
       "C(roast_brew)[T.light_drip (alternative brewing methods)]     0.597109\n",
       "C(roast_brew)[T.medium_drip (alternative brewing methods)]    0.525103\n",
       "C(region_of_origin)[T.Europe]                                 0.491262\n",
       "C(pure_arabica)[T.True]                                       0.483026\n",
       "C(roast_brew)[T.dark_drip, espresso]                          0.344745\n",
       "C(Washed)[T.True]                                             0.220644\n",
       "C(process)[T.Washed Anaerobic]                                0.205931\n",
       "C(process)[T.Washed and natural]                              0.181124\n",
       "C(roast_brew)[T.dark_espresso]                                0.159674\n",
       "C(process)[T.Macerated Natural]                               0.158159\n",
       "C(roast)[T.light]                                             0.142175\n",
       "C(process)[T.Semi-Carbonic Maceration]                        0.128960\n",
       "C(region_of_origin)[T.Asia]                                   0.125092\n",
       "C(region_of_origin)[T.Latam]                                  0.124376\n",
       "C(process_general)[T.Washed]                                  0.092447\n",
       "C(process)[T.Washed]                                          0.092447\n",
       "C(process)[T.Rum Aged]                                        0.087488\n",
       "C(process)[T.Anaerobic natural]                               0.086989\n",
       "C(process)[T.Pulped natural]                                  0.029994\n",
       "C(roast_brew)[T.light_espresso]                               0.021210\n",
       "Intercept                                                     0.018552\n",
       "C(process)[T.Carbonic Maceration]                             0.013472\n",
       "C(roast_brew)[T.medium_espresso]                              0.006252\n",
       "percentage_of_arabica                                         0.006225\n",
       "C(process)[T.CRYO]                                            0.004487\n",
       "C(roast_brew)[T.medium_drip, espresso]                        0.004158\n",
       "C(Fermented_closedtank)[T.True]                               0.003780\n",
       "C(process)[T.Washed Double Anaerobic]                         0.003003\n",
       "C(grind)[T.ground]                                            0.002675\n",
       "C(process)[T.Semi-Washed Kombucha Experiment]                 0.000187\n",
       "C(region_of_origin)[T.Mixed]                                  0.000004\n",
       "dtype: float64"
      ]
     },
     "metadata": {},
     "execution_count": 385
    }
   ],
   "source": [
    "model_step2.pvalues.sort_values(ascending=False)"
   ]
  },
  {
   "cell_type": "code",
   "execution_count": 387,
   "metadata": {},
   "outputs": [
    {
     "output_type": "stream",
     "name": "stdout",
     "text": [
      "                            OLS Regression Results                            \n==============================================================================\nDep. Variable:           price_per_kg   R-squared:                       0.516\nModel:                            OLS   Adj. R-squared:                  0.489\nMethod:                 Least Squares   F-statistic:                     19.48\nDate:                Mon, 31 May 2021   Prob (F-statistic):           2.36e-87\nTime:                        22:23:12   Log-Likelihood:                -2894.9\nNo. Observations:                 753   AIC:                             5870.\nDf Residuals:                     713   BIC:                             6055.\nDf Model:                          39                                         \nCovariance Type:            nonrobust                                         \n==============================================================================================================================\n                                                                 coef    std err          t      P>|t|      [0.025      0.975]\n------------------------------------------------------------------------------------------------------------------------------\nIntercept                                                     24.8112     10.514      2.360      0.019       4.169      45.453\nC(process)[T.Anaerobic]                                       -0.4521      4.281     -0.106      0.916      -8.858       7.953\nC(process)[T.Anaerobic natural]                               -9.2753      5.412     -1.714      0.087     -19.901       1.350\nC(process)[T.CRYO]                                            28.0063      9.824      2.851      0.004       8.719      47.294\nC(process)[T.Carbonic Maceration]                             18.9552      7.652      2.477      0.013       3.932      33.978\nC(process)[T.Closed Tank Fermentation]                         4.2061     10.166      0.414      0.679     -15.753      24.166\nC(process)[T.Experimental]                                    -0.5846      5.573     -0.105      0.916     -11.527      10.358\nC(process)[T.Experimental Anaerobic]                          -4.2448     10.378     -0.409      0.683     -24.620      16.130\nC(process)[T.Fermentacja kontrolowana]                        -2.3024     14.339     -0.161      0.872     -30.454      25.849\nC(process)[T.Honey]                                           -0.8166      2.251     -0.363      0.717      -5.236       3.603\nC(process)[T.Macerated Natural]                               10.6268      7.522      1.413      0.158      -4.141      25.395\nC(process)[T.Monsooning]                                       1.6465      3.448      0.477      0.633      -5.123       8.416\nC(process)[T.Natural]                                         -0.2987      2.032     -0.147      0.883      -4.289       3.692\nC(process)[T.Pulped natural]                                  -5.7673      2.652     -2.175      0.030     -10.974      -0.560\nC(process)[T.Rum Aged]                                        -6.7350      3.936     -1.711      0.087     -14.463       0.992\nC(process)[T.Semi-Carbonic Maceration]                        -6.1929      4.074     -1.520      0.129     -14.192       1.806\nC(process)[T.Semi-Washed Kombucha Experiment]                -15.1617      4.037     -3.755      0.000     -23.088      -7.235\nC(process)[T.Semi-washed]                                     -0.5092      3.436     -0.148      0.882      -7.255       6.237\nC(process)[T.Washed]                                          -2.9395      1.745     -1.685      0.092      -6.365       0.486\nC(process)[T.Washed Anaerobic]                                -9.4925      7.498     -1.266      0.206     -24.213       5.228\nC(process)[T.Washed Double Anaerobic]                         29.7075      9.977      2.978      0.003      10.120      49.295\nC(process)[T.Washed and natural]                               4.8207      3.601      1.339      0.181      -2.250      11.891\nC(process)[T.Washed, Barrel Aged]                              4.9527     10.398      0.476      0.634     -15.462      25.367\nC(process)[T.Yeast Process]                                   -4.2448     10.378     -0.409      0.683     -24.620      16.130\nC(process)[T.Yellow Bourbon]                                   0.1527     10.398      0.015      0.988     -20.262      20.567\nC(roast)[T.light]                                              8.7508      9.296      0.941      0.347      -9.500      27.001\nC(roast)[T.medium]                                            -3.0990      8.988     -0.345      0.730     -20.745      14.547\nC(grind)[T.ground]                                             5.5240      1.833      3.013      0.003       1.925       9.123\nC(pure_arabica)[T.True]                                        1.8118      2.582      0.702      0.483      -3.257       6.880\nC(roast_brew)[T.dark_drip, espresso]                          -7.9185     14.474     -0.547      0.584     -36.336      20.499\nC(roast_brew)[T.dark_espresso]                               -11.2434     12.020     -0.935      0.350     -34.842      12.356\nC(roast_brew)[T.light_drip (alternative brewing methods)]     -2.7632      3.892     -0.710      0.478     -10.405       4.878\nC(roast_brew)[T.light_drip, espresso]                          1.7897      4.870      0.367      0.713      -7.772      11.351\nC(roast_brew)[T.light_espresso]                                9.7243      7.097      1.370      0.171      -4.208      23.657\nC(roast_brew)[T.medium_drip (alternative brewing methods)]    -3.6449      4.312     -0.845      0.398     -12.110       4.820\nC(roast_brew)[T.medium_drip, espresso]                         7.3890      3.412      2.166      0.031       0.690      14.088\nC(roast_brew)[T.medium_espresso]                              -6.8431      3.282     -2.085      0.037     -13.286      -0.400\nC(Washed)[T.True]                                              4.0476      3.302      1.226      0.221      -2.435      10.530\nC(Natural)[T.True]                                            -0.7103      3.465     -0.205      0.838      -7.513       6.092\nC(Fermented_traditional)[T.True]                              -2.2473      6.744     -0.333      0.739     -15.488      10.993\nC(Fermented_closedtank)[T.True]                                9.9975      3.441      2.905      0.004       3.242      16.753\nC(process_general)[T.Experimental]                            -0.5846      5.573     -0.105      0.916     -11.527      10.358\nC(process_general)[T.Fermented]                                1.2535      3.806      0.329      0.742      -6.218       8.725\nC(process_general)[T.Honey]                                   -0.8166      2.251     -0.363      0.717      -5.236       3.603\nC(process_general)[T.Hybrid]                                  -0.9465      3.096     -0.306      0.760      -7.025       5.132\nC(process_general)[T.Monsooning]                               1.6465      3.448      0.477      0.633      -5.123       8.416\nC(process_general)[T.Natural]                                 -0.2987      2.032     -0.147      0.883      -4.289       3.692\nC(process_general)[T.Semi-washed]                             -0.5092      3.436     -0.148      0.882      -7.255       6.237\nC(process_general)[T.Washed]                                  -2.9395      1.745     -1.685      0.092      -6.365       0.486\nC(region_of_origin)[T.Asia]                                   -4.2037      2.738     -1.536      0.125      -9.578       1.171\nC(region_of_origin)[T.Europe]                                 -3.8211      5.549     -0.689      0.491     -14.715       7.072\nC(region_of_origin)[T.Latam]                                  -1.7052      1.108     -1.538      0.124      -3.881       0.471\nC(region_of_origin)[T.Mixed]                                  -8.0548      1.735     -4.642      0.000     -11.462      -4.648\npercentage_of_arabica                                          0.1409      0.051      2.744      0.006       0.040       0.242\n==============================================================================\nOmnibus:                      254.038   Durbin-Watson:                   2.038\nProb(Omnibus):                  0.000   Jarque-Bera (JB):             1028.804\nSkew:                           1.533   Prob(JB):                    3.96e-224\nKurtosis:                       7.837   Cond. No.                     2.07e+17\n==============================================================================\n\nNotes:\n[1] Standard Errors assume that the covariance matrix of the errors is correctly specified.\n[2] The smallest eigenvalue is 1.63e-28. This might indicate that there are\nstrong multicollinearity problems or that the design matrix is singular.\n"
     ]
    }
   ],
   "source": [
    "model_step3A = smf.ols(formula=\"price_per_kg ~ C(process) + C(roast) + C(grind) + percentage_of_arabica + C(pure_arabica) + C(roast_brew) + C(Washed) + C(Natural) + C(Fermented_traditional) + C(Fermented_closedtank) + C(process_general) + C(region_of_origin)\", data=train_df).fit()\n",
    "print(model_step3A.summary())"
   ]
  },
  {
   "cell_type": "code",
   "execution_count": 388,
   "metadata": {},
   "outputs": [
    {
     "output_type": "stream",
     "name": "stdout",
     "text": [
      "                            OLS Regression Results                            \n==============================================================================\nDep. Variable:           price_per_kg   R-squared:                       0.495\nModel:                            OLS   Adj. R-squared:                  0.477\nMethod:                 Least Squares   F-statistic:                     26.36\nDate:                Mon, 31 May 2021   Prob (F-statistic):           2.42e-89\nTime:                        22:23:50   Log-Likelihood:                -2910.5\nNo. Observations:                 753   AIC:                             5877.\nDf Residuals:                     725   BIC:                             6007.\nDf Model:                          27                                         \nCovariance Type:            nonrobust                                         \n==============================================================================================================================\n                                                                 coef    std err          t      P>|t|      [0.025      0.975]\n------------------------------------------------------------------------------------------------------------------------------\nIntercept                                                     51.4571     17.344      2.967      0.003      17.407      85.508\nC(brewing_method)[T.drip, espresso]                            0.0763      6.598      0.012      0.991     -12.877      13.030\nC(brewing_method)[T.espresso]                                 -2.2625      6.360     -0.356      0.722     -14.748      10.223\nC(roast)[T.light]                                              9.7173      6.430      1.511      0.131      -2.906      22.340\nC(roast)[T.medium]                                            -2.2857      6.190     -0.369      0.712     -14.439       9.867\nC(grind)[T.ground]                                             5.9394      1.844      3.221      0.001       2.319       9.560\nC(pure_arabica)[T.True]                                        1.7862      2.546      0.702      0.483      -3.212       6.784\nC(roast_brew)[T.dark_drip, espresso]                          -7.6545      8.496     -0.901      0.368     -24.334       9.025\nC(roast_brew)[T.dark_espresso]                                -8.9561      6.366     -1.407      0.160     -21.454       3.541\nC(roast_brew)[T.light_drip (alternative brewing methods)]     -2.8739      6.418     -0.448      0.654     -15.473       9.725\nC(roast_brew)[T.light_drip, espresso]                          1.0253      3.378      0.304      0.762      -5.607       7.657\nC(roast_brew)[T.light_espresso]                               11.5659      5.046      2.292      0.022       1.660      21.472\nC(roast_brew)[T.medium_drip (alternative brewing methods)]    -4.1188      6.743     -0.611      0.541     -17.356       9.118\nC(roast_brew)[T.medium_drip, espresso]                         6.7055      2.381      2.816      0.005       2.030      11.381\nC(roast_brew)[T.medium_espresso]                              -4.8723      1.859     -2.621      0.009      -8.523      -1.222\nC(Washed)[T.True]                                             -8.2739      3.679     -2.249      0.025     -15.497      -1.051\nC(Natural)[T.True]                                            -2.5754      5.736     -0.449      0.654     -13.838       8.687\nC(Fermented_traditional)[T.True]                               9.9482      5.889      1.689      0.092      -1.612      21.509\nC(Fermented_closedtank)[T.True]                               15.5503      3.580      4.343      0.000       8.522      22.579\nC(process_general)[T.Experimental]                           -28.6409     16.735     -1.711      0.087     -61.496       4.214\nC(process_general)[T.Fermented]                              -32.1054     11.952     -2.686      0.007     -55.571      -8.640\nC(process_general)[T.Honey]                                  -27.5176     13.761     -2.000      0.046     -54.533      -0.502\nC(process_general)[T.Hybrid]                                 -18.6613     14.063     -1.327      0.185     -46.270       8.947\nC(process_general)[T.Monsooning]                             -24.8394     13.330     -1.863      0.063     -51.010       1.331\nC(process_general)[T.Natural]                                -26.2231     13.140     -1.996      0.046     -52.021      -0.425\nC(process_general)[T.Semi-washed]                            -28.7649     13.742     -2.093      0.037     -55.745      -1.785\nC(process_general)[T.Washed]                                 -21.1787     12.324     -1.718      0.086     -45.374       3.017\nC(region_of_origin)[T.Asia]                                   -3.6630      2.709     -1.352      0.177      -8.982       1.656\nC(region_of_origin)[T.Europe]                                 -4.4310      5.593     -0.792      0.428     -15.411       6.549\nC(region_of_origin)[T.Latam]                                  -1.5048      1.115     -1.350      0.178      -3.694       0.684\nC(region_of_origin)[T.Mixed]                                  -8.7813      1.741     -5.044      0.000     -12.199      -5.363\npercentage_of_arabica                                          0.1442      0.052      2.778      0.006       0.042       0.246\n==============================================================================\nOmnibus:                      246.208   Durbin-Watson:                   2.032\nProb(Omnibus):                  0.000   Jarque-Bera (JB):              925.733\nSkew:                           1.510   Prob(JB):                    9.54e-202\nKurtosis:                       7.515   Cond. No.                     1.01e+16\n==============================================================================\n\nNotes:\n[1] Standard Errors assume that the covariance matrix of the errors is correctly specified.\n[2] The smallest eigenvalue is 6.76e-26. This might indicate that there are\nstrong multicollinearity problems or that the design matrix is singular.\n"
     ]
    }
   ],
   "source": [
    "model_step3B = smf.ols(formula=\"price_per_kg ~ C(brewing_method) + C(roast) + C(grind) + percentage_of_arabica + C(pure_arabica) + C(roast_brew) + C(Washed) + C(Natural) + C(Fermented_traditional) + C(Fermented_closedtank) + C(process_general) + C(region_of_origin)\", data=train_df).fit()\n",
    "print(model_step3B.summary()) # a significant further decrease in the pvalue"
   ]
  },
  {
   "cell_type": "code",
   "execution_count": 389,
   "metadata": {},
   "outputs": [
    {
     "output_type": "execute_result",
     "data": {
      "text/plain": [
       "C(brewing_method)[T.drip, espresso]                           9.907722e-01\n",
       "C(roast_brew)[T.light_drip, espresso]                         7.615804e-01\n",
       "C(brewing_method)[T.espresso]                                 7.221268e-01\n",
       "C(roast)[T.medium]                                            7.120607e-01\n",
       "C(roast_brew)[T.light_drip (alternative brewing methods)]     6.544166e-01\n",
       "C(Natural)[T.True]                                            6.535988e-01\n",
       "C(roast_brew)[T.medium_drip (alternative brewing methods)]    5.414785e-01\n",
       "C(pure_arabica)[T.True]                                       4.831147e-01\n",
       "C(region_of_origin)[T.Europe]                                 4.284620e-01\n",
       "C(roast_brew)[T.dark_drip, espresso]                          3.679040e-01\n",
       "C(process_general)[T.Hybrid]                                  1.849210e-01\n",
       "C(region_of_origin)[T.Latam]                                  1.775828e-01\n",
       "C(region_of_origin)[T.Asia]                                   1.767634e-01\n",
       "C(roast_brew)[T.dark_espresso]                                1.598767e-01\n",
       "C(roast)[T.light]                                             1.311412e-01\n",
       "C(Fermented_traditional)[T.True]                              9.156856e-02\n",
       "C(process_general)[T.Experimental]                            8.743052e-02\n",
       "C(process_general)[T.Washed]                                  8.614155e-02\n",
       "C(process_general)[T.Monsooning]                              6.281191e-02\n",
       "C(process_general)[T.Natural]                                 4.634961e-02\n",
       "C(process_general)[T.Honey]                                   4.590039e-02\n",
       "C(process_general)[T.Semi-washed]                             3.668253e-02\n",
       "C(Washed)[T.True]                                             2.481621e-02\n",
       "C(roast_brew)[T.light_espresso]                               2.217571e-02\n",
       "C(roast_brew)[T.medium_espresso]                              8.962400e-03\n",
       "C(process_general)[T.Fermented]                               7.394319e-03\n",
       "percentage_of_arabica                                         5.604541e-03\n",
       "C(roast_brew)[T.medium_drip, espresso]                        4.998693e-03\n",
       "Intercept                                                     3.107731e-03\n",
       "C(grind)[T.ground]                                            1.335073e-03\n",
       "C(Fermented_closedtank)[T.True]                               1.602392e-05\n",
       "C(region_of_origin)[T.Mixed]                                  5.777226e-07\n",
       "dtype: float64"
      ]
     },
     "metadata": {},
     "execution_count": 389
    }
   ],
   "source": [
    "model_step3B.pvalues.sort_values(ascending=False)"
   ]
  },
  {
   "cell_type": "code",
   "execution_count": 393,
   "metadata": {},
   "outputs": [
    {
     "output_type": "stream",
     "name": "stdout",
     "text": [
      "                            OLS Regression Results                            \n==============================================================================\nDep. Variable:           price_per_kg   R-squared:                       0.490\nModel:                            OLS   Adj. R-squared:                  0.474\nMethod:                 Least Squares   F-statistic:                     30.51\nDate:                Mon, 31 May 2021   Prob (F-statistic):           8.32e-91\nTime:                        22:25:22   Log-Likelihood:                -2914.2\nNo. Observations:                 753   AIC:                             5876.\nDf Residuals:                     729   BIC:                             5987.\nDf Model:                          23                                         \nCovariance Type:            nonrobust                                         \n=======================================================================================================\n                                          coef    std err          t      P>|t|      [0.025      0.975]\n-------------------------------------------------------------------------------------------------------\nIntercept                              44.6627     12.963      3.446      0.001      19.214      70.111\nC(brewing_method)[T.drip, espresso]     8.4810      3.053      2.778      0.006       2.487      14.475\nC(brewing_method)[T.espresso]          -4.2350      3.094     -1.369      0.172     -10.310       1.840\nC(roast)[T.light]                      14.0649      3.211      4.380      0.000       7.760      20.370\nC(roast)[T.medium]                      2.2990      1.558      1.475      0.141      -0.761       5.359\nC(grind)[T.ground]                      6.0449      1.844      3.279      0.001       2.425       9.665\nC(pure_arabica)[T.True]                 1.5200      2.525      0.602      0.547      -3.437       6.477\nC(Washed)[T.True]                      -8.1333      3.683     -2.208      0.028     -15.363      -0.903\nC(Natural)[T.True]                     -2.5224      5.748     -0.439      0.661     -13.808       8.763\nC(Fermented_traditional)[T.True]       10.3101      5.895      1.749      0.081      -1.264      21.884\nC(Fermented_closedtank)[T.True]        15.8592      3.580      4.430      0.000       8.831      22.887\nC(process_general)[T.Experimental]    -28.8412     16.769     -1.720      0.086     -61.763       4.081\nC(process_general)[T.Fermented]       -32.3787     11.975     -2.704      0.007     -55.889      -8.869\nC(process_general)[T.Honey]           -27.9527     13.788     -2.027      0.043     -55.022      -0.883\nC(process_general)[T.Hybrid]          -19.0906     14.089     -1.355      0.176     -46.751       8.570\nC(process_general)[T.Monsooning]      -25.3757     13.329     -1.904      0.057     -51.543       0.791\nC(process_general)[T.Natural]         -26.2717     13.167     -1.995      0.046     -52.121      -0.422\nC(process_general)[T.Semi-washed]     -29.1797     13.769     -2.119      0.034     -56.211      -2.148\nC(process_general)[T.Washed]          -21.3372     12.349     -1.728      0.084     -45.582       2.907\nC(region_of_origin)[T.Asia]            -3.3792      2.674     -1.264      0.207      -8.628       1.870\nC(region_of_origin)[T.Europe]          -4.6553      5.599     -0.831      0.406     -15.647       6.336\nC(region_of_origin)[T.Latam]           -1.4421      1.116     -1.293      0.197      -3.632       0.748\nC(region_of_origin)[T.Mixed]           -8.7399      1.743     -5.014      0.000     -12.162      -5.318\npercentage_of_arabica                   0.1419      0.051      2.807      0.005       0.043       0.241\n==============================================================================\nOmnibus:                      243.056   Durbin-Watson:                   2.021\nProb(Omnibus):                  0.000   Jarque-Bera (JB):              886.724\nSkew:                           1.501   Prob(JB):                    2.82e-193\nKurtosis:                       7.387   Cond. No.                     8.19e+03\n==============================================================================\n\nNotes:\n[1] Standard Errors assume that the covariance matrix of the errors is correctly specified.\n[2] The condition number is large, 8.19e+03. This might indicate that there are\nstrong multicollinearity or other numerical problems.\n"
     ]
    }
   ],
   "source": [
    "model_step4 = smf.ols(formula=\"price_per_kg ~ C(brewing_method) + C(roast) + C(grind) + percentage_of_arabica + C(pure_arabica) + C(Washed) + C(Natural) + C(Fermented_traditional) + C(Fermented_closedtank) + C(process_general) + C(region_of_origin)\", data=train_df).fit()\n",
    "print(model_step4.summary()) # a significant further decrease in the pvalue"
   ]
  },
  {
   "cell_type": "code",
   "execution_count": 395,
   "metadata": {},
   "outputs": [
    {
     "output_type": "stream",
     "name": "stdout",
     "text": [
      "                            OLS Regression Results                            \n==============================================================================\nDep. Variable:           price_per_kg   R-squared:                       0.481\nModel:                            OLS   Adj. R-squared:                  0.466\nMethod:                 Least Squares   F-statistic:                     32.29\nDate:                Mon, 31 May 2021   Prob (F-statistic):           1.46e-89\nTime:                        22:26:42   Log-Likelihood:                -2920.9\nNo. Observations:                 753   AIC:                             5886.\nDf Residuals:                     731   BIC:                             5988.\nDf Model:                          21                                         \nCovariance Type:            nonrobust                                         \n=======================================================================================================\n                                          coef    std err          t      P>|t|      [0.025      0.975]\n-------------------------------------------------------------------------------------------------------\nIntercept                              55.1945     12.439      4.437      0.000      30.774      79.615\nC(brewing_method)[T.drip, espresso]     6.1295      2.986      2.053      0.040       0.268      11.991\nC(brewing_method)[T.espresso]          -6.3771      3.043     -2.096      0.036     -12.351      -0.403\nC(roast)[T.light]                      12.4888      3.132      3.988      0.000       6.341      18.637\nC(roast)[T.medium]                      2.6797      1.540      1.740      0.082      -0.343       5.703\nC(grind)[T.ground]                      6.3713      1.844      3.455      0.001       2.751       9.991\nC(pure_arabica)[T.True]                 6.7448      1.610      4.191      0.000       3.585       9.905\nC(Natural)[T.True]                      0.9062      5.600      0.162      0.872     -10.089      11.901\nC(Fermented_traditional)[T.True]        7.7763      5.840      1.332      0.183      -3.689      19.242\nC(Fermented_closedtank)[T.True]         9.8968      2.535      3.904      0.000       4.920      14.874\nC(process_general)[T.Experimental]    -28.6419     16.896     -1.695      0.090     -61.812       4.529\nC(process_general)[T.Fermented]       -31.7944     12.064     -2.635      0.009     -55.479      -8.109\nC(process_general)[T.Honey]           -37.0680     13.291     -2.789      0.005     -63.161     -10.975\nC(process_general)[T.Hybrid]          -30.1369     13.318     -2.263      0.024     -56.284      -3.990\nC(process_general)[T.Monsooning]      -25.2462     13.430     -1.880      0.061     -51.611       1.119\nC(process_general)[T.Natural]         -29.3667     13.202     -2.224      0.026     -55.285      -3.449\nC(process_general)[T.Semi-washed]     -34.7649     13.634     -2.550      0.011     -61.531      -7.998\nC(process_general)[T.Washed]          -29.2907     11.920     -2.457      0.014     -52.692      -5.890\nC(region_of_origin)[T.Asia]            -4.1901      2.684     -1.561      0.119      -9.458       1.078\nC(region_of_origin)[T.Europe]          -3.6300      5.609     -0.647      0.518     -14.642       7.382\nC(region_of_origin)[T.Latam]           -1.4281      1.117     -1.278      0.202      -3.622       0.766\nC(region_of_origin)[T.Mixed]           -9.3344      1.737     -5.374      0.000     -12.745      -5.924\n==============================================================================\nOmnibus:                      237.388   Durbin-Watson:                   2.033\nProb(Omnibus):                  0.000   Jarque-Bera (JB):              878.215\nSkew:                           1.457   Prob(JB):                    1.99e-191\nKurtosis:                       7.415   Cond. No.                         150.\n==============================================================================\n\nNotes:\n[1] Standard Errors assume that the covariance matrix of the errors is correctly specified.\n"
     ]
    }
   ],
   "source": [
    "model_step5 = smf.ols(formula=\"price_per_kg ~ C(brewing_method) + C(roast) + C(grind) + C(pure_arabica) + C(Natural) + C(Fermented_traditional) + C(Fermented_closedtank) + C(process_general) + C(region_of_origin)\", data=train_df).fit()\n",
    "print(model_step5.summary()) # a significant further decrease in the pvalue"
   ]
  },
  {
   "cell_type": "code",
   "execution_count": 399,
   "metadata": {},
   "outputs": [
    {
     "output_type": "stream",
     "name": "stdout",
     "text": [
      "                            OLS Regression Results                            \n==============================================================================\nDep. Variable:           price_per_kg   R-squared:                       0.447\nModel:                            OLS   Adj. R-squared:                  0.441\nMethod:                 Least Squares   F-statistic:                     75.18\nDate:                Mon, 31 May 2021   Prob (F-statistic):           1.51e-90\nTime:                        22:27:46   Log-Likelihood:                -2945.0\nNo. Observations:                 753   AIC:                             5908.\nDf Residuals:                     744   BIC:                             5950.\nDf Model:                           8                                         \nCovariance Type:            nonrobust                                         \n=======================================================================================================\n                                          coef    std err          t      P>|t|      [0.025      0.975]\n-------------------------------------------------------------------------------------------------------\nIntercept                              24.2655      3.440      7.054      0.000      17.512      31.019\nC(brewing_method)[T.drip, espresso]     6.0805      2.982      2.039      0.042       0.226      11.935\nC(brewing_method)[T.espresso]          -8.0725      3.038     -2.657      0.008     -14.037      -2.109\nC(roast)[T.light]                      14.2969      3.135      4.560      0.000       8.142      20.451\nC(roast)[T.medium]                      3.8187      1.490      2.563      0.011       0.893       6.744\nC(grind)[T.ground]                      3.2872      1.738      1.891      0.059      -0.126       6.700\nC(pure_arabica)[T.True]                 5.9810      1.536      3.894      0.000       2.965       8.997\nC(Fermented_traditional)[T.True]        1.8377      1.741      1.056      0.291      -1.579       5.255\nC(Fermented_closedtank)[T.True]         4.1867      1.672      2.504      0.012       0.905       7.469\n==============================================================================\nOmnibus:                      236.046   Durbin-Watson:                   2.058\nProb(Omnibus):                  0.000   Jarque-Bera (JB):              862.465\nSkew:                           1.453   Prob(JB):                    5.22e-188\nKurtosis:                       7.363   Cond. No.                         20.5\n==============================================================================\n\nNotes:\n[1] Standard Errors assume that the covariance matrix of the errors is correctly specified.\n"
     ]
    }
   ],
   "source": [
    "model_step5 = smf.ols(formula=\"price_per_kg ~ C(brewing_method) + C(roast) + C(grind) + C(pure_arabica) + C(Fermented_traditional) + C(Fermented_closedtank)\", data=train_df).fit()\n",
    "print(model_step5.summary()) # a significant further decrease in the pvalue"
   ]
  },
  {
   "cell_type": "code",
   "execution_count": 406,
   "metadata": {},
   "outputs": [
    {
     "output_type": "stream",
     "name": "stdout",
     "text": [
      "                            OLS Regression Results                            \n==============================================================================\nDep. Variable:           price_per_kg   R-squared:                       0.446\nModel:                            OLS   Adj. R-squared:                  0.441\nMethod:                 Least Squares   F-statistic:                     85.75\nDate:                Mon, 31 May 2021   Prob (F-statistic):           2.73e-91\nTime:                        22:30:07   Log-Likelihood:                -2945.5\nNo. Observations:                 753   AIC:                             5907.\nDf Residuals:                     745   BIC:                             5944.\nDf Model:                           7                                         \nCovariance Type:            nonrobust                                         \n=======================================================================================================\n                                          coef    std err          t      P>|t|      [0.025      0.975]\n-------------------------------------------------------------------------------------------------------\nIntercept                              24.4310      3.437      7.109      0.000      17.684      31.178\nC(brewing_method)[T.drip, espresso]     6.0994      2.982      2.045      0.041       0.245      11.954\nC(brewing_method)[T.espresso]          -8.2482      3.034     -2.719      0.007     -14.204      -2.293\nC(roast)[T.light]                      14.3051      3.135      4.563      0.000       8.150      20.460\nC(roast)[T.medium]                      3.7944      1.490      2.546      0.011       0.869       6.720\nC(grind)[T.ground]                      3.4683      1.730      2.005      0.045       0.072       6.865\nC(pure_arabica)[T.True]                 6.0413      1.535      3.935      0.000       3.028       9.055\nC(Fermented_closedtank)[T.True]         4.0751      1.669      2.442      0.015       0.800       7.351\n==============================================================================\nOmnibus:                      235.608   Durbin-Watson:                   2.063\nProb(Omnibus):                  0.000   Jarque-Bera (JB):              853.064\nSkew:                           1.454   Prob(JB):                    5.75e-186\nKurtosis:                       7.328   Cond. No.                         20.5\n==============================================================================\n\nNotes:\n[1] Standard Errors assume that the covariance matrix of the errors is correctly specified.\n"
     ]
    },
    {
     "output_type": "execute_result",
     "data": {
      "text/plain": [
       "110157.32740949612"
      ]
     },
     "metadata": {},
     "execution_count": 406
    }
   ],
   "source": [
    "model_step5 = smf.ols(formula=\"price_per_kg ~ C(brewing_method) + C(roast) + C(grind) + C(pure_arabica) + C(Fermented_closedtank)\", data=train_df).fit()\n",
    "print(model_step5.summary())\n",
    "model_step5.ssr"
   ]
  },
  {
   "cell_type": "code",
   "execution_count": 407,
   "metadata": {},
   "outputs": [
    {
     "output_type": "execute_result",
     "data": {
      "text/plain": [
       "                         brewing_method   roast  pure_arabica   grind  \\\n",
       "837                            espresso  medium          True   beans   \n",
       "697                            espresso  medium          True   beans   \n",
       "96   drip (alternative brewing methods)   light          True   beans   \n",
       "677                            espresso  medium          True   beans   \n",
       "823                            espresso    dark          True   beans   \n",
       "..                                  ...     ...           ...     ...   \n",
       "739                            espresso    dark         False  ground   \n",
       "791                            espresso    dark         False   beans   \n",
       "78   drip (alternative brewing methods)   light          True   beans   \n",
       "250  drip (alternative brewing methods)   light          True   beans   \n",
       "42   drip (alternative brewing methods)   light          True  ground   \n",
       "\n",
       "     Fermented_closedtank  \n",
       "837                 False  \n",
       "697                 False  \n",
       "96                  False  \n",
       "677                 False  \n",
       "823                  True  \n",
       "..                    ...  \n",
       "739                  True  \n",
       "791                 False  \n",
       "78                  False  \n",
       "250                 False  \n",
       "42                  False  \n",
       "\n",
       "[753 rows x 5 columns]"
      ],
      "text/html": "<div>\n<style scoped>\n    .dataframe tbody tr th:only-of-type {\n        vertical-align: middle;\n    }\n\n    .dataframe tbody tr th {\n        vertical-align: top;\n    }\n\n    .dataframe thead th {\n        text-align: right;\n    }\n</style>\n<table border=\"1\" class=\"dataframe\">\n  <thead>\n    <tr style=\"text-align: right;\">\n      <th></th>\n      <th>brewing_method</th>\n      <th>roast</th>\n      <th>pure_arabica</th>\n      <th>grind</th>\n      <th>Fermented_closedtank</th>\n    </tr>\n  </thead>\n  <tbody>\n    <tr>\n      <th>837</th>\n      <td>espresso</td>\n      <td>medium</td>\n      <td>True</td>\n      <td>beans</td>\n      <td>False</td>\n    </tr>\n    <tr>\n      <th>697</th>\n      <td>espresso</td>\n      <td>medium</td>\n      <td>True</td>\n      <td>beans</td>\n      <td>False</td>\n    </tr>\n    <tr>\n      <th>96</th>\n      <td>drip (alternative brewing methods)</td>\n      <td>light</td>\n      <td>True</td>\n      <td>beans</td>\n      <td>False</td>\n    </tr>\n    <tr>\n      <th>677</th>\n      <td>espresso</td>\n      <td>medium</td>\n      <td>True</td>\n      <td>beans</td>\n      <td>False</td>\n    </tr>\n    <tr>\n      <th>823</th>\n      <td>espresso</td>\n      <td>dark</td>\n      <td>True</td>\n      <td>beans</td>\n      <td>True</td>\n    </tr>\n    <tr>\n      <th>...</th>\n      <td>...</td>\n      <td>...</td>\n      <td>...</td>\n      <td>...</td>\n      <td>...</td>\n    </tr>\n    <tr>\n      <th>739</th>\n      <td>espresso</td>\n      <td>dark</td>\n      <td>False</td>\n      <td>ground</td>\n      <td>True</td>\n    </tr>\n    <tr>\n      <th>791</th>\n      <td>espresso</td>\n      <td>dark</td>\n      <td>False</td>\n      <td>beans</td>\n      <td>False</td>\n    </tr>\n    <tr>\n      <th>78</th>\n      <td>drip (alternative brewing methods)</td>\n      <td>light</td>\n      <td>True</td>\n      <td>beans</td>\n      <td>False</td>\n    </tr>\n    <tr>\n      <th>250</th>\n      <td>drip (alternative brewing methods)</td>\n      <td>light</td>\n      <td>True</td>\n      <td>beans</td>\n      <td>False</td>\n    </tr>\n    <tr>\n      <th>42</th>\n      <td>drip (alternative brewing methods)</td>\n      <td>light</td>\n      <td>True</td>\n      <td>ground</td>\n      <td>False</td>\n    </tr>\n  </tbody>\n</table>\n<p>753 rows × 5 columns</p>\n</div>"
     },
     "metadata": {},
     "execution_count": 407
    }
   ],
   "source": [
    "train_df_important = train_df[['brewing_method', 'roast', 'pure_arabica', 'grind', 'Fermented_closedtank']]\n",
    "train_df_important"
   ]
  },
  {
   "cell_type": "code",
   "execution_count": 408,
   "metadata": {},
   "outputs": [
    {
     "output_type": "execute_result",
     "data": {
      "text/plain": [
       "                      pure_arabica  Fermented_closedtank\n",
       "pure_arabica              1.000000              0.003429\n",
       "Fermented_closedtank      0.003429              1.000000"
      ],
      "text/html": "<div>\n<style scoped>\n    .dataframe tbody tr th:only-of-type {\n        vertical-align: middle;\n    }\n\n    .dataframe tbody tr th {\n        vertical-align: top;\n    }\n\n    .dataframe thead th {\n        text-align: right;\n    }\n</style>\n<table border=\"1\" class=\"dataframe\">\n  <thead>\n    <tr style=\"text-align: right;\">\n      <th></th>\n      <th>pure_arabica</th>\n      <th>Fermented_closedtank</th>\n    </tr>\n  </thead>\n  <tbody>\n    <tr>\n      <th>pure_arabica</th>\n      <td>1.000000</td>\n      <td>0.003429</td>\n    </tr>\n    <tr>\n      <th>Fermented_closedtank</th>\n      <td>0.003429</td>\n      <td>1.000000</td>\n    </tr>\n  </tbody>\n</table>\n</div>"
     },
     "metadata": {},
     "execution_count": 408
    }
   ],
   "source": [
    "train_df_important.corr()"
   ]
  },
  {
   "cell_type": "code",
   "execution_count": null,
   "metadata": {},
   "outputs": [],
   "source": [
    "# import plotly.graph_objects as go\n",
    "\n",
    "# coffee_df['arabica_fitted'] = model.fittedvalues\n",
    "\n",
    "# fig = go.Figure()\n",
    "\n",
    "# fig.add_trace(go.Scatter(\n",
    "#     x=coffee_df[\"percentage_of_arabica\"], y=coffee_df[\"price_per_kg\"], name=\"percentage_of_arabica vs price_per_kg (million sq km)\", mode=\"markers\"))\n",
    "# fig.add_trace(go.Scatter(\n",
    "#     x=coffee_df[\"percentage_of_arabica\"], y=coffee_df[\"arabica_fitted\"], name=\"Fitted Regression Line\"))\n",
    "# fig.update_layout(title=\"Regression line of percentage_of_arabica vs price_per_kg (million sq km)\", xaxis_title=\"percentage_of_arabica\",\n",
    "#     yaxis_title=\"price_per_kg\", height=800, width=950)\n",
    "# fig.show()"
   ]
  },
  {
   "cell_type": "code",
   "execution_count": 409,
   "metadata": {},
   "outputs": [
    {
     "output_type": "display_data",
     "data": {
      "application/vnd.plotly.v1+json": {
       "config": {
        "plotlyServerURL": "https://plot.ly"
       },
       "data": [
        {
         "coloraxis": "coloraxis",
         "hovertemplate": "x: %{x}<br>y: %{y}<br>color: %{z}<extra></extra>",
         "name": "0",
         "type": "heatmap",
         "x": [
          "pure_arabica",
          "Fermented_closedtank"
         ],
         "xaxis": "x",
         "y": [
          "pure_arabica",
          "Fermented_closedtank"
         ],
         "yaxis": "y",
         "z": [
          [
           1,
           0.0034292163838142054
          ],
          [
           0.0034292163838142054,
           1
          ]
         ]
        }
       ],
       "layout": {
        "coloraxis": {
         "colorscale": [
          [
           0,
           "rgb(75, 41, 145)"
          ],
          [
           0.16666666666666666,
           "rgb(135, 44, 162)"
          ],
          [
           0.3333333333333333,
           "rgb(192, 54, 157)"
          ],
          [
           0.5,
           "rgb(234, 79, 136)"
          ],
          [
           0.6666666666666666,
           "rgb(250, 120, 118)"
          ],
          [
           0.8333333333333334,
           "rgb(246, 169, 122)"
          ],
          [
           1,
           "rgb(237, 217, 163)"
          ]
         ]
        },
        "template": {
         "data": {
          "bar": [
           {
            "error_x": {
             "color": "#2a3f5f"
            },
            "error_y": {
             "color": "#2a3f5f"
            },
            "marker": {
             "line": {
              "color": "#E5ECF6",
              "width": 0.5
             }
            },
            "type": "bar"
           }
          ],
          "barpolar": [
           {
            "marker": {
             "line": {
              "color": "#E5ECF6",
              "width": 0.5
             }
            },
            "type": "barpolar"
           }
          ],
          "carpet": [
           {
            "aaxis": {
             "endlinecolor": "#2a3f5f",
             "gridcolor": "white",
             "linecolor": "white",
             "minorgridcolor": "white",
             "startlinecolor": "#2a3f5f"
            },
            "baxis": {
             "endlinecolor": "#2a3f5f",
             "gridcolor": "white",
             "linecolor": "white",
             "minorgridcolor": "white",
             "startlinecolor": "#2a3f5f"
            },
            "type": "carpet"
           }
          ],
          "choropleth": [
           {
            "colorbar": {
             "outlinewidth": 0,
             "ticks": ""
            },
            "type": "choropleth"
           }
          ],
          "contour": [
           {
            "colorbar": {
             "outlinewidth": 0,
             "ticks": ""
            },
            "colorscale": [
             [
              0,
              "#0d0887"
             ],
             [
              0.1111111111111111,
              "#46039f"
             ],
             [
              0.2222222222222222,
              "#7201a8"
             ],
             [
              0.3333333333333333,
              "#9c179e"
             ],
             [
              0.4444444444444444,
              "#bd3786"
             ],
             [
              0.5555555555555556,
              "#d8576b"
             ],
             [
              0.6666666666666666,
              "#ed7953"
             ],
             [
              0.7777777777777778,
              "#fb9f3a"
             ],
             [
              0.8888888888888888,
              "#fdca26"
             ],
             [
              1,
              "#f0f921"
             ]
            ],
            "type": "contour"
           }
          ],
          "contourcarpet": [
           {
            "colorbar": {
             "outlinewidth": 0,
             "ticks": ""
            },
            "type": "contourcarpet"
           }
          ],
          "heatmap": [
           {
            "colorbar": {
             "outlinewidth": 0,
             "ticks": ""
            },
            "colorscale": [
             [
              0,
              "#0d0887"
             ],
             [
              0.1111111111111111,
              "#46039f"
             ],
             [
              0.2222222222222222,
              "#7201a8"
             ],
             [
              0.3333333333333333,
              "#9c179e"
             ],
             [
              0.4444444444444444,
              "#bd3786"
             ],
             [
              0.5555555555555556,
              "#d8576b"
             ],
             [
              0.6666666666666666,
              "#ed7953"
             ],
             [
              0.7777777777777778,
              "#fb9f3a"
             ],
             [
              0.8888888888888888,
              "#fdca26"
             ],
             [
              1,
              "#f0f921"
             ]
            ],
            "type": "heatmap"
           }
          ],
          "heatmapgl": [
           {
            "colorbar": {
             "outlinewidth": 0,
             "ticks": ""
            },
            "colorscale": [
             [
              0,
              "#0d0887"
             ],
             [
              0.1111111111111111,
              "#46039f"
             ],
             [
              0.2222222222222222,
              "#7201a8"
             ],
             [
              0.3333333333333333,
              "#9c179e"
             ],
             [
              0.4444444444444444,
              "#bd3786"
             ],
             [
              0.5555555555555556,
              "#d8576b"
             ],
             [
              0.6666666666666666,
              "#ed7953"
             ],
             [
              0.7777777777777778,
              "#fb9f3a"
             ],
             [
              0.8888888888888888,
              "#fdca26"
             ],
             [
              1,
              "#f0f921"
             ]
            ],
            "type": "heatmapgl"
           }
          ],
          "histogram": [
           {
            "marker": {
             "colorbar": {
              "outlinewidth": 0,
              "ticks": ""
             }
            },
            "type": "histogram"
           }
          ],
          "histogram2d": [
           {
            "colorbar": {
             "outlinewidth": 0,
             "ticks": ""
            },
            "colorscale": [
             [
              0,
              "#0d0887"
             ],
             [
              0.1111111111111111,
              "#46039f"
             ],
             [
              0.2222222222222222,
              "#7201a8"
             ],
             [
              0.3333333333333333,
              "#9c179e"
             ],
             [
              0.4444444444444444,
              "#bd3786"
             ],
             [
              0.5555555555555556,
              "#d8576b"
             ],
             [
              0.6666666666666666,
              "#ed7953"
             ],
             [
              0.7777777777777778,
              "#fb9f3a"
             ],
             [
              0.8888888888888888,
              "#fdca26"
             ],
             [
              1,
              "#f0f921"
             ]
            ],
            "type": "histogram2d"
           }
          ],
          "histogram2dcontour": [
           {
            "colorbar": {
             "outlinewidth": 0,
             "ticks": ""
            },
            "colorscale": [
             [
              0,
              "#0d0887"
             ],
             [
              0.1111111111111111,
              "#46039f"
             ],
             [
              0.2222222222222222,
              "#7201a8"
             ],
             [
              0.3333333333333333,
              "#9c179e"
             ],
             [
              0.4444444444444444,
              "#bd3786"
             ],
             [
              0.5555555555555556,
              "#d8576b"
             ],
             [
              0.6666666666666666,
              "#ed7953"
             ],
             [
              0.7777777777777778,
              "#fb9f3a"
             ],
             [
              0.8888888888888888,
              "#fdca26"
             ],
             [
              1,
              "#f0f921"
             ]
            ],
            "type": "histogram2dcontour"
           }
          ],
          "mesh3d": [
           {
            "colorbar": {
             "outlinewidth": 0,
             "ticks": ""
            },
            "type": "mesh3d"
           }
          ],
          "parcoords": [
           {
            "line": {
             "colorbar": {
              "outlinewidth": 0,
              "ticks": ""
             }
            },
            "type": "parcoords"
           }
          ],
          "pie": [
           {
            "automargin": true,
            "type": "pie"
           }
          ],
          "scatter": [
           {
            "marker": {
             "colorbar": {
              "outlinewidth": 0,
              "ticks": ""
             }
            },
            "type": "scatter"
           }
          ],
          "scatter3d": [
           {
            "line": {
             "colorbar": {
              "outlinewidth": 0,
              "ticks": ""
             }
            },
            "marker": {
             "colorbar": {
              "outlinewidth": 0,
              "ticks": ""
             }
            },
            "type": "scatter3d"
           }
          ],
          "scattercarpet": [
           {
            "marker": {
             "colorbar": {
              "outlinewidth": 0,
              "ticks": ""
             }
            },
            "type": "scattercarpet"
           }
          ],
          "scattergeo": [
           {
            "marker": {
             "colorbar": {
              "outlinewidth": 0,
              "ticks": ""
             }
            },
            "type": "scattergeo"
           }
          ],
          "scattergl": [
           {
            "marker": {
             "colorbar": {
              "outlinewidth": 0,
              "ticks": ""
             }
            },
            "type": "scattergl"
           }
          ],
          "scattermapbox": [
           {
            "marker": {
             "colorbar": {
              "outlinewidth": 0,
              "ticks": ""
             }
            },
            "type": "scattermapbox"
           }
          ],
          "scatterpolar": [
           {
            "marker": {
             "colorbar": {
              "outlinewidth": 0,
              "ticks": ""
             }
            },
            "type": "scatterpolar"
           }
          ],
          "scatterpolargl": [
           {
            "marker": {
             "colorbar": {
              "outlinewidth": 0,
              "ticks": ""
             }
            },
            "type": "scatterpolargl"
           }
          ],
          "scatterternary": [
           {
            "marker": {
             "colorbar": {
              "outlinewidth": 0,
              "ticks": ""
             }
            },
            "type": "scatterternary"
           }
          ],
          "surface": [
           {
            "colorbar": {
             "outlinewidth": 0,
             "ticks": ""
            },
            "colorscale": [
             [
              0,
              "#0d0887"
             ],
             [
              0.1111111111111111,
              "#46039f"
             ],
             [
              0.2222222222222222,
              "#7201a8"
             ],
             [
              0.3333333333333333,
              "#9c179e"
             ],
             [
              0.4444444444444444,
              "#bd3786"
             ],
             [
              0.5555555555555556,
              "#d8576b"
             ],
             [
              0.6666666666666666,
              "#ed7953"
             ],
             [
              0.7777777777777778,
              "#fb9f3a"
             ],
             [
              0.8888888888888888,
              "#fdca26"
             ],
             [
              1,
              "#f0f921"
             ]
            ],
            "type": "surface"
           }
          ],
          "table": [
           {
            "cells": {
             "fill": {
              "color": "#EBF0F8"
             },
             "line": {
              "color": "white"
             }
            },
            "header": {
             "fill": {
              "color": "#C8D4E3"
             },
             "line": {
              "color": "white"
             }
            },
            "type": "table"
           }
          ]
         },
         "layout": {
          "annotationdefaults": {
           "arrowcolor": "#2a3f5f",
           "arrowhead": 0,
           "arrowwidth": 1
          },
          "autotypenumbers": "strict",
          "coloraxis": {
           "colorbar": {
            "outlinewidth": 0,
            "ticks": ""
           }
          },
          "colorscale": {
           "diverging": [
            [
             0,
             "#8e0152"
            ],
            [
             0.1,
             "#c51b7d"
            ],
            [
             0.2,
             "#de77ae"
            ],
            [
             0.3,
             "#f1b6da"
            ],
            [
             0.4,
             "#fde0ef"
            ],
            [
             0.5,
             "#f7f7f7"
            ],
            [
             0.6,
             "#e6f5d0"
            ],
            [
             0.7,
             "#b8e186"
            ],
            [
             0.8,
             "#7fbc41"
            ],
            [
             0.9,
             "#4d9221"
            ],
            [
             1,
             "#276419"
            ]
           ],
           "sequential": [
            [
             0,
             "#0d0887"
            ],
            [
             0.1111111111111111,
             "#46039f"
            ],
            [
             0.2222222222222222,
             "#7201a8"
            ],
            [
             0.3333333333333333,
             "#9c179e"
            ],
            [
             0.4444444444444444,
             "#bd3786"
            ],
            [
             0.5555555555555556,
             "#d8576b"
            ],
            [
             0.6666666666666666,
             "#ed7953"
            ],
            [
             0.7777777777777778,
             "#fb9f3a"
            ],
            [
             0.8888888888888888,
             "#fdca26"
            ],
            [
             1,
             "#f0f921"
            ]
           ],
           "sequentialminus": [
            [
             0,
             "#0d0887"
            ],
            [
             0.1111111111111111,
             "#46039f"
            ],
            [
             0.2222222222222222,
             "#7201a8"
            ],
            [
             0.3333333333333333,
             "#9c179e"
            ],
            [
             0.4444444444444444,
             "#bd3786"
            ],
            [
             0.5555555555555556,
             "#d8576b"
            ],
            [
             0.6666666666666666,
             "#ed7953"
            ],
            [
             0.7777777777777778,
             "#fb9f3a"
            ],
            [
             0.8888888888888888,
             "#fdca26"
            ],
            [
             1,
             "#f0f921"
            ]
           ]
          },
          "colorway": [
           "#636efa",
           "#EF553B",
           "#00cc96",
           "#ab63fa",
           "#FFA15A",
           "#19d3f3",
           "#FF6692",
           "#B6E880",
           "#FF97FF",
           "#FECB52"
          ],
          "font": {
           "color": "#2a3f5f"
          },
          "geo": {
           "bgcolor": "white",
           "lakecolor": "white",
           "landcolor": "#E5ECF6",
           "showlakes": true,
           "showland": true,
           "subunitcolor": "white"
          },
          "hoverlabel": {
           "align": "left"
          },
          "hovermode": "closest",
          "mapbox": {
           "style": "light"
          },
          "paper_bgcolor": "white",
          "plot_bgcolor": "#E5ECF6",
          "polar": {
           "angularaxis": {
            "gridcolor": "white",
            "linecolor": "white",
            "ticks": ""
           },
           "bgcolor": "#E5ECF6",
           "radialaxis": {
            "gridcolor": "white",
            "linecolor": "white",
            "ticks": ""
           }
          },
          "scene": {
           "xaxis": {
            "backgroundcolor": "#E5ECF6",
            "gridcolor": "white",
            "gridwidth": 2,
            "linecolor": "white",
            "showbackground": true,
            "ticks": "",
            "zerolinecolor": "white"
           },
           "yaxis": {
            "backgroundcolor": "#E5ECF6",
            "gridcolor": "white",
            "gridwidth": 2,
            "linecolor": "white",
            "showbackground": true,
            "ticks": "",
            "zerolinecolor": "white"
           },
           "zaxis": {
            "backgroundcolor": "#E5ECF6",
            "gridcolor": "white",
            "gridwidth": 2,
            "linecolor": "white",
            "showbackground": true,
            "ticks": "",
            "zerolinecolor": "white"
           }
          },
          "shapedefaults": {
           "line": {
            "color": "#2a3f5f"
           }
          },
          "ternary": {
           "aaxis": {
            "gridcolor": "white",
            "linecolor": "white",
            "ticks": ""
           },
           "baxis": {
            "gridcolor": "white",
            "linecolor": "white",
            "ticks": ""
           },
           "bgcolor": "#E5ECF6",
           "caxis": {
            "gridcolor": "white",
            "linecolor": "white",
            "ticks": ""
           }
          },
          "title": {
           "x": 0.05
          },
          "xaxis": {
           "automargin": true,
           "gridcolor": "white",
           "linecolor": "white",
           "ticks": "",
           "title": {
            "standoff": 15
           },
           "zerolinecolor": "white",
           "zerolinewidth": 2
          },
          "yaxis": {
           "automargin": true,
           "gridcolor": "white",
           "linecolor": "white",
           "ticks": "",
           "title": {
            "standoff": 15
           },
           "zerolinecolor": "white",
           "zerolinewidth": 2
          }
         }
        },
        "title": {
         "text": "Correlation between coffee variables"
        },
        "xaxis": {
         "anchor": "y",
         "constrain": "domain",
         "domain": [
          0,
          1
         ],
         "scaleanchor": "y"
        },
        "yaxis": {
         "anchor": "x",
         "autorange": "reversed",
         "constrain": "domain",
         "domain": [
          0,
          1
         ]
        }
       }
      }
     },
     "metadata": {}
    }
   ],
   "source": [
    "import plotly.express as px\n",
    "\n",
    "px.imshow(train_df_important.corr(), color_continuous_scale='Agsunset', title=\"Correlation between coffee variables\")"
   ]
  },
  {
   "source": [
    "### Observations:\n",
    "* variables chosen in the forward and backward stepwise selection differ by 1 variable:\n",
    "    - Forward: brewing_method, roast, pure_arabica, grind\n",
    "    - Backward: brewing_method, roast, pure_arabica, grind, Fermented_closedtank\n",
    "* the ssr for each model is different with backward being smaller:\n",
    "    - Forward:  111039.32822297813\n",
    "    - Backward: 110157.32740949612"
   ],
   "cell_type": "markdown",
   "metadata": {}
  },
  {
   "cell_type": "code",
   "execution_count": null,
   "metadata": {},
   "outputs": [],
   "source": [
    "# TODO: Interactions and transformations"
   ]
  }
 ]
}