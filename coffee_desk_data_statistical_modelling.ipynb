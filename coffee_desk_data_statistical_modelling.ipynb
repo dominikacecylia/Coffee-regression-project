{
 "metadata": {
  "language_info": {
   "codemirror_mode": {
    "name": "ipython",
    "version": 3
   },
   "file_extension": ".py",
   "mimetype": "text/x-python",
   "name": "python",
   "nbconvert_exporter": "python",
   "pygments_lexer": "ipython3",
   "version": "3.9.1"
  },
  "orig_nbformat": 2,
  "kernelspec": {
   "name": "python391jvsc74a57bd0f8b6ea6d13f5748502004c2e5659a6272de46c202ad482ac9f90784c65a6c667",
   "display_name": "Python 3.9.1 64-bit (conda)"
  }
 },
 "nbformat": 4,
 "nbformat_minor": 2,
 "cells": [
  {
   "source": [
    "# Statistical modelling of coffee desk data"
   ],
   "cell_type": "markdown",
   "metadata": {}
  },
  {
   "source": [
    "## Import and read data from csv file"
   ],
   "cell_type": "markdown",
   "metadata": {}
  },
  {
   "cell_type": "code",
   "execution_count": 30,
   "metadata": {},
   "outputs": [
    {
     "output_type": "stream",
     "name": "stdout",
     "text": [
      "Collecting statsmodels\n",
      "  Downloading statsmodels-0.12.2-cp39-none-win_amd64.whl (9.4 MB)\n",
      "Requirement already satisfied: numpy>=1.15 in c:\\users\\lucyna\\miniconda3\\lib\\site-packages (from statsmodels) (1.19.5)\n",
      "Requirement already satisfied: pandas>=0.21 in c:\\users\\lucyna\\miniconda3\\lib\\site-packages (from statsmodels) (1.2.4)\n",
      "Requirement already satisfied: scipy>=1.1 in c:\\users\\lucyna\\miniconda3\\lib\\site-packages (from statsmodels) (1.6.3)\n",
      "Requirement already satisfied: python-dateutil>=2.7.3 in c:\\users\\lucyna\\miniconda3\\lib\\site-packages (from pandas>=0.21->statsmodels) (2.8.1)\n",
      "Requirement already satisfied: pytz>=2017.3 in c:\\users\\lucyna\\miniconda3\\lib\\site-packages (from pandas>=0.21->statsmodels) (2021.1)\n",
      "Requirement already satisfied: numpy>=1.15 in c:\\users\\lucyna\\miniconda3\\lib\\site-packages (from statsmodels) (1.19.5)\n",
      "Collecting patsy>=0.5\n",
      "  Using cached patsy-0.5.1-py2.py3-none-any.whl (231 kB)\n",
      "Requirement already satisfied: six in c:\\users\\lucyna\\miniconda3\\lib\\site-packages (from patsy>=0.5->statsmodels) (1.15.0)\n",
      "Requirement already satisfied: numpy>=1.15 in c:\\users\\lucyna\\miniconda3\\lib\\site-packages (from statsmodels) (1.19.5)\n",
      "Requirement already satisfied: six in c:\\users\\lucyna\\miniconda3\\lib\\site-packages (from patsy>=0.5->statsmodels) (1.15.0)\n",
      "Requirement already satisfied: numpy>=1.15 in c:\\users\\lucyna\\miniconda3\\lib\\site-packages (from statsmodels) (1.19.5)\n",
      "Installing collected packages: patsy, statsmodels\n",
      "Successfully installed patsy-0.5.1 statsmodels-0.12.2\n"
     ]
    }
   ],
   "source": [
    "!pip install statsmodels"
   ]
  },
  {
   "cell_type": "code",
   "execution_count": 31,
   "metadata": {},
   "outputs": [],
   "source": [
    "import pandas as pd\n",
    "import numpy as np\n",
    "from sklearn.model_selection import train_test_split\n",
    "import statsmodels.formula.api as smf"
   ]
  },
  {
   "cell_type": "code",
   "execution_count": null,
   "metadata": {},
   "outputs": [],
   "source": []
  },
  {
   "cell_type": "code",
   "execution_count": 153,
   "metadata": {},
   "outputs": [
    {
     "output_type": "execute_result",
     "data": {
      "text/plain": [
       "            process                      brewing method   roast  grind  \\\n",
       "0        Monsooning  drip (alternative brewing methods)   light  beans   \n",
       "1           Natural  drip (alternative brewing methods)  medium  beans   \n",
       "2           Natural  drip (alternative brewing methods)   light  beans   \n",
       "3            Washed  drip (alternative brewing methods)   light  beans   \n",
       "4           Natural  drip (alternative brewing methods)    dark  beans   \n",
       "..              ...                                 ...     ...    ...   \n",
       "857        Rum Aged  drip (alternative brewing methods)   light  beans   \n",
       "858         Natural                            espresso   light  beans   \n",
       "859  Pulped natural  drip (alternative brewing methods)   light  beans   \n",
       "860          Washed  drip (alternative brewing methods)   light  beans   \n",
       "861          Washed  drip (alternative brewing methods)   light  beans   \n",
       "\n",
       "        origin  price_per_kg  arabica (%)  Pure arabica  \\\n",
       "0         Laos         52.22          100          True   \n",
       "1     Brazylia         31.92          100          True   \n",
       "2      Etiopia         39.20          100          True   \n",
       "3      Etiopia         39.20          100          True   \n",
       "4    Indonezja         35.20          100          True   \n",
       "..         ...           ...          ...           ...   \n",
       "857  Gwatemala         73.33          100          True   \n",
       "858     Panama         50.00           30         False   \n",
       "859  Nikaragua         36.00          100          True   \n",
       "860  Gwatemala         25.00          100          True   \n",
       "861  Gwatemala         29.60          100          True   \n",
       "\n",
       "                                    roast_brew  Washed  Natural  \\\n",
       "0     light_drip (alternative brewing methods)   False    False   \n",
       "1    medium_drip (alternative brewing methods)   False     True   \n",
       "2     light_drip (alternative brewing methods)   False     True   \n",
       "3     light_drip (alternative brewing methods)    True    False   \n",
       "4      dark_drip (alternative brewing methods)   False     True   \n",
       "..                                         ...     ...      ...   \n",
       "857   light_drip (alternative brewing methods)   False    False   \n",
       "858                             light_espresso   False     True   \n",
       "859   light_drip (alternative brewing methods)    True     True   \n",
       "860   light_drip (alternative brewing methods)    True    False   \n",
       "861   light_drip (alternative brewing methods)    True    False   \n",
       "\n",
       "     Fermented/macerated (traditional)  Fermented/macerated (closed tank)  \\\n",
       "0                                False                              False   \n",
       "1                                False                              False   \n",
       "2                                False                              False   \n",
       "3                                False                              False   \n",
       "4                                False                              False   \n",
       "..                                 ...                                ...   \n",
       "857                              False                              False   \n",
       "858                              False                              False   \n",
       "859                              False                              False   \n",
       "860                              False                              False   \n",
       "861                              False                              False   \n",
       "\n",
       "    process_general region of origin  \n",
       "0        Monsooning             Asia  \n",
       "1           Natural            Latam  \n",
       "2           Natural           Africa  \n",
       "3            Washed           Africa  \n",
       "4           Natural             Asia  \n",
       "..              ...              ...  \n",
       "857       Fermented            Latam  \n",
       "858         Natural            Latam  \n",
       "859          Hybrid            Latam  \n",
       "860          Washed            Latam  \n",
       "861          Washed            Latam  \n",
       "\n",
       "[862 rows x 15 columns]"
      ],
      "text/html": "<div>\n<style scoped>\n    .dataframe tbody tr th:only-of-type {\n        vertical-align: middle;\n    }\n\n    .dataframe tbody tr th {\n        vertical-align: top;\n    }\n\n    .dataframe thead th {\n        text-align: right;\n    }\n</style>\n<table border=\"1\" class=\"dataframe\">\n  <thead>\n    <tr style=\"text-align: right;\">\n      <th></th>\n      <th>process</th>\n      <th>brewing method</th>\n      <th>roast</th>\n      <th>grind</th>\n      <th>origin</th>\n      <th>price_per_kg</th>\n      <th>arabica (%)</th>\n      <th>Pure arabica</th>\n      <th>roast_brew</th>\n      <th>Washed</th>\n      <th>Natural</th>\n      <th>Fermented/macerated (traditional)</th>\n      <th>Fermented/macerated (closed tank)</th>\n      <th>process_general</th>\n      <th>region of origin</th>\n    </tr>\n  </thead>\n  <tbody>\n    <tr>\n      <th>0</th>\n      <td>Monsooning</td>\n      <td>drip (alternative brewing methods)</td>\n      <td>light</td>\n      <td>beans</td>\n      <td>Laos</td>\n      <td>52.22</td>\n      <td>100</td>\n      <td>True</td>\n      <td>light_drip (alternative brewing methods)</td>\n      <td>False</td>\n      <td>False</td>\n      <td>False</td>\n      <td>False</td>\n      <td>Monsooning</td>\n      <td>Asia</td>\n    </tr>\n    <tr>\n      <th>1</th>\n      <td>Natural</td>\n      <td>drip (alternative brewing methods)</td>\n      <td>medium</td>\n      <td>beans</td>\n      <td>Brazylia</td>\n      <td>31.92</td>\n      <td>100</td>\n      <td>True</td>\n      <td>medium_drip (alternative brewing methods)</td>\n      <td>False</td>\n      <td>True</td>\n      <td>False</td>\n      <td>False</td>\n      <td>Natural</td>\n      <td>Latam</td>\n    </tr>\n    <tr>\n      <th>2</th>\n      <td>Natural</td>\n      <td>drip (alternative brewing methods)</td>\n      <td>light</td>\n      <td>beans</td>\n      <td>Etiopia</td>\n      <td>39.20</td>\n      <td>100</td>\n      <td>True</td>\n      <td>light_drip (alternative brewing methods)</td>\n      <td>False</td>\n      <td>True</td>\n      <td>False</td>\n      <td>False</td>\n      <td>Natural</td>\n      <td>Africa</td>\n    </tr>\n    <tr>\n      <th>3</th>\n      <td>Washed</td>\n      <td>drip (alternative brewing methods)</td>\n      <td>light</td>\n      <td>beans</td>\n      <td>Etiopia</td>\n      <td>39.20</td>\n      <td>100</td>\n      <td>True</td>\n      <td>light_drip (alternative brewing methods)</td>\n      <td>True</td>\n      <td>False</td>\n      <td>False</td>\n      <td>False</td>\n      <td>Washed</td>\n      <td>Africa</td>\n    </tr>\n    <tr>\n      <th>4</th>\n      <td>Natural</td>\n      <td>drip (alternative brewing methods)</td>\n      <td>dark</td>\n      <td>beans</td>\n      <td>Indonezja</td>\n      <td>35.20</td>\n      <td>100</td>\n      <td>True</td>\n      <td>dark_drip (alternative brewing methods)</td>\n      <td>False</td>\n      <td>True</td>\n      <td>False</td>\n      <td>False</td>\n      <td>Natural</td>\n      <td>Asia</td>\n    </tr>\n    <tr>\n      <th>...</th>\n      <td>...</td>\n      <td>...</td>\n      <td>...</td>\n      <td>...</td>\n      <td>...</td>\n      <td>...</td>\n      <td>...</td>\n      <td>...</td>\n      <td>...</td>\n      <td>...</td>\n      <td>...</td>\n      <td>...</td>\n      <td>...</td>\n      <td>...</td>\n      <td>...</td>\n    </tr>\n    <tr>\n      <th>857</th>\n      <td>Rum Aged</td>\n      <td>drip (alternative brewing methods)</td>\n      <td>light</td>\n      <td>beans</td>\n      <td>Gwatemala</td>\n      <td>73.33</td>\n      <td>100</td>\n      <td>True</td>\n      <td>light_drip (alternative brewing methods)</td>\n      <td>False</td>\n      <td>False</td>\n      <td>False</td>\n      <td>False</td>\n      <td>Fermented</td>\n      <td>Latam</td>\n    </tr>\n    <tr>\n      <th>858</th>\n      <td>Natural</td>\n      <td>espresso</td>\n      <td>light</td>\n      <td>beans</td>\n      <td>Panama</td>\n      <td>50.00</td>\n      <td>30</td>\n      <td>False</td>\n      <td>light_espresso</td>\n      <td>False</td>\n      <td>True</td>\n      <td>False</td>\n      <td>False</td>\n      <td>Natural</td>\n      <td>Latam</td>\n    </tr>\n    <tr>\n      <th>859</th>\n      <td>Pulped natural</td>\n      <td>drip (alternative brewing methods)</td>\n      <td>light</td>\n      <td>beans</td>\n      <td>Nikaragua</td>\n      <td>36.00</td>\n      <td>100</td>\n      <td>True</td>\n      <td>light_drip (alternative brewing methods)</td>\n      <td>True</td>\n      <td>True</td>\n      <td>False</td>\n      <td>False</td>\n      <td>Hybrid</td>\n      <td>Latam</td>\n    </tr>\n    <tr>\n      <th>860</th>\n      <td>Washed</td>\n      <td>drip (alternative brewing methods)</td>\n      <td>light</td>\n      <td>beans</td>\n      <td>Gwatemala</td>\n      <td>25.00</td>\n      <td>100</td>\n      <td>True</td>\n      <td>light_drip (alternative brewing methods)</td>\n      <td>True</td>\n      <td>False</td>\n      <td>False</td>\n      <td>False</td>\n      <td>Washed</td>\n      <td>Latam</td>\n    </tr>\n    <tr>\n      <th>861</th>\n      <td>Washed</td>\n      <td>drip (alternative brewing methods)</td>\n      <td>light</td>\n      <td>beans</td>\n      <td>Gwatemala</td>\n      <td>29.60</td>\n      <td>100</td>\n      <td>True</td>\n      <td>light_drip (alternative brewing methods)</td>\n      <td>True</td>\n      <td>False</td>\n      <td>False</td>\n      <td>False</td>\n      <td>Washed</td>\n      <td>Latam</td>\n    </tr>\n  </tbody>\n</table>\n<p>862 rows × 15 columns</p>\n</div>"
     },
     "metadata": {},
     "execution_count": 153
    }
   ],
   "source": [
    "coffee_df = pd.read_csv('data\\coffee_desk_dataset_ead.csv')\n",
    "coffee_df.drop(columns='idx', axis=1, inplace=True) #dropping index not to be treated as vector dimension\n",
    "coffee_df"
   ]
  },
  {
   "cell_type": "code",
   "execution_count": 181,
   "metadata": {},
   "outputs": [],
   "source": [
    "coffee_df.rename(columns={'brewing method':'brewing_method', 'arabica (%)':'percentage_of_arabica', 'Pure arabica':'pure_arabica', 'region of origin':'region_of_origin', 'Fermented/macerated (traditional)':'Fermented_traditional', 'Fermented/macerated (closed tank)':'Fermented_closedtank'}, inplace=True)"
   ]
  },
  {
   "source": [
    "## Train-val-test split"
   ],
   "cell_type": "markdown",
   "metadata": {}
  },
  {
   "cell_type": "code",
   "execution_count": 182,
   "metadata": {},
   "outputs": [],
   "source": [
    "X_df = coffee_df.drop('price_per_kg', axis=1) #defining predictors\n",
    "y_df = coffee_df['price_per_kg'] #defining target variable"
   ]
  },
  {
   "cell_type": "code",
   "execution_count": 183,
   "metadata": {},
   "outputs": [],
   "source": [
    "X_train, X_test, y_train, y_test = train_test_split(X_df, y_df, test_size=0.1, random_state=True) #using random state to ensure I always have random division with the same random numbers"
   ]
  },
  {
   "cell_type": "code",
   "execution_count": 184,
   "metadata": {},
   "outputs": [
    {
     "output_type": "execute_result",
     "data": {
      "text/plain": [
       "     price_per_kg  process                      brewing_method   roast  grind  \\\n",
       "482          25.8  Natural                            espresso  medium  beans   \n",
       "426          21.6   Washed                      drip, espresso  medium  beans   \n",
       "836          25.2   Washed                            espresso  medium  beans   \n",
       "364          52.8   Washed  drip (alternative brewing methods)   light  beans   \n",
       "50           29.2   Washed  drip (alternative brewing methods)   light  beans   \n",
       "\n",
       "       origin  percentage_of_arabica  pure_arabica  \\\n",
       "482  Brazylia                    100          True   \n",
       "426  Kolumbia                    100          True   \n",
       "836  Kolumbia                    100          True   \n",
       "364   Etiopia                    100          True   \n",
       "50   Kolumbia                    100          True   \n",
       "\n",
       "                                   roast_brew  Washed  Natural  \\\n",
       "482                           medium_espresso   False     True   \n",
       "426                     medium_drip, espresso    True    False   \n",
       "836                           medium_espresso    True    False   \n",
       "364  light_drip (alternative brewing methods)    True    False   \n",
       "50   light_drip (alternative brewing methods)    True    False   \n",
       "\n",
       "     Fermented_traditional  Fermented_closedtank process_general  \\\n",
       "482                  False                 False         Natural   \n",
       "426                  False                 False          Washed   \n",
       "836                  False                 False          Washed   \n",
       "364                  False                 False          Washed   \n",
       "50                   False                 False          Washed   \n",
       "\n",
       "    region_of_origin  \n",
       "482            Latam  \n",
       "426            Latam  \n",
       "836            Latam  \n",
       "364           Africa  \n",
       "50             Latam  "
      ],
      "text/html": "<div>\n<style scoped>\n    .dataframe tbody tr th:only-of-type {\n        vertical-align: middle;\n    }\n\n    .dataframe tbody tr th {\n        vertical-align: top;\n    }\n\n    .dataframe thead th {\n        text-align: right;\n    }\n</style>\n<table border=\"1\" class=\"dataframe\">\n  <thead>\n    <tr style=\"text-align: right;\">\n      <th></th>\n      <th>price_per_kg</th>\n      <th>process</th>\n      <th>brewing_method</th>\n      <th>roast</th>\n      <th>grind</th>\n      <th>origin</th>\n      <th>percentage_of_arabica</th>\n      <th>pure_arabica</th>\n      <th>roast_brew</th>\n      <th>Washed</th>\n      <th>Natural</th>\n      <th>Fermented_traditional</th>\n      <th>Fermented_closedtank</th>\n      <th>process_general</th>\n      <th>region_of_origin</th>\n    </tr>\n  </thead>\n  <tbody>\n    <tr>\n      <th>482</th>\n      <td>25.8</td>\n      <td>Natural</td>\n      <td>espresso</td>\n      <td>medium</td>\n      <td>beans</td>\n      <td>Brazylia</td>\n      <td>100</td>\n      <td>True</td>\n      <td>medium_espresso</td>\n      <td>False</td>\n      <td>True</td>\n      <td>False</td>\n      <td>False</td>\n      <td>Natural</td>\n      <td>Latam</td>\n    </tr>\n    <tr>\n      <th>426</th>\n      <td>21.6</td>\n      <td>Washed</td>\n      <td>drip, espresso</td>\n      <td>medium</td>\n      <td>beans</td>\n      <td>Kolumbia</td>\n      <td>100</td>\n      <td>True</td>\n      <td>medium_drip, espresso</td>\n      <td>True</td>\n      <td>False</td>\n      <td>False</td>\n      <td>False</td>\n      <td>Washed</td>\n      <td>Latam</td>\n    </tr>\n    <tr>\n      <th>836</th>\n      <td>25.2</td>\n      <td>Washed</td>\n      <td>espresso</td>\n      <td>medium</td>\n      <td>beans</td>\n      <td>Kolumbia</td>\n      <td>100</td>\n      <td>True</td>\n      <td>medium_espresso</td>\n      <td>True</td>\n      <td>False</td>\n      <td>False</td>\n      <td>False</td>\n      <td>Washed</td>\n      <td>Latam</td>\n    </tr>\n    <tr>\n      <th>364</th>\n      <td>52.8</td>\n      <td>Washed</td>\n      <td>drip (alternative brewing methods)</td>\n      <td>light</td>\n      <td>beans</td>\n      <td>Etiopia</td>\n      <td>100</td>\n      <td>True</td>\n      <td>light_drip (alternative brewing methods)</td>\n      <td>True</td>\n      <td>False</td>\n      <td>False</td>\n      <td>False</td>\n      <td>Washed</td>\n      <td>Africa</td>\n    </tr>\n    <tr>\n      <th>50</th>\n      <td>29.2</td>\n      <td>Washed</td>\n      <td>drip (alternative brewing methods)</td>\n      <td>light</td>\n      <td>beans</td>\n      <td>Kolumbia</td>\n      <td>100</td>\n      <td>True</td>\n      <td>light_drip (alternative brewing methods)</td>\n      <td>True</td>\n      <td>False</td>\n      <td>False</td>\n      <td>False</td>\n      <td>Washed</td>\n      <td>Latam</td>\n    </tr>\n  </tbody>\n</table>\n</div>"
     },
     "metadata": {},
     "execution_count": 184
    }
   ],
   "source": [
    "train_df = pd.concat([y_train, X_train], axis=1)\n",
    "train_df.head()"
   ]
  },
  {
   "source": [
    "## Initial stats modelling"
   ],
   "cell_type": "markdown",
   "metadata": {}
  },
  {
   "source": [
    "## Forward stepwise selection\n",
    "1. Begins with a model that contains no variables (called the Null Model)\n",
    "2. Then starts adding the most significant variables one after the other\n",
    "3. Until a pre-specified stopping rule is reached or until all the variables under consideration are included in the model"
   ],
   "cell_type": "markdown",
   "metadata": {}
  },
  {
   "source": [
    "Steps:\n",
    "* determine the most significant variables:\n",
    "    - has the smallest p-value\n",
    "    - provides the highest increase in R^2\n",
    "    - provides the highest drop in modell RSS (Residuals Sum of Squares)\n",
    "* choose a stopping rule"
   ],
   "cell_type": "markdown",
   "metadata": {}
  },
  {
   "cell_type": "code",
   "execution_count": 185,
   "metadata": {},
   "outputs": [
    {
     "output_type": "stream",
     "name": "stdout",
     "text": [
      "                            OLS Regression Results                            \n==============================================================================\nDep. Variable:           price_per_kg   R-squared:                       0.000\nModel:                            OLS   Adj. R-squared:                  0.000\nMethod:                 Least Squares   F-statistic:                       nan\nDate:                Mon, 31 May 2021   Prob (F-statistic):                nan\nTime:                        20:31:33   Log-Likelihood:                -3485.1\nNo. Observations:                 775   AIC:                             6972.\nDf Residuals:                     774   BIC:                             6977.\nDf Model:                           0                                         \nCovariance Type:            nonrobust                                         \n==============================================================================\n                 coef    std err          t      P>|t|      [0.025      0.975]\n------------------------------------------------------------------------------\nIntercept     36.8732      0.780     47.246      0.000      35.341      38.405\n==============================================================================\nOmnibus:                      371.292   Durbin-Watson:                   2.022\nProb(Omnibus):                  0.000   Jarque-Bera (JB):             2097.627\nSkew:                           2.147   Prob(JB):                         0.00\nKurtosis:                       9.821   Cond. No.                         1.00\n==============================================================================\n\nNotes:\n[1] Standard Errors assume that the covariance matrix of the errors is correctly specified.\n"
     ]
    }
   ],
   "source": [
    "model_0 = smf.ols(formula=\"price_per_kg ~ 1\", data=train_df).fit() # the initial model with no variables\n",
    "print(model_0.summary())"
   ]
  },
  {
   "cell_type": "code",
   "execution_count": 175,
   "metadata": {},
   "outputs": [
    {
     "output_type": "execute_result",
     "data": {
      "text/plain": [
       "365375.29442787095"
      ]
     },
     "metadata": {},
     "execution_count": 175
    }
   ],
   "source": [
    "model_0.ssr # sum in squares for the original model"
   ]
  },
  {
   "cell_type": "code",
   "execution_count": 173,
   "metadata": {},
   "outputs": [
    {
     "output_type": "stream",
     "name": "stdout",
     "text": [
      "                            OLS Regression Results                            \n==============================================================================\nDep. Variable:           price_per_kg   R-squared:                       0.187\nModel:                            OLS   Adj. R-squared:                  0.162\nMethod:                 Least Squares   F-statistic:                     7.486\nDate:                Mon, 31 May 2021   Prob (F-statistic):           5.78e-22\nTime:                        20:25:09   Log-Likelihood:                -3405.1\nNo. Observations:                 775   AIC:                             6858.\nDf Residuals:                     751   BIC:                             6970.\nDf Model:                          23                                         \nCovariance Type:            nonrobust                                         \n=================================================================================================================\n                                                    coef    std err          t      P>|t|      [0.025      0.975]\n-----------------------------------------------------------------------------------------------------------------\nIntercept                                        44.0000     14.067      3.128      0.002      16.384      71.616\nC(process)[T.Anaerobic]                          23.8500     15.194      1.570      0.117      -5.979      53.679\nC(process)[T.Anaerobic natural]                   1.6933     18.161      0.093      0.926     -33.959      37.345\nC(process)[T.CRYO]                               29.0000     24.365      1.190      0.234     -18.832      76.832\nC(process)[T.Carbonic Maceration]                57.7600     16.645      3.470      0.001      25.084      90.436\nC(process)[T.Experimental]                      -14.4000     24.365     -0.591      0.555     -62.232      33.432\nC(process)[T.Experimental Anaerobic]              8.0000     24.365      0.328      0.743     -39.832      55.832\nC(process)[T.Fermentacja kontrolowana]           -4.0000     24.365     -0.164      0.870     -51.832      43.832\nC(process)[T.Honey]                               0.6304     14.561      0.043      0.965     -27.955      29.216\nC(process)[T.Honey + Anaerobic]                   1.6000     24.365      0.066      0.948     -46.232      49.432\nC(process)[T.Macerated Natural]                  14.2800     16.243      0.879      0.380     -17.608      46.168\nC(process)[T.Monsooning]                          1.0840     16.645      0.065      0.948     -31.592      33.760\nC(process)[T.Natural]                            -9.1210     14.123     -0.646      0.519     -36.847      18.605\nC(process)[T.Pulped natural]                    -21.7986     14.391     -1.515      0.130     -50.049       6.452\nC(process)[T.Rum Aged]                          -18.8914     14.693     -1.286      0.199     -47.735       9.952\nC(process)[T.Semi-Carbonic Maceration]           -4.0060     14.754     -0.272      0.786     -32.970      24.958\nC(process)[T.Semi-Washed Kombucha Experiment]   -18.5878     14.340     -1.296      0.195     -46.740       9.564\nC(process)[T.Semi-washed]                         9.1924     14.872      0.618      0.537     -20.003      38.388\nC(process)[T.Washed]                             -6.0543     14.115     -0.429      0.668     -33.764      21.655\nC(process)[T.Washed Anaerobic]                    6.8000     19.894      0.342      0.733     -32.255      45.855\nC(process)[T.Washed Double Anaerobic]            46.0000     24.365      1.888      0.059      -1.832      93.832\nC(process)[T.Washed and natural]                 -2.2800     16.645     -0.137      0.891     -34.956      30.396\nC(process)[T.Yeast Process]                       5.6000     19.894      0.281      0.778     -33.455      44.655\nC(process)[T.Yellow Bourbon]                      2.4000     24.365      0.099      0.922     -45.432      50.232\n==============================================================================\nOmnibus:                      416.441   Durbin-Watson:                   1.984\nProb(Omnibus):                  0.000   Jarque-Bera (JB):             3389.663\nSkew:                           2.312   Prob(JB):                         0.00\nKurtosis:                      12.143   Cond. No.                         111.\n==============================================================================\n\nNotes:\n[1] Standard Errors assume that the covariance matrix of the errors is correctly specified.\n"
     ]
    }
   ],
   "source": [
    "# process\n",
    "process_model = smf.ols(formula=\"price_per_kg ~ C(process)\", data=train_df).fit()\n",
    "print(process_model.summary())"
   ]
  },
  {
   "cell_type": "code",
   "execution_count": 174,
   "metadata": {},
   "outputs": [
    {
     "output_type": "execute_result",
     "data": {
      "text/plain": [
       "297228.4546231441"
      ]
     },
     "metadata": {},
     "execution_count": 174
    }
   ],
   "source": [
    "process_model.ssr"
   ]
  },
  {
   "cell_type": "code",
   "execution_count": 186,
   "metadata": {},
   "outputs": [
    {
     "output_type": "stream",
     "name": "stdout",
     "text": [
      "                            OLS Regression Results                            \n==============================================================================\nDep. Variable:           price_per_kg   R-squared:                       0.048\nModel:                            OLS   Adj. R-squared:                  0.038\nMethod:                 Least Squares   F-statistic:                     4.775\nDate:                Mon, 31 May 2021   Prob (F-statistic):           9.61e-06\nTime:                        20:31:52   Log-Likelihood:                -3466.2\nNo. Observations:                 775   AIC:                             6950.\nDf Residuals:                     766   BIC:                             6992.\nDf Model:                           8                                         \nCovariance Type:            nonrobust                                         \n======================================================================================================\n                                         coef    std err          t      P>|t|      [0.025      0.975]\n------------------------------------------------------------------------------------------------------\nIntercept                             73.0000     21.315      3.425      0.001      31.157     114.843\nC(process_general)[T.Experimental]   -43.4000     30.144     -1.440      0.150    -102.575      15.775\nC(process_general)[T.Fermented]      -34.4322     21.398     -1.609      0.108     -76.437       7.573\nC(process_general)[T.Honey]          -28.3362     21.679     -1.307      0.192     -70.894      14.222\nC(process_general)[T.Hybrid]         -48.7654     21.536     -2.264      0.024     -91.042      -6.489\nC(process_general)[T.Monsooning]     -27.9160     23.349     -1.196      0.232     -73.753      17.921\nC(process_general)[T.Natural]        -38.1210     21.357     -1.785      0.075     -80.047       3.805\nC(process_general)[T.Semi-washed]    -19.8076     21.933     -0.903      0.367     -62.864      23.248\nC(process_general)[T.Washed]         -35.0543     21.351     -1.642      0.101     -76.968       6.860\n==============================================================================\nOmnibus:                      382.516   Durbin-Watson:                   2.020\nProb(Omnibus):                  0.000   Jarque-Bera (JB):             2396.604\nSkew:                           2.181   Prob(JB):                         0.00\nKurtosis:                      10.429   Cond. No.                         95.9\n==============================================================================\n\nNotes:\n[1] Standard Errors assume that the covariance matrix of the errors is correctly specified.\n"
     ]
    }
   ],
   "source": [
    "# process_general TODO: low p-value -> potentially good variable\n",
    "model = smf.ols(formula=\"price_per_kg ~ C(process_general)\", data=train_df).fit()\n",
    "print(model.summary())"
   ]
  },
  {
   "cell_type": "code",
   "execution_count": 164,
   "metadata": {},
   "outputs": [
    {
     "output_type": "execute_result",
     "data": {
      "text/plain": [
       "<class 'statsmodels.iolib.summary.Summary'>\n",
       "\"\"\"\n",
       "                            OLS Regression Results                            \n",
       "==============================================================================\n",
       "Dep. Variable:           price_per_kg   R-squared:                       0.299\n",
       "Model:                            OLS   Adj. R-squared:                  0.297\n",
       "Method:                 Least Squares   F-statistic:                     164.3\n",
       "Date:                Mon, 31 May 2021   Prob (F-statistic):           3.54e-60\n",
       "Time:                        20:17:07   Log-Likelihood:                -3347.6\n",
       "No. Observations:                 775   AIC:                             6701.\n",
       "Df Residuals:                     772   BIC:                             6715.\n",
       "Df Model:                           2                                         \n",
       "Covariance Type:            nonrobust                                         \n",
       "=======================================================================================================\n",
       "                                          coef    std err          t      P>|t|      [0.025      0.975]\n",
       "-------------------------------------------------------------------------------------------------------\n",
       "Intercept                              48.4343      0.985     49.160      0.000      46.500      50.368\n",
       "C(brewing_method)[T.drip, espresso]    -1.9765      2.450     -0.807      0.420      -6.785       2.832\n",
       "C(brewing_method)[T.espresso]         -24.0583      1.369    -17.569      0.000     -26.746     -21.370\n",
       "==============================================================================\n",
       "Omnibus:                      492.479   Durbin-Watson:                   2.006\n",
       "Prob(Omnibus):                  0.000   Jarque-Bera (JB):             5124.659\n",
       "Skew:                           2.781   Prob(JB):                         0.00\n",
       "Kurtosis:                      14.303   Cond. No.                         4.40\n",
       "==============================================================================\n",
       "\n",
       "Notes:\n",
       "[1] Standard Errors assume that the covariance matrix of the errors is correctly specified.\n",
       "\"\"\""
      ],
      "text/html": "<table class=\"simpletable\">\n<caption>OLS Regression Results</caption>\n<tr>\n  <th>Dep. Variable:</th>      <td>price_per_kg</td>   <th>  R-squared:         </th> <td>   0.299</td>\n</tr>\n<tr>\n  <th>Model:</th>                   <td>OLS</td>       <th>  Adj. R-squared:    </th> <td>   0.297</td>\n</tr>\n<tr>\n  <th>Method:</th>             <td>Least Squares</td>  <th>  F-statistic:       </th> <td>   164.3</td>\n</tr>\n<tr>\n  <th>Date:</th>             <td>Mon, 31 May 2021</td> <th>  Prob (F-statistic):</th> <td>3.54e-60</td>\n</tr>\n<tr>\n  <th>Time:</th>                 <td>20:17:07</td>     <th>  Log-Likelihood:    </th> <td> -3347.6</td>\n</tr>\n<tr>\n  <th>No. Observations:</th>      <td>   775</td>      <th>  AIC:               </th> <td>   6701.</td>\n</tr>\n<tr>\n  <th>Df Residuals:</th>          <td>   772</td>      <th>  BIC:               </th> <td>   6715.</td>\n</tr>\n<tr>\n  <th>Df Model:</th>              <td>     2</td>      <th>                     </th>     <td> </td>   \n</tr>\n<tr>\n  <th>Covariance Type:</th>      <td>nonrobust</td>    <th>                     </th>     <td> </td>   \n</tr>\n</table>\n<table class=\"simpletable\">\n<tr>\n                   <td></td>                      <th>coef</th>     <th>std err</th>      <th>t</th>      <th>P>|t|</th>  <th>[0.025</th>    <th>0.975]</th>  \n</tr>\n<tr>\n  <th>Intercept</th>                           <td>   48.4343</td> <td>    0.985</td> <td>   49.160</td> <td> 0.000</td> <td>   46.500</td> <td>   50.368</td>\n</tr>\n<tr>\n  <th>C(brewing_method)[T.drip, espresso]</th> <td>   -1.9765</td> <td>    2.450</td> <td>   -0.807</td> <td> 0.420</td> <td>   -6.785</td> <td>    2.832</td>\n</tr>\n<tr>\n  <th>C(brewing_method)[T.espresso]</th>       <td>  -24.0583</td> <td>    1.369</td> <td>  -17.569</td> <td> 0.000</td> <td>  -26.746</td> <td>  -21.370</td>\n</tr>\n</table>\n<table class=\"simpletable\">\n<tr>\n  <th>Omnibus:</th>       <td>492.479</td> <th>  Durbin-Watson:     </th> <td>   2.006</td>\n</tr>\n<tr>\n  <th>Prob(Omnibus):</th> <td> 0.000</td>  <th>  Jarque-Bera (JB):  </th> <td>5124.659</td>\n</tr>\n<tr>\n  <th>Skew:</th>          <td> 2.781</td>  <th>  Prob(JB):          </th> <td>    0.00</td>\n</tr>\n<tr>\n  <th>Kurtosis:</th>      <td>14.303</td>  <th>  Cond. No.          </th> <td>    4.40</td>\n</tr>\n</table><br/><br/>Notes:<br/>[1] Standard Errors assume that the covariance matrix of the errors is correctly specified."
     },
     "metadata": {},
     "execution_count": 164
    }
   ],
   "source": [
    "# brewing_method # roast TODO: very low p-value -> potentially good variable\n",
    "model = smf.ols(formula=\"price_per_kg ~ C(brewing_method)\", data=train_df).fit()\n",
    "model.summary()"
   ]
  },
  {
   "cell_type": "code",
   "execution_count": 163,
   "metadata": {},
   "outputs": [
    {
     "output_type": "execute_result",
     "data": {
      "text/plain": [
       "<class 'statsmodels.iolib.summary.Summary'>\n",
       "\"\"\"\n",
       "                            OLS Regression Results                            \n",
       "==============================================================================\n",
       "Dep. Variable:           price_per_kg   R-squared:                       0.259\n",
       "Model:                            OLS   Adj. R-squared:                  0.257\n",
       "Method:                 Least Squares   F-statistic:                     135.0\n",
       "Date:                Mon, 31 May 2021   Prob (F-statistic):           5.32e-51\n",
       "Time:                        20:16:56   Log-Likelihood:                -3368.8\n",
       "No. Observations:                 775   AIC:                             6744.\n",
       "Df Residuals:                     772   BIC:                             6758.\n",
       "Df Model:                           2                                         \n",
       "Covariance Type:            nonrobust                                         \n",
       "======================================================================================\n",
       "                         coef    std err          t      P>|t|      [0.025      0.975]\n",
       "--------------------------------------------------------------------------------------\n",
       "Intercept             22.9194      1.392     16.467      0.000      20.187      25.652\n",
       "C(roast)[T.light]     25.9239      1.719     15.077      0.000      22.548      29.299\n",
       "C(roast)[T.medium]     7.5853      1.828      4.151      0.000       3.998      11.173\n",
       "==============================================================================\n",
       "Omnibus:                      504.475   Durbin-Watson:                   2.007\n",
       "Prob(Omnibus):                  0.000   Jarque-Bera (JB):             5487.480\n",
       "Skew:                           2.856   Prob(JB):                         0.00\n",
       "Kurtosis:                      14.718   Cond. No.                         4.42\n",
       "==============================================================================\n",
       "\n",
       "Notes:\n",
       "[1] Standard Errors assume that the covariance matrix of the errors is correctly specified.\n",
       "\"\"\""
      ],
      "text/html": "<table class=\"simpletable\">\n<caption>OLS Regression Results</caption>\n<tr>\n  <th>Dep. Variable:</th>      <td>price_per_kg</td>   <th>  R-squared:         </th> <td>   0.259</td>\n</tr>\n<tr>\n  <th>Model:</th>                   <td>OLS</td>       <th>  Adj. R-squared:    </th> <td>   0.257</td>\n</tr>\n<tr>\n  <th>Method:</th>             <td>Least Squares</td>  <th>  F-statistic:       </th> <td>   135.0</td>\n</tr>\n<tr>\n  <th>Date:</th>             <td>Mon, 31 May 2021</td> <th>  Prob (F-statistic):</th> <td>5.32e-51</td>\n</tr>\n<tr>\n  <th>Time:</th>                 <td>20:16:56</td>     <th>  Log-Likelihood:    </th> <td> -3368.8</td>\n</tr>\n<tr>\n  <th>No. Observations:</th>      <td>   775</td>      <th>  AIC:               </th> <td>   6744.</td>\n</tr>\n<tr>\n  <th>Df Residuals:</th>          <td>   772</td>      <th>  BIC:               </th> <td>   6758.</td>\n</tr>\n<tr>\n  <th>Df Model:</th>              <td>     2</td>      <th>                     </th>     <td> </td>   \n</tr>\n<tr>\n  <th>Covariance Type:</th>      <td>nonrobust</td>    <th>                     </th>     <td> </td>   \n</tr>\n</table>\n<table class=\"simpletable\">\n<tr>\n           <td></td>             <th>coef</th>     <th>std err</th>      <th>t</th>      <th>P>|t|</th>  <th>[0.025</th>    <th>0.975]</th>  \n</tr>\n<tr>\n  <th>Intercept</th>          <td>   22.9194</td> <td>    1.392</td> <td>   16.467</td> <td> 0.000</td> <td>   20.187</td> <td>   25.652</td>\n</tr>\n<tr>\n  <th>C(roast)[T.light]</th>  <td>   25.9239</td> <td>    1.719</td> <td>   15.077</td> <td> 0.000</td> <td>   22.548</td> <td>   29.299</td>\n</tr>\n<tr>\n  <th>C(roast)[T.medium]</th> <td>    7.5853</td> <td>    1.828</td> <td>    4.151</td> <td> 0.000</td> <td>    3.998</td> <td>   11.173</td>\n</tr>\n</table>\n<table class=\"simpletable\">\n<tr>\n  <th>Omnibus:</th>       <td>504.475</td> <th>  Durbin-Watson:     </th> <td>   2.007</td>\n</tr>\n<tr>\n  <th>Prob(Omnibus):</th> <td> 0.000</td>  <th>  Jarque-Bera (JB):  </th> <td>5487.480</td>\n</tr>\n<tr>\n  <th>Skew:</th>          <td> 2.856</td>  <th>  Prob(JB):          </th> <td>    0.00</td>\n</tr>\n<tr>\n  <th>Kurtosis:</th>      <td>14.718</td>  <th>  Cond. No.          </th> <td>    4.42</td>\n</tr>\n</table><br/><br/>Notes:<br/>[1] Standard Errors assume that the covariance matrix of the errors is correctly specified."
     },
     "metadata": {},
     "execution_count": 163
    }
   ],
   "source": [
    "# roast TODO: very low p-value -> potentially good variable\n",
    "model = smf.ols(formula=\"price_per_kg ~ C(roast)\", data=train_df).fit()\n",
    "model.summary()"
   ]
  },
  {
   "cell_type": "code",
   "execution_count": 165,
   "metadata": {},
   "outputs": [
    {
     "output_type": "execute_result",
     "data": {
      "text/plain": [
       "<class 'statsmodels.iolib.summary.Summary'>\n",
       "\"\"\"\n",
       "                            OLS Regression Results                            \n",
       "==============================================================================\n",
       "Dep. Variable:           price_per_kg   R-squared:                       0.010\n",
       "Model:                            OLS   Adj. R-squared:                  0.009\n",
       "Method:                 Least Squares   F-statistic:                     7.836\n",
       "Date:                Mon, 31 May 2021   Prob (F-statistic):            0.00525\n",
       "Time:                        20:17:35   Log-Likelihood:                -3481.1\n",
       "No. Observations:                 775   AIC:                             6966.\n",
       "Df Residuals:                     773   BIC:                             6976.\n",
       "Df Model:                           1                                         \n",
       "Covariance Type:            nonrobust                                         \n",
       "======================================================================================\n",
       "                         coef    std err          t      P>|t|      [0.025      0.975]\n",
       "--------------------------------------------------------------------------------------\n",
       "Intercept             36.1612      0.818     44.229      0.000      34.556      37.766\n",
       "C(grind)[T.ground]     7.3572      2.628      2.799      0.005       2.198      12.516\n",
       "==============================================================================\n",
       "Omnibus:                      333.151   Durbin-Watson:                   2.025\n",
       "Prob(Omnibus):                  0.000   Jarque-Bera (JB):             1651.090\n",
       "Skew:                           1.935   Prob(JB):                         0.00\n",
       "Kurtosis:                       9.013   Cond. No.                         3.42\n",
       "==============================================================================\n",
       "\n",
       "Notes:\n",
       "[1] Standard Errors assume that the covariance matrix of the errors is correctly specified.\n",
       "\"\"\""
      ],
      "text/html": "<table class=\"simpletable\">\n<caption>OLS Regression Results</caption>\n<tr>\n  <th>Dep. Variable:</th>      <td>price_per_kg</td>   <th>  R-squared:         </th> <td>   0.010</td>\n</tr>\n<tr>\n  <th>Model:</th>                   <td>OLS</td>       <th>  Adj. R-squared:    </th> <td>   0.009</td>\n</tr>\n<tr>\n  <th>Method:</th>             <td>Least Squares</td>  <th>  F-statistic:       </th> <td>   7.836</td>\n</tr>\n<tr>\n  <th>Date:</th>             <td>Mon, 31 May 2021</td> <th>  Prob (F-statistic):</th>  <td>0.00525</td>\n</tr>\n<tr>\n  <th>Time:</th>                 <td>20:17:35</td>     <th>  Log-Likelihood:    </th> <td> -3481.1</td>\n</tr>\n<tr>\n  <th>No. Observations:</th>      <td>   775</td>      <th>  AIC:               </th> <td>   6966.</td>\n</tr>\n<tr>\n  <th>Df Residuals:</th>          <td>   773</td>      <th>  BIC:               </th> <td>   6976.</td>\n</tr>\n<tr>\n  <th>Df Model:</th>              <td>     1</td>      <th>                     </th>     <td> </td>   \n</tr>\n<tr>\n  <th>Covariance Type:</th>      <td>nonrobust</td>    <th>                     </th>     <td> </td>   \n</tr>\n</table>\n<table class=\"simpletable\">\n<tr>\n           <td></td>             <th>coef</th>     <th>std err</th>      <th>t</th>      <th>P>|t|</th>  <th>[0.025</th>    <th>0.975]</th>  \n</tr>\n<tr>\n  <th>Intercept</th>          <td>   36.1612</td> <td>    0.818</td> <td>   44.229</td> <td> 0.000</td> <td>   34.556</td> <td>   37.766</td>\n</tr>\n<tr>\n  <th>C(grind)[T.ground]</th> <td>    7.3572</td> <td>    2.628</td> <td>    2.799</td> <td> 0.005</td> <td>    2.198</td> <td>   12.516</td>\n</tr>\n</table>\n<table class=\"simpletable\">\n<tr>\n  <th>Omnibus:</th>       <td>333.151</td> <th>  Durbin-Watson:     </th> <td>   2.025</td>\n</tr>\n<tr>\n  <th>Prob(Omnibus):</th> <td> 0.000</td>  <th>  Jarque-Bera (JB):  </th> <td>1651.090</td>\n</tr>\n<tr>\n  <th>Skew:</th>          <td> 1.935</td>  <th>  Prob(JB):          </th> <td>    0.00</td>\n</tr>\n<tr>\n  <th>Kurtosis:</th>      <td> 9.013</td>  <th>  Cond. No.          </th> <td>    3.42</td>\n</tr>\n</table><br/><br/>Notes:<br/>[1] Standard Errors assume that the covariance matrix of the errors is correctly specified."
     },
     "metadata": {},
     "execution_count": 165
    }
   ],
   "source": [
    "# grind TODO: low p-value -> potentially good variable\n",
    "model = smf.ols(formula=\"price_per_kg ~ C(grind)\", data=train_df).fit()\n",
    "model.summary()"
   ]
  },
  {
   "cell_type": "code",
   "execution_count": 166,
   "metadata": {},
   "outputs": [
    {
     "output_type": "execute_result",
     "data": {
      "text/plain": [
       "<class 'statsmodels.iolib.summary.Summary'>\n",
       "\"\"\"\n",
       "                            OLS Regression Results                            \n",
       "==============================================================================\n",
       "Dep. Variable:           price_per_kg   R-squared:                       0.232\n",
       "Model:                            OLS   Adj. R-squared:                  0.176\n",
       "Method:                 Least Squares   F-statistic:                     4.116\n",
       "Date:                Mon, 31 May 2021   Prob (F-statistic):           1.83e-18\n",
       "Time:                        20:17:45   Log-Likelihood:                -3382.6\n",
       "No. Observations:                 775   AIC:                             6873.\n",
       "Df Residuals:                     721   BIC:                             7124.\n",
       "Df Model:                          53                                         \n",
       "Covariance Type:            nonrobust                                         \n",
       "===============================================================================================================\n",
       "                                                  coef    std err          t      P>|t|      [0.025      0.975]\n",
       "---------------------------------------------------------------------------------------------------------------\n",
       "Intercept                                      53.7320      8.821      6.091      0.000      36.414      71.050\n",
       "C(origin)[T.Brazylia]                         -21.4141      9.041     -2.369      0.018     -39.164      -3.664\n",
       "C(origin)[T.Brazylia, Burundi, Peru]          -21.7320     21.607     -1.006      0.315     -64.152      20.688\n",
       "C(origin)[T.Brazylia, Etiopia]                -25.1320     14.404     -1.745      0.081     -53.412       3.148\n",
       "C(origin)[T.Brazylia, Gwatemala]              -30.3891     11.549     -2.631      0.009     -53.063      -7.715\n",
       "C(origin)[T.Brazylia, Gwatemala, Etiopia]     -31.0170     13.231     -2.344      0.019     -56.994      -5.040\n",
       "C(origin)[T.Brazylia, Gwatemala, Kostaryka]   -16.1320     21.607     -0.747      0.456     -58.552      26.288\n",
       "C(origin)[T.Brazylia, Honduras]               -32.5820     13.231     -2.462      0.014     -58.559      -6.605\n",
       "C(origin)[T.Brazylia, Indie]                  -31.3491      9.576     -3.274      0.001     -50.150     -12.549\n",
       "C(origin)[T.Brazylia, Kenia]                  -21.9320     21.607     -1.015      0.310     -64.352      20.488\n",
       "C(origin)[T.Brazylia, Kolumbia]               -29.8253     11.944     -2.497      0.013     -53.274      -6.377\n",
       "C(origin)[T.Brazylia, Kostaryka, Nikaragua]   -19.0320     16.502     -1.153      0.249     -51.430      13.366\n",
       "C(origin)[T.Brazylia, Peru]                   -26.5320     21.607     -1.228      0.220     -68.952      15.888\n",
       "C(origin)[T.Brazylia, Peru, Wietnam]          -29.7181      9.733     -3.053      0.002     -48.826     -10.610\n",
       "C(origin)[T.Brazylia, Tanzania]               -27.6244      9.398     -2.939      0.003     -46.075      -9.174\n",
       "C(origin)[T.Brazylia, Uganda]                 -30.7320     16.502     -1.862      0.063     -63.130       1.666\n",
       "C(origin)[T.Brazylia, inne]                   -31.0653     14.404     -2.157      0.031     -59.345      -2.786\n",
       "C(origin)[T.Burundi]                           -6.1320     10.276     -0.597      0.551     -26.307      14.043\n",
       "C(origin)[T.Chiny]                            -14.2653     14.404     -0.990      0.322     -42.545      14.014\n",
       "C(origin)[T.Demokratyczna Republika Konga]    -27.9070     11.244     -2.482      0.013     -49.983      -5.831\n",
       "C(origin)[T.Etiopia]                           -4.7406      9.118     -0.520      0.603     -22.642      13.160\n",
       "C(origin)[T.Etiopia, Brazylia]                -36.0970     10.106     -3.572      0.000     -55.937     -16.257\n",
       "C(origin)[T.Etiopia, Brazylia, Kolumbia]      -33.4320     16.502     -2.026      0.043     -65.830      -1.034\n",
       "C(origin)[T.Etiopia, Gwatemala]               -29.8800     12.475     -2.395      0.017     -54.371      -5.389\n",
       "C(origin)[T.Etiopia, Kolumbia]                -32.5720     11.944     -2.727      0.007     -56.020      -9.124\n",
       "C(origin)[T.Gwatemala]                         -9.7376      9.200     -1.058      0.290     -27.799       8.324\n",
       "C(origin)[T.Honduras]                          -7.1893      9.772     -0.736      0.462     -26.374      11.996\n",
       "C(origin)[T.Honduras, Kolumbia, Peru]         -31.7845     11.244     -2.827      0.005     -53.860      -9.709\n",
       "C(origin)[T.Indie]                            -17.5720     13.231     -1.328      0.185     -43.549       8.405\n",
       "C(origin)[T.Indonezja]                        -23.9556     10.638     -2.252      0.025     -44.842      -3.070\n",
       "C(origin)[T.Italy]                            -31.4153     11.944     -2.630      0.009     -54.864      -7.967\n",
       "C(origin)[T.Kenia]                            -13.4505      9.356     -1.438      0.151     -31.819       4.918\n",
       "C(origin)[T.Kenia, Indie]                     -32.6587     11.944     -2.734      0.006     -56.107      -9.210\n",
       "C(origin)[T.Kolumbia]                          -1.7091      9.135     -0.187      0.852     -19.643      16.225\n",
       "C(origin)[T.Kostaryka]                         -7.6725      9.914     -0.774      0.439     -27.136      11.791\n",
       "C(origin)[T.Laos]                             -19.3453     11.944     -1.620      0.106     -42.794       4.103\n",
       "C(origin)[T.Malawi]                             0.6680     21.607      0.031      0.975     -41.752      43.088\n",
       "C(origin)[T.Meksyk]                           -12.7606     11.549     -1.105      0.270     -35.435       9.914\n",
       "C(origin)[T.Mjanma]                           -15.3320     16.502     -0.929      0.353     -47.730      17.066\n",
       "C(origin)[T.Nikaragua]                        -13.7240     10.803     -1.270      0.204     -34.934       7.486\n",
       "C(origin)[T.Panama]                           -26.9542      9.288     -2.902      0.004     -45.189      -8.720\n",
       "C(origin)[T.Papua Nowa Gwinea]                -14.9320     16.502     -0.905      0.366     -47.330      17.466\n",
       "C(origin)[T.Papua Nowa Gwinea, Rwanda]        -24.9320     21.607     -1.154      0.249     -67.352      17.488\n",
       "C(origin)[T.Peru]                             -16.4436      9.663     -1.702      0.089     -35.414       2.527\n",
       "C(origin)[T.Peru, Etiopia]                    -22.1320     21.607     -1.024      0.306     -64.552      20.288\n",
       "C(origin)[T.Peru, Gwatemala]                  -34.2420     11.944     -2.867      0.004     -57.690     -10.794\n",
       "C(origin)[T.Rwanda]                           -12.5853      9.414     -1.337      0.182     -31.067       5.896\n",
       "C(origin)[T.Rwanda, inne]                     -26.7320     21.607     -1.237      0.216     -69.152      15.688\n",
       "C(origin)[T.Salwador]                          -4.7138      9.772     -0.482      0.630     -23.899      14.471\n",
       "C(origin)[T.Salwador, Indie]                  -30.8320     14.404     -2.140      0.033     -59.112      -2.552\n",
       "C(origin)[T.Salwador, Nikaragua]              -16.1320     21.607     -0.747      0.456     -58.552      26.288\n",
       "C(origin)[T.Sumatra]                          -22.1320     21.607     -1.024      0.306     -64.552      20.288\n",
       "C(origin)[T.Tanzania]                         -20.1320     16.502     -1.220      0.223     -52.530      12.266\n",
       "C(origin)[T.Uganda]                           -21.0787     11.944     -1.765      0.078     -44.527       2.370\n",
       "==============================================================================\n",
       "Omnibus:                      482.338   Durbin-Watson:                   1.975\n",
       "Prob(Omnibus):                  0.000   Jarque-Bera (JB):             4890.185\n",
       "Skew:                           2.713   Prob(JB):                         0.00\n",
       "Kurtosis:                      14.045   Cond. No.                         95.6\n",
       "==============================================================================\n",
       "\n",
       "Notes:\n",
       "[1] Standard Errors assume that the covariance matrix of the errors is correctly specified.\n",
       "\"\"\""
      ],
      "text/html": "<table class=\"simpletable\">\n<caption>OLS Regression Results</caption>\n<tr>\n  <th>Dep. Variable:</th>      <td>price_per_kg</td>   <th>  R-squared:         </th> <td>   0.232</td>\n</tr>\n<tr>\n  <th>Model:</th>                   <td>OLS</td>       <th>  Adj. R-squared:    </th> <td>   0.176</td>\n</tr>\n<tr>\n  <th>Method:</th>             <td>Least Squares</td>  <th>  F-statistic:       </th> <td>   4.116</td>\n</tr>\n<tr>\n  <th>Date:</th>             <td>Mon, 31 May 2021</td> <th>  Prob (F-statistic):</th> <td>1.83e-18</td>\n</tr>\n<tr>\n  <th>Time:</th>                 <td>20:17:45</td>     <th>  Log-Likelihood:    </th> <td> -3382.6</td>\n</tr>\n<tr>\n  <th>No. Observations:</th>      <td>   775</td>      <th>  AIC:               </th> <td>   6873.</td>\n</tr>\n<tr>\n  <th>Df Residuals:</th>          <td>   721</td>      <th>  BIC:               </th> <td>   7124.</td>\n</tr>\n<tr>\n  <th>Df Model:</th>              <td>    53</td>      <th>                     </th>     <td> </td>   \n</tr>\n<tr>\n  <th>Covariance Type:</th>      <td>nonrobust</td>    <th>                     </th>     <td> </td>   \n</tr>\n</table>\n<table class=\"simpletable\">\n<tr>\n                       <td></td>                          <th>coef</th>     <th>std err</th>      <th>t</th>      <th>P>|t|</th>  <th>[0.025</th>    <th>0.975]</th>  \n</tr>\n<tr>\n  <th>Intercept</th>                                   <td>   53.7320</td> <td>    8.821</td> <td>    6.091</td> <td> 0.000</td> <td>   36.414</td> <td>   71.050</td>\n</tr>\n<tr>\n  <th>C(origin)[T.Brazylia]</th>                       <td>  -21.4141</td> <td>    9.041</td> <td>   -2.369</td> <td> 0.018</td> <td>  -39.164</td> <td>   -3.664</td>\n</tr>\n<tr>\n  <th>C(origin)[T.Brazylia, Burundi, Peru]</th>        <td>  -21.7320</td> <td>   21.607</td> <td>   -1.006</td> <td> 0.315</td> <td>  -64.152</td> <td>   20.688</td>\n</tr>\n<tr>\n  <th>C(origin)[T.Brazylia, Etiopia]</th>              <td>  -25.1320</td> <td>   14.404</td> <td>   -1.745</td> <td> 0.081</td> <td>  -53.412</td> <td>    3.148</td>\n</tr>\n<tr>\n  <th>C(origin)[T.Brazylia, Gwatemala]</th>            <td>  -30.3891</td> <td>   11.549</td> <td>   -2.631</td> <td> 0.009</td> <td>  -53.063</td> <td>   -7.715</td>\n</tr>\n<tr>\n  <th>C(origin)[T.Brazylia, Gwatemala, Etiopia]</th>   <td>  -31.0170</td> <td>   13.231</td> <td>   -2.344</td> <td> 0.019</td> <td>  -56.994</td> <td>   -5.040</td>\n</tr>\n<tr>\n  <th>C(origin)[T.Brazylia, Gwatemala, Kostaryka]</th> <td>  -16.1320</td> <td>   21.607</td> <td>   -0.747</td> <td> 0.456</td> <td>  -58.552</td> <td>   26.288</td>\n</tr>\n<tr>\n  <th>C(origin)[T.Brazylia, Honduras]</th>             <td>  -32.5820</td> <td>   13.231</td> <td>   -2.462</td> <td> 0.014</td> <td>  -58.559</td> <td>   -6.605</td>\n</tr>\n<tr>\n  <th>C(origin)[T.Brazylia, Indie]</th>                <td>  -31.3491</td> <td>    9.576</td> <td>   -3.274</td> <td> 0.001</td> <td>  -50.150</td> <td>  -12.549</td>\n</tr>\n<tr>\n  <th>C(origin)[T.Brazylia, Kenia]</th>                <td>  -21.9320</td> <td>   21.607</td> <td>   -1.015</td> <td> 0.310</td> <td>  -64.352</td> <td>   20.488</td>\n</tr>\n<tr>\n  <th>C(origin)[T.Brazylia, Kolumbia]</th>             <td>  -29.8253</td> <td>   11.944</td> <td>   -2.497</td> <td> 0.013</td> <td>  -53.274</td> <td>   -6.377</td>\n</tr>\n<tr>\n  <th>C(origin)[T.Brazylia, Kostaryka, Nikaragua]</th> <td>  -19.0320</td> <td>   16.502</td> <td>   -1.153</td> <td> 0.249</td> <td>  -51.430</td> <td>   13.366</td>\n</tr>\n<tr>\n  <th>C(origin)[T.Brazylia, Peru]</th>                 <td>  -26.5320</td> <td>   21.607</td> <td>   -1.228</td> <td> 0.220</td> <td>  -68.952</td> <td>   15.888</td>\n</tr>\n<tr>\n  <th>C(origin)[T.Brazylia, Peru, Wietnam]</th>        <td>  -29.7181</td> <td>    9.733</td> <td>   -3.053</td> <td> 0.002</td> <td>  -48.826</td> <td>  -10.610</td>\n</tr>\n<tr>\n  <th>C(origin)[T.Brazylia, Tanzania]</th>             <td>  -27.6244</td> <td>    9.398</td> <td>   -2.939</td> <td> 0.003</td> <td>  -46.075</td> <td>   -9.174</td>\n</tr>\n<tr>\n  <th>C(origin)[T.Brazylia, Uganda]</th>               <td>  -30.7320</td> <td>   16.502</td> <td>   -1.862</td> <td> 0.063</td> <td>  -63.130</td> <td>    1.666</td>\n</tr>\n<tr>\n  <th>C(origin)[T.Brazylia, inne]</th>                 <td>  -31.0653</td> <td>   14.404</td> <td>   -2.157</td> <td> 0.031</td> <td>  -59.345</td> <td>   -2.786</td>\n</tr>\n<tr>\n  <th>C(origin)[T.Burundi]</th>                        <td>   -6.1320</td> <td>   10.276</td> <td>   -0.597</td> <td> 0.551</td> <td>  -26.307</td> <td>   14.043</td>\n</tr>\n<tr>\n  <th>C(origin)[T.Chiny]</th>                          <td>  -14.2653</td> <td>   14.404</td> <td>   -0.990</td> <td> 0.322</td> <td>  -42.545</td> <td>   14.014</td>\n</tr>\n<tr>\n  <th>C(origin)[T.Demokratyczna Republika Konga]</th>  <td>  -27.9070</td> <td>   11.244</td> <td>   -2.482</td> <td> 0.013</td> <td>  -49.983</td> <td>   -5.831</td>\n</tr>\n<tr>\n  <th>C(origin)[T.Etiopia]</th>                        <td>   -4.7406</td> <td>    9.118</td> <td>   -0.520</td> <td> 0.603</td> <td>  -22.642</td> <td>   13.160</td>\n</tr>\n<tr>\n  <th>C(origin)[T.Etiopia, Brazylia]</th>              <td>  -36.0970</td> <td>   10.106</td> <td>   -3.572</td> <td> 0.000</td> <td>  -55.937</td> <td>  -16.257</td>\n</tr>\n<tr>\n  <th>C(origin)[T.Etiopia, Brazylia, Kolumbia]</th>    <td>  -33.4320</td> <td>   16.502</td> <td>   -2.026</td> <td> 0.043</td> <td>  -65.830</td> <td>   -1.034</td>\n</tr>\n<tr>\n  <th>C(origin)[T.Etiopia, Gwatemala]</th>             <td>  -29.8800</td> <td>   12.475</td> <td>   -2.395</td> <td> 0.017</td> <td>  -54.371</td> <td>   -5.389</td>\n</tr>\n<tr>\n  <th>C(origin)[T.Etiopia, Kolumbia]</th>              <td>  -32.5720</td> <td>   11.944</td> <td>   -2.727</td> <td> 0.007</td> <td>  -56.020</td> <td>   -9.124</td>\n</tr>\n<tr>\n  <th>C(origin)[T.Gwatemala]</th>                      <td>   -9.7376</td> <td>    9.200</td> <td>   -1.058</td> <td> 0.290</td> <td>  -27.799</td> <td>    8.324</td>\n</tr>\n<tr>\n  <th>C(origin)[T.Honduras]</th>                       <td>   -7.1893</td> <td>    9.772</td> <td>   -0.736</td> <td> 0.462</td> <td>  -26.374</td> <td>   11.996</td>\n</tr>\n<tr>\n  <th>C(origin)[T.Honduras, Kolumbia, Peru]</th>       <td>  -31.7845</td> <td>   11.244</td> <td>   -2.827</td> <td> 0.005</td> <td>  -53.860</td> <td>   -9.709</td>\n</tr>\n<tr>\n  <th>C(origin)[T.Indie]</th>                          <td>  -17.5720</td> <td>   13.231</td> <td>   -1.328</td> <td> 0.185</td> <td>  -43.549</td> <td>    8.405</td>\n</tr>\n<tr>\n  <th>C(origin)[T.Indonezja]</th>                      <td>  -23.9556</td> <td>   10.638</td> <td>   -2.252</td> <td> 0.025</td> <td>  -44.842</td> <td>   -3.070</td>\n</tr>\n<tr>\n  <th>C(origin)[T.Italy]</th>                          <td>  -31.4153</td> <td>   11.944</td> <td>   -2.630</td> <td> 0.009</td> <td>  -54.864</td> <td>   -7.967</td>\n</tr>\n<tr>\n  <th>C(origin)[T.Kenia]</th>                          <td>  -13.4505</td> <td>    9.356</td> <td>   -1.438</td> <td> 0.151</td> <td>  -31.819</td> <td>    4.918</td>\n</tr>\n<tr>\n  <th>C(origin)[T.Kenia, Indie]</th>                   <td>  -32.6587</td> <td>   11.944</td> <td>   -2.734</td> <td> 0.006</td> <td>  -56.107</td> <td>   -9.210</td>\n</tr>\n<tr>\n  <th>C(origin)[T.Kolumbia]</th>                       <td>   -1.7091</td> <td>    9.135</td> <td>   -0.187</td> <td> 0.852</td> <td>  -19.643</td> <td>   16.225</td>\n</tr>\n<tr>\n  <th>C(origin)[T.Kostaryka]</th>                      <td>   -7.6725</td> <td>    9.914</td> <td>   -0.774</td> <td> 0.439</td> <td>  -27.136</td> <td>   11.791</td>\n</tr>\n<tr>\n  <th>C(origin)[T.Laos]</th>                           <td>  -19.3453</td> <td>   11.944</td> <td>   -1.620</td> <td> 0.106</td> <td>  -42.794</td> <td>    4.103</td>\n</tr>\n<tr>\n  <th>C(origin)[T.Malawi]</th>                         <td>    0.6680</td> <td>   21.607</td> <td>    0.031</td> <td> 0.975</td> <td>  -41.752</td> <td>   43.088</td>\n</tr>\n<tr>\n  <th>C(origin)[T.Meksyk]</th>                         <td>  -12.7606</td> <td>   11.549</td> <td>   -1.105</td> <td> 0.270</td> <td>  -35.435</td> <td>    9.914</td>\n</tr>\n<tr>\n  <th>C(origin)[T.Mjanma]</th>                         <td>  -15.3320</td> <td>   16.502</td> <td>   -0.929</td> <td> 0.353</td> <td>  -47.730</td> <td>   17.066</td>\n</tr>\n<tr>\n  <th>C(origin)[T.Nikaragua]</th>                      <td>  -13.7240</td> <td>   10.803</td> <td>   -1.270</td> <td> 0.204</td> <td>  -34.934</td> <td>    7.486</td>\n</tr>\n<tr>\n  <th>C(origin)[T.Panama]</th>                         <td>  -26.9542</td> <td>    9.288</td> <td>   -2.902</td> <td> 0.004</td> <td>  -45.189</td> <td>   -8.720</td>\n</tr>\n<tr>\n  <th>C(origin)[T.Papua Nowa Gwinea]</th>              <td>  -14.9320</td> <td>   16.502</td> <td>   -0.905</td> <td> 0.366</td> <td>  -47.330</td> <td>   17.466</td>\n</tr>\n<tr>\n  <th>C(origin)[T.Papua Nowa Gwinea, Rwanda]</th>      <td>  -24.9320</td> <td>   21.607</td> <td>   -1.154</td> <td> 0.249</td> <td>  -67.352</td> <td>   17.488</td>\n</tr>\n<tr>\n  <th>C(origin)[T.Peru]</th>                           <td>  -16.4436</td> <td>    9.663</td> <td>   -1.702</td> <td> 0.089</td> <td>  -35.414</td> <td>    2.527</td>\n</tr>\n<tr>\n  <th>C(origin)[T.Peru, Etiopia]</th>                  <td>  -22.1320</td> <td>   21.607</td> <td>   -1.024</td> <td> 0.306</td> <td>  -64.552</td> <td>   20.288</td>\n</tr>\n<tr>\n  <th>C(origin)[T.Peru, Gwatemala]</th>                <td>  -34.2420</td> <td>   11.944</td> <td>   -2.867</td> <td> 0.004</td> <td>  -57.690</td> <td>  -10.794</td>\n</tr>\n<tr>\n  <th>C(origin)[T.Rwanda]</th>                         <td>  -12.5853</td> <td>    9.414</td> <td>   -1.337</td> <td> 0.182</td> <td>  -31.067</td> <td>    5.896</td>\n</tr>\n<tr>\n  <th>C(origin)[T.Rwanda, inne]</th>                   <td>  -26.7320</td> <td>   21.607</td> <td>   -1.237</td> <td> 0.216</td> <td>  -69.152</td> <td>   15.688</td>\n</tr>\n<tr>\n  <th>C(origin)[T.Salwador]</th>                       <td>   -4.7138</td> <td>    9.772</td> <td>   -0.482</td> <td> 0.630</td> <td>  -23.899</td> <td>   14.471</td>\n</tr>\n<tr>\n  <th>C(origin)[T.Salwador, Indie]</th>                <td>  -30.8320</td> <td>   14.404</td> <td>   -2.140</td> <td> 0.033</td> <td>  -59.112</td> <td>   -2.552</td>\n</tr>\n<tr>\n  <th>C(origin)[T.Salwador, Nikaragua]</th>            <td>  -16.1320</td> <td>   21.607</td> <td>   -0.747</td> <td> 0.456</td> <td>  -58.552</td> <td>   26.288</td>\n</tr>\n<tr>\n  <th>C(origin)[T.Sumatra]</th>                        <td>  -22.1320</td> <td>   21.607</td> <td>   -1.024</td> <td> 0.306</td> <td>  -64.552</td> <td>   20.288</td>\n</tr>\n<tr>\n  <th>C(origin)[T.Tanzania]</th>                       <td>  -20.1320</td> <td>   16.502</td> <td>   -1.220</td> <td> 0.223</td> <td>  -52.530</td> <td>   12.266</td>\n</tr>\n<tr>\n  <th>C(origin)[T.Uganda]</th>                         <td>  -21.0787</td> <td>   11.944</td> <td>   -1.765</td> <td> 0.078</td> <td>  -44.527</td> <td>    2.370</td>\n</tr>\n</table>\n<table class=\"simpletable\">\n<tr>\n  <th>Omnibus:</th>       <td>482.338</td> <th>  Durbin-Watson:     </th> <td>   1.975</td>\n</tr>\n<tr>\n  <th>Prob(Omnibus):</th> <td> 0.000</td>  <th>  Jarque-Bera (JB):  </th> <td>4890.185</td>\n</tr>\n<tr>\n  <th>Skew:</th>          <td> 2.713</td>  <th>  Prob(JB):          </th> <td>    0.00</td>\n</tr>\n<tr>\n  <th>Kurtosis:</th>      <td>14.045</td>  <th>  Cond. No.          </th> <td>    95.6</td>\n</tr>\n</table><br/><br/>Notes:<br/>[1] Standard Errors assume that the covariance matrix of the errors is correctly specified."
     },
     "metadata": {},
     "execution_count": 166
    }
   ],
   "source": [
    "# origin   TODO: low p-value -> potentially good variable, BUT it has high granularuty\n",
    "model = smf.ols(formula=\"price_per_kg ~ C(origin)\", data=train_df).fit()\n",
    "model.summary()"
   ]
  },
  {
   "cell_type": "code",
   "execution_count": 169,
   "metadata": {},
   "outputs": [
    {
     "output_type": "execute_result",
     "data": {
      "text/plain": [
       "<class 'statsmodels.iolib.summary.Summary'>\n",
       "\"\"\"\n",
       "                            OLS Regression Results                            \n",
       "==============================================================================\n",
       "Dep. Variable:           price_per_kg   R-squared:                       0.076\n",
       "Model:                            OLS   Adj. R-squared:                  0.075\n",
       "Method:                 Least Squares   F-statistic:                     63.69\n",
       "Date:                Mon, 31 May 2021   Prob (F-statistic):           5.26e-15\n",
       "Time:                        20:18:12   Log-Likelihood:                -3454.4\n",
       "No. Observations:                 775   AIC:                             6913.\n",
       "Df Residuals:                     773   BIC:                             6922.\n",
       "Df Model:                           1                                         \n",
       "Covariance Type:            nonrobust                                         \n",
       "=========================================================================================\n",
       "                            coef    std err          t      P>|t|      [0.025      0.975]\n",
       "-----------------------------------------------------------------------------------------\n",
       "Intercept                -0.2154      4.708     -0.046      0.964      -9.457       9.026\n",
       "percentage_of_arabica     0.3911      0.049      7.980      0.000       0.295       0.487\n",
       "==============================================================================\n",
       "Omnibus:                      401.352   Durbin-Watson:                   1.998\n",
       "Prob(Omnibus):                  0.000   Jarque-Bera (JB):             2539.501\n",
       "Skew:                           2.315   Prob(JB):                         0.00\n",
       "Kurtosis:                      10.564   Cond. No.                         603.\n",
       "==============================================================================\n",
       "\n",
       "Notes:\n",
       "[1] Standard Errors assume that the covariance matrix of the errors is correctly specified.\n",
       "\"\"\""
      ],
      "text/html": "<table class=\"simpletable\">\n<caption>OLS Regression Results</caption>\n<tr>\n  <th>Dep. Variable:</th>      <td>price_per_kg</td>   <th>  R-squared:         </th> <td>   0.076</td>\n</tr>\n<tr>\n  <th>Model:</th>                   <td>OLS</td>       <th>  Adj. R-squared:    </th> <td>   0.075</td>\n</tr>\n<tr>\n  <th>Method:</th>             <td>Least Squares</td>  <th>  F-statistic:       </th> <td>   63.69</td>\n</tr>\n<tr>\n  <th>Date:</th>             <td>Mon, 31 May 2021</td> <th>  Prob (F-statistic):</th> <td>5.26e-15</td>\n</tr>\n<tr>\n  <th>Time:</th>                 <td>20:18:12</td>     <th>  Log-Likelihood:    </th> <td> -3454.4</td>\n</tr>\n<tr>\n  <th>No. Observations:</th>      <td>   775</td>      <th>  AIC:               </th> <td>   6913.</td>\n</tr>\n<tr>\n  <th>Df Residuals:</th>          <td>   773</td>      <th>  BIC:               </th> <td>   6922.</td>\n</tr>\n<tr>\n  <th>Df Model:</th>              <td>     1</td>      <th>                     </th>     <td> </td>   \n</tr>\n<tr>\n  <th>Covariance Type:</th>      <td>nonrobust</td>    <th>                     </th>     <td> </td>   \n</tr>\n</table>\n<table class=\"simpletable\">\n<tr>\n            <td></td>               <th>coef</th>     <th>std err</th>      <th>t</th>      <th>P>|t|</th>  <th>[0.025</th>    <th>0.975]</th>  \n</tr>\n<tr>\n  <th>Intercept</th>             <td>   -0.2154</td> <td>    4.708</td> <td>   -0.046</td> <td> 0.964</td> <td>   -9.457</td> <td>    9.026</td>\n</tr>\n<tr>\n  <th>percentage_of_arabica</th> <td>    0.3911</td> <td>    0.049</td> <td>    7.980</td> <td> 0.000</td> <td>    0.295</td> <td>    0.487</td>\n</tr>\n</table>\n<table class=\"simpletable\">\n<tr>\n  <th>Omnibus:</th>       <td>401.352</td> <th>  Durbin-Watson:     </th> <td>   1.998</td>\n</tr>\n<tr>\n  <th>Prob(Omnibus):</th> <td> 0.000</td>  <th>  Jarque-Bera (JB):  </th> <td>2539.501</td>\n</tr>\n<tr>\n  <th>Skew:</th>          <td> 2.315</td>  <th>  Prob(JB):          </th> <td>    0.00</td>\n</tr>\n<tr>\n  <th>Kurtosis:</th>      <td>10.564</td>  <th>  Cond. No.          </th> <td>    603.</td>\n</tr>\n</table><br/><br/>Notes:<br/>[1] Standard Errors assume that the covariance matrix of the errors is correctly specified."
     },
     "metadata": {},
     "execution_count": 169
    }
   ],
   "source": [
    "# percentage_of_arabica -> TODO very high p-value, not a good variable!\n",
    "model = smf.ols(formula=\"price_per_kg ~ percentage_of_arabica\", data=train_df).fit()\n",
    "model.summary()"
   ]
  },
  {
   "cell_type": "code",
   "execution_count": 170,
   "metadata": {},
   "outputs": [
    {
     "output_type": "execute_result",
     "data": {
      "text/plain": [
       "<class 'statsmodels.iolib.summary.Summary'>\n",
       "\"\"\"\n",
       "                            OLS Regression Results                            \n",
       "==============================================================================\n",
       "Dep. Variable:           price_per_kg   R-squared:                       0.108\n",
       "Model:                            OLS   Adj. R-squared:                  0.107\n",
       "Method:                 Least Squares   F-statistic:                     93.63\n",
       "Date:                Mon, 31 May 2021   Prob (F-statistic):           5.56e-21\n",
       "Time:                        20:18:22   Log-Likelihood:                -3440.8\n",
       "No. Observations:                 775   AIC:                             6886.\n",
       "Df Residuals:                     773   BIC:                             6895.\n",
       "Df Model:                           1                                         \n",
       "Covariance Type:            nonrobust                                         \n",
       "===========================================================================================\n",
       "                              coef    std err          t      P>|t|      [0.025      0.975]\n",
       "-------------------------------------------------------------------------------------------\n",
       "Intercept                  19.3253      1.958      9.871      0.000      15.482      23.168\n",
       "C(pure_arabica)[T.True]    20.4506      2.113      9.676      0.000      16.302      24.599\n",
       "==============================================================================\n",
       "Omnibus:                      410.648   Durbin-Watson:                   2.020\n",
       "Prob(Omnibus):                  0.000   Jarque-Bera (JB):             2773.148\n",
       "Skew:                           2.353   Prob(JB):                         0.00\n",
       "Kurtosis:                      10.983   Cond. No.                         5.13\n",
       "==============================================================================\n",
       "\n",
       "Notes:\n",
       "[1] Standard Errors assume that the covariance matrix of the errors is correctly specified.\n",
       "\"\"\""
      ],
      "text/html": "<table class=\"simpletable\">\n<caption>OLS Regression Results</caption>\n<tr>\n  <th>Dep. Variable:</th>      <td>price_per_kg</td>   <th>  R-squared:         </th> <td>   0.108</td>\n</tr>\n<tr>\n  <th>Model:</th>                   <td>OLS</td>       <th>  Adj. R-squared:    </th> <td>   0.107</td>\n</tr>\n<tr>\n  <th>Method:</th>             <td>Least Squares</td>  <th>  F-statistic:       </th> <td>   93.63</td>\n</tr>\n<tr>\n  <th>Date:</th>             <td>Mon, 31 May 2021</td> <th>  Prob (F-statistic):</th> <td>5.56e-21</td>\n</tr>\n<tr>\n  <th>Time:</th>                 <td>20:18:22</td>     <th>  Log-Likelihood:    </th> <td> -3440.8</td>\n</tr>\n<tr>\n  <th>No. Observations:</th>      <td>   775</td>      <th>  AIC:               </th> <td>   6886.</td>\n</tr>\n<tr>\n  <th>Df Residuals:</th>          <td>   773</td>      <th>  BIC:               </th> <td>   6895.</td>\n</tr>\n<tr>\n  <th>Df Model:</th>              <td>     1</td>      <th>                     </th>     <td> </td>   \n</tr>\n<tr>\n  <th>Covariance Type:</th>      <td>nonrobust</td>    <th>                     </th>     <td> </td>   \n</tr>\n</table>\n<table class=\"simpletable\">\n<tr>\n             <td></td>                <th>coef</th>     <th>std err</th>      <th>t</th>      <th>P>|t|</th>  <th>[0.025</th>    <th>0.975]</th>  \n</tr>\n<tr>\n  <th>Intercept</th>               <td>   19.3253</td> <td>    1.958</td> <td>    9.871</td> <td> 0.000</td> <td>   15.482</td> <td>   23.168</td>\n</tr>\n<tr>\n  <th>C(pure_arabica)[T.True]</th> <td>   20.4506</td> <td>    2.113</td> <td>    9.676</td> <td> 0.000</td> <td>   16.302</td> <td>   24.599</td>\n</tr>\n</table>\n<table class=\"simpletable\">\n<tr>\n  <th>Omnibus:</th>       <td>410.648</td> <th>  Durbin-Watson:     </th> <td>   2.020</td>\n</tr>\n<tr>\n  <th>Prob(Omnibus):</th> <td> 0.000</td>  <th>  Jarque-Bera (JB):  </th> <td>2773.148</td>\n</tr>\n<tr>\n  <th>Skew:</th>          <td> 2.353</td>  <th>  Prob(JB):          </th> <td>    0.00</td>\n</tr>\n<tr>\n  <th>Kurtosis:</th>      <td>10.983</td>  <th>  Cond. No.          </th> <td>    5.13</td>\n</tr>\n</table><br/><br/>Notes:<br/>[1] Standard Errors assume that the covariance matrix of the errors is correctly specified."
     },
     "metadata": {},
     "execution_count": 170
    }
   ],
   "source": [
    "# pure_arabica TODO: low p-value -> potentially good variable\n",
    "model = smf.ols(formula=\"price_per_kg ~ C(pure_arabica)\", data=train_df).fit()\n",
    "model.summary()"
   ]
  },
  {
   "cell_type": "code",
   "execution_count": 171,
   "metadata": {},
   "outputs": [
    {
     "output_type": "execute_result",
     "data": {
      "text/plain": [
       "<class 'statsmodels.iolib.summary.Summary'>\n",
       "\"\"\"\n",
       "                            OLS Regression Results                            \n",
       "==============================================================================\n",
       "Dep. Variable:           price_per_kg   R-squared:                       0.311\n",
       "Model:                            OLS   Adj. R-squared:                  0.304\n",
       "Method:                 Least Squares   F-statistic:                     43.29\n",
       "Date:                Mon, 31 May 2021   Prob (F-statistic):           2.64e-57\n",
       "Time:                        20:18:30   Log-Likelihood:                -3340.5\n",
       "No. Observations:                 775   AIC:                             6699.\n",
       "Df Residuals:                     766   BIC:                             6741.\n",
       "Df Model:                           8                                         \n",
       "Covariance Type:            nonrobust                                         \n",
       "==============================================================================================================================\n",
       "                                                                 coef    std err          t      P>|t|      [0.025      0.975]\n",
       "------------------------------------------------------------------------------------------------------------------------------\n",
       "Intercept                                                     35.2000     18.124      1.942      0.052      -0.379      70.779\n",
       "C(roast_brew)[T.dark_drip, espresso]                          -5.4200     22.198     -0.244      0.807     -48.995      38.155\n",
       "C(roast_brew)[T.dark_espresso]                               -12.4266     18.175     -0.684      0.494     -48.105      23.252\n",
       "C(roast_brew)[T.light_drip (alternative brewing methods)]     13.3377     18.151      0.735      0.463     -22.295      48.970\n",
       "C(roast_brew)[T.light_drip, espresso]                         27.4912     19.224      1.430      0.153     -10.246      65.228\n",
       "C(roast_brew)[T.light_espresso]                                9.3000     22.198      0.419      0.675     -34.275      52.875\n",
       "C(roast_brew)[T.medium_drip (alternative brewing methods)]    10.1900     19.376      0.526      0.599     -27.846      48.226\n",
       "C(roast_brew)[T.medium_drip, espresso]                         9.5343     18.285      0.521      0.602     -26.361      45.430\n",
       "C(roast_brew)[T.medium_espresso]                              -9.5137     18.173     -0.524      0.601     -45.188      26.160\n",
       "==============================================================================\n",
       "Omnibus:                      500.363   Durbin-Watson:                   1.989\n",
       "Prob(Omnibus):                  0.000   Jarque-Bera (JB):             5459.844\n",
       "Skew:                           2.822   Prob(JB):                         0.00\n",
       "Kurtosis:                      14.714   Cond. No.                         96.6\n",
       "==============================================================================\n",
       "\n",
       "Notes:\n",
       "[1] Standard Errors assume that the covariance matrix of the errors is correctly specified.\n",
       "\"\"\""
      ],
      "text/html": "<table class=\"simpletable\">\n<caption>OLS Regression Results</caption>\n<tr>\n  <th>Dep. Variable:</th>      <td>price_per_kg</td>   <th>  R-squared:         </th> <td>   0.311</td>\n</tr>\n<tr>\n  <th>Model:</th>                   <td>OLS</td>       <th>  Adj. R-squared:    </th> <td>   0.304</td>\n</tr>\n<tr>\n  <th>Method:</th>             <td>Least Squares</td>  <th>  F-statistic:       </th> <td>   43.29</td>\n</tr>\n<tr>\n  <th>Date:</th>             <td>Mon, 31 May 2021</td> <th>  Prob (F-statistic):</th> <td>2.64e-57</td>\n</tr>\n<tr>\n  <th>Time:</th>                 <td>20:18:30</td>     <th>  Log-Likelihood:    </th> <td> -3340.5</td>\n</tr>\n<tr>\n  <th>No. Observations:</th>      <td>   775</td>      <th>  AIC:               </th> <td>   6699.</td>\n</tr>\n<tr>\n  <th>Df Residuals:</th>          <td>   766</td>      <th>  BIC:               </th> <td>   6741.</td>\n</tr>\n<tr>\n  <th>Df Model:</th>              <td>     8</td>      <th>                     </th>     <td> </td>   \n</tr>\n<tr>\n  <th>Covariance Type:</th>      <td>nonrobust</td>    <th>                     </th>     <td> </td>   \n</tr>\n</table>\n<table class=\"simpletable\">\n<tr>\n                               <td></td>                                 <th>coef</th>     <th>std err</th>      <th>t</th>      <th>P>|t|</th>  <th>[0.025</th>    <th>0.975]</th>  \n</tr>\n<tr>\n  <th>Intercept</th>                                                  <td>   35.2000</td> <td>   18.124</td> <td>    1.942</td> <td> 0.052</td> <td>   -0.379</td> <td>   70.779</td>\n</tr>\n<tr>\n  <th>C(roast_brew)[T.dark_drip, espresso]</th>                       <td>   -5.4200</td> <td>   22.198</td> <td>   -0.244</td> <td> 0.807</td> <td>  -48.995</td> <td>   38.155</td>\n</tr>\n<tr>\n  <th>C(roast_brew)[T.dark_espresso]</th>                             <td>  -12.4266</td> <td>   18.175</td> <td>   -0.684</td> <td> 0.494</td> <td>  -48.105</td> <td>   23.252</td>\n</tr>\n<tr>\n  <th>C(roast_brew)[T.light_drip (alternative brewing methods)]</th>  <td>   13.3377</td> <td>   18.151</td> <td>    0.735</td> <td> 0.463</td> <td>  -22.295</td> <td>   48.970</td>\n</tr>\n<tr>\n  <th>C(roast_brew)[T.light_drip, espresso]</th>                      <td>   27.4912</td> <td>   19.224</td> <td>    1.430</td> <td> 0.153</td> <td>  -10.246</td> <td>   65.228</td>\n</tr>\n<tr>\n  <th>C(roast_brew)[T.light_espresso]</th>                            <td>    9.3000</td> <td>   22.198</td> <td>    0.419</td> <td> 0.675</td> <td>  -34.275</td> <td>   52.875</td>\n</tr>\n<tr>\n  <th>C(roast_brew)[T.medium_drip (alternative brewing methods)]</th> <td>   10.1900</td> <td>   19.376</td> <td>    0.526</td> <td> 0.599</td> <td>  -27.846</td> <td>   48.226</td>\n</tr>\n<tr>\n  <th>C(roast_brew)[T.medium_drip, espresso]</th>                     <td>    9.5343</td> <td>   18.285</td> <td>    0.521</td> <td> 0.602</td> <td>  -26.361</td> <td>   45.430</td>\n</tr>\n<tr>\n  <th>C(roast_brew)[T.medium_espresso]</th>                           <td>   -9.5137</td> <td>   18.173</td> <td>   -0.524</td> <td> 0.601</td> <td>  -45.188</td> <td>   26.160</td>\n</tr>\n</table>\n<table class=\"simpletable\">\n<tr>\n  <th>Omnibus:</th>       <td>500.363</td> <th>  Durbin-Watson:     </th> <td>   1.989</td>\n</tr>\n<tr>\n  <th>Prob(Omnibus):</th> <td> 0.000</td>  <th>  Jarque-Bera (JB):  </th> <td>5459.844</td>\n</tr>\n<tr>\n  <th>Skew:</th>          <td> 2.822</td>  <th>  Prob(JB):          </th> <td>    0.00</td>\n</tr>\n<tr>\n  <th>Kurtosis:</th>      <td>14.714</td>  <th>  Cond. No.          </th> <td>    96.6</td>\n</tr>\n</table><br/><br/>Notes:<br/>[1] Standard Errors assume that the covariance matrix of the errors is correctly specified."
     },
     "metadata": {},
     "execution_count": 171
    }
   ],
   "source": [
    "# roast_brew TODO: higher p-value -> not such a good variable\n",
    "model = smf.ols(formula=\"price_per_kg ~ C(roast_brew)\", data=train_df).fit()\n",
    "model.summary()"
   ]
  },
  {
   "cell_type": "code",
   "execution_count": 140,
   "metadata": {},
   "outputs": [
    {
     "output_type": "execute_result",
     "data": {
      "text/plain": [
       "<class 'statsmodels.iolib.summary.Summary'>\n",
       "\"\"\"\n",
       "                            OLS Regression Results                            \n",
       "==============================================================================\n",
       "Dep. Variable:           price_per_kg   R-squared:                       0.001\n",
       "Model:                            OLS   Adj. R-squared:                 -0.000\n",
       "Method:                 Least Squares   F-statistic:                    0.9477\n",
       "Date:                Mon, 31 May 2021   Prob (F-statistic):              0.331\n",
       "Time:                        20:07:35   Log-Likelihood:                -3484.6\n",
       "No. Observations:                 775   AIC:                             6973.\n",
       "Df Residuals:                     773   BIC:                             6982.\n",
       "Df Model:                           1                                         \n",
       "Covariance Type:            nonrobust                                         \n",
       "=====================================================================================\n",
       "                        coef    std err          t      P>|t|      [0.025      0.975]\n",
       "-------------------------------------------------------------------------------------\n",
       "Intercept            37.7486      1.191     31.704      0.000      35.411      40.086\n",
       "C(Washed)[T.True]    -1.5349      1.577     -0.974      0.331      -4.630       1.560\n",
       "==============================================================================\n",
       "Omnibus:                      366.146   Durbin-Watson:                   2.024\n",
       "Prob(Omnibus):                  0.000   Jarque-Bera (JB):             2029.449\n",
       "Skew:                           2.118   Prob(JB):                         0.00\n",
       "Kurtosis:                       9.701   Cond. No.                         2.82\n",
       "==============================================================================\n",
       "\n",
       "Notes:\n",
       "[1] Standard Errors assume that the covariance matrix of the errors is correctly specified.\n",
       "\"\"\""
      ],
      "text/html": "<table class=\"simpletable\">\n<caption>OLS Regression Results</caption>\n<tr>\n  <th>Dep. Variable:</th>      <td>price_per_kg</td>   <th>  R-squared:         </th> <td>   0.001</td>\n</tr>\n<tr>\n  <th>Model:</th>                   <td>OLS</td>       <th>  Adj. R-squared:    </th> <td>  -0.000</td>\n</tr>\n<tr>\n  <th>Method:</th>             <td>Least Squares</td>  <th>  F-statistic:       </th> <td>  0.9477</td>\n</tr>\n<tr>\n  <th>Date:</th>             <td>Mon, 31 May 2021</td> <th>  Prob (F-statistic):</th>  <td> 0.331</td> \n</tr>\n<tr>\n  <th>Time:</th>                 <td>20:07:35</td>     <th>  Log-Likelihood:    </th> <td> -3484.6</td>\n</tr>\n<tr>\n  <th>No. Observations:</th>      <td>   775</td>      <th>  AIC:               </th> <td>   6973.</td>\n</tr>\n<tr>\n  <th>Df Residuals:</th>          <td>   773</td>      <th>  BIC:               </th> <td>   6982.</td>\n</tr>\n<tr>\n  <th>Df Model:</th>              <td>     1</td>      <th>                     </th>     <td> </td>   \n</tr>\n<tr>\n  <th>Covariance Type:</th>      <td>nonrobust</td>    <th>                     </th>     <td> </td>   \n</tr>\n</table>\n<table class=\"simpletable\">\n<tr>\n          <td></td>             <th>coef</th>     <th>std err</th>      <th>t</th>      <th>P>|t|</th>  <th>[0.025</th>    <th>0.975]</th>  \n</tr>\n<tr>\n  <th>Intercept</th>         <td>   37.7486</td> <td>    1.191</td> <td>   31.704</td> <td> 0.000</td> <td>   35.411</td> <td>   40.086</td>\n</tr>\n<tr>\n  <th>C(Washed)[T.True]</th> <td>   -1.5349</td> <td>    1.577</td> <td>   -0.974</td> <td> 0.331</td> <td>   -4.630</td> <td>    1.560</td>\n</tr>\n</table>\n<table class=\"simpletable\">\n<tr>\n  <th>Omnibus:</th>       <td>366.146</td> <th>  Durbin-Watson:     </th> <td>   2.024</td>\n</tr>\n<tr>\n  <th>Prob(Omnibus):</th> <td> 0.000</td>  <th>  Jarque-Bera (JB):  </th> <td>2029.449</td>\n</tr>\n<tr>\n  <th>Skew:</th>          <td> 2.118</td>  <th>  Prob(JB):          </th> <td>    0.00</td>\n</tr>\n<tr>\n  <th>Kurtosis:</th>      <td> 9.701</td>  <th>  Cond. No.          </th> <td>    2.82</td>\n</tr>\n</table><br/><br/>Notes:<br/>[1] Standard Errors assume that the covariance matrix of the errors is correctly specified."
     },
     "metadata": {},
     "execution_count": 140
    }
   ],
   "source": [
    "# Washed TODO: low p-value -> potentially good variable\n",
    "model = smf.ols(formula=\"price_per_kg ~ C(Washed)\", data=train_df).fit()\n",
    "model.summary()"
   ]
  },
  {
   "cell_type": "code",
   "execution_count": 139,
   "metadata": {},
   "outputs": [
    {
     "output_type": "stream",
     "name": "stdout",
     "text": [
      "                            OLS Regression Results                            \n==============================================================================\nDep. Variable:           price_per_kg   R-squared:                       0.008\nModel:                            OLS   Adj. R-squared:                  0.006\nMethod:                 Least Squares   F-statistic:                     5.906\nDate:                Mon, 31 May 2021   Prob (F-statistic):             0.0153\nTime:                        20:07:22   Log-Likelihood:                -3482.1\nNo. Observations:                 775   AIC:                             6968.\nDf Residuals:                     773   BIC:                             6978.\nDf Model:                           1                                         \nCovariance Type:            nonrobust                                         \n======================================================================================\n                         coef    std err          t      P>|t|      [0.025      0.975]\n--------------------------------------------------------------------------------------\nIntercept             38.5316      1.035     37.233      0.000      36.500      40.563\nC(Natural)[T.True]    -3.8138      1.569     -2.430      0.015      -6.895      -0.733\n==============================================================================\nOmnibus:                      374.480   Durbin-Watson:                   2.023\nProb(Omnibus):                  0.000   Jarque-Bera (JB):             2148.325\nSkew:                           2.163   Prob(JB):                         0.00\nKurtosis:                       9.915   Cond. No.                         2.49\n==============================================================================\n\nNotes:\n[1] Standard Errors assume that the covariance matrix of the errors is correctly specified.\n"
     ]
    }
   ],
   "source": [
    "# Natural  TODO: low p-value -> potentially good variable\n",
    "model = smf.ols(formula=\"price_per_kg ~ C(Natural)\", data=train_df).fit()\n",
    "print(model.summary())"
   ]
  },
  {
   "cell_type": "code",
   "execution_count": 136,
   "metadata": {},
   "outputs": [
    {
     "output_type": "stream",
     "name": "stdout",
     "text": [
      "                            OLS Regression Results                            \n==============================================================================\nDep. Variable:           price_per_kg   R-squared:                       0.003\nModel:                            OLS   Adj. R-squared:                  0.002\nMethod:                 Least Squares   F-statistic:                     2.179\nDate:                Mon, 31 May 2021   Prob (F-statistic):              0.140\nTime:                        20:06:48   Log-Likelihood:                -3484.0\nNo. Observations:                 775   AIC:                             6972.\nDf Residuals:                     773   BIC:                             6981.\nDf Model:                           1                                         \nCovariance Type:            nonrobust                                         \n===================================================================================================\n                                      coef    std err          t      P>|t|      [0.025      0.975]\n---------------------------------------------------------------------------------------------------\nIntercept                          36.4881      0.822     44.371      0.000      34.874      38.102\nC(Fermented_closedtank)[T.True]     3.8260      2.592      1.476      0.140      -1.262       8.914\n==============================================================================\nOmnibus:                      362.231   Durbin-Watson:                   2.018\nProb(Omnibus):                  0.000   Jarque-Bera (JB):             1981.008\nSkew:                           2.096   Prob(JB):                         0.00\nKurtosis:                       9.616   Cond. No.                         3.36\n==============================================================================\n\nNotes:\n[1] Standard Errors assume that the covariance matrix of the errors is correctly specified.\n"
     ]
    }
   ],
   "source": [
    "# Fermented_closedtank TODO: low p-value -> potentially good variable\n",
    "model = smf.ols(formula=\"price_per_kg ~ C(Fermented_closedtank)\", data=train_df).fit()\n",
    "print(model.summary())"
   ]
  },
  {
   "cell_type": "code",
   "execution_count": 138,
   "metadata": {},
   "outputs": [
    {
     "output_type": "stream",
     "name": "stdout",
     "text": [
      "                            OLS Regression Results                            \n==============================================================================\nDep. Variable:           price_per_kg   R-squared:                       0.022\nModel:                            OLS   Adj. R-squared:                  0.021\nMethod:                 Least Squares   F-statistic:                     17.67\nDate:                Mon, 31 May 2021   Prob (F-statistic):           2.94e-05\nTime:                        20:07:14   Log-Likelihood:                -3476.3\nNo. Observations:                 775   AIC:                             6957.\nDf Residuals:                     773   BIC:                             6966.\nDf Model:                           1                                         \nCovariance Type:            nonrobust                                         \n====================================================================================================\n                                       coef    std err          t      P>|t|      [0.025      0.975]\n----------------------------------------------------------------------------------------------------\nIntercept                           35.9849      0.801     44.949      0.000      34.413      37.556\nC(Fermented_traditional)[T.True]    12.7484      3.033      4.203      0.000       6.795      18.702\n==============================================================================\nOmnibus:                      383.705   Durbin-Watson:                   2.004\nProb(Omnibus):                  0.000   Jarque-Bera (JB):             2346.036\nSkew:                           2.200   Prob(JB):                         0.00\nKurtosis:                      10.300   Cond. No.                         3.95\n==============================================================================\n\nNotes:\n[1] Standard Errors assume that the covariance matrix of the errors is correctly specified.\n"
     ]
    }
   ],
   "source": [
    "# Fermented_traditional TODO: low p-value -> potentially good variable\n",
    "model = smf.ols(formula=\"price_per_kg ~ C(Fermented_traditional)\", data=train_df).fit()\n",
    "print(model.summary())"
   ]
  },
  {
   "cell_type": "code",
   "execution_count": 132,
   "metadata": {},
   "outputs": [
    {
     "output_type": "execute_result",
     "data": {
      "text/plain": [
       "<class 'statsmodels.iolib.summary.Summary'>\n",
       "\"\"\"\n",
       "                            OLS Regression Results                            \n",
       "==============================================================================\n",
       "Dep. Variable:           price_per_kg   R-squared:                       0.102\n",
       "Model:                            OLS   Adj. R-squared:                  0.098\n",
       "Method:                 Least Squares   F-statistic:                     21.90\n",
       "Date:                Mon, 31 May 2021   Prob (F-statistic):           3.86e-17\n",
       "Time:                        20:05:53   Log-Likelihood:                -3443.3\n",
       "No. Observations:                 775   AIC:                             6897.\n",
       "Df Residuals:                     770   BIC:                             6920.\n",
       "Df Model:                           4                                         \n",
       "Covariance Type:            nonrobust                                         \n",
       "=================================================================================================\n",
       "                                    coef    std err          t      P>|t|      [0.025      0.975]\n",
       "-------------------------------------------------------------------------------------------------\n",
       "Intercept                        43.5291      1.526     28.529      0.000      40.534      46.524\n",
       "C(region_of_origin)[T.Asia]      -9.9995      4.255     -2.350      0.019     -18.353      -1.646\n",
       "C(region_of_origin)[T.Europe]   -21.2125      8.564     -2.477      0.013     -38.023      -4.402\n",
       "C(region_of_origin)[T.Latam]     -4.5782      1.830     -2.502      0.013      -8.170      -0.987\n",
       "C(region_of_origin)[T.Mixed]    -20.1944      2.313     -8.731      0.000     -24.735     -15.654\n",
       "==============================================================================\n",
       "Omnibus:                      415.685   Durbin-Watson:                   2.024\n",
       "Prob(Omnibus):                  0.000   Jarque-Bera (JB):             3075.270\n",
       "Skew:                           2.349   Prob(JB):                         0.00\n",
       "Kurtosis:                      11.554   Cond. No.                         13.6\n",
       "==============================================================================\n",
       "\n",
       "Notes:\n",
       "[1] Standard Errors assume that the covariance matrix of the errors is correctly specified.\n",
       "\"\"\""
      ],
      "text/html": "<table class=\"simpletable\">\n<caption>OLS Regression Results</caption>\n<tr>\n  <th>Dep. Variable:</th>      <td>price_per_kg</td>   <th>  R-squared:         </th> <td>   0.102</td>\n</tr>\n<tr>\n  <th>Model:</th>                   <td>OLS</td>       <th>  Adj. R-squared:    </th> <td>   0.098</td>\n</tr>\n<tr>\n  <th>Method:</th>             <td>Least Squares</td>  <th>  F-statistic:       </th> <td>   21.90</td>\n</tr>\n<tr>\n  <th>Date:</th>             <td>Mon, 31 May 2021</td> <th>  Prob (F-statistic):</th> <td>3.86e-17</td>\n</tr>\n<tr>\n  <th>Time:</th>                 <td>20:05:53</td>     <th>  Log-Likelihood:    </th> <td> -3443.3</td>\n</tr>\n<tr>\n  <th>No. Observations:</th>      <td>   775</td>      <th>  AIC:               </th> <td>   6897.</td>\n</tr>\n<tr>\n  <th>Df Residuals:</th>          <td>   770</td>      <th>  BIC:               </th> <td>   6920.</td>\n</tr>\n<tr>\n  <th>Df Model:</th>              <td>     4</td>      <th>                     </th>     <td> </td>   \n</tr>\n<tr>\n  <th>Covariance Type:</th>      <td>nonrobust</td>    <th>                     </th>     <td> </td>   \n</tr>\n</table>\n<table class=\"simpletable\">\n<tr>\n                <td></td>                   <th>coef</th>     <th>std err</th>      <th>t</th>      <th>P>|t|</th>  <th>[0.025</th>    <th>0.975]</th>  \n</tr>\n<tr>\n  <th>Intercept</th>                     <td>   43.5291</td> <td>    1.526</td> <td>   28.529</td> <td> 0.000</td> <td>   40.534</td> <td>   46.524</td>\n</tr>\n<tr>\n  <th>C(region_of_origin)[T.Asia]</th>   <td>   -9.9995</td> <td>    4.255</td> <td>   -2.350</td> <td> 0.019</td> <td>  -18.353</td> <td>   -1.646</td>\n</tr>\n<tr>\n  <th>C(region_of_origin)[T.Europe]</th> <td>  -21.2125</td> <td>    8.564</td> <td>   -2.477</td> <td> 0.013</td> <td>  -38.023</td> <td>   -4.402</td>\n</tr>\n<tr>\n  <th>C(region_of_origin)[T.Latam]</th>  <td>   -4.5782</td> <td>    1.830</td> <td>   -2.502</td> <td> 0.013</td> <td>   -8.170</td> <td>   -0.987</td>\n</tr>\n<tr>\n  <th>C(region_of_origin)[T.Mixed]</th>  <td>  -20.1944</td> <td>    2.313</td> <td>   -8.731</td> <td> 0.000</td> <td>  -24.735</td> <td>  -15.654</td>\n</tr>\n</table>\n<table class=\"simpletable\">\n<tr>\n  <th>Omnibus:</th>       <td>415.685</td> <th>  Durbin-Watson:     </th> <td>   2.024</td>\n</tr>\n<tr>\n  <th>Prob(Omnibus):</th> <td> 0.000</td>  <th>  Jarque-Bera (JB):  </th> <td>3075.270</td>\n</tr>\n<tr>\n  <th>Skew:</th>          <td> 2.349</td>  <th>  Prob(JB):          </th> <td>    0.00</td>\n</tr>\n<tr>\n  <th>Kurtosis:</th>      <td>11.554</td>  <th>  Cond. No.          </th> <td>    13.6</td>\n</tr>\n</table><br/><br/>Notes:<br/>[1] Standard Errors assume that the covariance matrix of the errors is correctly specified."
     },
     "metadata": {},
     "execution_count": 132
    }
   ],
   "source": [
    "# region_of_origin TODO: low p-value -> potentially good variable\n",
    "model = smf.ols(formula=\"price_per_kg ~ C(region_of_origin)\", data=train_df).fit()\n",
    "model.summary()"
   ]
  },
  {
   "source": [
    "## Backward stepwise selection"
   ],
   "cell_type": "markdown",
   "metadata": {}
  },
  {
   "cell_type": "code",
   "execution_count": 191,
   "metadata": {},
   "outputs": [
    {
     "output_type": "stream",
     "name": "stdout",
     "text": [
      "                            OLS Regression Results                            \n==============================================================================\nDep. Variable:           price_per_kg   R-squared:                       0.543\nModel:                            OLS   Adj. R-squared:                  0.486\nMethod:                 Least Squares   F-statistic:                     9.401\nDate:                Mon, 31 May 2021   Prob (F-statistic):           5.61e-72\nTime:                        20:33:41   Log-Likelihood:                -3181.2\nNo. Observations:                 775   AIC:                             6538.\nDf Residuals:                     687   BIC:                             6948.\nDf Model:                          87                                         \nCovariance Type:            nonrobust                                         \n==============================================================================================================================\n                                                                 coef    std err          t      P>|t|      [0.025      0.975]\n------------------------------------------------------------------------------------------------------------------------------\nIntercept                                                     21.3996     13.833      1.547      0.122      -5.759      48.559\nC(process)[T.Anaerobic]                                        3.8324      5.567      0.688      0.491      -7.098      14.762\nC(process)[T.Anaerobic natural]                              -10.2927      7.161     -1.437      0.151     -24.354       3.768\nC(process)[T.CRYO]                                            29.3636     13.177      2.228      0.026       3.491      55.236\nC(process)[T.Carbonic Maceration]                             38.4304      7.307      5.259      0.000      24.083      52.777\nC(process)[T.Experimental]                                    -0.6678      8.076     -0.083      0.934     -16.525      15.189\nC(process)[T.Experimental Anaerobic]                          -9.9267     14.034     -0.707      0.480     -37.482      17.629\nC(process)[T.Fermentacja kontrolowana]                        -4.5768     19.237     -0.238      0.812     -42.348      33.194\nC(process)[T.Honey]                                            3.0114      7.729      0.390      0.697     -12.164      18.187\nC(process)[T.Honey + Anaerobic]                               -3.2156     10.932     -0.294      0.769     -24.680      18.248\nC(process)[T.Macerated Natural]                                6.5380      9.959      0.656      0.512     -13.016      26.092\nC(process)[T.Monsooning]                                      -1.6760      4.905     -0.342      0.733     -11.307       7.955\nC(process)[T.Natural]                                          0.3461      2.590      0.134      0.894      -4.739       5.431\nC(process)[T.Pulped natural]                                  -3.4139      3.671     -0.930      0.353     -10.622       3.794\nC(process)[T.Rum Aged]                                       -14.0020      5.820     -2.406      0.016     -25.429      -2.575\nC(process)[T.Semi-Carbonic Maceration]                        -1.0094      5.644     -0.179      0.858     -12.091      10.072\nC(process)[T.Semi-Washed Kombucha Experiment]                -11.1361      6.082     -1.831      0.068     -23.077       0.805\nC(process)[T.Semi-washed]                                     -2.5686      4.708     -0.546      0.586     -11.813       6.676\nC(process)[T.Washed]                                          -3.0221      2.338     -1.293      0.197      -7.612       1.568\nC(process)[T.Washed Anaerobic]                                -5.8548      9.993     -0.586      0.558     -25.475      13.765\nC(process)[T.Washed Double Anaerobic]                         22.3431     12.788      1.747      0.081      -2.765      47.452\nC(process)[T.Washed and natural]                               2.5723      4.878      0.527      0.598      -7.006      12.151\nC(process)[T.Yeast Process]                                  -13.0580     10.611     -1.231      0.219     -33.893       7.777\nC(process)[T.Yellow Bourbon]                                   2.0933     13.590      0.154      0.878     -24.590      28.777\nC(brewing_method)[T.drip, espresso]                           -4.7182      8.975     -0.526      0.599     -22.340      12.904\nC(brewing_method)[T.espresso]                                -11.5498      8.695     -1.328      0.185     -28.622       5.523\nC(roast)[T.light]                                             11.1363      8.739      1.274      0.203      -6.022      28.295\nC(roast)[T.medium]                                             1.6691      8.582      0.194      0.846     -15.181      18.519\nC(grind)[T.ground]                                            30.9846      2.906     10.661      0.000      25.278      36.691\nC(origin)[T.Brazylia]                                        -15.1795      7.336     -2.069      0.039     -29.583      -0.775\nC(origin)[T.Brazylia, Burundi, Peru]                          -4.2607     17.218     -0.247      0.805     -38.066      29.545\nC(origin)[T.Brazylia, Etiopia]                                 1.6140      9.498      0.170      0.865     -17.035      20.263\nC(origin)[T.Brazylia, Gwatemala]                             -11.0194      9.450     -1.166      0.244     -29.574       7.535\nC(origin)[T.Brazylia, Gwatemala, Etiopia]                      2.9062      7.842      0.371      0.711     -12.491      18.303\nC(origin)[T.Brazylia, Gwatemala, Kostaryka]                    1.3393     17.218      0.078      0.938     -32.466      35.145\nC(origin)[T.Brazylia, Honduras]                              -15.1107     10.694     -1.413      0.158     -36.107       5.886\nC(origin)[T.Brazylia, Indie]                                   6.3228      4.211      1.501      0.134      -1.945      14.591\nC(origin)[T.Brazylia, Kenia]                                  -6.8017     14.924     -0.456      0.649     -36.104      22.501\nC(origin)[T.Brazylia, Kolumbia]                              -37.6699     10.211     -3.689      0.000     -57.718     -17.622\nC(origin)[T.Brazylia, Kostaryka, Nikaragua]                   -3.3437     13.188     -0.254      0.800     -29.238      22.551\nC(origin)[T.Brazylia, Peru]                                   -9.0607     17.218     -0.526      0.599     -42.866      24.745\nC(origin)[T.Brazylia, Peru, Wietnam]                         -16.0213      4.956     -3.233      0.001     -25.752      -6.291\nC(origin)[T.Brazylia, Tanzania]                                6.7388      5.697      1.183      0.237      -4.446      17.924\nC(origin)[T.Brazylia, Uganda]                                 -1.9420     10.920     -0.178      0.859     -23.383      19.499\nC(origin)[T.Brazylia, inne]                                  -17.0285      9.307     -1.830      0.068     -35.301       1.245\nC(origin)[T.Burundi]                                           8.0044      4.578      1.748      0.081      -0.984      16.993\nC(origin)[T.Chiny]                                             6.7867      8.531      0.796      0.427      -9.963      23.536\nC(origin)[T.Demokratyczna Republika Konga]                    -5.1686      6.446     -0.802      0.423     -17.824       7.487\nC(origin)[T.Etiopia]                                           9.6516      3.034      3.181      0.002       3.694      15.609\nC(origin)[T.Etiopia, Brazylia]                                 8.5354      4.646      1.837      0.067      -0.586      17.656\nC(origin)[T.Etiopia, Brazylia, Kolumbia]                       4.1701     10.885      0.383      0.702     -17.201      25.541\nC(origin)[T.Etiopia, Gwatemala]                                2.5049      7.201      0.348      0.728     -11.634      16.644\nC(origin)[T.Etiopia, Kolumbia]                               -17.3392      6.640     -2.611      0.009     -30.376      -4.302\nC(origin)[T.Gwatemala]                                        -8.6816      7.386     -1.175      0.240     -23.182       5.819\nC(origin)[T.Honduras]                                        -12.6693      7.883     -1.607      0.108     -28.147       2.809\nC(origin)[T.Honduras, Kolumbia, Peru]                        -14.5508      9.284     -1.567      0.117     -32.778       3.677\nC(origin)[T.Indie]                                             1.6208      7.778      0.208      0.835     -13.651      16.893\nC(origin)[T.Indonezja]                                        -4.3302      5.716     -0.758      0.449     -15.552       6.892\nC(origin)[T.Italy]                                             5.0047      3.626      1.380      0.168      -2.115      12.124\nC(origin)[T.Kenia]                                             9.3882      3.482      2.696      0.007       2.551      16.225\nC(origin)[T.Kenia, Indie]                                     -6.1342      6.938     -0.884      0.377     -19.757       7.488\nC(origin)[T.Kolumbia]                                         -1.6672      7.319     -0.228      0.820     -16.038      12.704\nC(origin)[T.Kostaryka]                                        -7.9386      7.897     -1.005      0.315     -23.445       7.567\nC(origin)[T.Laos]                                              6.0307      7.811      0.772      0.440      -9.306      21.367\nC(origin)[T.Malawi]                                           -7.7643     15.703     -0.494      0.621     -38.597      23.068\nC(origin)[T.Meksyk]                                          -11.5343      9.158     -1.259      0.208     -29.516       6.447\nC(origin)[T.Mjanma]                                            0.0501     10.092      0.005      0.996     -19.764      19.864\nC(origin)[T.Nikaragua]                                       -11.5721      8.567     -1.351      0.177     -28.392       5.248\nC(origin)[T.Panama]                                            7.1513      8.015      0.892      0.373      -8.585      22.888\nC(origin)[T.Papua Nowa Gwinea]                                 6.4385     10.516      0.612      0.541     -14.209      27.086\nC(origin)[T.Papua Nowa Gwinea, Rwanda]                        -9.3919     14.670     -0.640      0.522     -38.196      19.412\nC(origin)[T.Peru]                                            -12.0850      7.725     -1.564      0.118     -27.253       3.083\nC(origin)[T.Peru, Etiopia]                                    11.7912     14.902      0.791      0.429     -17.468      41.050\nC(origin)[T.Peru, Gwatemala]                                   2.2127     10.119      0.219      0.827     -17.655      22.080\nC(origin)[T.Rwanda]                                            0.6724      3.476      0.193      0.847      -6.153       7.498\nC(origin)[T.Rwanda, inne]                                     -8.0356     14.907     -0.539      0.590     -37.304      21.233\nC(origin)[T.Salwador]                                         -7.9503      7.906     -1.006      0.315     -23.472       7.572\nC(origin)[T.Salwador, Indie]                                  25.5628      9.345      2.735      0.006       7.214      43.912\nC(origin)[T.Salwador, Nikaragua]                               1.3393     17.218      0.078      0.938     -32.466      35.145\nC(origin)[T.Sumatra]                                         -11.7831     14.898     -0.791      0.429     -41.033      17.467\nC(origin)[T.Tanzania]                                         -4.5919     10.538     -0.436      0.663     -25.282      16.098\nC(origin)[T.Uganda]                                            0.6422      6.996      0.092      0.927     -13.093      14.378\nC(pure_arabica)[T.True]                                       12.4631      4.386      2.841      0.005       3.851      21.075\nC(roast_brew)[T.dark_drip, espresso]                         -27.1039     11.702     -2.316      0.021     -50.081      -4.127\nC(roast_brew)[T.dark_espresso]                               -10.3192      8.705     -1.185      0.236     -27.410       6.772\nC(roast_brew)[T.light_drip (alternative brewing methods)]    -10.5335      8.712     -1.209      0.227     -27.638       6.571\nC(roast_brew)[T.light_drip, espresso]                         18.1570      4.754      3.819      0.000       8.823      27.491\nC(roast_brew)[T.light_espresso]                                3.5128      6.850      0.513      0.608      -9.936      16.962\nC(roast_brew)[T.medium_drip (alternative brewing methods)]     2.1839      9.703      0.225      0.822     -16.868      21.236\nC(roast_brew)[T.medium_drip, espresso]                         4.2287      3.362      1.258      0.209      -2.372      10.829\nC(roast_brew)[T.medium_espresso]                              -4.7434      2.716     -1.747      0.081     -10.075       0.588\nC(Washed)[T.True]                                             -1.2842      4.292     -0.299      0.765      -9.711       7.143\nC(Natural)[T.True]                                            -4.4545      4.388     -1.015      0.310     -13.070       4.161\nC(Fermented_traditional)[T.True]                              -0.3067      8.797     -0.035      0.972     -17.579      16.966\nC(Fermented_closedtank)[T.True]                               11.1221      4.088      2.720      0.007       3.095      19.149\nC(process_general)[T.Experimental]                            -0.6678      8.076     -0.083      0.934     -16.525      15.189\nC(process_general)[T.Fermented]                                0.6703      4.892      0.137      0.891      -8.935      10.275\nC(process_general)[T.Honey]                                   -0.2042      4.597     -0.044      0.965      -9.230       8.821\nC(process_general)[T.Hybrid]                                  -0.8416      3.853     -0.218      0.827      -8.407       6.724\nC(process_general)[T.Monsooning]                              -1.6760      4.905     -0.342      0.733     -11.307       7.955\nC(process_general)[T.Natural]                                  0.3461      2.590      0.134      0.894      -4.739       5.431\nC(process_general)[T.Semi-washed]                             -2.5686      4.708     -0.546      0.586     -11.813       6.676\nC(process_general)[T.Washed]                                  -3.0221      2.338     -1.293      0.197      -7.612       1.568\nC(region_of_origin)[T.Asia]                                   -1.6250      4.030     -0.403      0.687      -9.537       6.287\nC(region_of_origin)[T.Europe]                                  5.0047      3.626      1.380      0.168      -2.115      12.124\nC(region_of_origin)[T.Latam]                                  13.2956      6.973      1.907      0.057      -0.395      26.986\nC(region_of_origin)[T.Mixed]                                  -3.1563      3.278     -0.963      0.336      -9.593       3.281\npercentage_of_arabica                                          0.1105      0.074      1.485      0.138      -0.036       0.257\n==============================================================================\nOmnibus:                      470.011   Durbin-Watson:                   1.926\nProb(Omnibus):                  0.000   Jarque-Bera (JB):             6699.688\nSkew:                           2.474   Prob(JB):                         0.00\nKurtosis:                      16.528   Cond. No.                     3.01e+17\n==============================================================================\n\nNotes:\n[1] Standard Errors assume that the covariance matrix of the errors is correctly specified.\n[2] The smallest eigenvalue is 7.9e-29. This might indicate that there are\nstrong multicollinearity problems or that the design matrix is singular.\n"
     ]
    }
   ],
   "source": [
    "# Modelling with all variables\n",
    "# columns = ['process', 'brewing_method', 'roast', 'grind', 'origin', 'percentage_of_arabica', 'pure_arabica', 'roast_brew', 'Washed', 'Natural', 'Fermented_traditional',                       'Fermented_closedtank', 'process_general', 'region_of_origin']\n",
    "\n",
    "# for idx, col in enumerate(columns):\n",
    "#     if idx == 0:\n",
    "#         all_columns = col\n",
    "#     else:\n",
    "#         all_columns = all_columns + ' + ' + col\n",
    "# print(all_columns)\n",
    "\n",
    "model_step1 = smf.ols(formula=\"price_per_kg ~ C(process) + C(brewing_method) + C(roast) + C(grind) + C(origin) + percentage_of_arabica + C(pure_arabica) + C(roast_brew) + C(Washed) + C(Natural) + C(Fermented_traditional) + C(Fermented_closedtank) + C(process_general) + C(region_of_origin)\", data=train_df).fit()\n",
    "print(model_step1.summary())\n"
   ]
  },
  {
   "cell_type": "code",
   "execution_count": 193,
   "metadata": {},
   "outputs": [
    {
     "output_type": "execute_result",
     "data": {
      "text/plain": [
       "C(origin)[T.Mjanma]                            9.960423e-01\n",
       "C(Fermented_traditional)[T.True]               9.722023e-01\n",
       "C(process_general)[T.Honey]                    9.645785e-01\n",
       "C(origin)[T.Salwador, Nikaragua]               9.380207e-01\n",
       "C(origin)[T.Brazylia, Gwatemala, Kostaryka]    9.380207e-01\n",
       "                                                   ...     \n",
       "C(origin)[T.Brazylia, Peru, Wietnam]           1.284246e-03\n",
       "C(origin)[T.Brazylia, Kolumbia]                2.427431e-04\n",
       "C(roast_brew)[T.light_drip, espresso]          1.460044e-04\n",
       "C(process)[T.Carbonic Maceration]              1.933903e-07\n",
       "C(grind)[T.ground]                             1.154379e-24\n",
       "Length: 108, dtype: float64"
      ]
     },
     "metadata": {},
     "execution_count": 193
    }
   ],
   "source": [
    "model_step1.pvalues.sort_values(ascending=False)"
   ]
  },
  {
   "cell_type": "code",
   "execution_count": 194,
   "metadata": {},
   "outputs": [
    {
     "output_type": "stream",
     "name": "stdout",
     "text": [
      "                            OLS Regression Results                            \n==============================================================================\nDep. Variable:           price_per_kg   R-squared:                       0.464\nModel:                            OLS   Adj. R-squared:                  0.437\nMethod:                 Least Squares   F-statistic:                     16.79\nDate:                Mon, 31 May 2021   Prob (F-statistic):           6.88e-76\nTime:                        20:37:34   Log-Likelihood:                -3243.2\nNo. Observations:                 775   AIC:                             6564.\nDf Residuals:                     736   BIC:                             6746.\nDf Model:                          38                                         \nCovariance Type:            nonrobust                                         \n==============================================================================================================================\n                                                                 coef    std err          t      P>|t|      [0.025      0.975]\n------------------------------------------------------------------------------------------------------------------------------\nIntercept                                                     26.8610     14.823      1.812      0.070      -2.239      55.961\nC(process)[T.Anaerobic]                                        8.5720      5.675      1.511      0.131      -2.569      19.713\nC(process)[T.Anaerobic natural]                              -11.8404      7.344     -1.612      0.107     -26.258       2.577\nC(process)[T.CRYO]                                            26.5297     13.759      1.928      0.054      -0.482      53.541\nC(process)[T.Carbonic Maceration]                             41.1584      7.410      5.554      0.000      26.610      55.706\nC(process)[T.Experimental]                                    -0.4239      7.814     -0.054      0.957     -15.765      14.917\nC(process)[T.Experimental Anaerobic]                          -8.6016     14.515     -0.593      0.554     -37.097      19.894\nC(process)[T.Fermentacja kontrolowana]                        -2.4033     20.120     -0.119      0.905     -41.902      37.095\nC(process)[T.Honey]                                            7.5531      7.841      0.963      0.336      -7.840      22.946\nC(process)[T.Honey + Anaerobic]                              -10.7781     11.200     -0.962      0.336     -32.765      11.209\nC(process)[T.Macerated Natural]                               10.1102     10.218      0.990      0.323      -9.949      30.169\nC(process)[T.Monsooning]                                       2.1572      4.569      0.472      0.637      -6.813      11.127\nC(process)[T.Natural]                                          1.4635      2.659      0.550      0.582      -3.757       6.684\nC(process)[T.Pulped natural]                                  -5.5032      3.646     -1.509      0.132     -12.661       1.655\nC(process)[T.Rum Aged]                                        -9.8390      5.390     -1.825      0.068     -20.421       0.743\nC(process)[T.Semi-Carbonic Maceration]                        -0.8535      5.336     -0.160      0.873     -11.329       9.622\nC(process)[T.Semi-Washed Kombucha Experiment]                 -9.1599      5.332     -1.718      0.086     -19.628       1.308\nC(process)[T.Semi-washed]                                      1.1630      4.745      0.245      0.806      -8.152      10.478\nC(process)[T.Washed]                                          -2.4994      2.314     -1.080      0.280      -7.042       2.043\nC(process)[T.Washed Anaerobic]                               -12.0788      9.946     -1.214      0.225     -31.606       7.448\nC(process)[T.Washed Double Anaerobic]                         27.1212     13.237      2.049      0.041       1.134      53.109\nC(process)[T.Washed and natural]                               6.4591      4.984      1.296      0.195      -3.325      16.243\nC(process)[T.Yeast Process]                                  -11.0016     10.645     -1.033      0.302     -31.901       9.898\nC(process)[T.Yellow Bourbon]                                  -0.8104     14.164     -0.057      0.954     -28.617      26.997\nC(brewing_method)[T.drip, espresso]                            0.7176      9.143      0.078      0.937     -17.232      18.667\nC(brewing_method)[T.espresso]                                 -6.8594      8.840     -0.776      0.438     -24.213      10.494\nC(roast)[T.light]                                             12.5781      8.895      1.414      0.158      -4.885      30.041\nC(roast)[T.medium]                                             0.0337      8.603      0.004      0.997     -16.856      16.923\nC(grind)[T.ground]                                            20.1164      2.335      8.614      0.000      15.532      24.701\nC(pure_arabica)[T.True]                                        2.6246      3.568      0.736      0.462      -4.380       9.629\nC(roast_brew)[T.dark_drip, espresso]                         -13.0035     11.774     -1.104      0.270     -36.119      10.112\nC(roast_brew)[T.dark_espresso]                                -9.8101      8.817     -1.113      0.266     -27.119       7.499\nC(roast_brew)[T.light_drip (alternative brewing methods)]     -7.7823      8.870     -0.877      0.381     -25.195       9.631\nC(roast_brew)[T.light_drip, espresso]                         11.2732      4.609      2.446      0.015       2.225      20.322\nC(roast_brew)[T.light_espresso]                                9.0872      7.036      1.292      0.197      -4.725      22.900\nC(roast_brew)[T.medium_drip (alternative brewing methods)]     3.7224      9.476      0.393      0.695     -14.881      22.326\nC(roast_brew)[T.medium_drip, espresso]                         2.4479      3.350      0.731      0.465      -4.128       9.024\nC(roast_brew)[T.medium_espresso]                              -6.1366      2.639     -2.325      0.020     -11.318      -0.955\nC(Washed)[T.True]                                              2.2772      4.300      0.530      0.597      -6.164      10.718\nC(Natural)[T.True]                                            -2.5357      4.525     -0.560      0.575     -11.418       6.347\nC(Fermented_traditional)[T.True]                              -3.2104      9.114     -0.352      0.725     -21.103      14.682\nC(Fermented_closedtank)[T.True]                               13.3913      4.125      3.246      0.001       5.293      21.490\nC(process_general)[T.Experimental]                            -0.4239      7.814     -0.054      0.957     -15.765      14.917\nC(process_general)[T.Fermented]                                0.7400      5.059      0.146      0.884      -9.192      10.672\nC(process_general)[T.Honey]                                   -3.2250      4.737     -0.681      0.496     -12.525       6.075\nC(process_general)[T.Hybrid]                                   0.9559      3.964      0.241      0.810      -6.826       8.738\nC(process_general)[T.Monsooning]                               2.1572      4.569      0.472      0.637      -6.813      11.127\nC(process_general)[T.Natural]                                  1.4635      2.659      0.550      0.582      -3.757       6.684\nC(process_general)[T.Semi-washed]                              1.1630      4.745      0.245      0.806      -8.152      10.478\nC(process_general)[T.Washed]                                  -2.4994      2.314     -1.080      0.280      -7.042       2.043\nC(region_of_origin)[T.Asia]                                   -8.6015      3.795     -2.266      0.024     -16.053      -1.151\nC(region_of_origin)[T.Europe]                                 -3.0687      7.208     -0.426      0.670     -17.219      11.081\nC(region_of_origin)[T.Latam]                                  -1.7356      1.537     -1.129      0.259      -4.754       1.283\nC(region_of_origin)[T.Mixed]                                  -9.8698      2.464     -4.006      0.000     -14.707      -5.033\npercentage_of_arabica                                          0.1392      0.072      1.927      0.054      -0.003       0.281\n==============================================================================\nOmnibus:                      442.011   Durbin-Watson:                   1.935\nProb(Omnibus):                  0.000   Jarque-Bera (JB):             4781.098\nSkew:                           2.379   Prob(JB):                         0.00\nKurtosis:                      14.199   Cond. No.                     1.01e+16\n==============================================================================\n\nNotes:\n[1] Standard Errors assume that the covariance matrix of the errors is correctly specified.\n[2] The smallest eigenvalue is 6.96e-26. This might indicate that there are\nstrong multicollinearity problems or that the design matrix is singular.\n"
     ]
    }
   ],
   "source": [
    "model_step2 = smf.ols(formula=\"price_per_kg ~ C(process) + C(brewing_method) + C(roast) + C(grind) + percentage_of_arabica + C(pure_arabica) + C(roast_brew) + C(Washed) + C(Natural) + C(Fermented_traditional) + C(Fermented_closedtank) + C(process_general) + C(region_of_origin)\", data=train_df).fit()\n",
    "print(model_step2.summary()) # there was a decrease in intercept p-value by 0.052"
   ]
  },
  {
   "cell_type": "code",
   "execution_count": 195,
   "metadata": {},
   "outputs": [
    {
     "output_type": "execute_result",
     "data": {
      "text/plain": [
       "C(roast)[T.medium]                                            9.968788e-01\n",
       "C(process)[T.Experimental]                                    9.567508e-01\n",
       "C(process_general)[T.Experimental]                            9.567508e-01\n",
       "C(process)[T.Yellow Bourbon]                                  9.543915e-01\n",
       "C(brewing_method)[T.drip, espresso]                           9.374646e-01\n",
       "C(process)[T.Fermentacja kontrolowana]                        9.049498e-01\n",
       "C(process_general)[T.Fermented]                               8.837454e-01\n",
       "C(process)[T.Semi-Carbonic Maceration]                        8.729577e-01\n",
       "C(process_general)[T.Hybrid]                                  8.095145e-01\n",
       "C(process)[T.Semi-washed]                                     8.064379e-01\n",
       "C(process_general)[T.Semi-washed]                             8.064379e-01\n",
       "C(Fermented_traditional)[T.True]                              7.247505e-01\n",
       "C(roast_brew)[T.medium_drip (alternative brewing methods)]    6.945736e-01\n",
       "C(region_of_origin)[T.Europe]                                 6.704091e-01\n",
       "C(process_general)[T.Monsooning]                              6.369868e-01\n",
       "C(process)[T.Monsooning]                                      6.369868e-01\n",
       "C(Washed)[T.True]                                             5.965531e-01\n",
       "C(process)[T.Natural]                                         5.822718e-01\n",
       "C(process_general)[T.Natural]                                 5.822718e-01\n",
       "C(Natural)[T.True]                                            5.753652e-01\n",
       "C(process)[T.Experimental Anaerobic]                          5.536242e-01\n",
       "C(process_general)[T.Honey]                                   4.962433e-01\n",
       "C(roast_brew)[T.medium_drip, espresso]                        4.651623e-01\n",
       "C(pure_arabica)[T.True]                                       4.622186e-01\n",
       "C(brewing_method)[T.espresso]                                 4.380001e-01\n",
       "C(roast_brew)[T.light_drip (alternative brewing methods)]     3.805573e-01\n",
       "C(process)[T.Honey + Anaerobic]                               3.361883e-01\n",
       "C(process)[T.Honey]                                           3.356966e-01\n",
       "C(process)[T.Macerated Natural]                               3.227433e-01\n",
       "C(process)[T.Yeast Process]                                   3.017306e-01\n",
       "C(process)[T.Washed]                                          2.804178e-01\n",
       "C(process_general)[T.Washed]                                  2.804178e-01\n",
       "C(roast_brew)[T.dark_drip, espresso]                          2.697841e-01\n",
       "C(roast_brew)[T.dark_espresso]                                2.662270e-01\n",
       "C(region_of_origin)[T.Latam]                                  2.593020e-01\n",
       "C(process)[T.Washed Anaerobic]                                2.249920e-01\n",
       "C(roast_brew)[T.light_espresso]                               1.969024e-01\n",
       "C(process)[T.Washed and natural]                              1.953752e-01\n",
       "C(roast)[T.light]                                             1.577835e-01\n",
       "C(process)[T.Pulped natural]                                  1.316312e-01\n",
       "C(process)[T.Anaerobic]                                       1.313402e-01\n",
       "C(process)[T.Anaerobic natural]                               1.073399e-01\n",
       "C(process)[T.Semi-Washed Kombucha Experiment]                 8.623292e-02\n",
       "Intercept                                                     7.037562e-02\n",
       "C(process)[T.Rum Aged]                                        6.834816e-02\n",
       "percentage_of_arabica                                         5.433680e-02\n",
       "C(process)[T.CRYO]                                            5.421625e-02\n",
       "C(process)[T.Washed Double Anaerobic]                         4.083329e-02\n",
       "C(region_of_origin)[T.Asia]                                   2.372088e-02\n",
       "C(roast_brew)[T.medium_espresso]                              2.033613e-02\n",
       "C(roast_brew)[T.light_drip, espresso]                         1.468549e-02\n",
       "C(Fermented_closedtank)[T.True]                               1.222324e-03\n",
       "C(region_of_origin)[T.Mixed]                                  6.808907e-05\n",
       "C(process)[T.Carbonic Maceration]                             3.899177e-08\n",
       "C(grind)[T.ground]                                            4.271959e-17\n",
       "dtype: float64"
      ]
     },
     "metadata": {},
     "execution_count": 195
    }
   ],
   "source": [
    "model_step2.pvalues.sort_values(ascending=False)"
   ]
  },
  {
   "cell_type": "code",
   "execution_count": 198,
   "metadata": {},
   "outputs": [
    {
     "output_type": "stream",
     "name": "stdout",
     "text": [
      "                            OLS Regression Results                            \n==============================================================================\nDep. Variable:           price_per_kg   R-squared:                       0.464\nModel:                            OLS   Adj. R-squared:                  0.437\nMethod:                 Least Squares   F-statistic:                     16.79\nDate:                Mon, 31 May 2021   Prob (F-statistic):           6.88e-76\nTime:                        20:40:33   Log-Likelihood:                -3243.2\nNo. Observations:                 775   AIC:                             6564.\nDf Residuals:                     736   BIC:                             6746.\nDf Model:                          38                                         \nCovariance Type:            nonrobust                                         \n==============================================================================================================================\n                                                                 coef    std err          t      P>|t|      [0.025      0.975]\n------------------------------------------------------------------------------------------------------------------------------\nIntercept                                                     26.8610     14.823      1.812      0.070      -2.239      55.961\nC(process)[T.Anaerobic]                                        8.5720      5.675      1.511      0.131      -2.569      19.713\nC(process)[T.Anaerobic natural]                              -11.8404      7.344     -1.612      0.107     -26.258       2.577\nC(process)[T.CRYO]                                            26.5297     13.759      1.928      0.054      -0.482      53.541\nC(process)[T.Carbonic Maceration]                             41.1584      7.410      5.554      0.000      26.610      55.706\nC(process)[T.Experimental]                                    -0.4239      7.814     -0.054      0.957     -15.765      14.917\nC(process)[T.Experimental Anaerobic]                          -8.6016     14.515     -0.593      0.554     -37.097      19.894\nC(process)[T.Fermentacja kontrolowana]                        -2.4033     20.120     -0.119      0.905     -41.902      37.095\nC(process)[T.Honey]                                            7.5531      7.841      0.963      0.336      -7.840      22.946\nC(process)[T.Honey + Anaerobic]                              -10.7781     11.200     -0.962      0.336     -32.765      11.209\nC(process)[T.Macerated Natural]                               10.1102     10.218      0.990      0.323      -9.949      30.169\nC(process)[T.Monsooning]                                       2.1572      4.569      0.472      0.637      -6.813      11.127\nC(process)[T.Natural]                                          1.4635      2.659      0.550      0.582      -3.757       6.684\nC(process)[T.Pulped natural]                                  -5.5032      3.646     -1.509      0.132     -12.661       1.655\nC(process)[T.Rum Aged]                                        -9.8390      5.390     -1.825      0.068     -20.421       0.743\nC(process)[T.Semi-Carbonic Maceration]                        -0.8535      5.336     -0.160      0.873     -11.329       9.622\nC(process)[T.Semi-Washed Kombucha Experiment]                 -9.1599      5.332     -1.718      0.086     -19.628       1.308\nC(process)[T.Semi-washed]                                      1.1630      4.745      0.245      0.806      -8.152      10.478\nC(process)[T.Washed]                                          -2.4994      2.314     -1.080      0.280      -7.042       2.043\nC(process)[T.Washed Anaerobic]                               -12.0788      9.946     -1.214      0.225     -31.606       7.448\nC(process)[T.Washed Double Anaerobic]                         27.1212     13.237      2.049      0.041       1.134      53.109\nC(process)[T.Washed and natural]                               6.4591      4.984      1.296      0.195      -3.325      16.243\nC(process)[T.Yeast Process]                                  -11.0016     10.645     -1.033      0.302     -31.901       9.898\nC(process)[T.Yellow Bourbon]                                  -0.8104     14.164     -0.057      0.954     -28.617      26.997\nC(brewing_method)[T.drip, espresso]                            3.8705     12.966      0.299      0.765     -21.583      29.325\nC(brewing_method)[T.espresso]                                 -3.7065     12.953     -0.286      0.775     -29.135      21.722\nC(grind)[T.ground]                                            20.1164      2.335      8.614      0.000      15.532      24.701\nC(pure_arabica)[T.True]                                        2.6246      3.568      0.736      0.462      -4.380       9.629\nC(roast_brew)[T.dark_drip, espresso]                         -16.1564      9.745     -1.658      0.098     -35.288       2.975\nC(roast_brew)[T.dark_espresso]                               -12.9630      5.270     -2.460      0.014     -23.310      -2.617\nC(roast_brew)[T.light_drip (alternative brewing methods)]      4.7958     16.742      0.286      0.775     -28.072      37.663\nC(roast_brew)[T.light_drip, espresso]                         20.6984      6.753      3.065      0.002       7.441      33.956\nC(roast_brew)[T.light_espresso]                               18.5124      9.910      1.868      0.062      -0.943      37.968\nC(roast_brew)[T.medium_drip (alternative brewing methods)]     3.7561     17.731      0.212      0.832     -31.053      38.565\nC(roast_brew)[T.medium_drip, espresso]                        -0.6714      5.545     -0.121      0.904     -11.558      10.215\nC(roast_brew)[T.medium_espresso]                              -9.2559      5.231     -1.769      0.077     -19.525       1.013\nC(Washed)[T.True]                                              2.2772      4.300      0.530      0.597      -6.164      10.718\nC(Natural)[T.True]                                            -2.5357      4.525     -0.560      0.575     -11.418       6.347\nC(Fermented_traditional)[T.True]                              -3.2104      9.114     -0.352      0.725     -21.103      14.682\nC(Fermented_closedtank)[T.True]                               13.3913      4.125      3.246      0.001       5.293      21.490\nC(process_general)[T.Experimental]                            -0.4239      7.814     -0.054      0.957     -15.765      14.917\nC(process_general)[T.Fermented]                                0.7400      5.059      0.146      0.884      -9.192      10.672\nC(process_general)[T.Honey]                                   -3.2250      4.737     -0.681      0.496     -12.525       6.075\nC(process_general)[T.Hybrid]                                   0.9559      3.964      0.241      0.810      -6.826       8.738\nC(process_general)[T.Monsooning]                               2.1572      4.569      0.472      0.637      -6.813      11.127\nC(process_general)[T.Natural]                                  1.4635      2.659      0.550      0.582      -3.757       6.684\nC(process_general)[T.Semi-washed]                              1.1630      4.745      0.245      0.806      -8.152      10.478\nC(process_general)[T.Washed]                                  -2.4994      2.314     -1.080      0.280      -7.042       2.043\nC(region_of_origin)[T.Asia]                                   -8.6015      3.795     -2.266      0.024     -16.053      -1.151\nC(region_of_origin)[T.Europe]                                 -3.0687      7.208     -0.426      0.670     -17.219      11.081\nC(region_of_origin)[T.Latam]                                  -1.7356      1.537     -1.129      0.259      -4.754       1.283\nC(region_of_origin)[T.Mixed]                                  -9.8698      2.464     -4.006      0.000     -14.707      -5.033\npercentage_of_arabica                                          0.1392      0.072      1.927      0.054      -0.003       0.281\n==============================================================================\nOmnibus:                      442.011   Durbin-Watson:                   1.935\nProb(Omnibus):                  0.000   Jarque-Bera (JB):             4781.098\nSkew:                           2.379   Prob(JB):                         0.00\nKurtosis:                      14.199   Cond. No.                     1.01e+16\n==============================================================================\n\nNotes:\n[1] Standard Errors assume that the covariance matrix of the errors is correctly specified.\n[2] The smallest eigenvalue is 6.96e-26. This might indicate that there are\nstrong multicollinearity problems or that the design matrix is singular.\n"
     ]
    }
   ],
   "source": [
    "model_step3A = smf.ols(formula=\"price_per_kg ~ C(process) + C(brewing_method) + C(grind) + percentage_of_arabica + C(pure_arabica) + C(roast_brew) + C(Washed) + C(Natural) + C(Fermented_traditional) + C(Fermented_closedtank) + C(process_general) + C(region_of_origin)\", data=train_df).fit()\n",
    "print(model_step3A.summary())"
   ]
  },
  {
   "cell_type": "code",
   "execution_count": 199,
   "metadata": {},
   "outputs": [
    {
     "output_type": "stream",
     "name": "stdout",
     "text": [
      "                            OLS Regression Results                            \n==============================================================================\nDep. Variable:           price_per_kg   R-squared:                       0.436\nModel:                            OLS   Adj. R-squared:                  0.416\nMethod:                 Least Squares   F-statistic:                     21.43\nDate:                Mon, 31 May 2021   Prob (F-statistic):           3.21e-75\nTime:                        20:40:41   Log-Likelihood:                -3262.8\nNo. Observations:                 775   AIC:                             6582.\nDf Residuals:                     747   BIC:                             6712.\nDf Model:                          27                                         \nCovariance Type:            nonrobust                                         \n==============================================================================================================================\n                                                                 coef    std err          t      P>|t|      [0.025      0.975]\n------------------------------------------------------------------------------------------------------------------------------\nIntercept                                                     53.3919     24.548      2.175      0.030       5.200     101.583\nC(brewing_method)[T.drip, espresso]                            0.0588      9.304      0.006      0.995     -18.207      18.324\nC(brewing_method)[T.espresso]                                 -6.9183      8.998     -0.769      0.442     -24.582      10.746\nC(roast)[T.light]                                             12.3373      9.055      1.362      0.173      -5.440      30.114\nC(roast)[T.medium]                                            -0.4212      8.757     -0.048      0.962     -17.613      16.770\nC(grind)[T.ground]                                            20.4304      2.366      8.634      0.000      15.785      25.076\nC(pure_arabica)[T.True]                                        4.1252      3.526      1.170      0.242      -2.797      11.047\nC(roast_brew)[T.dark_drip, espresso]                         -13.1531     11.987     -1.097      0.273     -36.685      10.379\nC(roast_brew)[T.dark_espresso]                               -10.0784      8.975     -1.123      0.262     -27.697       7.540\nC(roast_brew)[T.light_drip (alternative brewing methods)]     -7.8569      9.030     -0.870      0.385     -25.584       9.870\nC(roast_brew)[T.light_drip, espresso]                         10.9635      4.688      2.339      0.020       1.760      20.167\nC(roast_brew)[T.light_espresso]                                9.2307      7.161      1.289      0.198      -4.828      23.289\nC(roast_brew)[T.medium_drip (alternative brewing methods)]     3.4010      9.646      0.353      0.725     -15.536      22.338\nC(roast_brew)[T.medium_drip, espresso]                         2.2484      3.404      0.660      0.509      -4.434       8.931\nC(roast_brew)[T.medium_espresso]                              -6.0707      2.684     -2.261      0.024     -11.341      -0.801\nC(Washed)[T.True]                                            -16.9465      4.735     -3.579      0.000     -26.242      -7.651\nC(Natural)[T.True]                                           -14.0244      7.549     -1.858      0.064     -28.845       0.796\nC(Fermented_traditional)[T.True]                              17.1737      7.575      2.267      0.024       2.302      32.045\nC(Fermented_closedtank)[T.True]                               29.5910      4.595      6.439      0.000      20.570      38.612\nC(process_general)[T.Experimental]                           -27.2194     23.609     -1.153      0.249     -73.568      19.129\nC(process_general)[T.Fermented]                              -30.4558     16.864     -1.806      0.071     -63.563       2.651\nC(process_general)[T.Honey]                                  -12.1189     18.748     -0.646      0.518     -48.924      24.686\nC(process_general)[T.Hybrid]                                   1.6981     19.394      0.088      0.930     -36.376      39.772\nC(process_general)[T.Monsooning]                             -21.4764     18.456     -1.164      0.245     -57.708      14.755\nC(process_general)[T.Natural]                                -11.6209     18.311     -0.635      0.526     -47.568      24.326\nC(process_general)[T.Semi-washed]                            -25.3401     18.960     -1.336      0.182     -62.562      11.882\nC(process_general)[T.Washed]                                 -12.0820     17.254     -0.700      0.484     -45.955      21.791\nC(region_of_origin)[T.Asia]                                   -9.3843      3.845     -2.441      0.015     -16.932      -1.837\nC(region_of_origin)[T.Europe]                                 -4.3473      7.308     -0.595      0.552     -18.695      10.000\nC(region_of_origin)[T.Latam]                                  -1.7100      1.556     -1.099      0.272      -4.764       1.344\nC(region_of_origin)[T.Mixed]                                 -10.5822      2.485     -4.258      0.000     -15.461      -5.703\npercentage_of_arabica                                          0.1271      0.073      1.736      0.083      -0.017       0.271\n==============================================================================\nOmnibus:                      422.340   Durbin-Watson:                   1.940\nProb(Omnibus):                  0.000   Jarque-Bera (JB):             3903.315\nSkew:                           2.301   Prob(JB):                         0.00\nKurtosis:                      12.985   Cond. No.                     1.01e+16\n==============================================================================\n\nNotes:\n[1] Standard Errors assume that the covariance matrix of the errors is correctly specified.\n[2] The smallest eigenvalue is 6.96e-26. This might indicate that there are\nstrong multicollinearity problems or that the design matrix is singular.\n"
     ]
    }
   ],
   "source": [
    "model_step3B = smf.ols(formula=\"price_per_kg ~ C(brewing_method) + C(roast) + C(grind) + percentage_of_arabica + C(pure_arabica) + C(roast_brew) + C(Washed) + C(Natural) + C(Fermented_traditional) + C(Fermented_closedtank) + C(process_general) + C(region_of_origin)\", data=train_df).fit()\n",
    "print(model_step3B.summary()) # a significant further decrease in the pvalue"
   ]
  },
  {
   "cell_type": "code",
   "execution_count": 200,
   "metadata": {},
   "outputs": [
    {
     "output_type": "execute_result",
     "data": {
      "text/plain": [
       "C(brewing_method)[T.drip, espresso]                           9.949604e-01\n",
       "C(roast)[T.medium]                                            9.616497e-01\n",
       "C(process_general)[T.Hybrid]                                  9.302522e-01\n",
       "C(roast_brew)[T.medium_drip (alternative brewing methods)]    7.245097e-01\n",
       "C(region_of_origin)[T.Europe]                                 5.521340e-01\n",
       "C(process_general)[T.Natural]                                 5.258522e-01\n",
       "C(process_general)[T.Honey]                                   5.182149e-01\n",
       "C(roast_brew)[T.medium_drip, espresso]                        5.091440e-01\n",
       "C(process_general)[T.Washed]                                  4.840029e-01\n",
       "C(brewing_method)[T.espresso]                                 4.422022e-01\n",
       "C(roast_brew)[T.light_drip (alternative brewing methods)]     3.845217e-01\n",
       "C(roast_brew)[T.dark_drip, espresso]                          2.728699e-01\n",
       "C(region_of_origin)[T.Latam]                                  2.720754e-01\n",
       "C(roast_brew)[T.dark_espresso]                                2.618067e-01\n",
       "C(process_general)[T.Experimental]                            2.493140e-01\n",
       "C(process_general)[T.Monsooning]                              2.449326e-01\n",
       "C(pure_arabica)[T.True]                                       2.423790e-01\n",
       "C(roast_brew)[T.light_espresso]                               1.978084e-01\n",
       "C(process_general)[T.Semi-washed]                             1.817990e-01\n",
       "C(roast)[T.light]                                             1.734691e-01\n",
       "percentage_of_arabica                                         8.289248e-02\n",
       "C(process_general)[T.Fermented]                               7.132980e-02\n",
       "C(Natural)[T.True]                                            6.360570e-02\n",
       "Intercept                                                     2.994403e-02\n",
       "C(roast_brew)[T.medium_espresso]                              2.401884e-02\n",
       "C(Fermented_traditional)[T.True]                              2.366997e-02\n",
       "C(roast_brew)[T.light_drip, espresso]                         1.962023e-02\n",
       "C(region_of_origin)[T.Asia]                                   1.488259e-02\n",
       "C(Washed)[T.True]                                             3.670800e-04\n",
       "C(region_of_origin)[T.Mixed]                                  2.328776e-05\n",
       "C(Fermented_closedtank)[T.True]                               2.146985e-10\n",
       "C(grind)[T.ground]                                            3.552985e-17\n",
       "dtype: float64"
      ]
     },
     "metadata": {},
     "execution_count": 200
    }
   ],
   "source": [
    "model_step3B.pvalues.sort_values(ascending=False)"
   ]
  },
  {
   "cell_type": "code",
   "execution_count": 208,
   "metadata": {},
   "outputs": [
    {
     "output_type": "stream",
     "name": "stdout",
     "text": [
      "                            OLS Regression Results                            \n==============================================================================\nDep. Variable:           price_per_kg   R-squared:                       0.434\nModel:                            OLS   Adj. R-squared:                  0.415\nMethod:                 Least Squares   F-statistic:                     22.08\nDate:                Mon, 31 May 2021   Prob (F-statistic):           2.85e-75\nTime:                        20:43:03   Log-Likelihood:                -3264.4\nNo. Observations:                 775   AIC:                             6583.\nDf Residuals:                     748   BIC:                             6708.\nDf Model:                          26                                         \nCovariance Type:            nonrobust                                         \n==============================================================================================================================\n                                                                 coef    std err          t      P>|t|      [0.025      0.975]\n------------------------------------------------------------------------------------------------------------------------------\nIntercept                                                     62.2176     24.049      2.587      0.010      15.007     109.428\nC(brewing_method)[T.drip, espresso]                           -0.3758      9.313     -0.040      0.968     -18.659      17.908\nC(brewing_method)[T.espresso]                                 -8.0915      8.985     -0.901      0.368     -25.729       9.546\nC(roast)[T.light]                                             10.8710      9.028      1.204      0.229      -6.852      28.594\nC(roast)[T.medium]                                            -0.5461      8.769     -0.062      0.950     -17.760      16.668\nC(grind)[T.ground]                                            20.2420      2.367      8.552      0.000      15.595      24.889\nC(pure_arabica)[T.True]                                        8.8327      2.258      3.913      0.000       4.401      13.265\nC(roast_brew)[T.dark_drip, espresso]                         -13.4938     12.001     -1.124      0.261     -37.054      10.067\nC(roast_brew)[T.dark_espresso]                                -9.4847      8.980     -1.056      0.291     -27.114       8.145\nC(roast_brew)[T.light_drip (alternative brewing methods)]     -7.1000      9.031     -0.786      0.432     -24.830      10.630\nC(roast_brew)[T.light_drip, espresso]                         11.0674      4.694      2.358      0.019       1.852      20.282\nC(roast_brew)[T.light_espresso]                                6.9036      7.044      0.980      0.327      -6.925      20.733\nC(roast_brew)[T.medium_drip (alternative brewing methods)]     2.9138      9.655      0.302      0.763     -16.041      21.868\nC(roast_brew)[T.medium_drip, espresso]                         2.0505      3.407      0.602      0.547      -4.638       8.739\nC(roast_brew)[T.medium_espresso]                              -5.5104      2.669     -2.065      0.039     -10.749      -0.272\nC(Washed)[T.True]                                            -17.0732      4.741     -3.601      0.000     -26.380      -7.767\nC(Natural)[T.True]                                           -13.9690      7.559     -1.848      0.065     -28.809       0.871\nC(Fermented_traditional)[T.True]                              16.7781      7.582      2.213      0.027       1.894      31.663\nC(Fermented_closedtank)[T.True]                               29.2027      4.596      6.354      0.000      20.180      38.225\nC(process_general)[T.Experimental]                           -27.3025     23.641     -1.155      0.249     -73.713      19.108\nC(process_general)[T.Fermented]                              -30.0707     16.885     -1.781      0.075     -63.219       3.078\nC(process_general)[T.Honey]                                  -11.8471     18.773     -0.631      0.528     -48.701      25.006\nC(process_general)[T.Hybrid]                                   1.7859     19.421      0.092      0.927     -36.339      39.911\nC(process_general)[T.Monsooning]                             -20.8757     18.477     -1.130      0.259     -57.150      15.398\nC(process_general)[T.Natural]                                -11.6103     18.335     -0.633      0.527     -47.605      24.385\nC(process_general)[T.Semi-washed]                            -24.8005     18.983     -1.306      0.192     -62.067      12.466\nC(process_general)[T.Washed]                                 -12.0383     17.278     -0.697      0.486     -45.957      21.880\nC(region_of_origin)[T.Asia]                                  -10.2710      3.816     -2.692      0.007     -17.762      -2.780\nC(region_of_origin)[T.Europe]                                 -3.0874      7.282     -0.424      0.672     -17.383      11.208\nC(region_of_origin)[T.Latam]                                  -1.8214      1.557     -1.170      0.242      -4.877       1.234\nC(region_of_origin)[T.Mixed]                                 -10.5822      2.489     -4.252      0.000     -15.468      -5.696\n==============================================================================\nOmnibus:                      419.514   Durbin-Watson:                   1.963\nProb(Omnibus):                  0.000   Jarque-Bera (JB):             3871.311\nSkew:                           2.281   Prob(JB):                         0.00\nKurtosis:                      12.954   Cond. No.                     1.18e+16\n==============================================================================\n\nNotes:\n[1] Standard Errors assume that the covariance matrix of the errors is correctly specified.\n[2] The smallest eigenvalue is 2.1e-29. This might indicate that there are\nstrong multicollinearity problems or that the design matrix is singular.\n"
     ]
    }
   ],
   "source": [
    "model_step4 = smf.ols(formula=\"price_per_kg ~ C(brewing_method) + C(roast) + C(grind) + C(pure_arabica) + C(roast_brew) + C(Washed) + C(Natural) + C(Fermented_traditional) + C(Fermented_closedtank) + C(process_general) + C(region_of_origin)\", data=train_df).fit()\n",
    "print(model_step4.summary()) # a significant further decrease in the pvalue"
   ]
  },
  {
   "cell_type": "code",
   "execution_count": 214,
   "metadata": {},
   "outputs": [
    {
     "output_type": "stream",
     "name": "stdout",
     "text": [
      "                            OLS Regression Results                            \n==============================================================================\nDep. Variable:           price_per_kg   R-squared:                       0.429\nModel:                            OLS   Adj. R-squared:                  0.412\nMethod:                 Least Squares   F-statistic:                     25.68\nDate:                Mon, 31 May 2021   Prob (F-statistic):           1.27e-76\nTime:                        20:44:10   Log-Likelihood:                -3267.9\nNo. Observations:                 775   AIC:                             6582.\nDf Residuals:                     752   BIC:                             6689.\nDf Model:                          22                                         \nCovariance Type:            nonrobust                                         \n=======================================================================================================\n                                          coef    std err          t      P>|t|      [0.025      0.975]\n-------------------------------------------------------------------------------------------------------\nIntercept                              50.0004     17.457      2.864      0.004      15.731      84.270\nC(brewing_method)[T.drip, espresso]    10.0441      4.229      2.375      0.018       1.743      18.345\nC(brewing_method)[T.espresso]          -5.8147      4.332     -1.342      0.180     -14.320       2.690\nC(roast)[T.light]                      16.2423      4.538      3.579      0.000       7.334      25.150\nC(roast)[T.medium]                      3.9505      2.187      1.806      0.071      -0.343       8.244\nC(grind)[T.ground]                     20.3596      2.367      8.601      0.000      15.713      25.007\nC(pure_arabica)[T.True]                 8.4510      2.230      3.789      0.000       4.072      12.830\nC(Washed)[T.True]                     -16.6555      4.743     -3.512      0.000     -25.967      -7.344\nC(Natural)[T.True]                    -13.9953      7.574     -1.848      0.065     -28.864       0.874\nC(Fermented_traditional)[T.True]       16.4780      7.595      2.169      0.030       1.567      31.389\nC(Fermented_closedtank)[T.True]        28.9561      4.603      6.290      0.000      19.919      37.993\nC(process_general)[T.Experimental]    -26.9872     23.685     -1.139      0.255     -73.484      19.510\nC(process_general)[T.Fermented]       -29.8323     16.918     -1.763      0.078     -63.044       3.379\nC(process_general)[T.Honey]           -12.0737     18.809     -0.642      0.521     -48.997      24.850\nC(process_general)[T.Hybrid]            1.6023     19.455      0.082      0.934     -36.591      39.796\nC(process_general)[T.Monsooning]      -19.3741     18.478     -1.048      0.295     -55.649      16.901\nC(process_general)[T.Natural]         -11.1372     18.369     -0.606      0.544     -47.198      24.923\nC(process_general)[T.Semi-washed]     -24.8495     19.020     -1.307      0.192     -62.188      12.489\nC(process_general)[T.Washed]          -12.2476     17.310     -0.708      0.479     -46.229      21.734\nC(region_of_origin)[T.Asia]            -9.2982      3.757     -2.475      0.014     -16.673      -1.923\nC(region_of_origin)[T.Europe]          -3.2018      7.284     -0.440      0.660     -17.501      11.097\nC(region_of_origin)[T.Latam]           -1.6938      1.555     -1.089      0.276      -4.747       1.359\nC(region_of_origin)[T.Mixed]          -10.2997      2.490     -4.136      0.000     -15.188      -5.411\n==============================================================================\nOmnibus:                      431.576   Durbin-Watson:                   1.976\nProb(Omnibus):                  0.000   Jarque-Bera (JB):             4196.099\nSkew:                           2.347   Prob(JB):                         0.00\nKurtosis:                      13.388   Cond. No.                         160.\n==============================================================================\n\nNotes:\n[1] Standard Errors assume that the covariance matrix of the errors is correctly specified.\n"
     ]
    }
   ],
   "source": [
    "model_step5 = smf.ols(formula=\"price_per_kg ~ C(brewing_method) + C(roast) + C(grind) + C(pure_arabica)+ C(Washed) + C(Natural) + C(Fermented_traditional) + C(Fermented_closedtank) + C(process_general) + C(region_of_origin)\", data=train_df).fit()\n",
    "print(model_step5.summary()) # a significant further decrease in the pvalue"
   ]
  },
  {
   "cell_type": "code",
   "execution_count": 223,
   "metadata": {},
   "outputs": [
    {
     "output_type": "stream",
     "name": "stdout",
     "text": [
      "                            OLS Regression Results                            \n==============================================================================\nDep. Variable:           price_per_kg   R-squared:                       0.418\nModel:                            OLS   Adj. R-squared:                  0.407\nMethod:                 Least Squares   F-statistic:                     39.00\nDate:                Mon, 31 May 2021   Prob (F-statistic):           1.07e-79\nTime:                        20:45:54   Log-Likelihood:                -3275.3\nNo. Observations:                 775   AIC:                             6581.\nDf Residuals:                     760   BIC:                             6650.\nDf Model:                          14                                         \nCovariance Type:            nonrobust                                         \n=======================================================================================================\n                                          coef    std err          t      P>|t|      [0.025      0.975]\n-------------------------------------------------------------------------------------------------------\nIntercept                              24.5680      5.236      4.692      0.000      14.290      34.846\nC(brewing_method)[T.drip, espresso]     8.9317      4.226      2.113      0.035       0.635      17.228\nC(brewing_method)[T.espresso]          -6.4794      4.337     -1.494      0.136     -14.993       2.034\nC(roast)[T.light]                      17.3041      4.517      3.831      0.000       8.438      26.171\nC(roast)[T.medium]                      5.2564      2.103      2.499      0.013       1.128       9.385\nC(grind)[T.ground]                     20.2247      2.283      8.859      0.000      15.743      24.707\nC(pure_arabica)[T.True]                 8.2178      2.216      3.708      0.000       3.867      12.569\nC(Washed)[T.True]                      -4.3589      1.690     -2.579      0.010      -7.677      -1.041\nC(Natural)[T.True]                     -0.3630      1.747     -0.208      0.835      -3.792       3.067\nC(Fermented_traditional)[T.True]        3.0194      2.635      1.146      0.252      -2.153       8.192\nC(Fermented_closedtank)[T.True]        15.7971      2.371      6.662      0.000      11.142      20.452\nC(region_of_origin)[T.Asia]            -8.6819      3.544     -2.449      0.015     -15.640      -1.724\nC(region_of_origin)[T.Europe]          -5.7545      7.244     -0.794      0.427     -19.974       8.465\nC(region_of_origin)[T.Latam]           -1.1522      1.542     -0.747      0.455      -4.179       1.874\nC(region_of_origin)[T.Mixed]          -10.7738      2.422     -4.448      0.000     -15.529      -6.019\n==============================================================================\nOmnibus:                      433.939   Durbin-Watson:                   1.965\nProb(Omnibus):                  0.000   Jarque-Bera (JB):             4200.046\nSkew:                           2.366   Prob(JB):                         0.00\nKurtosis:                      13.376   Cond. No.                         25.7\n==============================================================================\n\nNotes:\n[1] Standard Errors assume that the covariance matrix of the errors is correctly specified.\n"
     ]
    }
   ],
   "source": [
    "model_step5 = smf.ols(formula=\"price_per_kg ~ C(brewing_method) + C(roast) + C(grind) + C(pure_arabica) + C(Washed) + C(Natural) + C(Fermented_traditional) + C(Fermented_closedtank) + C(region_of_origin)\", data=train_df).fit()\n",
    "print(model_step5.summary()) # a significant further decrease in the pvalue"
   ]
  },
  {
   "cell_type": "code",
   "execution_count": 188,
   "metadata": {},
   "outputs": [
    {
     "output_type": "execute_result",
     "data": {
      "text/plain": [
       "                       price_per_kg  percentage_of_arabica  pure_arabica  \\\n",
       "price_per_kg               1.000000               0.275893      0.328694   \n",
       "percentage_of_arabica      0.275893               1.000000      0.829326   \n",
       "pure_arabica               0.328694               0.829326      1.000000   \n",
       "Washed                    -0.034993               0.164142      0.237032   \n",
       "Natural                   -0.087074              -0.187585     -0.225001   \n",
       "Fermented_traditional      0.149486               0.059221      0.096783   \n",
       "Fermented_closedtank       0.053013               0.033315      0.025451   \n",
       "\n",
       "                         Washed   Natural  Fermented_traditional  \\\n",
       "price_per_kg          -0.034993 -0.087074               0.149486   \n",
       "percentage_of_arabica  0.164142 -0.187585               0.059221   \n",
       "pure_arabica           0.237032 -0.225001               0.096783   \n",
       "Washed                 1.000000 -0.605709               0.145402   \n",
       "Natural               -0.605709  1.000000               0.107534   \n",
       "Fermented_traditional  0.145402  0.107534               1.000000   \n",
       "Fermented_closedtank   0.091098 -0.258827              -0.091550   \n",
       "\n",
       "                       Fermented_closedtank  \n",
       "price_per_kg                       0.053013  \n",
       "percentage_of_arabica              0.033315  \n",
       "pure_arabica                       0.025451  \n",
       "Washed                             0.091098  \n",
       "Natural                           -0.258827  \n",
       "Fermented_traditional             -0.091550  \n",
       "Fermented_closedtank               1.000000  "
      ],
      "text/html": "<div>\n<style scoped>\n    .dataframe tbody tr th:only-of-type {\n        vertical-align: middle;\n    }\n\n    .dataframe tbody tr th {\n        vertical-align: top;\n    }\n\n    .dataframe thead th {\n        text-align: right;\n    }\n</style>\n<table border=\"1\" class=\"dataframe\">\n  <thead>\n    <tr style=\"text-align: right;\">\n      <th></th>\n      <th>price_per_kg</th>\n      <th>percentage_of_arabica</th>\n      <th>pure_arabica</th>\n      <th>Washed</th>\n      <th>Natural</th>\n      <th>Fermented_traditional</th>\n      <th>Fermented_closedtank</th>\n    </tr>\n  </thead>\n  <tbody>\n    <tr>\n      <th>price_per_kg</th>\n      <td>1.000000</td>\n      <td>0.275893</td>\n      <td>0.328694</td>\n      <td>-0.034993</td>\n      <td>-0.087074</td>\n      <td>0.149486</td>\n      <td>0.053013</td>\n    </tr>\n    <tr>\n      <th>percentage_of_arabica</th>\n      <td>0.275893</td>\n      <td>1.000000</td>\n      <td>0.829326</td>\n      <td>0.164142</td>\n      <td>-0.187585</td>\n      <td>0.059221</td>\n      <td>0.033315</td>\n    </tr>\n    <tr>\n      <th>pure_arabica</th>\n      <td>0.328694</td>\n      <td>0.829326</td>\n      <td>1.000000</td>\n      <td>0.237032</td>\n      <td>-0.225001</td>\n      <td>0.096783</td>\n      <td>0.025451</td>\n    </tr>\n    <tr>\n      <th>Washed</th>\n      <td>-0.034993</td>\n      <td>0.164142</td>\n      <td>0.237032</td>\n      <td>1.000000</td>\n      <td>-0.605709</td>\n      <td>0.145402</td>\n      <td>0.091098</td>\n    </tr>\n    <tr>\n      <th>Natural</th>\n      <td>-0.087074</td>\n      <td>-0.187585</td>\n      <td>-0.225001</td>\n      <td>-0.605709</td>\n      <td>1.000000</td>\n      <td>0.107534</td>\n      <td>-0.258827</td>\n    </tr>\n    <tr>\n      <th>Fermented_traditional</th>\n      <td>0.149486</td>\n      <td>0.059221</td>\n      <td>0.096783</td>\n      <td>0.145402</td>\n      <td>0.107534</td>\n      <td>1.000000</td>\n      <td>-0.091550</td>\n    </tr>\n    <tr>\n      <th>Fermented_closedtank</th>\n      <td>0.053013</td>\n      <td>0.033315</td>\n      <td>0.025451</td>\n      <td>0.091098</td>\n      <td>-0.258827</td>\n      <td>-0.091550</td>\n      <td>1.000000</td>\n    </tr>\n  </tbody>\n</table>\n</div>"
     },
     "metadata": {},
     "execution_count": 188
    }
   ],
   "source": [
    "train_df.corr()"
   ]
  },
  {
   "cell_type": "code",
   "execution_count": null,
   "metadata": {},
   "outputs": [],
   "source": [
    "# import plotly.graph_objects as go\n",
    "\n",
    "# coffee_df['arabica_fitted'] = model.fittedvalues\n",
    "\n",
    "# fig = go.Figure()\n",
    "\n",
    "# fig.add_trace(go.Scatter(\n",
    "#     x=coffee_df[\"percentage_of_arabica\"], y=coffee_df[\"price_per_kg\"], name=\"percentage_of_arabica vs price_per_kg (million sq km)\", mode=\"markers\"))\n",
    "# fig.add_trace(go.Scatter(\n",
    "#     x=coffee_df[\"percentage_of_arabica\"], y=coffee_df[\"arabica_fitted\"], name=\"Fitted Regression Line\"))\n",
    "# fig.update_layout(title=\"Regression line of percentage_of_arabica vs price_per_kg (million sq km)\", xaxis_title=\"percentage_of_arabica\",\n",
    "#     yaxis_title=\"price_per_kg\", height=800, width=950)\n",
    "# fig.show()"
   ]
  },
  {
   "cell_type": "code",
   "execution_count": 190,
   "metadata": {},
   "outputs": [
    {
     "output_type": "display_data",
     "data": {
      "application/vnd.plotly.v1+json": {
       "config": {
        "plotlyServerURL": "https://plot.ly"
       },
       "data": [
        {
         "coloraxis": "coloraxis",
         "hovertemplate": "x: %{x}<br>y: %{y}<br>color: %{z}<extra></extra>",
         "name": "0",
         "type": "heatmap",
         "x": [
          "price_per_kg",
          "percentage_of_arabica",
          "pure_arabica",
          "Washed_exp",
          "Washed",
          "Natural",
          "Fermented_traditional",
          "Fermented_closedtank",
          "arabica_fitted"
         ],
         "xaxis": "x",
         "y": [
          "price_per_kg",
          "percentage_of_arabica",
          "pure_arabica",
          "Washed_exp",
          "Washed",
          "Natural",
          "Fermented_traditional",
          "Fermented_closedtank",
          "arabica_fitted"
         ],
         "yaxis": "y",
         "z": [
          [
           1,
           0.2758929589461307,
           0.32869438747690505,
           0.038619306648186184,
           -0.034993278092140034,
           -0.08707421699676328,
           0.14948601120328675,
           0.05301346340004047,
           0.275892958946131
          ],
          [
           0.2758929589461307,
           1,
           0.8293264032883856,
           0.18470908745194856,
           0.1641420567808344,
           -0.18758523767959526,
           0.05922144339037083,
           0.03331506727323465,
           0.9999999999999988
          ],
          [
           0.32869438747690505,
           0.8293264032883856,
           1,
           0.25701129779324444,
           0.23703168850240258,
           -0.2250014598531644,
           0.0967829038328081,
           0.025450960745467148,
           0.8293264032883858
          ],
          [
           0.038619306648186184,
           0.18470908745194856,
           0.25701129779324444,
           1,
           0.6785972714904973,
           -0.6857708524445199,
           -0.21395890892985375,
           -0.2615363384878028,
           0.18470908745194858
          ],
          [
           -0.034993278092140034,
           0.1641420567808344,
           0.23703168850240258,
           0.6785972714904973,
           1,
           -0.6057090464619437,
           0.1454022753754864,
           0.0910976924008457,
           0.1641420567808347
          ],
          [
           -0.08707421699676328,
           -0.18758523767959526,
           -0.2250014598531644,
           -0.6857708524445199,
           -0.6057090464619437,
           1,
           0.10753445862960385,
           -0.25882733188679635,
           -0.18758523767959548
          ],
          [
           0.14948601120328675,
           0.05922144339037083,
           0.0967829038328081,
           -0.21395890892985375,
           0.1454022753754864,
           0.10753445862960385,
           1,
           -0.09155038180694146,
           0.05922144339037098
          ],
          [
           0.05301346340004047,
           0.03331506727323465,
           0.025450960745467148,
           -0.2615363384878028,
           0.0910976924008457,
           -0.25882733188679635,
           -0.09155038180694146,
           1,
           0.03331506727323451
          ],
          [
           0.275892958946131,
           0.9999999999999988,
           0.8293264032883858,
           0.18470908745194858,
           0.1641420567808347,
           -0.18758523767959548,
           0.05922144339037098,
           0.03331506727323451,
           1
          ]
         ]
        }
       ],
       "layout": {
        "coloraxis": {
         "colorscale": [
          [
           0,
           "rgb(75, 41, 145)"
          ],
          [
           0.16666666666666666,
           "rgb(135, 44, 162)"
          ],
          [
           0.3333333333333333,
           "rgb(192, 54, 157)"
          ],
          [
           0.5,
           "rgb(234, 79, 136)"
          ],
          [
           0.6666666666666666,
           "rgb(250, 120, 118)"
          ],
          [
           0.8333333333333334,
           "rgb(246, 169, 122)"
          ],
          [
           1,
           "rgb(237, 217, 163)"
          ]
         ]
        },
        "template": {
         "data": {
          "bar": [
           {
            "error_x": {
             "color": "#2a3f5f"
            },
            "error_y": {
             "color": "#2a3f5f"
            },
            "marker": {
             "line": {
              "color": "#E5ECF6",
              "width": 0.5
             }
            },
            "type": "bar"
           }
          ],
          "barpolar": [
           {
            "marker": {
             "line": {
              "color": "#E5ECF6",
              "width": 0.5
             }
            },
            "type": "barpolar"
           }
          ],
          "carpet": [
           {
            "aaxis": {
             "endlinecolor": "#2a3f5f",
             "gridcolor": "white",
             "linecolor": "white",
             "minorgridcolor": "white",
             "startlinecolor": "#2a3f5f"
            },
            "baxis": {
             "endlinecolor": "#2a3f5f",
             "gridcolor": "white",
             "linecolor": "white",
             "minorgridcolor": "white",
             "startlinecolor": "#2a3f5f"
            },
            "type": "carpet"
           }
          ],
          "choropleth": [
           {
            "colorbar": {
             "outlinewidth": 0,
             "ticks": ""
            },
            "type": "choropleth"
           }
          ],
          "contour": [
           {
            "colorbar": {
             "outlinewidth": 0,
             "ticks": ""
            },
            "colorscale": [
             [
              0,
              "#0d0887"
             ],
             [
              0.1111111111111111,
              "#46039f"
             ],
             [
              0.2222222222222222,
              "#7201a8"
             ],
             [
              0.3333333333333333,
              "#9c179e"
             ],
             [
              0.4444444444444444,
              "#bd3786"
             ],
             [
              0.5555555555555556,
              "#d8576b"
             ],
             [
              0.6666666666666666,
              "#ed7953"
             ],
             [
              0.7777777777777778,
              "#fb9f3a"
             ],
             [
              0.8888888888888888,
              "#fdca26"
             ],
             [
              1,
              "#f0f921"
             ]
            ],
            "type": "contour"
           }
          ],
          "contourcarpet": [
           {
            "colorbar": {
             "outlinewidth": 0,
             "ticks": ""
            },
            "type": "contourcarpet"
           }
          ],
          "heatmap": [
           {
            "colorbar": {
             "outlinewidth": 0,
             "ticks": ""
            },
            "colorscale": [
             [
              0,
              "#0d0887"
             ],
             [
              0.1111111111111111,
              "#46039f"
             ],
             [
              0.2222222222222222,
              "#7201a8"
             ],
             [
              0.3333333333333333,
              "#9c179e"
             ],
             [
              0.4444444444444444,
              "#bd3786"
             ],
             [
              0.5555555555555556,
              "#d8576b"
             ],
             [
              0.6666666666666666,
              "#ed7953"
             ],
             [
              0.7777777777777778,
              "#fb9f3a"
             ],
             [
              0.8888888888888888,
              "#fdca26"
             ],
             [
              1,
              "#f0f921"
             ]
            ],
            "type": "heatmap"
           }
          ],
          "heatmapgl": [
           {
            "colorbar": {
             "outlinewidth": 0,
             "ticks": ""
            },
            "colorscale": [
             [
              0,
              "#0d0887"
             ],
             [
              0.1111111111111111,
              "#46039f"
             ],
             [
              0.2222222222222222,
              "#7201a8"
             ],
             [
              0.3333333333333333,
              "#9c179e"
             ],
             [
              0.4444444444444444,
              "#bd3786"
             ],
             [
              0.5555555555555556,
              "#d8576b"
             ],
             [
              0.6666666666666666,
              "#ed7953"
             ],
             [
              0.7777777777777778,
              "#fb9f3a"
             ],
             [
              0.8888888888888888,
              "#fdca26"
             ],
             [
              1,
              "#f0f921"
             ]
            ],
            "type": "heatmapgl"
           }
          ],
          "histogram": [
           {
            "marker": {
             "colorbar": {
              "outlinewidth": 0,
              "ticks": ""
             }
            },
            "type": "histogram"
           }
          ],
          "histogram2d": [
           {
            "colorbar": {
             "outlinewidth": 0,
             "ticks": ""
            },
            "colorscale": [
             [
              0,
              "#0d0887"
             ],
             [
              0.1111111111111111,
              "#46039f"
             ],
             [
              0.2222222222222222,
              "#7201a8"
             ],
             [
              0.3333333333333333,
              "#9c179e"
             ],
             [
              0.4444444444444444,
              "#bd3786"
             ],
             [
              0.5555555555555556,
              "#d8576b"
             ],
             [
              0.6666666666666666,
              "#ed7953"
             ],
             [
              0.7777777777777778,
              "#fb9f3a"
             ],
             [
              0.8888888888888888,
              "#fdca26"
             ],
             [
              1,
              "#f0f921"
             ]
            ],
            "type": "histogram2d"
           }
          ],
          "histogram2dcontour": [
           {
            "colorbar": {
             "outlinewidth": 0,
             "ticks": ""
            },
            "colorscale": [
             [
              0,
              "#0d0887"
             ],
             [
              0.1111111111111111,
              "#46039f"
             ],
             [
              0.2222222222222222,
              "#7201a8"
             ],
             [
              0.3333333333333333,
              "#9c179e"
             ],
             [
              0.4444444444444444,
              "#bd3786"
             ],
             [
              0.5555555555555556,
              "#d8576b"
             ],
             [
              0.6666666666666666,
              "#ed7953"
             ],
             [
              0.7777777777777778,
              "#fb9f3a"
             ],
             [
              0.8888888888888888,
              "#fdca26"
             ],
             [
              1,
              "#f0f921"
             ]
            ],
            "type": "histogram2dcontour"
           }
          ],
          "mesh3d": [
           {
            "colorbar": {
             "outlinewidth": 0,
             "ticks": ""
            },
            "type": "mesh3d"
           }
          ],
          "parcoords": [
           {
            "line": {
             "colorbar": {
              "outlinewidth": 0,
              "ticks": ""
             }
            },
            "type": "parcoords"
           }
          ],
          "pie": [
           {
            "automargin": true,
            "type": "pie"
           }
          ],
          "scatter": [
           {
            "marker": {
             "colorbar": {
              "outlinewidth": 0,
              "ticks": ""
             }
            },
            "type": "scatter"
           }
          ],
          "scatter3d": [
           {
            "line": {
             "colorbar": {
              "outlinewidth": 0,
              "ticks": ""
             }
            },
            "marker": {
             "colorbar": {
              "outlinewidth": 0,
              "ticks": ""
             }
            },
            "type": "scatter3d"
           }
          ],
          "scattercarpet": [
           {
            "marker": {
             "colorbar": {
              "outlinewidth": 0,
              "ticks": ""
             }
            },
            "type": "scattercarpet"
           }
          ],
          "scattergeo": [
           {
            "marker": {
             "colorbar": {
              "outlinewidth": 0,
              "ticks": ""
             }
            },
            "type": "scattergeo"
           }
          ],
          "scattergl": [
           {
            "marker": {
             "colorbar": {
              "outlinewidth": 0,
              "ticks": ""
             }
            },
            "type": "scattergl"
           }
          ],
          "scattermapbox": [
           {
            "marker": {
             "colorbar": {
              "outlinewidth": 0,
              "ticks": ""
             }
            },
            "type": "scattermapbox"
           }
          ],
          "scatterpolar": [
           {
            "marker": {
             "colorbar": {
              "outlinewidth": 0,
              "ticks": ""
             }
            },
            "type": "scatterpolar"
           }
          ],
          "scatterpolargl": [
           {
            "marker": {
             "colorbar": {
              "outlinewidth": 0,
              "ticks": ""
             }
            },
            "type": "scatterpolargl"
           }
          ],
          "scatterternary": [
           {
            "marker": {
             "colorbar": {
              "outlinewidth": 0,
              "ticks": ""
             }
            },
            "type": "scatterternary"
           }
          ],
          "surface": [
           {
            "colorbar": {
             "outlinewidth": 0,
             "ticks": ""
            },
            "colorscale": [
             [
              0,
              "#0d0887"
             ],
             [
              0.1111111111111111,
              "#46039f"
             ],
             [
              0.2222222222222222,
              "#7201a8"
             ],
             [
              0.3333333333333333,
              "#9c179e"
             ],
             [
              0.4444444444444444,
              "#bd3786"
             ],
             [
              0.5555555555555556,
              "#d8576b"
             ],
             [
              0.6666666666666666,
              "#ed7953"
             ],
             [
              0.7777777777777778,
              "#fb9f3a"
             ],
             [
              0.8888888888888888,
              "#fdca26"
             ],
             [
              1,
              "#f0f921"
             ]
            ],
            "type": "surface"
           }
          ],
          "table": [
           {
            "cells": {
             "fill": {
              "color": "#EBF0F8"
             },
             "line": {
              "color": "white"
             }
            },
            "header": {
             "fill": {
              "color": "#C8D4E3"
             },
             "line": {
              "color": "white"
             }
            },
            "type": "table"
           }
          ]
         },
         "layout": {
          "annotationdefaults": {
           "arrowcolor": "#2a3f5f",
           "arrowhead": 0,
           "arrowwidth": 1
          },
          "autotypenumbers": "strict",
          "coloraxis": {
           "colorbar": {
            "outlinewidth": 0,
            "ticks": ""
           }
          },
          "colorscale": {
           "diverging": [
            [
             0,
             "#8e0152"
            ],
            [
             0.1,
             "#c51b7d"
            ],
            [
             0.2,
             "#de77ae"
            ],
            [
             0.3,
             "#f1b6da"
            ],
            [
             0.4,
             "#fde0ef"
            ],
            [
             0.5,
             "#f7f7f7"
            ],
            [
             0.6,
             "#e6f5d0"
            ],
            [
             0.7,
             "#b8e186"
            ],
            [
             0.8,
             "#7fbc41"
            ],
            [
             0.9,
             "#4d9221"
            ],
            [
             1,
             "#276419"
            ]
           ],
           "sequential": [
            [
             0,
             "#0d0887"
            ],
            [
             0.1111111111111111,
             "#46039f"
            ],
            [
             0.2222222222222222,
             "#7201a8"
            ],
            [
             0.3333333333333333,
             "#9c179e"
            ],
            [
             0.4444444444444444,
             "#bd3786"
            ],
            [
             0.5555555555555556,
             "#d8576b"
            ],
            [
             0.6666666666666666,
             "#ed7953"
            ],
            [
             0.7777777777777778,
             "#fb9f3a"
            ],
            [
             0.8888888888888888,
             "#fdca26"
            ],
            [
             1,
             "#f0f921"
            ]
           ],
           "sequentialminus": [
            [
             0,
             "#0d0887"
            ],
            [
             0.1111111111111111,
             "#46039f"
            ],
            [
             0.2222222222222222,
             "#7201a8"
            ],
            [
             0.3333333333333333,
             "#9c179e"
            ],
            [
             0.4444444444444444,
             "#bd3786"
            ],
            [
             0.5555555555555556,
             "#d8576b"
            ],
            [
             0.6666666666666666,
             "#ed7953"
            ],
            [
             0.7777777777777778,
             "#fb9f3a"
            ],
            [
             0.8888888888888888,
             "#fdca26"
            ],
            [
             1,
             "#f0f921"
            ]
           ]
          },
          "colorway": [
           "#636efa",
           "#EF553B",
           "#00cc96",
           "#ab63fa",
           "#FFA15A",
           "#19d3f3",
           "#FF6692",
           "#B6E880",
           "#FF97FF",
           "#FECB52"
          ],
          "font": {
           "color": "#2a3f5f"
          },
          "geo": {
           "bgcolor": "white",
           "lakecolor": "white",
           "landcolor": "#E5ECF6",
           "showlakes": true,
           "showland": true,
           "subunitcolor": "white"
          },
          "hoverlabel": {
           "align": "left"
          },
          "hovermode": "closest",
          "mapbox": {
           "style": "light"
          },
          "paper_bgcolor": "white",
          "plot_bgcolor": "#E5ECF6",
          "polar": {
           "angularaxis": {
            "gridcolor": "white",
            "linecolor": "white",
            "ticks": ""
           },
           "bgcolor": "#E5ECF6",
           "radialaxis": {
            "gridcolor": "white",
            "linecolor": "white",
            "ticks": ""
           }
          },
          "scene": {
           "xaxis": {
            "backgroundcolor": "#E5ECF6",
            "gridcolor": "white",
            "gridwidth": 2,
            "linecolor": "white",
            "showbackground": true,
            "ticks": "",
            "zerolinecolor": "white"
           },
           "yaxis": {
            "backgroundcolor": "#E5ECF6",
            "gridcolor": "white",
            "gridwidth": 2,
            "linecolor": "white",
            "showbackground": true,
            "ticks": "",
            "zerolinecolor": "white"
           },
           "zaxis": {
            "backgroundcolor": "#E5ECF6",
            "gridcolor": "white",
            "gridwidth": 2,
            "linecolor": "white",
            "showbackground": true,
            "ticks": "",
            "zerolinecolor": "white"
           }
          },
          "shapedefaults": {
           "line": {
            "color": "#2a3f5f"
           }
          },
          "ternary": {
           "aaxis": {
            "gridcolor": "white",
            "linecolor": "white",
            "ticks": ""
           },
           "baxis": {
            "gridcolor": "white",
            "linecolor": "white",
            "ticks": ""
           },
           "bgcolor": "#E5ECF6",
           "caxis": {
            "gridcolor": "white",
            "linecolor": "white",
            "ticks": ""
           }
          },
          "title": {
           "x": 0.05
          },
          "xaxis": {
           "automargin": true,
           "gridcolor": "white",
           "linecolor": "white",
           "ticks": "",
           "title": {
            "standoff": 15
           },
           "zerolinecolor": "white",
           "zerolinewidth": 2
          },
          "yaxis": {
           "automargin": true,
           "gridcolor": "white",
           "linecolor": "white",
           "ticks": "",
           "title": {
            "standoff": 15
           },
           "zerolinecolor": "white",
           "zerolinewidth": 2
          }
         }
        },
        "title": {
         "text": "Correlation between coffee variables"
        },
        "xaxis": {
         "anchor": "y",
         "constrain": "domain",
         "domain": [
          0,
          1
         ],
         "scaleanchor": "y"
        },
        "yaxis": {
         "anchor": "x",
         "autorange": "reversed",
         "constrain": "domain",
         "domain": [
          0,
          1
         ]
        }
       }
      }
     },
     "metadata": {}
    }
   ],
   "source": [
    "# import plotly.express as px\n",
    "\n",
    "# px.imshow(train_df_no_idx.corr(), color_continuous_scale='Agsunset', title=\"Correlation between coffee variables\")"
   ]
  },
  {
   "cell_type": "code",
   "execution_count": null,
   "metadata": {},
   "outputs": [],
   "source": [
    "# model_step2 = smf.ols(formula=\"price_per_kg ~ C(process) + C(brewing_method) + C(roast) + C(grind) + C(origin) + percentage_of_arabica + C(pure_arabica) + C(roast_brew) + C(Washed) + C(Natural) + C(Fermented_traditional) + C(Fermented_closedtank) + C(process_general) + C(region_of_origin)\", data=train_df).fit()\n",
    "# print(model_step2.summary())"
   ]
  }
 ]
}