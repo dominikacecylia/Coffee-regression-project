{
 "metadata": {
  "language_info": {
   "codemirror_mode": {
    "name": "ipython",
    "version": 3
   },
   "file_extension": ".py",
   "mimetype": "text/x-python",
   "name": "python",
   "nbconvert_exporter": "python",
   "pygments_lexer": "ipython3",
   "version": "3.9.1"
  },
  "orig_nbformat": 2,
  "kernelspec": {
   "name": "python391jvsc74a57bd0f8b6ea6d13f5748502004c2e5659a6272de46c202ad482ac9f90784c65a6c667",
   "display_name": "Python 3.9.1 64-bit (conda)"
  }
 },
 "nbformat": 4,
 "nbformat_minor": 2,
 "cells": [
  {
   "source": [
    "# Data cleaning for regression #"
   ],
   "cell_type": "markdown",
   "metadata": {}
  },
  {
   "source": [
    "## Imports ##"
   ],
   "cell_type": "markdown",
   "metadata": {}
  },
  {
   "cell_type": "code",
   "execution_count": 2,
   "metadata": {},
   "outputs": [
    {
     "output_type": "stream",
     "name": "stdout",
     "text": [
      "Collecting pandas\n  Downloading pandas-1.2.4-cp39-cp39-win_amd64.whl (9.3 MB)\nRequirement already satisfied: numpy>=1.16.5 in c:\\users\\lucyna\\miniconda3\\lib\\site-packages (from pandas) (1.19.5)\nRequirement already satisfied: python-dateutil>=2.7.3 in c:\\users\\lucyna\\miniconda3\\lib\\site-packages (from pandas) (2.8.1)\nRequirement already satisfied: six>=1.5 in c:\\users\\lucyna\\miniconda3\\lib\\site-packages (from python-dateutil>=2.7.3->pandas) (1.15.0)\nCollecting pytz>=2017.3\n  Downloading pytz-2021.1-py2.py3-none-any.whl (510 kB)\nInstalling collected packages: pytz, pandas\nSuccessfully installed pandas-1.2.4 pytz-2021.1\n"
     ]
    }
   ],
   "source": [
    "!pip install pandas"
   ]
  },
  {
   "cell_type": "code",
   "execution_count": 3,
   "metadata": {},
   "outputs": [
    {
     "output_type": "execute_result",
     "data": {
      "text/plain": [
       "'1.2.4'"
      ]
     },
     "metadata": {},
     "execution_count": 3
    }
   ],
   "source": [
    "import pandas as pd\n",
    "pd.__version__"
   ]
  },
  {
   "source": [
    "## Read data from csv ##"
   ],
   "cell_type": "markdown",
   "metadata": {}
  },
  {
   "cell_type": "code",
   "execution_count": 8,
   "metadata": {},
   "outputs": [
    {
     "output_type": "execute_result",
     "data": {
      "text/plain": [
       "   idx  price(GBP)   weight  process                 destination   roast  \\\n",
       "0    1       18.80  6 x 60g      NaN  Drip (Metody alternatywne)   light   \n",
       "1    2        7.98    250 g  Natural  Drip (Metody alternatywne)  medium   \n",
       "2    3        9.80    250 g  Natural  Drip (Metody alternatywne)   light   \n",
       "3    4        9.80    250 g   Washed  Drip (Metody alternatywne)   light   \n",
       "4    5        8.80    250 g  Natural  Drip (Metody alternatywne)    dark   \n",
       "\n",
       "   blend arabica_robusta     origin  weight(g)  price_per_kg  \n",
       "0  beans    100% Arabica       None        360         52.22  \n",
       "1  beans    100% Arabica   Brazylia        250         31.92  \n",
       "2  beans    100% Arabica    Etiopia        250         39.20  \n",
       "3  beans    100% Arabica    Etiopia        250         39.20  \n",
       "4  beans    100% Arabica  Indonezja        250         35.20  "
      ],
      "text/html": "<div>\n<style scoped>\n    .dataframe tbody tr th:only-of-type {\n        vertical-align: middle;\n    }\n\n    .dataframe tbody tr th {\n        vertical-align: top;\n    }\n\n    .dataframe thead th {\n        text-align: right;\n    }\n</style>\n<table border=\"1\" class=\"dataframe\">\n  <thead>\n    <tr style=\"text-align: right;\">\n      <th></th>\n      <th>idx</th>\n      <th>price(GBP)</th>\n      <th>weight</th>\n      <th>process</th>\n      <th>destination</th>\n      <th>roast</th>\n      <th>blend</th>\n      <th>arabica_robusta</th>\n      <th>origin</th>\n      <th>weight(g)</th>\n      <th>price_per_kg</th>\n    </tr>\n  </thead>\n  <tbody>\n    <tr>\n      <th>0</th>\n      <td>1</td>\n      <td>18.80</td>\n      <td>6 x 60g</td>\n      <td>NaN</td>\n      <td>Drip (Metody alternatywne)</td>\n      <td>light</td>\n      <td>beans</td>\n      <td>100% Arabica</td>\n      <td>None</td>\n      <td>360</td>\n      <td>52.22</td>\n    </tr>\n    <tr>\n      <th>1</th>\n      <td>2</td>\n      <td>7.98</td>\n      <td>250 g</td>\n      <td>Natural</td>\n      <td>Drip (Metody alternatywne)</td>\n      <td>medium</td>\n      <td>beans</td>\n      <td>100% Arabica</td>\n      <td>Brazylia</td>\n      <td>250</td>\n      <td>31.92</td>\n    </tr>\n    <tr>\n      <th>2</th>\n      <td>3</td>\n      <td>9.80</td>\n      <td>250 g</td>\n      <td>Natural</td>\n      <td>Drip (Metody alternatywne)</td>\n      <td>light</td>\n      <td>beans</td>\n      <td>100% Arabica</td>\n      <td>Etiopia</td>\n      <td>250</td>\n      <td>39.20</td>\n    </tr>\n    <tr>\n      <th>3</th>\n      <td>4</td>\n      <td>9.80</td>\n      <td>250 g</td>\n      <td>Washed</td>\n      <td>Drip (Metody alternatywne)</td>\n      <td>light</td>\n      <td>beans</td>\n      <td>100% Arabica</td>\n      <td>Etiopia</td>\n      <td>250</td>\n      <td>39.20</td>\n    </tr>\n    <tr>\n      <th>4</th>\n      <td>5</td>\n      <td>8.80</td>\n      <td>250 g</td>\n      <td>Natural</td>\n      <td>Drip (Metody alternatywne)</td>\n      <td>dark</td>\n      <td>beans</td>\n      <td>100% Arabica</td>\n      <td>Indonezja</td>\n      <td>250</td>\n      <td>35.20</td>\n    </tr>\n  </tbody>\n</table>\n</div>"
     },
     "metadata": {},
     "execution_count": 8
    }
   ],
   "source": [
    "coffee_df = pd.read_csv('data\\coffee_desk_dataset.csv', index_col=False)\n",
    "coffee_df.head()"
   ]
  },
  {
   "cell_type": "code",
   "execution_count": 10,
   "metadata": {},
   "outputs": [
    {
     "output_type": "execute_result",
     "data": {
      "text/plain": [
       "count    866.000000\n",
       "mean      37.097898\n",
       "std       23.209588\n",
       "min        0.000000\n",
       "25%       22.500000\n",
       "50%       32.900000\n",
       "75%       45.600000\n",
       "max      280.000000\n",
       "Name: price_per_kg, dtype: float64"
      ]
     },
     "metadata": {},
     "execution_count": 10
    }
   ],
   "source": [
    "coffee_df['price_per_kg'].describe()"
   ]
  },
  {
   "source": [
    "## Categorical variables ##"
   ],
   "cell_type": "markdown",
   "metadata": {}
  },
  {
   "cell_type": "code",
   "execution_count": 6,
   "metadata": {},
   "outputs": [
    {
     "output_type": "execute_result",
     "data": {
      "text/plain": [
       "process                        \n",
       "Washed                             268\n",
       "Natural                            196\n",
       "Honey                               20\n",
       "Anaerobic                           15\n",
       "Pulped natural                      13\n",
       "Red Honey                            7\n",
       "Carbonic Maceration                  6\n",
       "Washed i natural                     4\n",
       "Macerated Natural                    4\n",
       "Yellow Honey                         4\n",
       "Black Honey                          4\n",
       "Anaerobic natural                    3\n",
       "Aerobic Fermentation in Piles        2\n",
       "Yeast Process                        2\n",
       "Rum Aged                             2\n",
       "Washed Anaerobic                     2\n",
       "Semi-washed                          1\n",
       "Yellow Bourbon                       1\n",
       "Wet-hulling                          1\n",
       "Washed, Barrel Aged                  1\n",
       "Washed Double Anaerobic              1\n",
       "Fermentacja kontrolowana             1\n",
       "Honey + Anaerobic                    1\n",
       "Semi-Carbonic Maceration             1\n",
       "CRYO                                 1\n",
       "Closed Tank Fermentation             1\n",
       "Experimental                         1\n",
       "Monsooning                           1\n",
       "Experimental Anaerobic               1\n",
       "Hybrid Natural                       1\n",
       "Semi-Washed Kombucha Experiment      1\n",
       "dtype: int64"
      ]
     },
     "metadata": {},
     "execution_count": 6
    }
   ],
   "source": [
    "coffee_df[['process']].value_counts() # check the statistics per type in process variable"
   ]
  },
  {
   "cell_type": "code",
   "execution_count": 7,
   "metadata": {},
   "outputs": [
    {
     "output_type": "execute_result",
     "data": {
      "text/plain": [
       "   idx  price(GBP)   weight  process                 destination   roast  \\\n",
       "0    1       18.80  6 x 60g      NaN  Drip (Metody alternatywne)   light   \n",
       "1    2        7.98    250 g  Natural  Drip (Metody alternatywne)  medium   \n",
       "2    3        9.80    250 g  Natural  Drip (Metody alternatywne)   light   \n",
       "3    4        9.80    250 g   Washed  Drip (Metody alternatywne)   light   \n",
       "4    5        8.80    250 g  Natural  Drip (Metody alternatywne)    dark   \n",
       "\n",
       "   blend arabica_robusta     origin  weight(g) price_per_kg  \n",
       "0  beans    100% Arabica       None        360        52.22  \n",
       "1  beans    100% Arabica   Brazylia        250        31.92  \n",
       "2  beans    100% Arabica    Etiopia        250         39.2  \n",
       "3  beans    100% Arabica    Etiopia        250         39.2  \n",
       "4  beans    100% Arabica  Indonezja        250         35.2  "
      ],
      "text/html": "<div>\n<style scoped>\n    .dataframe tbody tr th:only-of-type {\n        vertical-align: middle;\n    }\n\n    .dataframe tbody tr th {\n        vertical-align: top;\n    }\n\n    .dataframe thead th {\n        text-align: right;\n    }\n</style>\n<table border=\"1\" class=\"dataframe\">\n  <thead>\n    <tr style=\"text-align: right;\">\n      <th></th>\n      <th>idx</th>\n      <th>price(GBP)</th>\n      <th>weight</th>\n      <th>process</th>\n      <th>destination</th>\n      <th>roast</th>\n      <th>blend</th>\n      <th>arabica_robusta</th>\n      <th>origin</th>\n      <th>weight(g)</th>\n      <th>price_per_kg</th>\n    </tr>\n  </thead>\n  <tbody>\n    <tr>\n      <th>0</th>\n      <td>1</td>\n      <td>18.80</td>\n      <td>6 x 60g</td>\n      <td>NaN</td>\n      <td>Drip (Metody alternatywne)</td>\n      <td>light</td>\n      <td>beans</td>\n      <td>100% Arabica</td>\n      <td>None</td>\n      <td>360</td>\n      <td>52.22</td>\n    </tr>\n    <tr>\n      <th>1</th>\n      <td>2</td>\n      <td>7.98</td>\n      <td>250 g</td>\n      <td>Natural</td>\n      <td>Drip (Metody alternatywne)</td>\n      <td>medium</td>\n      <td>beans</td>\n      <td>100% Arabica</td>\n      <td>Brazylia</td>\n      <td>250</td>\n      <td>31.92</td>\n    </tr>\n    <tr>\n      <th>2</th>\n      <td>3</td>\n      <td>9.80</td>\n      <td>250 g</td>\n      <td>Natural</td>\n      <td>Drip (Metody alternatywne)</td>\n      <td>light</td>\n      <td>beans</td>\n      <td>100% Arabica</td>\n      <td>Etiopia</td>\n      <td>250</td>\n      <td>39.2</td>\n    </tr>\n    <tr>\n      <th>3</th>\n      <td>4</td>\n      <td>9.80</td>\n      <td>250 g</td>\n      <td>Washed</td>\n      <td>Drip (Metody alternatywne)</td>\n      <td>light</td>\n      <td>beans</td>\n      <td>100% Arabica</td>\n      <td>Etiopia</td>\n      <td>250</td>\n      <td>39.2</td>\n    </tr>\n    <tr>\n      <th>4</th>\n      <td>5</td>\n      <td>8.80</td>\n      <td>250 g</td>\n      <td>Natural</td>\n      <td>Drip (Metody alternatywne)</td>\n      <td>dark</td>\n      <td>beans</td>\n      <td>100% Arabica</td>\n      <td>Indonezja</td>\n      <td>250</td>\n      <td>35.2</td>\n    </tr>\n  </tbody>\n</table>\n</div>"
     },
     "metadata": {},
     "execution_count": 7
    }
   ],
   "source": [
    "# coffee_df['process'] = coffee_df['process'].fillna(value='Other')\n",
    "coffee_df.head()"
   ]
  },
  {
   "source": [
    "## Change categorical variale to code ##"
   ],
   "cell_type": "markdown",
   "metadata": {}
  },
  {
   "cell_type": "code",
   "execution_count": 22,
   "metadata": {},
   "outputs": [],
   "source": [
    "coffee_df['process_cat'] = coffee_df['process'].astype('category')\n",
    "coffee_df['process_cat'] = coffee_df['process_cat'].cat.codes"
   ]
  },
  {
   "cell_type": "code",
   "execution_count": 24,
   "metadata": {},
   "outputs": [],
   "source": [
    "# coffee_df.drop(['process_cat'], axis=1) # dropping column"
   ]
  },
  {
   "source": [
    "## Imputing missing categorical variables ##"
   ],
   "cell_type": "markdown",
   "metadata": {}
  },
  {
   "cell_type": "code",
   "execution_count": null,
   "metadata": {},
   "outputs": [],
   "source": []
  }
 ]
}