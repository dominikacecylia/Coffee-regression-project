{
 "metadata": {
  "language_info": {
   "codemirror_mode": {
    "name": "ipython",
    "version": 3
   },
   "file_extension": ".py",
   "mimetype": "text/x-python",
   "name": "python",
   "nbconvert_exporter": "python",
   "pygments_lexer": "ipython3",
   "version": "3.9.1"
  },
  "orig_nbformat": 2,
  "kernelspec": {
   "name": "python391jvsc74a57bd0f8b6ea6d13f5748502004c2e5659a6272de46c202ad482ac9f90784c65a6c667",
   "display_name": "Python 3.9.1 64-bit (conda)"
  }
 },
 "nbformat": 4,
 "nbformat_minor": 2,
 "cells": [
  {
   "source": [
    "# Data cleaning for regression #"
   ],
   "cell_type": "markdown",
   "metadata": {}
  },
  {
   "source": [
    "## Imports ##"
   ],
   "cell_type": "markdown",
   "metadata": {}
  },
  {
   "cell_type": "code",
   "execution_count": 2,
   "metadata": {},
   "outputs": [
    {
     "output_type": "stream",
     "name": "stdout",
     "text": [
      "Collecting pandas\n  Downloading pandas-1.2.4-cp39-cp39-win_amd64.whl (9.3 MB)\nRequirement already satisfied: numpy>=1.16.5 in c:\\users\\lucyna\\miniconda3\\lib\\site-packages (from pandas) (1.19.5)\nRequirement already satisfied: python-dateutil>=2.7.3 in c:\\users\\lucyna\\miniconda3\\lib\\site-packages (from pandas) (2.8.1)\nRequirement already satisfied: six>=1.5 in c:\\users\\lucyna\\miniconda3\\lib\\site-packages (from python-dateutil>=2.7.3->pandas) (1.15.0)\nCollecting pytz>=2017.3\n  Downloading pytz-2021.1-py2.py3-none-any.whl (510 kB)\nInstalling collected packages: pytz, pandas\nSuccessfully installed pandas-1.2.4 pytz-2021.1\n"
     ]
    }
   ],
   "source": [
    "!pip install pandas"
   ]
  },
  {
   "cell_type": "code",
   "execution_count": 2,
   "metadata": {},
   "outputs": [],
   "source": [
    "import pandas as pd\n"
   ]
  },
  {
   "source": [
    "## Read data from csv ##"
   ],
   "cell_type": "markdown",
   "metadata": {}
  },
  {
   "cell_type": "code",
   "execution_count": 4,
   "metadata": {},
   "outputs": [
    {
     "output_type": "execute_result",
     "data": {
      "text/plain": [
       "'1.2.4'"
      ]
     },
     "metadata": {},
     "execution_count": 4
    }
   ],
   "source": [
    "pd.__version__"
   ]
  },
  {
   "cell_type": "code",
   "execution_count": 6,
   "metadata": {},
   "outputs": [
    {
     "output_type": "execute_result",
     "data": {
      "text/plain": [
       "   idx  price(GBP)   weight  process                 destination   roast  \\\n",
       "0    1       18.80  6 x 60g      NaN  Drip (Metody alternatywne)   light   \n",
       "1    2        7.98    250 g  Natural  Drip (Metody alternatywne)  medium   \n",
       "2    3        9.80    250 g  Natural  Drip (Metody alternatywne)   light   \n",
       "3    4        9.80    250 g   Washed  Drip (Metody alternatywne)   light   \n",
       "4    5        8.80    250 g  Natural  Drip (Metody alternatywne)    dark   \n",
       "\n",
       "   blend arabica_robusta     origin  weight(g) price_per_kg  \n",
       "0  beans    100% Arabica       None        360        52.22  \n",
       "1  beans    100% Arabica   Brazylia        250        31.92  \n",
       "2  beans    100% Arabica    Etiopia        250         39.2  \n",
       "3  beans    100% Arabica    Etiopia        250         39.2  \n",
       "4  beans    100% Arabica  Indonezja        250         35.2  "
      ],
      "text/html": "<div>\n<style scoped>\n    .dataframe tbody tr th:only-of-type {\n        vertical-align: middle;\n    }\n\n    .dataframe tbody tr th {\n        vertical-align: top;\n    }\n\n    .dataframe thead th {\n        text-align: right;\n    }\n</style>\n<table border=\"1\" class=\"dataframe\">\n  <thead>\n    <tr style=\"text-align: right;\">\n      <th></th>\n      <th>idx</th>\n      <th>price(GBP)</th>\n      <th>weight</th>\n      <th>process</th>\n      <th>destination</th>\n      <th>roast</th>\n      <th>blend</th>\n      <th>arabica_robusta</th>\n      <th>origin</th>\n      <th>weight(g)</th>\n      <th>price_per_kg</th>\n    </tr>\n  </thead>\n  <tbody>\n    <tr>\n      <th>0</th>\n      <td>1</td>\n      <td>18.80</td>\n      <td>6 x 60g</td>\n      <td>NaN</td>\n      <td>Drip (Metody alternatywne)</td>\n      <td>light</td>\n      <td>beans</td>\n      <td>100% Arabica</td>\n      <td>None</td>\n      <td>360</td>\n      <td>52.22</td>\n    </tr>\n    <tr>\n      <th>1</th>\n      <td>2</td>\n      <td>7.98</td>\n      <td>250 g</td>\n      <td>Natural</td>\n      <td>Drip (Metody alternatywne)</td>\n      <td>medium</td>\n      <td>beans</td>\n      <td>100% Arabica</td>\n      <td>Brazylia</td>\n      <td>250</td>\n      <td>31.92</td>\n    </tr>\n    <tr>\n      <th>2</th>\n      <td>3</td>\n      <td>9.80</td>\n      <td>250 g</td>\n      <td>Natural</td>\n      <td>Drip (Metody alternatywne)</td>\n      <td>light</td>\n      <td>beans</td>\n      <td>100% Arabica</td>\n      <td>Etiopia</td>\n      <td>250</td>\n      <td>39.2</td>\n    </tr>\n    <tr>\n      <th>3</th>\n      <td>4</td>\n      <td>9.80</td>\n      <td>250 g</td>\n      <td>Washed</td>\n      <td>Drip (Metody alternatywne)</td>\n      <td>light</td>\n      <td>beans</td>\n      <td>100% Arabica</td>\n      <td>Etiopia</td>\n      <td>250</td>\n      <td>39.2</td>\n    </tr>\n    <tr>\n      <th>4</th>\n      <td>5</td>\n      <td>8.80</td>\n      <td>250 g</td>\n      <td>Natural</td>\n      <td>Drip (Metody alternatywne)</td>\n      <td>dark</td>\n      <td>beans</td>\n      <td>100% Arabica</td>\n      <td>Indonezja</td>\n      <td>250</td>\n      <td>35.2</td>\n    </tr>\n  </tbody>\n</table>\n</div>"
     },
     "metadata": {},
     "execution_count": 6
    }
   ],
   "source": [
    "coffee_df = pd.read_csv('data\\coffee_desk_dataset.csv', index_col=False)\n",
    "coffee_df.head()"
   ]
  },
  {
   "cell_type": "code",
   "execution_count": 7,
   "metadata": {},
   "outputs": [
    {
     "output_type": "execute_result",
     "data": {
      "text/plain": [
       "count        567\n",
       "unique        31\n",
       "top       Washed\n",
       "freq         268\n",
       "Name: process, dtype: object"
      ]
     },
     "metadata": {},
     "execution_count": 7
    }
   ],
   "source": [
    "coffee_df['process'].describe()"
   ]
  },
  {
   "source": [
    "## Replace process categorical values with numbers ##"
   ],
   "cell_type": "markdown",
   "metadata": {}
  },
  {
   "cell_type": "code",
   "execution_count": 13,
   "metadata": {},
   "outputs": [
    {
     "output_type": "execute_result",
     "data": {
      "text/plain": [
       "process                        \n",
       "Washed                             268\n",
       "Natural                            196\n",
       "Honey                               20\n",
       "Anaerobic                           15\n",
       "Pulped natural                      13\n",
       "Red Honey                            7\n",
       "Carbonic Maceration                  6\n",
       "Washed i natural                     4\n",
       "Macerated Natural                    4\n",
       "Yellow Honey                         4\n",
       "Black Honey                          4\n",
       "Anaerobic natural                    3\n",
       "Aerobic Fermentation in Piles        2\n",
       "Yeast Process                        2\n",
       "Rum Aged                             2\n",
       "Washed Anaerobic                     2\n",
       "Semi-washed                          1\n",
       "Yellow Bourbon                       1\n",
       "Wet-hulling                          1\n",
       "Washed, Barrel Aged                  1\n",
       "Washed Double Anaerobic              1\n",
       "Fermentacja kontrolowana             1\n",
       "Honey + Anaerobic                    1\n",
       "Semi-Carbonic Maceration             1\n",
       "CRYO                                 1\n",
       "Closed Tank Fermentation             1\n",
       "Experimental                         1\n",
       "Monsooning                           1\n",
       "Experimental Anaerobic               1\n",
       "Hybrid Natural                       1\n",
       "Semi-Washed Kombucha Experiment      1\n",
       "dtype: int64"
      ]
     },
     "metadata": {},
     "execution_count": 13
    }
   ],
   "source": [
    "coffee_df[['process']].value_counts()"
   ]
  },
  {
   "cell_type": "code",
   "execution_count": 20,
   "metadata": {},
   "outputs": [
    {
     "output_type": "execute_result",
     "data": {
      "text/plain": [
       "   idx  price(GBP)   weight  process                 destination   roast  \\\n",
       "0    1       18.80  6 x 60g    Other  Drip (Metody alternatywne)   light   \n",
       "1    2        7.98    250 g  Natural  Drip (Metody alternatywne)  medium   \n",
       "2    3        9.80    250 g  Natural  Drip (Metody alternatywne)   light   \n",
       "3    4        9.80    250 g   Washed  Drip (Metody alternatywne)   light   \n",
       "4    5        8.80    250 g  Natural  Drip (Metody alternatywne)    dark   \n",
       "\n",
       "   blend arabica_robusta     origin  weight(g) price_per_kg  \n",
       "0  beans    100% Arabica       None        360        52.22  \n",
       "1  beans    100% Arabica   Brazylia        250        31.92  \n",
       "2  beans    100% Arabica    Etiopia        250         39.2  \n",
       "3  beans    100% Arabica    Etiopia        250         39.2  \n",
       "4  beans    100% Arabica  Indonezja        250         35.2  "
      ],
      "text/html": "<div>\n<style scoped>\n    .dataframe tbody tr th:only-of-type {\n        vertical-align: middle;\n    }\n\n    .dataframe tbody tr th {\n        vertical-align: top;\n    }\n\n    .dataframe thead th {\n        text-align: right;\n    }\n</style>\n<table border=\"1\" class=\"dataframe\">\n  <thead>\n    <tr style=\"text-align: right;\">\n      <th></th>\n      <th>idx</th>\n      <th>price(GBP)</th>\n      <th>weight</th>\n      <th>process</th>\n      <th>destination</th>\n      <th>roast</th>\n      <th>blend</th>\n      <th>arabica_robusta</th>\n      <th>origin</th>\n      <th>weight(g)</th>\n      <th>price_per_kg</th>\n    </tr>\n  </thead>\n  <tbody>\n    <tr>\n      <th>0</th>\n      <td>1</td>\n      <td>18.80</td>\n      <td>6 x 60g</td>\n      <td>Other</td>\n      <td>Drip (Metody alternatywne)</td>\n      <td>light</td>\n      <td>beans</td>\n      <td>100% Arabica</td>\n      <td>None</td>\n      <td>360</td>\n      <td>52.22</td>\n    </tr>\n    <tr>\n      <th>1</th>\n      <td>2</td>\n      <td>7.98</td>\n      <td>250 g</td>\n      <td>Natural</td>\n      <td>Drip (Metody alternatywne)</td>\n      <td>medium</td>\n      <td>beans</td>\n      <td>100% Arabica</td>\n      <td>Brazylia</td>\n      <td>250</td>\n      <td>31.92</td>\n    </tr>\n    <tr>\n      <th>2</th>\n      <td>3</td>\n      <td>9.80</td>\n      <td>250 g</td>\n      <td>Natural</td>\n      <td>Drip (Metody alternatywne)</td>\n      <td>light</td>\n      <td>beans</td>\n      <td>100% Arabica</td>\n      <td>Etiopia</td>\n      <td>250</td>\n      <td>39.2</td>\n    </tr>\n    <tr>\n      <th>3</th>\n      <td>4</td>\n      <td>9.80</td>\n      <td>250 g</td>\n      <td>Washed</td>\n      <td>Drip (Metody alternatywne)</td>\n      <td>light</td>\n      <td>beans</td>\n      <td>100% Arabica</td>\n      <td>Etiopia</td>\n      <td>250</td>\n      <td>39.2</td>\n    </tr>\n    <tr>\n      <th>4</th>\n      <td>5</td>\n      <td>8.80</td>\n      <td>250 g</td>\n      <td>Natural</td>\n      <td>Drip (Metody alternatywne)</td>\n      <td>dark</td>\n      <td>beans</td>\n      <td>100% Arabica</td>\n      <td>Indonezja</td>\n      <td>250</td>\n      <td>35.2</td>\n    </tr>\n  </tbody>\n</table>\n</div>"
     },
     "metadata": {},
     "execution_count": 20
    }
   ],
   "source": [
    "coffee_df['process'] = coffee_df['process'].fillna(value='Other')"
   ]
  },
  {
   "cell_type": "code",
   "execution_count": 21,
   "metadata": {},
   "outputs": [
    {
     "output_type": "execute_result",
     "data": {
      "text/plain": [
       "   idx  price(GBP)   weight  process                 destination   roast  \\\n",
       "0    1       18.80  6 x 60g    Other  Drip (Metody alternatywne)   light   \n",
       "1    2        7.98    250 g  Natural  Drip (Metody alternatywne)  medium   \n",
       "2    3        9.80    250 g  Natural  Drip (Metody alternatywne)   light   \n",
       "3    4        9.80    250 g   Washed  Drip (Metody alternatywne)   light   \n",
       "4    5        8.80    250 g  Natural  Drip (Metody alternatywne)    dark   \n",
       "\n",
       "   blend arabica_robusta     origin  weight(g) price_per_kg  \n",
       "0  beans    100% Arabica       None        360        52.22  \n",
       "1  beans    100% Arabica   Brazylia        250        31.92  \n",
       "2  beans    100% Arabica    Etiopia        250         39.2  \n",
       "3  beans    100% Arabica    Etiopia        250         39.2  \n",
       "4  beans    100% Arabica  Indonezja        250         35.2  "
      ],
      "text/html": "<div>\n<style scoped>\n    .dataframe tbody tr th:only-of-type {\n        vertical-align: middle;\n    }\n\n    .dataframe tbody tr th {\n        vertical-align: top;\n    }\n\n    .dataframe thead th {\n        text-align: right;\n    }\n</style>\n<table border=\"1\" class=\"dataframe\">\n  <thead>\n    <tr style=\"text-align: right;\">\n      <th></th>\n      <th>idx</th>\n      <th>price(GBP)</th>\n      <th>weight</th>\n      <th>process</th>\n      <th>destination</th>\n      <th>roast</th>\n      <th>blend</th>\n      <th>arabica_robusta</th>\n      <th>origin</th>\n      <th>weight(g)</th>\n      <th>price_per_kg</th>\n    </tr>\n  </thead>\n  <tbody>\n    <tr>\n      <th>0</th>\n      <td>1</td>\n      <td>18.80</td>\n      <td>6 x 60g</td>\n      <td>Other</td>\n      <td>Drip (Metody alternatywne)</td>\n      <td>light</td>\n      <td>beans</td>\n      <td>100% Arabica</td>\n      <td>None</td>\n      <td>360</td>\n      <td>52.22</td>\n    </tr>\n    <tr>\n      <th>1</th>\n      <td>2</td>\n      <td>7.98</td>\n      <td>250 g</td>\n      <td>Natural</td>\n      <td>Drip (Metody alternatywne)</td>\n      <td>medium</td>\n      <td>beans</td>\n      <td>100% Arabica</td>\n      <td>Brazylia</td>\n      <td>250</td>\n      <td>31.92</td>\n    </tr>\n    <tr>\n      <th>2</th>\n      <td>3</td>\n      <td>9.80</td>\n      <td>250 g</td>\n      <td>Natural</td>\n      <td>Drip (Metody alternatywne)</td>\n      <td>light</td>\n      <td>beans</td>\n      <td>100% Arabica</td>\n      <td>Etiopia</td>\n      <td>250</td>\n      <td>39.2</td>\n    </tr>\n    <tr>\n      <th>3</th>\n      <td>4</td>\n      <td>9.80</td>\n      <td>250 g</td>\n      <td>Washed</td>\n      <td>Drip (Metody alternatywne)</td>\n      <td>light</td>\n      <td>beans</td>\n      <td>100% Arabica</td>\n      <td>Etiopia</td>\n      <td>250</td>\n      <td>39.2</td>\n    </tr>\n    <tr>\n      <th>4</th>\n      <td>5</td>\n      <td>8.80</td>\n      <td>250 g</td>\n      <td>Natural</td>\n      <td>Drip (Metody alternatywne)</td>\n      <td>dark</td>\n      <td>beans</td>\n      <td>100% Arabica</td>\n      <td>Indonezja</td>\n      <td>250</td>\n      <td>35.2</td>\n    </tr>\n  </tbody>\n</table>\n</div>"
     },
     "metadata": {},
     "execution_count": 21
    }
   ],
   "source": [
    "coffee_df.head()"
   ]
  },
  {
   "cell_type": "code",
   "execution_count": 22,
   "metadata": {},
   "outputs": [],
   "source": [
    "coffee_df['process_cat'] = coffee_df['process'].astype('category')"
   ]
  },
  {
   "cell_type": "code",
   "execution_count": 24,
   "metadata": {},
   "outputs": [],
   "source": [
    "coffee_df['process_cat'] = coffee_df['process_cat'].cat.codes"
   ]
  },
  {
   "cell_type": "code",
   "execution_count": 27,
   "metadata": {},
   "outputs": [
    {
     "output_type": "execute_result",
     "data": {
      "text/plain": [
       "process                          process_cat\n",
       "Other                            16             299\n",
       "Washed                           23             268\n",
       "Natural                          15             196\n",
       "Honey                            10              20\n",
       "Anaerobic                        1               15\n",
       "Pulped natural                   17              13\n",
       "Red Honey                        18               7\n",
       "Carbonic Maceration              5                6\n",
       "Washed i natural                 26               4\n",
       "Macerated Natural                13               4\n",
       "Yellow Honey                     31               4\n",
       "Black Honey                      3                4\n",
       "Anaerobic natural                2                3\n",
       "Aerobic Fermentation in Piles    0                2\n",
       "Yeast Process                    29               2\n",
       "Rum Aged                         19               2\n",
       "Washed Anaerobic                 24               2\n",
       "Semi-washed                      22               1\n",
       "Yellow Bourbon                   30               1\n",
       "Wet-hulling                      28               1\n",
       "Washed, Barrel Aged              27               1\n",
       "Washed Double Anaerobic          25               1\n",
       "Honey + Anaerobic                11               1\n",
       "Hybrid Natural                   12               1\n",
       "Semi-Carbonic Maceration         20               1\n",
       "CRYO                             4                1\n",
       "Closed Tank Fermentation         6                1\n",
       "Experimental                     7                1\n",
       "Experimental Anaerobic           8                1\n",
       "Monsooning                       14               1\n",
       "Fermentacja kontrolowana         9                1\n",
       "Semi-Washed Kombucha Experiment  21               1\n",
       "dtype: int64"
      ]
     },
     "metadata": {},
     "execution_count": 27
    }
   ],
   "source": [
    "coffee_df[['process', 'process_cat']].value_counts()"
   ]
  },
  {
   "cell_type": "code",
   "execution_count": 29,
   "metadata": {},
   "outputs": [
    {
     "output_type": "execute_result",
     "data": {
      "text/plain": [
       "     idx  price(GBP)   weight  process                 destination   roast  \\\n",
       "0      1       18.80  6 x 60g    Other  Drip (Metody alternatywne)   light   \n",
       "1      2        7.98    250 g  Natural  Drip (Metody alternatywne)  medium   \n",
       "2      3        9.80    250 g  Natural  Drip (Metody alternatywne)   light   \n",
       "3      4        9.80    250 g   Washed  Drip (Metody alternatywne)   light   \n",
       "4      5        8.80    250 g  Natural  Drip (Metody alternatywne)    dark   \n",
       "..   ...         ...      ...      ...                         ...     ...   \n",
       "861  862        6.60     90 g    Other                         NaN     NaN   \n",
       "862  863       10.00    200 g  Natural                         NaN     NaN   \n",
       "863  864        7.20    200 g    Other                         NaN     NaN   \n",
       "864  865       25.00     1 kg   Washed                         NaN   light   \n",
       "865  866        7.40    250 g   Washed                         NaN   light   \n",
       "\n",
       "     blend arabica_robusta     origin  weight(g) price_per_kg  \n",
       "0    beans    100% Arabica       None        360        52.22  \n",
       "1    beans    100% Arabica   Brazylia        250        31.92  \n",
       "2    beans    100% Arabica    Etiopia        250         39.2  \n",
       "3    beans    100% Arabica    Etiopia        250         39.2  \n",
       "4    beans    100% Arabica  Indonezja        250         35.2  \n",
       "..     ...             ...        ...        ...          ...  \n",
       "861    NaN            None  Gwatemala         90        73.33  \n",
       "862  beans            None     Panama        200           50  \n",
       "863    NaN            None  Nikaragua        200           36  \n",
       "864  beans    100% Arabica  Gwatemala       1000           25  \n",
       "865  beans    100% Arabica  Gwatemala        250         29.6  \n",
       "\n",
       "[866 rows x 11 columns]"
      ],
      "text/html": "<div>\n<style scoped>\n    .dataframe tbody tr th:only-of-type {\n        vertical-align: middle;\n    }\n\n    .dataframe tbody tr th {\n        vertical-align: top;\n    }\n\n    .dataframe thead th {\n        text-align: right;\n    }\n</style>\n<table border=\"1\" class=\"dataframe\">\n  <thead>\n    <tr style=\"text-align: right;\">\n      <th></th>\n      <th>idx</th>\n      <th>price(GBP)</th>\n      <th>weight</th>\n      <th>process</th>\n      <th>destination</th>\n      <th>roast</th>\n      <th>blend</th>\n      <th>arabica_robusta</th>\n      <th>origin</th>\n      <th>weight(g)</th>\n      <th>price_per_kg</th>\n    </tr>\n  </thead>\n  <tbody>\n    <tr>\n      <th>0</th>\n      <td>1</td>\n      <td>18.80</td>\n      <td>6 x 60g</td>\n      <td>Other</td>\n      <td>Drip (Metody alternatywne)</td>\n      <td>light</td>\n      <td>beans</td>\n      <td>100% Arabica</td>\n      <td>None</td>\n      <td>360</td>\n      <td>52.22</td>\n    </tr>\n    <tr>\n      <th>1</th>\n      <td>2</td>\n      <td>7.98</td>\n      <td>250 g</td>\n      <td>Natural</td>\n      <td>Drip (Metody alternatywne)</td>\n      <td>medium</td>\n      <td>beans</td>\n      <td>100% Arabica</td>\n      <td>Brazylia</td>\n      <td>250</td>\n      <td>31.92</td>\n    </tr>\n    <tr>\n      <th>2</th>\n      <td>3</td>\n      <td>9.80</td>\n      <td>250 g</td>\n      <td>Natural</td>\n      <td>Drip (Metody alternatywne)</td>\n      <td>light</td>\n      <td>beans</td>\n      <td>100% Arabica</td>\n      <td>Etiopia</td>\n      <td>250</td>\n      <td>39.2</td>\n    </tr>\n    <tr>\n      <th>3</th>\n      <td>4</td>\n      <td>9.80</td>\n      <td>250 g</td>\n      <td>Washed</td>\n      <td>Drip (Metody alternatywne)</td>\n      <td>light</td>\n      <td>beans</td>\n      <td>100% Arabica</td>\n      <td>Etiopia</td>\n      <td>250</td>\n      <td>39.2</td>\n    </tr>\n    <tr>\n      <th>4</th>\n      <td>5</td>\n      <td>8.80</td>\n      <td>250 g</td>\n      <td>Natural</td>\n      <td>Drip (Metody alternatywne)</td>\n      <td>dark</td>\n      <td>beans</td>\n      <td>100% Arabica</td>\n      <td>Indonezja</td>\n      <td>250</td>\n      <td>35.2</td>\n    </tr>\n    <tr>\n      <th>...</th>\n      <td>...</td>\n      <td>...</td>\n      <td>...</td>\n      <td>...</td>\n      <td>...</td>\n      <td>...</td>\n      <td>...</td>\n      <td>...</td>\n      <td>...</td>\n      <td>...</td>\n      <td>...</td>\n    </tr>\n    <tr>\n      <th>861</th>\n      <td>862</td>\n      <td>6.60</td>\n      <td>90 g</td>\n      <td>Other</td>\n      <td>NaN</td>\n      <td>NaN</td>\n      <td>NaN</td>\n      <td>None</td>\n      <td>Gwatemala</td>\n      <td>90</td>\n      <td>73.33</td>\n    </tr>\n    <tr>\n      <th>862</th>\n      <td>863</td>\n      <td>10.00</td>\n      <td>200 g</td>\n      <td>Natural</td>\n      <td>NaN</td>\n      <td>NaN</td>\n      <td>beans</td>\n      <td>None</td>\n      <td>Panama</td>\n      <td>200</td>\n      <td>50</td>\n    </tr>\n    <tr>\n      <th>863</th>\n      <td>864</td>\n      <td>7.20</td>\n      <td>200 g</td>\n      <td>Other</td>\n      <td>NaN</td>\n      <td>NaN</td>\n      <td>NaN</td>\n      <td>None</td>\n      <td>Nikaragua</td>\n      <td>200</td>\n      <td>36</td>\n    </tr>\n    <tr>\n      <th>864</th>\n      <td>865</td>\n      <td>25.00</td>\n      <td>1 kg</td>\n      <td>Washed</td>\n      <td>NaN</td>\n      <td>light</td>\n      <td>beans</td>\n      <td>100% Arabica</td>\n      <td>Gwatemala</td>\n      <td>1000</td>\n      <td>25</td>\n    </tr>\n    <tr>\n      <th>865</th>\n      <td>866</td>\n      <td>7.40</td>\n      <td>250 g</td>\n      <td>Washed</td>\n      <td>NaN</td>\n      <td>light</td>\n      <td>beans</td>\n      <td>100% Arabica</td>\n      <td>Gwatemala</td>\n      <td>250</td>\n      <td>29.6</td>\n    </tr>\n  </tbody>\n</table>\n<p>866 rows × 11 columns</p>\n</div>"
     },
     "metadata": {},
     "execution_count": 29
    }
   ],
   "source": [
    "coffee_df.drop(['process_cat'], axis=1)"
   ]
  }
 ]
}