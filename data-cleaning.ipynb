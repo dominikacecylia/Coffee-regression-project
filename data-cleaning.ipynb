{
 "metadata": {
  "language_info": {
   "codemirror_mode": {
    "name": "ipython",
    "version": 3
   },
   "file_extension": ".py",
   "mimetype": "text/x-python",
   "name": "python",
   "nbconvert_exporter": "python",
   "pygments_lexer": "ipython3",
   "version": "3.9.1"
  },
  "orig_nbformat": 2,
  "kernelspec": {
   "name": "python391jvsc74a57bd0f8b6ea6d13f5748502004c2e5659a6272de46c202ad482ac9f90784c65a6c667",
   "display_name": "Python 3.9.1 64-bit (conda)"
  }
 },
 "nbformat": 4,
 "nbformat_minor": 2,
 "cells": [
  {
   "source": [
    "# Data cleaning for regression #"
   ],
   "cell_type": "markdown",
   "metadata": {}
  },
  {
   "source": [
    "## Imports ##"
   ],
   "cell_type": "markdown",
   "metadata": {}
  },
  {
   "cell_type": "code",
   "execution_count": 2,
   "metadata": {},
   "outputs": [
    {
     "output_type": "stream",
     "name": "stdout",
     "text": [
      "Collecting pandas\n  Downloading pandas-1.2.4-cp39-cp39-win_amd64.whl (9.3 MB)\nRequirement already satisfied: numpy>=1.16.5 in c:\\users\\lucyna\\miniconda3\\lib\\site-packages (from pandas) (1.19.5)\nRequirement already satisfied: python-dateutil>=2.7.3 in c:\\users\\lucyna\\miniconda3\\lib\\site-packages (from pandas) (2.8.1)\nRequirement already satisfied: six>=1.5 in c:\\users\\lucyna\\miniconda3\\lib\\site-packages (from python-dateutil>=2.7.3->pandas) (1.15.0)\nCollecting pytz>=2017.3\n  Downloading pytz-2021.1-py2.py3-none-any.whl (510 kB)\nInstalling collected packages: pytz, pandas\nSuccessfully installed pandas-1.2.4 pytz-2021.1\n"
     ]
    }
   ],
   "source": [
    "!pip install pandas"
   ]
  },
  {
   "cell_type": "code",
   "execution_count": 3,
   "metadata": {},
   "outputs": [
    {
     "output_type": "execute_result",
     "data": {
      "text/plain": [
       "'1.2.4'"
      ]
     },
     "metadata": {},
     "execution_count": 3
    }
   ],
   "source": [
    "import pandas as pd\n",
    "pd.__version__"
   ]
  },
  {
   "source": [
    "## Read data from csv ##"
   ],
   "cell_type": "markdown",
   "metadata": {}
  },
  {
   "cell_type": "code",
   "execution_count": 123,
   "metadata": {},
   "outputs": [
    {
     "output_type": "execute_result",
     "data": {
      "text/plain": [
       "     price(GBP)   weight  process                 destination   roast  blend  \\\n",
       "idx                                                                            \n",
       "1         18.80  6 x 60g      NaN  Drip (Metody alternatywne)   light  beans   \n",
       "2          7.98    250 g  Natural  Drip (Metody alternatywne)  medium  beans   \n",
       "3          9.80    250 g  Natural  Drip (Metody alternatywne)   light  beans   \n",
       "4          9.80    250 g   Washed  Drip (Metody alternatywne)   light  beans   \n",
       "5          8.80    250 g  Natural  Drip (Metody alternatywne)    dark  beans   \n",
       "\n",
       "    arabica_robusta     origin  weight(g)  price_per_kg  \n",
       "idx                                                      \n",
       "1      100% Arabica        NaN        360         52.22  \n",
       "2      100% Arabica   Brazylia        250         31.92  \n",
       "3      100% Arabica    Etiopia        250         39.20  \n",
       "4      100% Arabica    Etiopia        250         39.20  \n",
       "5      100% Arabica  Indonezja        250         35.20  "
      ],
      "text/html": "<div>\n<style scoped>\n    .dataframe tbody tr th:only-of-type {\n        vertical-align: middle;\n    }\n\n    .dataframe tbody tr th {\n        vertical-align: top;\n    }\n\n    .dataframe thead th {\n        text-align: right;\n    }\n</style>\n<table border=\"1\" class=\"dataframe\">\n  <thead>\n    <tr style=\"text-align: right;\">\n      <th></th>\n      <th>price(GBP)</th>\n      <th>weight</th>\n      <th>process</th>\n      <th>destination</th>\n      <th>roast</th>\n      <th>blend</th>\n      <th>arabica_robusta</th>\n      <th>origin</th>\n      <th>weight(g)</th>\n      <th>price_per_kg</th>\n    </tr>\n    <tr>\n      <th>idx</th>\n      <th></th>\n      <th></th>\n      <th></th>\n      <th></th>\n      <th></th>\n      <th></th>\n      <th></th>\n      <th></th>\n      <th></th>\n      <th></th>\n    </tr>\n  </thead>\n  <tbody>\n    <tr>\n      <th>1</th>\n      <td>18.80</td>\n      <td>6 x 60g</td>\n      <td>NaN</td>\n      <td>Drip (Metody alternatywne)</td>\n      <td>light</td>\n      <td>beans</td>\n      <td>100% Arabica</td>\n      <td>NaN</td>\n      <td>360</td>\n      <td>52.22</td>\n    </tr>\n    <tr>\n      <th>2</th>\n      <td>7.98</td>\n      <td>250 g</td>\n      <td>Natural</td>\n      <td>Drip (Metody alternatywne)</td>\n      <td>medium</td>\n      <td>beans</td>\n      <td>100% Arabica</td>\n      <td>Brazylia</td>\n      <td>250</td>\n      <td>31.92</td>\n    </tr>\n    <tr>\n      <th>3</th>\n      <td>9.80</td>\n      <td>250 g</td>\n      <td>Natural</td>\n      <td>Drip (Metody alternatywne)</td>\n      <td>light</td>\n      <td>beans</td>\n      <td>100% Arabica</td>\n      <td>Etiopia</td>\n      <td>250</td>\n      <td>39.20</td>\n    </tr>\n    <tr>\n      <th>4</th>\n      <td>9.80</td>\n      <td>250 g</td>\n      <td>Washed</td>\n      <td>Drip (Metody alternatywne)</td>\n      <td>light</td>\n      <td>beans</td>\n      <td>100% Arabica</td>\n      <td>Etiopia</td>\n      <td>250</td>\n      <td>39.20</td>\n    </tr>\n    <tr>\n      <th>5</th>\n      <td>8.80</td>\n      <td>250 g</td>\n      <td>Natural</td>\n      <td>Drip (Metody alternatywne)</td>\n      <td>dark</td>\n      <td>beans</td>\n      <td>100% Arabica</td>\n      <td>Indonezja</td>\n      <td>250</td>\n      <td>35.20</td>\n    </tr>\n  </tbody>\n</table>\n</div>"
     },
     "metadata": {},
     "execution_count": 123
    }
   ],
   "source": [
    "coffee_df = pd.read_csv('data\\coffee_desk_dataset.csv', index_col=\"idx\")\n",
    "coffee_df.head()"
   ]
  },
  {
   "cell_type": "code",
   "execution_count": 124,
   "metadata": {},
   "outputs": [
    {
     "output_type": "execute_result",
     "data": {
      "text/plain": [
       "count    866.000000\n",
       "mean      37.097898\n",
       "std       23.209588\n",
       "min        0.000000\n",
       "25%       22.500000\n",
       "50%       32.900000\n",
       "75%       45.600000\n",
       "max      280.000000\n",
       "Name: price_per_kg, dtype: float64"
      ]
     },
     "metadata": {},
     "execution_count": 124
    }
   ],
   "source": [
    "coffee_df['price_per_kg'].describe()"
   ]
  },
  {
   "source": [
    "## Categorical variables ##"
   ],
   "cell_type": "markdown",
   "metadata": {}
  },
  {
   "cell_type": "code",
   "execution_count": 125,
   "metadata": {},
   "outputs": [
    {
     "output_type": "execute_result",
     "data": {
      "text/plain": [
       "process                        \n",
       "Washed                             268\n",
       "Natural                            196\n",
       "Honey                               20\n",
       "Anaerobic                           15\n",
       "Pulped natural                      13\n",
       "Red Honey                            7\n",
       "Carbonic Maceration                  6\n",
       "Washed i natural                     4\n",
       "Macerated Natural                    4\n",
       "Yellow Honey                         4\n",
       "Black Honey                          4\n",
       "Anaerobic natural                    3\n",
       "Aerobic Fermentation in Piles        2\n",
       "Yeast Process                        2\n",
       "Rum Aged                             2\n",
       "Washed Anaerobic                     2\n",
       "Semi-washed                          1\n",
       "Yellow Bourbon                       1\n",
       "Wet-hulling                          1\n",
       "Washed, Barrel Aged                  1\n",
       "Washed Double Anaerobic              1\n",
       "Fermentacja kontrolowana             1\n",
       "Honey + Anaerobic                    1\n",
       "Semi-Carbonic Maceration             1\n",
       "CRYO                                 1\n",
       "Closed Tank Fermentation             1\n",
       "Experimental                         1\n",
       "Monsooning                           1\n",
       "Experimental Anaerobic               1\n",
       "Hybrid Natural                       1\n",
       "Semi-Washed Kombucha Experiment      1\n",
       "dtype: int64"
      ]
     },
     "metadata": {},
     "execution_count": 125
    }
   ],
   "source": [
    "coffee_df[['process']].value_counts() # check the statistics per type in process variable"
   ]
  },
  {
   "cell_type": "code",
   "execution_count": 126,
   "metadata": {},
   "outputs": [
    {
     "output_type": "execute_result",
     "data": {
      "text/plain": [
       "origin                        \n",
       "Brazylia                          109\n",
       "Etiopia                            84\n",
       "Kolumbia                           81\n",
       "Gwatemala                          60\n",
       "Rwanda                             39\n",
       "Kenia                              31\n",
       "Salwador                           29\n",
       "Peru                               28\n",
       "Honduras                           25\n",
       "Kostaryka                          20\n",
       "Burundi                            14\n",
       "Indonezja                          10\n",
       "Nikaragua                          10\n",
       "Etiopia, Brazylia                   8\n",
       "Meksyk                              7\n",
       "Brazylia, Indie                     7\n",
       "Brazylia, Gwatemala                 7\n",
       "Italy                               6\n",
       "Panama                              6\n",
       "Uganda                              6\n",
       "Boliwia                             5\n",
       "Etiopia, Brazylia, Kolumbia         4\n",
       "Etiopia, Gwatemala                  4\n",
       "Etiopia, Kolumbia                   4\n",
       "Indie                               4\n",
       "Brazylia, Gwatemala, Etiopia        4\n",
       "Brazylia, Honduras                  4\n",
       "Salwador, Indie                     3\n",
       "Chiny                               3\n",
       "Brazylia, inne                      3\n",
       "Peru, Gwatemala                     3\n",
       "Brazylia, Etiopia                   3\n",
       "Brazylia, Uganda                    2\n",
       "Tanzania                            2\n",
       "Papua Nowa Gwinea                   2\n",
       "Brazylia, Kolumbia                  2\n",
       "Mjanma                              2\n",
       "Demokratyczna Republika Konga       1\n",
       "Rwanda, inne                        1\n",
       "Brazylia, Burundi, Peru             1\n",
       "Salwador, Nikaragua                 1\n",
       "Sumatra                             1\n",
       "Peru, Etiopia                       1\n",
       "Brazylia, Kenia                     1\n",
       "Papua Nowa Gwinea, Rwanda           1\n",
       "Brazylia, Gwatemala, Kostaryka      1\n",
       "Malawi                              1\n",
       "Laos                                1\n",
       "Brazylia, Kostaryka, Nikaragua      1\n",
       "Kenia, Indie                        1\n",
       "Brazylia, Peru                      1\n",
       "Brazylia, Peru, Wietnam             1\n",
       "Brazylia, Tanzania                  1\n",
       "Honduras, Kolumbia, Peru            1\n",
       "dtype: int64"
      ]
     },
     "metadata": {},
     "execution_count": 126
    }
   ],
   "source": [
    "coffee_df[['origin']].value_counts()"
   ]
  },
  {
   "cell_type": "code",
   "execution_count": 127,
   "metadata": {},
   "outputs": [
    {
     "output_type": "execute_result",
     "data": {
      "text/plain": [
       "price(GBP)          0.000000\n",
       "weight              0.230947\n",
       "process            34.526559\n",
       "destination         1.270208\n",
       "roast               0.923788\n",
       "blend               1.154734\n",
       "arabica_robusta     2.424942\n",
       "origin             24.018476\n",
       "weight(g)           0.000000\n",
       "price_per_kg        0.000000\n",
       "dtype: float64"
      ]
     },
     "metadata": {},
     "execution_count": 127
    }
   ],
   "source": [
    "coffee_df.isnull().mean() * 100 #checking how many null values per column"
   ]
  },
  {
   "cell_type": "code",
   "execution_count": 128,
   "metadata": {},
   "outputs": [
    {
     "output_type": "execute_result",
     "data": {
      "text/plain": [
       "     price(GBP)   weight              process                 destination  \\\n",
       "idx                                                                         \n",
       "1         18.80  6 x 60g                  NaN  Drip (Metody alternatywne)   \n",
       "2          7.98    250 g              Natural  Drip (Metody alternatywne)   \n",
       "3          9.80    250 g              Natural  Drip (Metody alternatywne)   \n",
       "4          9.80    250 g               Washed  Drip (Metody alternatywne)   \n",
       "5          8.80    250 g              Natural  Drip (Metody alternatywne)   \n",
       "6          5.19    250 g              Natural  Drip (Metody alternatywne)   \n",
       "7          9.00    200 g               Washed  Drip (Metody alternatywne)   \n",
       "8         35.00    125 g  Carbonic Maceration  Drip (Metody alternatywne)   \n",
       "9          1.10     11 g                  NaN  Drip (Metody alternatywne)   \n",
       "10        11.40    250 g               Washed  Drip (Metody alternatywne)   \n",
       "11        15.80    252 g                Honey  Drip (Metody alternatywne)   \n",
       "12        13.20    252 g                Honey  Drip (Metody alternatywne)   \n",
       "13        12.80  8 x 11g              Natural  Drip (Metody alternatywne)   \n",
       "14        15.00    250 g              Natural  Drip (Metody alternatywne)   \n",
       "15        12.60    250 g               Washed  Drip (Metody alternatywne)   \n",
       "16        12.80  8 x 11g              Natural  Drip (Metody alternatywne)   \n",
       "17        12.80  8 x 11g               Washed  Drip (Metody alternatywne)   \n",
       "18        10.40    200 g              Natural  Drip (Metody alternatywne)   \n",
       "19        17.80    200 g               Washed  Drip (Metody alternatywne)   \n",
       "20        22.00    250 g               Washed  Drip (Metody alternatywne)   \n",
       "\n",
       "      roast   blend arabica_robusta     origin  weight(g)  price_per_kg  \n",
       "idx                                                                      \n",
       "1     light   beans    100% Arabica        NaN        360         52.22  \n",
       "2    medium   beans    100% Arabica   Brazylia        250         31.92  \n",
       "3     light   beans    100% Arabica    Etiopia        250         39.20  \n",
       "4     light   beans    100% Arabica    Etiopia        250         39.20  \n",
       "5      dark   beans    100% Arabica  Indonezja        250         35.20  \n",
       "6    medium   beans    100% Arabica   Brazylia        250         20.76  \n",
       "7     light   beans    100% Arabica      Kenia        200         45.00  \n",
       "8     light   beans    100% Arabica     Panama        125        280.00  \n",
       "9     light  ground    100% Arabica   Kolumbia         11        100.00  \n",
       "10    light   beans    100% Arabica   Salwador        250         45.60  \n",
       "11    light   beans    100% Arabica    Boliwia        252         62.70  \n",
       "12    light   beans    100% Arabica   Honduras        252         52.38  \n",
       "13   medium  ground    100% Arabica   Brazylia         88        145.45  \n",
       "14    light   beans    100% Arabica    Burundi        250         60.00  \n",
       "15    light   beans    100% Arabica    Burundi        250         50.40  \n",
       "16    light  ground    100% Arabica    Etiopia         88        145.45  \n",
       "17    light  ground    100% Arabica  Gwatemala         88        145.45  \n",
       "18    light   beans    100% Arabica   Honduras        200         52.00  \n",
       "19    light   beans    100% Arabica   Kolumbia        200         89.00  \n",
       "20    light   beans    100% Arabica   Kolumbia        250         88.00  "
      ],
      "text/html": "<div>\n<style scoped>\n    .dataframe tbody tr th:only-of-type {\n        vertical-align: middle;\n    }\n\n    .dataframe tbody tr th {\n        vertical-align: top;\n    }\n\n    .dataframe thead th {\n        text-align: right;\n    }\n</style>\n<table border=\"1\" class=\"dataframe\">\n  <thead>\n    <tr style=\"text-align: right;\">\n      <th></th>\n      <th>price(GBP)</th>\n      <th>weight</th>\n      <th>process</th>\n      <th>destination</th>\n      <th>roast</th>\n      <th>blend</th>\n      <th>arabica_robusta</th>\n      <th>origin</th>\n      <th>weight(g)</th>\n      <th>price_per_kg</th>\n    </tr>\n    <tr>\n      <th>idx</th>\n      <th></th>\n      <th></th>\n      <th></th>\n      <th></th>\n      <th></th>\n      <th></th>\n      <th></th>\n      <th></th>\n      <th></th>\n      <th></th>\n    </tr>\n  </thead>\n  <tbody>\n    <tr>\n      <th>1</th>\n      <td>18.80</td>\n      <td>6 x 60g</td>\n      <td>NaN</td>\n      <td>Drip (Metody alternatywne)</td>\n      <td>light</td>\n      <td>beans</td>\n      <td>100% Arabica</td>\n      <td>NaN</td>\n      <td>360</td>\n      <td>52.22</td>\n    </tr>\n    <tr>\n      <th>2</th>\n      <td>7.98</td>\n      <td>250 g</td>\n      <td>Natural</td>\n      <td>Drip (Metody alternatywne)</td>\n      <td>medium</td>\n      <td>beans</td>\n      <td>100% Arabica</td>\n      <td>Brazylia</td>\n      <td>250</td>\n      <td>31.92</td>\n    </tr>\n    <tr>\n      <th>3</th>\n      <td>9.80</td>\n      <td>250 g</td>\n      <td>Natural</td>\n      <td>Drip (Metody alternatywne)</td>\n      <td>light</td>\n      <td>beans</td>\n      <td>100% Arabica</td>\n      <td>Etiopia</td>\n      <td>250</td>\n      <td>39.20</td>\n    </tr>\n    <tr>\n      <th>4</th>\n      <td>9.80</td>\n      <td>250 g</td>\n      <td>Washed</td>\n      <td>Drip (Metody alternatywne)</td>\n      <td>light</td>\n      <td>beans</td>\n      <td>100% Arabica</td>\n      <td>Etiopia</td>\n      <td>250</td>\n      <td>39.20</td>\n    </tr>\n    <tr>\n      <th>5</th>\n      <td>8.80</td>\n      <td>250 g</td>\n      <td>Natural</td>\n      <td>Drip (Metody alternatywne)</td>\n      <td>dark</td>\n      <td>beans</td>\n      <td>100% Arabica</td>\n      <td>Indonezja</td>\n      <td>250</td>\n      <td>35.20</td>\n    </tr>\n    <tr>\n      <th>6</th>\n      <td>5.19</td>\n      <td>250 g</td>\n      <td>Natural</td>\n      <td>Drip (Metody alternatywne)</td>\n      <td>medium</td>\n      <td>beans</td>\n      <td>100% Arabica</td>\n      <td>Brazylia</td>\n      <td>250</td>\n      <td>20.76</td>\n    </tr>\n    <tr>\n      <th>7</th>\n      <td>9.00</td>\n      <td>200 g</td>\n      <td>Washed</td>\n      <td>Drip (Metody alternatywne)</td>\n      <td>light</td>\n      <td>beans</td>\n      <td>100% Arabica</td>\n      <td>Kenia</td>\n      <td>200</td>\n      <td>45.00</td>\n    </tr>\n    <tr>\n      <th>8</th>\n      <td>35.00</td>\n      <td>125 g</td>\n      <td>Carbonic Maceration</td>\n      <td>Drip (Metody alternatywne)</td>\n      <td>light</td>\n      <td>beans</td>\n      <td>100% Arabica</td>\n      <td>Panama</td>\n      <td>125</td>\n      <td>280.00</td>\n    </tr>\n    <tr>\n      <th>9</th>\n      <td>1.10</td>\n      <td>11 g</td>\n      <td>NaN</td>\n      <td>Drip (Metody alternatywne)</td>\n      <td>light</td>\n      <td>ground</td>\n      <td>100% Arabica</td>\n      <td>Kolumbia</td>\n      <td>11</td>\n      <td>100.00</td>\n    </tr>\n    <tr>\n      <th>10</th>\n      <td>11.40</td>\n      <td>250 g</td>\n      <td>Washed</td>\n      <td>Drip (Metody alternatywne)</td>\n      <td>light</td>\n      <td>beans</td>\n      <td>100% Arabica</td>\n      <td>Salwador</td>\n      <td>250</td>\n      <td>45.60</td>\n    </tr>\n    <tr>\n      <th>11</th>\n      <td>15.80</td>\n      <td>252 g</td>\n      <td>Honey</td>\n      <td>Drip (Metody alternatywne)</td>\n      <td>light</td>\n      <td>beans</td>\n      <td>100% Arabica</td>\n      <td>Boliwia</td>\n      <td>252</td>\n      <td>62.70</td>\n    </tr>\n    <tr>\n      <th>12</th>\n      <td>13.20</td>\n      <td>252 g</td>\n      <td>Honey</td>\n      <td>Drip (Metody alternatywne)</td>\n      <td>light</td>\n      <td>beans</td>\n      <td>100% Arabica</td>\n      <td>Honduras</td>\n      <td>252</td>\n      <td>52.38</td>\n    </tr>\n    <tr>\n      <th>13</th>\n      <td>12.80</td>\n      <td>8 x 11g</td>\n      <td>Natural</td>\n      <td>Drip (Metody alternatywne)</td>\n      <td>medium</td>\n      <td>ground</td>\n      <td>100% Arabica</td>\n      <td>Brazylia</td>\n      <td>88</td>\n      <td>145.45</td>\n    </tr>\n    <tr>\n      <th>14</th>\n      <td>15.00</td>\n      <td>250 g</td>\n      <td>Natural</td>\n      <td>Drip (Metody alternatywne)</td>\n      <td>light</td>\n      <td>beans</td>\n      <td>100% Arabica</td>\n      <td>Burundi</td>\n      <td>250</td>\n      <td>60.00</td>\n    </tr>\n    <tr>\n      <th>15</th>\n      <td>12.60</td>\n      <td>250 g</td>\n      <td>Washed</td>\n      <td>Drip (Metody alternatywne)</td>\n      <td>light</td>\n      <td>beans</td>\n      <td>100% Arabica</td>\n      <td>Burundi</td>\n      <td>250</td>\n      <td>50.40</td>\n    </tr>\n    <tr>\n      <th>16</th>\n      <td>12.80</td>\n      <td>8 x 11g</td>\n      <td>Natural</td>\n      <td>Drip (Metody alternatywne)</td>\n      <td>light</td>\n      <td>ground</td>\n      <td>100% Arabica</td>\n      <td>Etiopia</td>\n      <td>88</td>\n      <td>145.45</td>\n    </tr>\n    <tr>\n      <th>17</th>\n      <td>12.80</td>\n      <td>8 x 11g</td>\n      <td>Washed</td>\n      <td>Drip (Metody alternatywne)</td>\n      <td>light</td>\n      <td>ground</td>\n      <td>100% Arabica</td>\n      <td>Gwatemala</td>\n      <td>88</td>\n      <td>145.45</td>\n    </tr>\n    <tr>\n      <th>18</th>\n      <td>10.40</td>\n      <td>200 g</td>\n      <td>Natural</td>\n      <td>Drip (Metody alternatywne)</td>\n      <td>light</td>\n      <td>beans</td>\n      <td>100% Arabica</td>\n      <td>Honduras</td>\n      <td>200</td>\n      <td>52.00</td>\n    </tr>\n    <tr>\n      <th>19</th>\n      <td>17.80</td>\n      <td>200 g</td>\n      <td>Washed</td>\n      <td>Drip (Metody alternatywne)</td>\n      <td>light</td>\n      <td>beans</td>\n      <td>100% Arabica</td>\n      <td>Kolumbia</td>\n      <td>200</td>\n      <td>89.00</td>\n    </tr>\n    <tr>\n      <th>20</th>\n      <td>22.00</td>\n      <td>250 g</td>\n      <td>Washed</td>\n      <td>Drip (Metody alternatywne)</td>\n      <td>light</td>\n      <td>beans</td>\n      <td>100% Arabica</td>\n      <td>Kolumbia</td>\n      <td>250</td>\n      <td>88.00</td>\n    </tr>\n  </tbody>\n</table>\n</div>"
     },
     "metadata": {},
     "execution_count": 128
    }
   ],
   "source": [
    "coffee_df_backup = coffee_df #creates backup df\n",
    "coffee_df_backup.head(20)"
   ]
  },
  {
   "cell_type": "code",
   "execution_count": 129,
   "metadata": {},
   "outputs": [
    {
     "output_type": "execute_result",
     "data": {
      "text/plain": [
       "price(GBP)         float64\n",
       "weight              object\n",
       "process             object\n",
       "destination         object\n",
       "roast               object\n",
       "blend               object\n",
       "arabica_robusta     object\n",
       "origin              object\n",
       "weight(g)            int64\n",
       "price_per_kg       float64\n",
       "dtype: object"
      ]
     },
     "metadata": {},
     "execution_count": 129
    }
   ],
   "source": [
    "coffee_df_backup.dtypes"
   ]
  },
  {
   "cell_type": "code",
   "execution_count": 85,
   "metadata": {},
   "outputs": [
    {
     "output_type": "execute_result",
     "data": {
      "text/plain": [
       "idx\n",
       "1            nan\n",
       "2       Brazylia\n",
       "3        Etiopia\n",
       "4        Etiopia\n",
       "5      Indonezja\n",
       "         ...    \n",
       "862    Gwatemala\n",
       "863       Panama\n",
       "864    Nikaragua\n",
       "865    Gwatemala\n",
       "866    Gwatemala\n",
       "Name: origin, Length: 866, dtype: object"
      ]
     },
     "metadata": {},
     "execution_count": 85
    }
   ],
   "source": [
    "# coffee_df_backup['origin'].astype(str)"
   ]
  },
  {
   "source": [
    "## Generalize some of the variables ##"
   ],
   "cell_type": "markdown",
   "metadata": {}
  },
  {
   "cell_type": "code",
   "execution_count": 130,
   "metadata": {},
   "outputs": [],
   "source": [
    "# coffee_df_backup['origin'].replace({'Honduras, Kolumbia, Peru' : 'Mixed origin', 'Brazylia, Tanzania' : 'Brazil and others', 'Brazylia, Peru, Wietnam' : 'Brazil and others',\n",
    "#                                      'Brazylia, Peru' : 'Brazil and others', 'Brazylia, Kostaryka, Nikaragua' : 'Brazil and others', 'Brazylia, Gwatemala, Kostaryka' : 'Brazil and others'}, inplace=True)\n",
    "\n",
    "coffee_df_backup['origin'].replace({'Honduras, Kolumbia, Peru' : 'Mixed origin', 'Brazylia, Tanzania' : 'Brazil and others', 'Brazylia, Peru, Wietnam' : 'Brazil and others',\n",
    "                                     'Brazylia, Peru' : 'Brazil and others', 'Brazylia, Kostaryka, Nikaragua' : 'Brazil and others', 'Brazylia, Gwatemala, Kostaryka' : 'Brazil and others',\n",
    "                                     'Brazylia, Indie':'Brazil and others', 'Brazylia, Gwatemala' : 'Brazil and others', 'Brazylia, Kolumbia' : 'Brazil and others', 'Brazylia, Honduras' : 'Brazil and others',\n",
    "                                     'Peru, Gwatemala' : 'Mixed origin', 'Peru, Etiopia' : 'Mixed origin', 'Papua Nowa Gwinea, Rwanda' : 'Mixed origin', 'Etiopia, Gwatemala' : 'Mixed origin', \n",
    "                                     'Brazylia, Uganda' : 'Brazil and others', 'Salwador, Indie' : 'Mixed origin', 'Rwanda, inne' : 'Mixed origin', 'Salwador, Nikaragua' : 'Mixed origin',\n",
    "                                     'Kenia, Indie' : 'Mixed origin', 'Brazylia, Kenia' : 'Brazil and others', 'Brazylia, Etiopia' : 'Brazil and others'}, inplace=True)\n",
    "\n"
   ]
  },
  {
   "cell_type": "code",
   "execution_count": 131,
   "metadata": {},
   "outputs": [
    {
     "output_type": "execute_result",
     "data": {
      "text/plain": [
       "Brazylia                         109\n",
       "Etiopia                           84\n",
       "Kolumbia                          81\n",
       "Gwatemala                         60\n",
       "Rwanda                            39\n",
       "Kenia                             31\n",
       "Brazil and others                 31\n",
       "Salwador                          29\n",
       "Peru                              28\n",
       "Honduras                          25\n",
       "Kostaryka                         20\n",
       "Mixed origin                      16\n",
       "Burundi                           14\n",
       "Indonezja                         10\n",
       "Nikaragua                         10\n",
       "Etiopia, Brazylia                  8\n",
       "Meksyk                             7\n",
       "Panama                             6\n",
       "Uganda                             6\n",
       "Italy                              6\n",
       "Boliwia                            5\n",
       "Indie                              4\n",
       "Etiopia, Brazylia, Kolumbia        4\n",
       "Brazylia, Gwatemala, Etiopia       4\n",
       "Etiopia, Kolumbia                  4\n",
       "Brazylia, inne                     3\n",
       "Chiny                              3\n",
       "Tanzania                           2\n",
       "Papua Nowa Gwinea                  2\n",
       "Mjanma                             2\n",
       "Sumatra                            1\n",
       "Brazylia, Burundi, Peru            1\n",
       "Demokratyczna Republika Konga      1\n",
       "Laos                               1\n",
       "Malawi                             1\n",
       "Name: origin, dtype: int64"
      ]
     },
     "metadata": {},
     "execution_count": 131
    }
   ],
   "source": [
    "coffee_df_backup['origin'].value_counts()"
   ]
  },
  {
   "cell_type": "code",
   "execution_count": 132,
   "metadata": {},
   "outputs": [
    {
     "output_type": "execute_result",
     "data": {
      "text/plain": [
       "Washed                             268\n",
       "Natural                            196\n",
       "Honey                               20\n",
       "Anaerobic                           15\n",
       "Pulped natural                      13\n",
       "Red Honey                            7\n",
       "Carbonic Maceration                  6\n",
       "Washed i natural                     4\n",
       "Macerated Natural                    4\n",
       "Yellow Honey                         4\n",
       "Black Honey                          4\n",
       "Anaerobic natural                    3\n",
       "Aerobic Fermentation in Piles        2\n",
       "Rum Aged                             2\n",
       "Yeast Process                        2\n",
       "Washed Anaerobic                     2\n",
       "Fermentacja kontrolowana             1\n",
       "Experimental                         1\n",
       "Semi-washed                          1\n",
       "Monsooning                           1\n",
       "Washed Double Anaerobic              1\n",
       "Closed Tank Fermentation             1\n",
       "Honey + Anaerobic                    1\n",
       "Semi-Carbonic Maceration             1\n",
       "CRYO                                 1\n",
       "Wet-hulling                          1\n",
       "Washed, Barrel Aged                  1\n",
       "Hybrid Natural                       1\n",
       "Semi-Washed Kombucha Experiment      1\n",
       "Experimental Anaerobic               1\n",
       "Yellow Bourbon                       1\n",
       "Name: process, dtype: int64"
      ]
     },
     "metadata": {},
     "execution_count": 132
    }
   ],
   "source": [
    "coffee_df_backup['process'].value_counts()"
   ]
  },
  {
   "cell_type": "code",
   "execution_count": 133,
   "metadata": {},
   "outputs": [
    {
     "output_type": "execute_result",
     "data": {
      "text/plain": [
       "Washed                 269\n",
       "Natural                196\n",
       "Anaerobic               23\n",
       "Honey                   20\n",
       "Pulped natural          13\n",
       "Carbonic Maceration      7\n",
       "Red Honey                7\n",
       "Hybrid                   5\n",
       "Fermentation             4\n",
       "Yellow Honey             4\n",
       "Black Honey              4\n",
       "Macerated Natural        4\n",
       "Experimental             3\n",
       "Aged                     3\n",
       "Advanced                 2\n",
       "Yeast Process            2\n",
       "Yellow Bourbon           1\n",
       "Name: process, dtype: int64"
      ]
     },
     "metadata": {},
     "execution_count": 133
    }
   ],
   "source": [
    "coffee_df_backup['process'].replace({'Anaerobic natural' : 'Anaerobic', 'Washed Anaerobic' : 'Anaerobic', 'Washed Double Anaerobic' : 'Anaerobic', 'Experimental Anaerobic' : 'Anaerobic',\n",
    "                                    'Semi-Washed Kombucha Experiment' : 'Experimental', 'Semi-Carbonic Maceration' : 'Carbonic Maceration', 'Closed Tank Fermentation' : 'Fermentation',\n",
    "                                    'Fermentacja kontrolowana' : 'Fermentation', 'Washed, Barrel Aged' : 'Aged', 'Rum Aged' : 'Aged', 'Aerobic Fermentation in Piles' : 'Fermentation',\n",
    "                                    'Honey + Anaerobic' : 'Anaerobic', 'CRYO' : 'Experimental', 'Semi-washed' : 'Washed', 'Wet-hulling' : 'Advanced', 'Monsooning' : 'Advanced', 'Hybrid Natural' : 'Hybrid',\n",
    "                                    'Washed i natural' : 'Hybrid'}, inplace=True)\n",
    "coffee_df_backup['process'].value_counts()"
   ]
  },
  {
   "source": [
    "## Change categorical variale to code ##"
   ],
   "cell_type": "markdown",
   "metadata": {}
  },
  {
   "cell_type": "code",
   "execution_count": 22,
   "metadata": {},
   "outputs": [],
   "source": [
    "# coffee_df['process_cat'] = coffee_df['process'].astype('category')\n",
    "# coffee_df['process_cat'] = coffee_df['process_cat'].cat.codes"
   ]
  },
  {
   "cell_type": "code",
   "execution_count": 24,
   "metadata": {},
   "outputs": [],
   "source": [
    "# coffee_df.drop(['process_cat'], axis=1) # dropping column"
   ]
  },
  {
   "source": [
    "## Imputing missing categorical variables ##"
   ],
   "cell_type": "markdown",
   "metadata": {}
  },
  {
   "cell_type": "code",
   "execution_count": 134,
   "metadata": {},
   "outputs": [],
   "source": [
    "import sklearn\n",
    "from sklearn.impute import KNNImputer\n",
    "from sklearn.preprocessing import OrdinalEncoder"
   ]
  },
  {
   "cell_type": "code",
   "execution_count": 136,
   "metadata": {},
   "outputs": [],
   "source": [
    "# initialize KNN imputer\n",
    "knn_imputer = KNNImputer(n_neighbors=5, weights='distance')"
   ]
  },
  {
   "cell_type": "code",
   "execution_count": 137,
   "metadata": {},
   "outputs": [],
   "source": [
    "# change categorical variables to codes\n",
    "columns_for_imput = ['process', 'destination', 'roast', 'blend', 'arabica_robusta', 'origin']"
   ]
  },
  {
   "cell_type": "code",
   "execution_count": 138,
   "metadata": {},
   "outputs": [
    {
     "output_type": "stream",
     "name": "stdout",
     "text": [
      "Column, Category dict: {0: 'Advanced', 1: 'Aged', 2: 'Anaerobic', 3: 'Black Honey', 4: 'Carbonic Maceration', 5: 'Experimental', 6: 'Fermentation', 7: 'Honey', 8: 'Hybrid', 9: 'Macerated Natural', 10: 'Natural', 11: 'Pulped natural', 12: 'Red Honey', 13: 'Washed', 14: 'Yeast Process', 15: 'Yellow Bourbon', 16: 'Yellow Honey'}\n",
      "Inverted Column, Category dict: {'Advanced': 0, 'Aged': 1, 'Anaerobic': 2, 'Black Honey': 3, 'Carbonic Maceration': 4, 'Experimental': 5, 'Fermentation': 6, 'Honey': 7, 'Hybrid': 8, 'Macerated Natural': 9, 'Natural': 10, 'Pulped natural': 11, 'Red Honey': 12, 'Washed': 13, 'Yeast Process': 14, 'Yellow Bourbon': 15, 'Yellow Honey': 16}\n",
      "Column, Category dict: {0: 'Drip (Metody alternatywne)', 1: 'drip, espresso', 2: 'espresso'}\n",
      "Inverted Column, Category dict: {'Drip (Metody alternatywne)': 0, 'drip, espresso': 1, 'espresso': 2}\n",
      "Column, Category dict: {0: 'dark', 1: 'light', 2: 'medium'}\n",
      "Inverted Column, Category dict: {'dark': 0, 'light': 1, 'medium': 2}\n",
      "Column, Category dict: {0: 'beans', 1: 'capsules', 2: 'ground'}\n",
      "Inverted Column, Category dict: {'beans': 0, 'capsules': 1, 'ground': 2}\n",
      "Column, Category dict: {0: '100% Arabica', 1: '100% Robusta', 2: '30/70', 3: '35/65', 4: '40/60', 5: '50/50', 6: '55/45', 7: '60/40', 8: '65/35', 9: '70/30', 10: '75/25', 11: '78/22', 12: '80/20', 13: '84/16', 14: '85/15', 15: '90/10', 16: '92/8', 17: '95/5', 18: 'Oct-90'}\n",
      "Inverted Column, Category dict: {'100% Arabica': 0, '100% Robusta': 1, '30/70': 2, '35/65': 3, '40/60': 4, '50/50': 5, '55/45': 6, '60/40': 7, '65/35': 8, '70/30': 9, '75/25': 10, '78/22': 11, '80/20': 12, '84/16': 13, '85/15': 14, '90/10': 15, '92/8': 16, '95/5': 17, 'Oct-90': 18}\n",
      "Column, Category dict: {0: 'Boliwia', 1: 'Brazil and others', 2: 'Brazylia', 3: 'Brazylia, Burundi, Peru', 4: 'Brazylia, Gwatemala, Etiopia', 5: 'Brazylia, inne', 6: 'Burundi', 7: 'Chiny', 8: 'Demokratyczna Republika Konga', 9: 'Etiopia', 10: 'Etiopia, Brazylia', 11: 'Etiopia, Brazylia, Kolumbia', 12: 'Etiopia, Kolumbia', 13: 'Gwatemala', 14: 'Honduras', 15: 'Indie', 16: 'Indonezja', 17: 'Italy', 18: 'Kenia', 19: 'Kolumbia', 20: 'Kostaryka', 21: 'Laos', 22: 'Malawi', 23: 'Meksyk', 24: 'Mixed origin', 25: 'Mjanma', 26: 'Nikaragua', 27: 'Panama', 28: 'Papua Nowa Gwinea', 29: 'Peru', 30: 'Rwanda', 31: 'Salwador', 32: 'Sumatra', 33: 'Tanzania', 34: 'Uganda'}\n",
      "Inverted Column, Category dict: {'Boliwia': 0, 'Brazil and others': 1, 'Brazylia': 2, 'Brazylia, Burundi, Peru': 3, 'Brazylia, Gwatemala, Etiopia': 4, 'Brazylia, inne': 5, 'Burundi': 6, 'Chiny': 7, 'Demokratyczna Republika Konga': 8, 'Etiopia': 9, 'Etiopia, Brazylia': 10, 'Etiopia, Brazylia, Kolumbia': 11, 'Etiopia, Kolumbia': 12, 'Gwatemala': 13, 'Honduras': 14, 'Indie': 15, 'Indonezja': 16, 'Italy': 17, 'Kenia': 18, 'Kolumbia': 19, 'Kostaryka': 20, 'Laos': 21, 'Malawi': 22, 'Meksyk': 23, 'Mixed origin': 24, 'Mjanma': 25, 'Nikaragua': 26, 'Panama': 27, 'Papua Nowa Gwinea': 28, 'Peru': 29, 'Rwanda': 30, 'Salwador': 31, 'Sumatra': 32, 'Tanzania': 33, 'Uganda': 34}\n",
      "\n",
      "Category dict ENCODE: {'process': {'Advanced': 0, 'Aged': 1, 'Anaerobic': 2, 'Black Honey': 3, 'Carbonic Maceration': 4, 'Experimental': 5, 'Fermentation': 6, 'Honey': 7, 'Hybrid': 8, 'Macerated Natural': 9, 'Natural': 10, 'Pulped natural': 11, 'Red Honey': 12, 'Washed': 13, 'Yeast Process': 14, 'Yellow Bourbon': 15, 'Yellow Honey': 16}, 'destination': {'Drip (Metody alternatywne)': 0, 'drip, espresso': 1, 'espresso': 2}, 'roast': {'dark': 0, 'light': 1, 'medium': 2}, 'blend': {'beans': 0, 'capsules': 1, 'ground': 2}, 'arabica_robusta': {'100% Arabica': 0, '100% Robusta': 1, '30/70': 2, '35/65': 3, '40/60': 4, '50/50': 5, '55/45': 6, '60/40': 7, '65/35': 8, '70/30': 9, '75/25': 10, '78/22': 11, '80/20': 12, '84/16': 13, '85/15': 14, '90/10': 15, '92/8': 16, '95/5': 17, 'Oct-90': 18}, 'origin': {'Boliwia': 0, 'Brazil and others': 1, 'Brazylia': 2, 'Brazylia, Burundi, Peru': 3, 'Brazylia, Gwatemala, Etiopia': 4, 'Brazylia, inne': 5, 'Burundi': 6, 'Chiny': 7, 'Demokratyczna Republika Konga': 8, 'Etiopia': 9, 'Etiopia, Brazylia': 10, 'Etiopia, Brazylia, Kolumbia': 11, 'Etiopia, Kolumbia': 12, 'Gwatemala': 13, 'Honduras': 14, 'Indie': 15, 'Indonezja': 16, 'Italy': 17, 'Kenia': 18, 'Kolumbia': 19, 'Kostaryka': 20, 'Laos': 21, 'Malawi': 22, 'Meksyk': 23, 'Mixed origin': 24, 'Mjanma': 25, 'Nikaragua': 26, 'Panama': 27, 'Papua Nowa Gwinea': 28, 'Peru': 29, 'Rwanda': 30, 'Salwador': 31, 'Sumatra': 32, 'Tanzania': 33, 'Uganda': 34}}\n",
      "Category dict DECODE: {'process': {0: 'Advanced', 1: 'Aged', 2: 'Anaerobic', 3: 'Black Honey', 4: 'Carbonic Maceration', 5: 'Experimental', 6: 'Fermentation', 7: 'Honey', 8: 'Hybrid', 9: 'Macerated Natural', 10: 'Natural', 11: 'Pulped natural', 12: 'Red Honey', 13: 'Washed', 14: 'Yeast Process', 15: 'Yellow Bourbon', 16: 'Yellow Honey'}, 'destination': {0: 'Drip (Metody alternatywne)', 1: 'drip, espresso', 2: 'espresso'}, 'roast': {0: 'dark', 1: 'light', 2: 'medium'}, 'blend': {0: 'beans', 1: 'capsules', 2: 'ground'}, 'arabica_robusta': {0: '100% Arabica', 1: '100% Robusta', 2: '30/70', 3: '35/65', 4: '40/60', 5: '50/50', 6: '55/45', 7: '60/40', 8: '65/35', 9: '70/30', 10: '75/25', 11: '78/22', 12: '80/20', 13: '84/16', 14: '85/15', 15: '90/10', 16: '92/8', 17: '95/5', 18: 'Oct-90'}, 'origin': {0: 'Boliwia', 1: 'Brazil and others', 2: 'Brazylia', 3: 'Brazylia, Burundi, Peru', 4: 'Brazylia, Gwatemala, Etiopia', 5: 'Brazylia, inne', 6: 'Burundi', 7: 'Chiny', 8: 'Demokratyczna Republika Konga', 9: 'Etiopia', 10: 'Etiopia, Brazylia', 11: 'Etiopia, Brazylia, Kolumbia', 12: 'Etiopia, Kolumbia', 13: 'Gwatemala', 14: 'Honduras', 15: 'Indie', 16: 'Indonezja', 17: 'Italy', 18: 'Kenia', 19: 'Kolumbia', 20: 'Kostaryka', 21: 'Laos', 22: 'Malawi', 23: 'Meksyk', 24: 'Mixed origin', 25: 'Mjanma', 26: 'Nikaragua', 27: 'Panama', 28: 'Papua Nowa Gwinea', 29: 'Peru', 30: 'Rwanda', 31: 'Salwador', 32: 'Sumatra', 33: 'Tanzania', 34: 'Uganda'}}\n",
      "<ipython-input-138-f2cfc83d7941>:9: SettingWithCopyWarning: \n",
      "A value is trying to be set on a copy of a slice from a DataFrame.\n",
      "Try using .loc[row_indexer,col_indexer] = value instead\n",
      "\n",
      "See the caveats in the documentation: https://pandas.pydata.org/pandas-docs/stable/user_guide/indexing.html#returning-a-view-versus-a-copy\n",
      "  coffee_df_imput[col] = coffee_df_imput[col].astype(\"category\")\n",
      "C:\\Users\\Lucyna\\miniconda3\\lib\\site-packages\\pandas\\core\\indexing.py:1676: SettingWithCopyWarning: \n",
      "A value is trying to be set on a copy of a slice from a DataFrame.\n",
      "Try using .loc[row_indexer,col_indexer] = value instead\n",
      "\n",
      "See the caveats in the documentation: https://pandas.pydata.org/pandas-docs/stable/user_guide/indexing.html#returning-a-view-versus-a-copy\n",
      "  self._setitem_single_column(ilocs[0], value, pi)\n"
     ]
    },
    {
     "output_type": "execute_result",
     "data": {
      "text/plain": [
       "     process  destination  roast  blend  arabica_robusta  origin\n",
       "idx                                                             \n",
       "1        NaN          0.0    1.0    0.0              0.0     NaN\n",
       "2       10.0          0.0    2.0    0.0              0.0     2.0\n",
       "3       10.0          0.0    1.0    0.0              0.0     9.0\n",
       "4       13.0          0.0    1.0    0.0              0.0     9.0\n",
       "5       10.0          0.0    0.0    0.0              0.0    16.0\n",
       "..       ...          ...    ...    ...              ...     ...\n",
       "862      NaN          NaN    NaN    NaN              NaN    13.0\n",
       "863     10.0          NaN    NaN    0.0              NaN    27.0\n",
       "864      NaN          NaN    NaN    NaN              NaN    26.0\n",
       "865     13.0          NaN    1.0    0.0              0.0    13.0\n",
       "866     13.0          NaN    1.0    0.0              0.0    13.0\n",
       "\n",
       "[866 rows x 6 columns]"
      ],
      "text/html": "<div>\n<style scoped>\n    .dataframe tbody tr th:only-of-type {\n        vertical-align: middle;\n    }\n\n    .dataframe tbody tr th {\n        vertical-align: top;\n    }\n\n    .dataframe thead th {\n        text-align: right;\n    }\n</style>\n<table border=\"1\" class=\"dataframe\">\n  <thead>\n    <tr style=\"text-align: right;\">\n      <th></th>\n      <th>process</th>\n      <th>destination</th>\n      <th>roast</th>\n      <th>blend</th>\n      <th>arabica_robusta</th>\n      <th>origin</th>\n    </tr>\n    <tr>\n      <th>idx</th>\n      <th></th>\n      <th></th>\n      <th></th>\n      <th></th>\n      <th></th>\n      <th></th>\n    </tr>\n  </thead>\n  <tbody>\n    <tr>\n      <th>1</th>\n      <td>NaN</td>\n      <td>0.0</td>\n      <td>1.0</td>\n      <td>0.0</td>\n      <td>0.0</td>\n      <td>NaN</td>\n    </tr>\n    <tr>\n      <th>2</th>\n      <td>10.0</td>\n      <td>0.0</td>\n      <td>2.0</td>\n      <td>0.0</td>\n      <td>0.0</td>\n      <td>2.0</td>\n    </tr>\n    <tr>\n      <th>3</th>\n      <td>10.0</td>\n      <td>0.0</td>\n      <td>1.0</td>\n      <td>0.0</td>\n      <td>0.0</td>\n      <td>9.0</td>\n    </tr>\n    <tr>\n      <th>4</th>\n      <td>13.0</td>\n      <td>0.0</td>\n      <td>1.0</td>\n      <td>0.0</td>\n      <td>0.0</td>\n      <td>9.0</td>\n    </tr>\n    <tr>\n      <th>5</th>\n      <td>10.0</td>\n      <td>0.0</td>\n      <td>0.0</td>\n      <td>0.0</td>\n      <td>0.0</td>\n      <td>16.0</td>\n    </tr>\n    <tr>\n      <th>...</th>\n      <td>...</td>\n      <td>...</td>\n      <td>...</td>\n      <td>...</td>\n      <td>...</td>\n      <td>...</td>\n    </tr>\n    <tr>\n      <th>862</th>\n      <td>NaN</td>\n      <td>NaN</td>\n      <td>NaN</td>\n      <td>NaN</td>\n      <td>NaN</td>\n      <td>13.0</td>\n    </tr>\n    <tr>\n      <th>863</th>\n      <td>10.0</td>\n      <td>NaN</td>\n      <td>NaN</td>\n      <td>0.0</td>\n      <td>NaN</td>\n      <td>27.0</td>\n    </tr>\n    <tr>\n      <th>864</th>\n      <td>NaN</td>\n      <td>NaN</td>\n      <td>NaN</td>\n      <td>NaN</td>\n      <td>NaN</td>\n      <td>26.0</td>\n    </tr>\n    <tr>\n      <th>865</th>\n      <td>13.0</td>\n      <td>NaN</td>\n      <td>1.0</td>\n      <td>0.0</td>\n      <td>0.0</td>\n      <td>13.0</td>\n    </tr>\n    <tr>\n      <th>866</th>\n      <td>13.0</td>\n      <td>NaN</td>\n      <td>1.0</td>\n      <td>0.0</td>\n      <td>0.0</td>\n      <td>13.0</td>\n    </tr>\n  </tbody>\n</table>\n<p>866 rows × 6 columns</p>\n</div>"
     },
     "metadata": {},
     "execution_count": 138
    }
   ],
   "source": [
    "coffee_df_imput = coffee_df_backup[columns_for_imput]\n",
    "\n",
    "# collections to encode and decode categorical data:\n",
    "category_dict_encode = {}\n",
    "category_dict_decode = {}\n",
    "\n",
    "# encoding categorical data:\n",
    "for col in columns_for_imput:\n",
    "    coffee_df_imput[col] = coffee_df_imput[col].astype(\"category\")\n",
    "    categories = coffee_df_imput[col].cat.categories\n",
    "\n",
    "    col_cat_dict = dict(enumerate(categories))\n",
    "    print(\"Column, Category dict:\", col_cat_dict)\n",
    "    category_dict_decode[col] = col_cat_dict\n",
    "\n",
    "    col_cat_dict = {v:k for k,v in col_cat_dict.items()}\n",
    "    print(\"Inverted Column, Category dict:\", col_cat_dict)\n",
    "    category_dict_encode[col] = col_cat_dict\n",
    "\n",
    "\n",
    "print()\n",
    "print(\"Category dict ENCODE:\", category_dict_encode)\n",
    "print(\"Category dict DECODE:\", category_dict_decode)\n",
    "coffee_df_imput.replace(category_dict_encode, inplace=True)\n",
    "coffee_df_imput"
   ]
  },
  {
   "cell_type": "code",
   "execution_count": 139,
   "metadata": {},
   "outputs": [
    {
     "output_type": "execute_result",
     "data": {
      "text/plain": [
       "     process  destination  roast  blend  arabica_robusta  origin\n",
       "idx                                                             \n",
       "1        NaN          0.0    1.0    0.0              0.0     NaN\n",
       "2       10.0          0.0    2.0    0.0              0.0     2.0\n",
       "3       10.0          0.0    1.0    0.0              0.0     9.0\n",
       "4       13.0          0.0    1.0    0.0              0.0     9.0\n",
       "5       10.0          0.0    0.0    0.0              0.0    16.0\n",
       "6       10.0          0.0    2.0    0.0              0.0     2.0\n",
       "7       13.0          0.0    1.0    0.0              0.0    18.0\n",
       "8        4.0          0.0    1.0    0.0              0.0    27.0\n",
       "9        NaN          0.0    1.0    2.0              0.0    19.0\n",
       "10      13.0          0.0    1.0    0.0              0.0    31.0\n",
       "11       7.0          0.0    1.0    0.0              0.0     0.0\n",
       "12       7.0          0.0    1.0    0.0              0.0    14.0\n",
       "13      10.0          0.0    2.0    2.0              0.0     2.0\n",
       "14      10.0          0.0    1.0    0.0              0.0     6.0\n",
       "15      13.0          0.0    1.0    0.0              0.0     6.0\n",
       "16      10.0          0.0    1.0    2.0              0.0     9.0\n",
       "17      13.0          0.0    1.0    2.0              0.0    13.0\n",
       "18      10.0          0.0    1.0    0.0              0.0    14.0\n",
       "19      13.0          0.0    1.0    0.0              0.0    19.0\n",
       "20      13.0          0.0    1.0    0.0              0.0    19.0\n",
       "21      13.0          0.0    2.0    0.0              0.0     9.0\n",
       "22      10.0          0.0    1.0    0.0              0.0     NaN\n",
       "23       NaN          0.0    1.0    0.0              0.0     NaN\n",
       "24      13.0          0.0    1.0    0.0              0.0    19.0\n",
       "25      10.0          0.0    1.0    0.0              0.0    19.0\n",
       "26      13.0          0.0    1.0    0.0              0.0     5.0\n",
       "27      13.0          0.0    1.0    0.0              0.0     9.0\n",
       "28       2.0          0.0    1.0    0.0              0.0    14.0\n",
       "29      12.0          0.0    1.0    0.0              0.0    15.0\n",
       "30      13.0          0.0    1.0    0.0              0.0    29.0\n",
       "31      13.0          0.0    1.0    0.0              0.0    30.0\n",
       "32      13.0          0.0    1.0    0.0              0.0    30.0\n",
       "33      10.0          0.0    1.0    0.0              0.0     9.0\n",
       "34      13.0          0.0    1.0    0.0              0.0    13.0\n",
       "35       2.0          0.0    1.0    0.0              0.0    14.0\n",
       "36      13.0          0.0    1.0    0.0              0.0    19.0\n",
       "37       4.0          0.0    1.0    0.0              0.0    13.0\n",
       "38       4.0          0.0    1.0    0.0              0.0    13.0\n",
       "39       NaN          0.0    1.0    0.0              0.0     NaN\n",
       "40      13.0          0.0    1.0    0.0              0.0    30.0\n",
       "41       NaN          0.0    1.0    2.0              0.0     2.0\n",
       "42       NaN          0.0    1.0    2.0              0.0     2.0\n",
       "43      13.0          0.0    1.0    2.0              0.0     9.0\n",
       "44      13.0          0.0    1.0    2.0              0.0     9.0\n",
       "45       NaN          0.0    1.0    2.0              0.0    14.0\n",
       "46       NaN          0.0    1.0    2.0              0.0    14.0\n",
       "47      13.0          0.0    1.0    2.0              0.0    18.0\n",
       "48      13.0          0.0    1.0    2.0              0.0    18.0\n",
       "49       NaN          0.0    1.0    2.0              0.0    19.0\n",
       "50       NaN          0.0    1.0    2.0              0.0     NaN"
      ],
      "text/html": "<div>\n<style scoped>\n    .dataframe tbody tr th:only-of-type {\n        vertical-align: middle;\n    }\n\n    .dataframe tbody tr th {\n        vertical-align: top;\n    }\n\n    .dataframe thead th {\n        text-align: right;\n    }\n</style>\n<table border=\"1\" class=\"dataframe\">\n  <thead>\n    <tr style=\"text-align: right;\">\n      <th></th>\n      <th>process</th>\n      <th>destination</th>\n      <th>roast</th>\n      <th>blend</th>\n      <th>arabica_robusta</th>\n      <th>origin</th>\n    </tr>\n    <tr>\n      <th>idx</th>\n      <th></th>\n      <th></th>\n      <th></th>\n      <th></th>\n      <th></th>\n      <th></th>\n    </tr>\n  </thead>\n  <tbody>\n    <tr>\n      <th>1</th>\n      <td>NaN</td>\n      <td>0.0</td>\n      <td>1.0</td>\n      <td>0.0</td>\n      <td>0.0</td>\n      <td>NaN</td>\n    </tr>\n    <tr>\n      <th>2</th>\n      <td>10.0</td>\n      <td>0.0</td>\n      <td>2.0</td>\n      <td>0.0</td>\n      <td>0.0</td>\n      <td>2.0</td>\n    </tr>\n    <tr>\n      <th>3</th>\n      <td>10.0</td>\n      <td>0.0</td>\n      <td>1.0</td>\n      <td>0.0</td>\n      <td>0.0</td>\n      <td>9.0</td>\n    </tr>\n    <tr>\n      <th>4</th>\n      <td>13.0</td>\n      <td>0.0</td>\n      <td>1.0</td>\n      <td>0.0</td>\n      <td>0.0</td>\n      <td>9.0</td>\n    </tr>\n    <tr>\n      <th>5</th>\n      <td>10.0</td>\n      <td>0.0</td>\n      <td>0.0</td>\n      <td>0.0</td>\n      <td>0.0</td>\n      <td>16.0</td>\n    </tr>\n    <tr>\n      <th>6</th>\n      <td>10.0</td>\n      <td>0.0</td>\n      <td>2.0</td>\n      <td>0.0</td>\n      <td>0.0</td>\n      <td>2.0</td>\n    </tr>\n    <tr>\n      <th>7</th>\n      <td>13.0</td>\n      <td>0.0</td>\n      <td>1.0</td>\n      <td>0.0</td>\n      <td>0.0</td>\n      <td>18.0</td>\n    </tr>\n    <tr>\n      <th>8</th>\n      <td>4.0</td>\n      <td>0.0</td>\n      <td>1.0</td>\n      <td>0.0</td>\n      <td>0.0</td>\n      <td>27.0</td>\n    </tr>\n    <tr>\n      <th>9</th>\n      <td>NaN</td>\n      <td>0.0</td>\n      <td>1.0</td>\n      <td>2.0</td>\n      <td>0.0</td>\n      <td>19.0</td>\n    </tr>\n    <tr>\n      <th>10</th>\n      <td>13.0</td>\n      <td>0.0</td>\n      <td>1.0</td>\n      <td>0.0</td>\n      <td>0.0</td>\n      <td>31.0</td>\n    </tr>\n    <tr>\n      <th>11</th>\n      <td>7.0</td>\n      <td>0.0</td>\n      <td>1.0</td>\n      <td>0.0</td>\n      <td>0.0</td>\n      <td>0.0</td>\n    </tr>\n    <tr>\n      <th>12</th>\n      <td>7.0</td>\n      <td>0.0</td>\n      <td>1.0</td>\n      <td>0.0</td>\n      <td>0.0</td>\n      <td>14.0</td>\n    </tr>\n    <tr>\n      <th>13</th>\n      <td>10.0</td>\n      <td>0.0</td>\n      <td>2.0</td>\n      <td>2.0</td>\n      <td>0.0</td>\n      <td>2.0</td>\n    </tr>\n    <tr>\n      <th>14</th>\n      <td>10.0</td>\n      <td>0.0</td>\n      <td>1.0</td>\n      <td>0.0</td>\n      <td>0.0</td>\n      <td>6.0</td>\n    </tr>\n    <tr>\n      <th>15</th>\n      <td>13.0</td>\n      <td>0.0</td>\n      <td>1.0</td>\n      <td>0.0</td>\n      <td>0.0</td>\n      <td>6.0</td>\n    </tr>\n    <tr>\n      <th>16</th>\n      <td>10.0</td>\n      <td>0.0</td>\n      <td>1.0</td>\n      <td>2.0</td>\n      <td>0.0</td>\n      <td>9.0</td>\n    </tr>\n    <tr>\n      <th>17</th>\n      <td>13.0</td>\n      <td>0.0</td>\n      <td>1.0</td>\n      <td>2.0</td>\n      <td>0.0</td>\n      <td>13.0</td>\n    </tr>\n    <tr>\n      <th>18</th>\n      <td>10.0</td>\n      <td>0.0</td>\n      <td>1.0</td>\n      <td>0.0</td>\n      <td>0.0</td>\n      <td>14.0</td>\n    </tr>\n    <tr>\n      <th>19</th>\n      <td>13.0</td>\n      <td>0.0</td>\n      <td>1.0</td>\n      <td>0.0</td>\n      <td>0.0</td>\n      <td>19.0</td>\n    </tr>\n    <tr>\n      <th>20</th>\n      <td>13.0</td>\n      <td>0.0</td>\n      <td>1.0</td>\n      <td>0.0</td>\n      <td>0.0</td>\n      <td>19.0</td>\n    </tr>\n    <tr>\n      <th>21</th>\n      <td>13.0</td>\n      <td>0.0</td>\n      <td>2.0</td>\n      <td>0.0</td>\n      <td>0.0</td>\n      <td>9.0</td>\n    </tr>\n    <tr>\n      <th>22</th>\n      <td>10.0</td>\n      <td>0.0</td>\n      <td>1.0</td>\n      <td>0.0</td>\n      <td>0.0</td>\n      <td>NaN</td>\n    </tr>\n    <tr>\n      <th>23</th>\n      <td>NaN</td>\n      <td>0.0</td>\n      <td>1.0</td>\n      <td>0.0</td>\n      <td>0.0</td>\n      <td>NaN</td>\n    </tr>\n    <tr>\n      <th>24</th>\n      <td>13.0</td>\n      <td>0.0</td>\n      <td>1.0</td>\n      <td>0.0</td>\n      <td>0.0</td>\n      <td>19.0</td>\n    </tr>\n    <tr>\n      <th>25</th>\n      <td>10.0</td>\n      <td>0.0</td>\n      <td>1.0</td>\n      <td>0.0</td>\n      <td>0.0</td>\n      <td>19.0</td>\n    </tr>\n    <tr>\n      <th>26</th>\n      <td>13.0</td>\n      <td>0.0</td>\n      <td>1.0</td>\n      <td>0.0</td>\n      <td>0.0</td>\n      <td>5.0</td>\n    </tr>\n    <tr>\n      <th>27</th>\n      <td>13.0</td>\n      <td>0.0</td>\n      <td>1.0</td>\n      <td>0.0</td>\n      <td>0.0</td>\n      <td>9.0</td>\n    </tr>\n    <tr>\n      <th>28</th>\n      <td>2.0</td>\n      <td>0.0</td>\n      <td>1.0</td>\n      <td>0.0</td>\n      <td>0.0</td>\n      <td>14.0</td>\n    </tr>\n    <tr>\n      <th>29</th>\n      <td>12.0</td>\n      <td>0.0</td>\n      <td>1.0</td>\n      <td>0.0</td>\n      <td>0.0</td>\n      <td>15.0</td>\n    </tr>\n    <tr>\n      <th>30</th>\n      <td>13.0</td>\n      <td>0.0</td>\n      <td>1.0</td>\n      <td>0.0</td>\n      <td>0.0</td>\n      <td>29.0</td>\n    </tr>\n    <tr>\n      <th>31</th>\n      <td>13.0</td>\n      <td>0.0</td>\n      <td>1.0</td>\n      <td>0.0</td>\n      <td>0.0</td>\n      <td>30.0</td>\n    </tr>\n    <tr>\n      <th>32</th>\n      <td>13.0</td>\n      <td>0.0</td>\n      <td>1.0</td>\n      <td>0.0</td>\n      <td>0.0</td>\n      <td>30.0</td>\n    </tr>\n    <tr>\n      <th>33</th>\n      <td>10.0</td>\n      <td>0.0</td>\n      <td>1.0</td>\n      <td>0.0</td>\n      <td>0.0</td>\n      <td>9.0</td>\n    </tr>\n    <tr>\n      <th>34</th>\n      <td>13.0</td>\n      <td>0.0</td>\n      <td>1.0</td>\n      <td>0.0</td>\n      <td>0.0</td>\n      <td>13.0</td>\n    </tr>\n    <tr>\n      <th>35</th>\n      <td>2.0</td>\n      <td>0.0</td>\n      <td>1.0</td>\n      <td>0.0</td>\n      <td>0.0</td>\n      <td>14.0</td>\n    </tr>\n    <tr>\n      <th>36</th>\n      <td>13.0</td>\n      <td>0.0</td>\n      <td>1.0</td>\n      <td>0.0</td>\n      <td>0.0</td>\n      <td>19.0</td>\n    </tr>\n    <tr>\n      <th>37</th>\n      <td>4.0</td>\n      <td>0.0</td>\n      <td>1.0</td>\n      <td>0.0</td>\n      <td>0.0</td>\n      <td>13.0</td>\n    </tr>\n    <tr>\n      <th>38</th>\n      <td>4.0</td>\n      <td>0.0</td>\n      <td>1.0</td>\n      <td>0.0</td>\n      <td>0.0</td>\n      <td>13.0</td>\n    </tr>\n    <tr>\n      <th>39</th>\n      <td>NaN</td>\n      <td>0.0</td>\n      <td>1.0</td>\n      <td>0.0</td>\n      <td>0.0</td>\n      <td>NaN</td>\n    </tr>\n    <tr>\n      <th>40</th>\n      <td>13.0</td>\n      <td>0.0</td>\n      <td>1.0</td>\n      <td>0.0</td>\n      <td>0.0</td>\n      <td>30.0</td>\n    </tr>\n    <tr>\n      <th>41</th>\n      <td>NaN</td>\n      <td>0.0</td>\n      <td>1.0</td>\n      <td>2.0</td>\n      <td>0.0</td>\n      <td>2.0</td>\n    </tr>\n    <tr>\n      <th>42</th>\n      <td>NaN</td>\n      <td>0.0</td>\n      <td>1.0</td>\n      <td>2.0</td>\n      <td>0.0</td>\n      <td>2.0</td>\n    </tr>\n    <tr>\n      <th>43</th>\n      <td>13.0</td>\n      <td>0.0</td>\n      <td>1.0</td>\n      <td>2.0</td>\n      <td>0.0</td>\n      <td>9.0</td>\n    </tr>\n    <tr>\n      <th>44</th>\n      <td>13.0</td>\n      <td>0.0</td>\n      <td>1.0</td>\n      <td>2.0</td>\n      <td>0.0</td>\n      <td>9.0</td>\n    </tr>\n    <tr>\n      <th>45</th>\n      <td>NaN</td>\n      <td>0.0</td>\n      <td>1.0</td>\n      <td>2.0</td>\n      <td>0.0</td>\n      <td>14.0</td>\n    </tr>\n    <tr>\n      <th>46</th>\n      <td>NaN</td>\n      <td>0.0</td>\n      <td>1.0</td>\n      <td>2.0</td>\n      <td>0.0</td>\n      <td>14.0</td>\n    </tr>\n    <tr>\n      <th>47</th>\n      <td>13.0</td>\n      <td>0.0</td>\n      <td>1.0</td>\n      <td>2.0</td>\n      <td>0.0</td>\n      <td>18.0</td>\n    </tr>\n    <tr>\n      <th>48</th>\n      <td>13.0</td>\n      <td>0.0</td>\n      <td>1.0</td>\n      <td>2.0</td>\n      <td>0.0</td>\n      <td>18.0</td>\n    </tr>\n    <tr>\n      <th>49</th>\n      <td>NaN</td>\n      <td>0.0</td>\n      <td>1.0</td>\n      <td>2.0</td>\n      <td>0.0</td>\n      <td>19.0</td>\n    </tr>\n    <tr>\n      <th>50</th>\n      <td>NaN</td>\n      <td>0.0</td>\n      <td>1.0</td>\n      <td>2.0</td>\n      <td>0.0</td>\n      <td>NaN</td>\n    </tr>\n  </tbody>\n</table>\n</div>"
     },
     "metadata": {},
     "execution_count": 139
    }
   ],
   "source": [
    "coffee_df_imput.head(50)"
   ]
  },
  {
   "cell_type": "code",
   "execution_count": 27,
   "metadata": {},
   "outputs": [
    {
     "output_type": "execute_result",
     "data": {
      "text/plain": [
       "    idx  price(GBP)    weight              process  \\\n",
       "0     1       18.80   6 x 60g                  NaN   \n",
       "1     2        7.98     250 g              Natural   \n",
       "2     3        9.80     250 g              Natural   \n",
       "3     4        9.80     250 g               Washed   \n",
       "4     5        8.80     250 g              Natural   \n",
       "5     6        5.19     250 g              Natural   \n",
       "6     7        9.00     200 g               Washed   \n",
       "7     8       35.00     125 g  Carbonic Maceration   \n",
       "8     9        1.10      11 g                  NaN   \n",
       "9    10       11.40     250 g               Washed   \n",
       "10   11       15.80     252 g                Honey   \n",
       "11   12       13.20     252 g                Honey   \n",
       "12   13       12.80   8 x 11g              Natural   \n",
       "13   14       15.00     250 g              Natural   \n",
       "14   15       12.60     250 g               Washed   \n",
       "15   16       12.80   8 x 11g              Natural   \n",
       "16   17       12.80   8 x 11g               Washed   \n",
       "17   18       10.40     200 g              Natural   \n",
       "18   19       17.80     200 g               Washed   \n",
       "19   20       22.00     250 g               Washed   \n",
       "20   21        8.40     250 g               Washed   \n",
       "21   22        9.40     250 g              Natural   \n",
       "22   23       21.00  5 x 100g                  NaN   \n",
       "23   24       12.20     250 g               Washed   \n",
       "24   25       12.60     250 g              Natural   \n",
       "25   26       23.80      1 kg               Washed   \n",
       "26   27       11.60     250 g               Washed   \n",
       "27   28       12.60     250 g     Washed Anaerobic   \n",
       "28   29       11.20     250 g            Red Honey   \n",
       "29   30       11.20     250 g               Washed   \n",
       "30   31       11.20     250 g               Washed   \n",
       "31   32       11.20     250 g               Washed   \n",
       "32   33       12.60     250 g              Natural   \n",
       "33   34       11.00     250 g               Washed   \n",
       "34   35       11.80     250 g            Anaerobic   \n",
       "35   36        9.80     250 g               Washed   \n",
       "36   37       12.00     125 g  Carbonic Maceration   \n",
       "37   38       12.80     125 g  Carbonic Maceration   \n",
       "38   39        6.60     250 g                  NaN   \n",
       "39   40        9.60     250 g               Washed   \n",
       "40   41        0.90      11 g                  NaN   \n",
       "41   42        6.30   8 x 11g                  NaN   \n",
       "42   43        1.00      11 g               Washed   \n",
       "43   44        7.00   8 x 11g               Washed   \n",
       "44   45        0.90      11 g                  NaN   \n",
       "45   46        6.30   8 x 11g                  NaN   \n",
       "46   47        1.10      11 g               Washed   \n",
       "47   48        7.70   8 x 11g               Washed   \n",
       "48   49        7.00   8 x 11g                  NaN   \n",
       "49   50        6.50   8 x 11g                  NaN   \n",
       "\n",
       "                   destination   roast   blend arabica_robusta  \\\n",
       "0   Drip (Metody alternatywne)   light   beans    100% Arabica   \n",
       "1   Drip (Metody alternatywne)  medium   beans    100% Arabica   \n",
       "2   Drip (Metody alternatywne)   light   beans    100% Arabica   \n",
       "3   Drip (Metody alternatywne)   light   beans    100% Arabica   \n",
       "4   Drip (Metody alternatywne)    dark   beans    100% Arabica   \n",
       "5   Drip (Metody alternatywne)  medium   beans    100% Arabica   \n",
       "6   Drip (Metody alternatywne)   light   beans    100% Arabica   \n",
       "7   Drip (Metody alternatywne)   light   beans    100% Arabica   \n",
       "8   Drip (Metody alternatywne)   light  ground    100% Arabica   \n",
       "9   Drip (Metody alternatywne)   light   beans    100% Arabica   \n",
       "10  Drip (Metody alternatywne)   light   beans    100% Arabica   \n",
       "11  Drip (Metody alternatywne)   light   beans    100% Arabica   \n",
       "12  Drip (Metody alternatywne)  medium  ground    100% Arabica   \n",
       "13  Drip (Metody alternatywne)   light   beans    100% Arabica   \n",
       "14  Drip (Metody alternatywne)   light   beans    100% Arabica   \n",
       "15  Drip (Metody alternatywne)   light  ground    100% Arabica   \n",
       "16  Drip (Metody alternatywne)   light  ground    100% Arabica   \n",
       "17  Drip (Metody alternatywne)   light   beans    100% Arabica   \n",
       "18  Drip (Metody alternatywne)   light   beans    100% Arabica   \n",
       "19  Drip (Metody alternatywne)   light   beans    100% Arabica   \n",
       "20  Drip (Metody alternatywne)  medium   beans    100% Arabica   \n",
       "21  Drip (Metody alternatywne)   light   beans    100% Arabica   \n",
       "22  Drip (Metody alternatywne)   light   beans    100% Arabica   \n",
       "23  Drip (Metody alternatywne)   light   beans    100% Arabica   \n",
       "24  Drip (Metody alternatywne)   light   beans    100% Arabica   \n",
       "25  Drip (Metody alternatywne)   light   beans    100% Arabica   \n",
       "26  Drip (Metody alternatywne)   light   beans    100% Arabica   \n",
       "27  Drip (Metody alternatywne)   light   beans    100% Arabica   \n",
       "28  Drip (Metody alternatywne)   light   beans    100% Arabica   \n",
       "29  Drip (Metody alternatywne)   light   beans    100% Arabica   \n",
       "30  Drip (Metody alternatywne)   light   beans    100% Arabica   \n",
       "31  Drip (Metody alternatywne)   light   beans    100% Arabica   \n",
       "32  Drip (Metody alternatywne)   light   beans    100% Arabica   \n",
       "33  Drip (Metody alternatywne)   light   beans    100% Arabica   \n",
       "34  Drip (Metody alternatywne)   light   beans    100% Arabica   \n",
       "35  Drip (Metody alternatywne)   light   beans    100% Arabica   \n",
       "36  Drip (Metody alternatywne)   light   beans    100% Arabica   \n",
       "37  Drip (Metody alternatywne)   light   beans    100% Arabica   \n",
       "38  Drip (Metody alternatywne)   light   beans    100% Arabica   \n",
       "39  Drip (Metody alternatywne)   light   beans    100% Arabica   \n",
       "40  Drip (Metody alternatywne)   light  ground    100% Arabica   \n",
       "41  Drip (Metody alternatywne)   light  ground    100% Arabica   \n",
       "42  Drip (Metody alternatywne)   light  ground    100% Arabica   \n",
       "43  Drip (Metody alternatywne)   light  ground    100% Arabica   \n",
       "44  Drip (Metody alternatywne)   light  ground    100% Arabica   \n",
       "45  Drip (Metody alternatywne)   light  ground    100% Arabica   \n",
       "46  Drip (Metody alternatywne)   light  ground    100% Arabica   \n",
       "47  Drip (Metody alternatywne)   light  ground    100% Arabica   \n",
       "48  Drip (Metody alternatywne)   light  ground    100% Arabica   \n",
       "49  Drip (Metody alternatywne)   light  ground    100% Arabica   \n",
       "\n",
       "            origin  weight(g)  price_per_kg  \n",
       "0             None        360         52.22  \n",
       "1         Brazylia        250         31.92  \n",
       "2          Etiopia        250         39.20  \n",
       "3          Etiopia        250         39.20  \n",
       "4        Indonezja        250         35.20  \n",
       "5         Brazylia        250         20.76  \n",
       "6            Kenia        200         45.00  \n",
       "7           Panama        125        280.00  \n",
       "8         Kolumbia         11        100.00  \n",
       "9         Salwador        250         45.60  \n",
       "10         Boliwia        252         62.70  \n",
       "11        Honduras        252         52.38  \n",
       "12        Brazylia         88        145.45  \n",
       "13         Burundi        250         60.00  \n",
       "14         Burundi        250         50.40  \n",
       "15         Etiopia         88        145.45  \n",
       "16       Gwatemala         88        145.45  \n",
       "17        Honduras        200         52.00  \n",
       "18        Kolumbia        200         89.00  \n",
       "19        Kolumbia        250         88.00  \n",
       "20         Etiopia        250         33.60  \n",
       "21            None        250         37.60  \n",
       "22            None        400         52.50  \n",
       "23        Kolumbia        250         48.80  \n",
       "24        Kolumbia        250         50.40  \n",
       "25  Brazylia, inne       1000         23.80  \n",
       "26         Etiopia        250         46.40  \n",
       "27        Honduras        250         50.40  \n",
       "28           Indie        250         44.80  \n",
       "29            Peru        250         44.80  \n",
       "30          Rwanda        250         44.80  \n",
       "31          Rwanda        250         44.80  \n",
       "32         Etiopia        250         50.40  \n",
       "33       Gwatemala        250         44.00  \n",
       "34        Honduras        250         47.20  \n",
       "35        Kolumbia        250         39.20  \n",
       "36       Gwatemala        125         96.00  \n",
       "37       Gwatemala        125        102.40  \n",
       "38            None        250         26.40  \n",
       "39          Rwanda        250         38.40  \n",
       "40        Brazylia         11         81.82  \n",
       "41        Brazylia         88         71.59  \n",
       "42         Etiopia         11         90.91  \n",
       "43         Etiopia         88         79.55  \n",
       "44        Honduras         11         81.82  \n",
       "45        Honduras         88         71.59  \n",
       "46           Kenia         11        100.00  \n",
       "47           Kenia         88         87.50  \n",
       "48        Kolumbia         88         79.55  \n",
       "49            None         88         73.86  "
      ],
      "text/html": "<div>\n<style scoped>\n    .dataframe tbody tr th:only-of-type {\n        vertical-align: middle;\n    }\n\n    .dataframe tbody tr th {\n        vertical-align: top;\n    }\n\n    .dataframe thead th {\n        text-align: right;\n    }\n</style>\n<table border=\"1\" class=\"dataframe\">\n  <thead>\n    <tr style=\"text-align: right;\">\n      <th></th>\n      <th>idx</th>\n      <th>price(GBP)</th>\n      <th>weight</th>\n      <th>process</th>\n      <th>destination</th>\n      <th>roast</th>\n      <th>blend</th>\n      <th>arabica_robusta</th>\n      <th>origin</th>\n      <th>weight(g)</th>\n      <th>price_per_kg</th>\n    </tr>\n  </thead>\n  <tbody>\n    <tr>\n      <th>0</th>\n      <td>1</td>\n      <td>18.80</td>\n      <td>6 x 60g</td>\n      <td>NaN</td>\n      <td>Drip (Metody alternatywne)</td>\n      <td>light</td>\n      <td>beans</td>\n      <td>100% Arabica</td>\n      <td>None</td>\n      <td>360</td>\n      <td>52.22</td>\n    </tr>\n    <tr>\n      <th>1</th>\n      <td>2</td>\n      <td>7.98</td>\n      <td>250 g</td>\n      <td>Natural</td>\n      <td>Drip (Metody alternatywne)</td>\n      <td>medium</td>\n      <td>beans</td>\n      <td>100% Arabica</td>\n      <td>Brazylia</td>\n      <td>250</td>\n      <td>31.92</td>\n    </tr>\n    <tr>\n      <th>2</th>\n      <td>3</td>\n      <td>9.80</td>\n      <td>250 g</td>\n      <td>Natural</td>\n      <td>Drip (Metody alternatywne)</td>\n      <td>light</td>\n      <td>beans</td>\n      <td>100% Arabica</td>\n      <td>Etiopia</td>\n      <td>250</td>\n      <td>39.20</td>\n    </tr>\n    <tr>\n      <th>3</th>\n      <td>4</td>\n      <td>9.80</td>\n      <td>250 g</td>\n      <td>Washed</td>\n      <td>Drip (Metody alternatywne)</td>\n      <td>light</td>\n      <td>beans</td>\n      <td>100% Arabica</td>\n      <td>Etiopia</td>\n      <td>250</td>\n      <td>39.20</td>\n    </tr>\n    <tr>\n      <th>4</th>\n      <td>5</td>\n      <td>8.80</td>\n      <td>250 g</td>\n      <td>Natural</td>\n      <td>Drip (Metody alternatywne)</td>\n      <td>dark</td>\n      <td>beans</td>\n      <td>100% Arabica</td>\n      <td>Indonezja</td>\n      <td>250</td>\n      <td>35.20</td>\n    </tr>\n    <tr>\n      <th>5</th>\n      <td>6</td>\n      <td>5.19</td>\n      <td>250 g</td>\n      <td>Natural</td>\n      <td>Drip (Metody alternatywne)</td>\n      <td>medium</td>\n      <td>beans</td>\n      <td>100% Arabica</td>\n      <td>Brazylia</td>\n      <td>250</td>\n      <td>20.76</td>\n    </tr>\n    <tr>\n      <th>6</th>\n      <td>7</td>\n      <td>9.00</td>\n      <td>200 g</td>\n      <td>Washed</td>\n      <td>Drip (Metody alternatywne)</td>\n      <td>light</td>\n      <td>beans</td>\n      <td>100% Arabica</td>\n      <td>Kenia</td>\n      <td>200</td>\n      <td>45.00</td>\n    </tr>\n    <tr>\n      <th>7</th>\n      <td>8</td>\n      <td>35.00</td>\n      <td>125 g</td>\n      <td>Carbonic Maceration</td>\n      <td>Drip (Metody alternatywne)</td>\n      <td>light</td>\n      <td>beans</td>\n      <td>100% Arabica</td>\n      <td>Panama</td>\n      <td>125</td>\n      <td>280.00</td>\n    </tr>\n    <tr>\n      <th>8</th>\n      <td>9</td>\n      <td>1.10</td>\n      <td>11 g</td>\n      <td>NaN</td>\n      <td>Drip (Metody alternatywne)</td>\n      <td>light</td>\n      <td>ground</td>\n      <td>100% Arabica</td>\n      <td>Kolumbia</td>\n      <td>11</td>\n      <td>100.00</td>\n    </tr>\n    <tr>\n      <th>9</th>\n      <td>10</td>\n      <td>11.40</td>\n      <td>250 g</td>\n      <td>Washed</td>\n      <td>Drip (Metody alternatywne)</td>\n      <td>light</td>\n      <td>beans</td>\n      <td>100% Arabica</td>\n      <td>Salwador</td>\n      <td>250</td>\n      <td>45.60</td>\n    </tr>\n    <tr>\n      <th>10</th>\n      <td>11</td>\n      <td>15.80</td>\n      <td>252 g</td>\n      <td>Honey</td>\n      <td>Drip (Metody alternatywne)</td>\n      <td>light</td>\n      <td>beans</td>\n      <td>100% Arabica</td>\n      <td>Boliwia</td>\n      <td>252</td>\n      <td>62.70</td>\n    </tr>\n    <tr>\n      <th>11</th>\n      <td>12</td>\n      <td>13.20</td>\n      <td>252 g</td>\n      <td>Honey</td>\n      <td>Drip (Metody alternatywne)</td>\n      <td>light</td>\n      <td>beans</td>\n      <td>100% Arabica</td>\n      <td>Honduras</td>\n      <td>252</td>\n      <td>52.38</td>\n    </tr>\n    <tr>\n      <th>12</th>\n      <td>13</td>\n      <td>12.80</td>\n      <td>8 x 11g</td>\n      <td>Natural</td>\n      <td>Drip (Metody alternatywne)</td>\n      <td>medium</td>\n      <td>ground</td>\n      <td>100% Arabica</td>\n      <td>Brazylia</td>\n      <td>88</td>\n      <td>145.45</td>\n    </tr>\n    <tr>\n      <th>13</th>\n      <td>14</td>\n      <td>15.00</td>\n      <td>250 g</td>\n      <td>Natural</td>\n      <td>Drip (Metody alternatywne)</td>\n      <td>light</td>\n      <td>beans</td>\n      <td>100% Arabica</td>\n      <td>Burundi</td>\n      <td>250</td>\n      <td>60.00</td>\n    </tr>\n    <tr>\n      <th>14</th>\n      <td>15</td>\n      <td>12.60</td>\n      <td>250 g</td>\n      <td>Washed</td>\n      <td>Drip (Metody alternatywne)</td>\n      <td>light</td>\n      <td>beans</td>\n      <td>100% Arabica</td>\n      <td>Burundi</td>\n      <td>250</td>\n      <td>50.40</td>\n    </tr>\n    <tr>\n      <th>15</th>\n      <td>16</td>\n      <td>12.80</td>\n      <td>8 x 11g</td>\n      <td>Natural</td>\n      <td>Drip (Metody alternatywne)</td>\n      <td>light</td>\n      <td>ground</td>\n      <td>100% Arabica</td>\n      <td>Etiopia</td>\n      <td>88</td>\n      <td>145.45</td>\n    </tr>\n    <tr>\n      <th>16</th>\n      <td>17</td>\n      <td>12.80</td>\n      <td>8 x 11g</td>\n      <td>Washed</td>\n      <td>Drip (Metody alternatywne)</td>\n      <td>light</td>\n      <td>ground</td>\n      <td>100% Arabica</td>\n      <td>Gwatemala</td>\n      <td>88</td>\n      <td>145.45</td>\n    </tr>\n    <tr>\n      <th>17</th>\n      <td>18</td>\n      <td>10.40</td>\n      <td>200 g</td>\n      <td>Natural</td>\n      <td>Drip (Metody alternatywne)</td>\n      <td>light</td>\n      <td>beans</td>\n      <td>100% Arabica</td>\n      <td>Honduras</td>\n      <td>200</td>\n      <td>52.00</td>\n    </tr>\n    <tr>\n      <th>18</th>\n      <td>19</td>\n      <td>17.80</td>\n      <td>200 g</td>\n      <td>Washed</td>\n      <td>Drip (Metody alternatywne)</td>\n      <td>light</td>\n      <td>beans</td>\n      <td>100% Arabica</td>\n      <td>Kolumbia</td>\n      <td>200</td>\n      <td>89.00</td>\n    </tr>\n    <tr>\n      <th>19</th>\n      <td>20</td>\n      <td>22.00</td>\n      <td>250 g</td>\n      <td>Washed</td>\n      <td>Drip (Metody alternatywne)</td>\n      <td>light</td>\n      <td>beans</td>\n      <td>100% Arabica</td>\n      <td>Kolumbia</td>\n      <td>250</td>\n      <td>88.00</td>\n    </tr>\n    <tr>\n      <th>20</th>\n      <td>21</td>\n      <td>8.40</td>\n      <td>250 g</td>\n      <td>Washed</td>\n      <td>Drip (Metody alternatywne)</td>\n      <td>medium</td>\n      <td>beans</td>\n      <td>100% Arabica</td>\n      <td>Etiopia</td>\n      <td>250</td>\n      <td>33.60</td>\n    </tr>\n    <tr>\n      <th>21</th>\n      <td>22</td>\n      <td>9.40</td>\n      <td>250 g</td>\n      <td>Natural</td>\n      <td>Drip (Metody alternatywne)</td>\n      <td>light</td>\n      <td>beans</td>\n      <td>100% Arabica</td>\n      <td>None</td>\n      <td>250</td>\n      <td>37.60</td>\n    </tr>\n    <tr>\n      <th>22</th>\n      <td>23</td>\n      <td>21.00</td>\n      <td>5 x 100g</td>\n      <td>NaN</td>\n      <td>Drip (Metody alternatywne)</td>\n      <td>light</td>\n      <td>beans</td>\n      <td>100% Arabica</td>\n      <td>None</td>\n      <td>400</td>\n      <td>52.50</td>\n    </tr>\n    <tr>\n      <th>23</th>\n      <td>24</td>\n      <td>12.20</td>\n      <td>250 g</td>\n      <td>Washed</td>\n      <td>Drip (Metody alternatywne)</td>\n      <td>light</td>\n      <td>beans</td>\n      <td>100% Arabica</td>\n      <td>Kolumbia</td>\n      <td>250</td>\n      <td>48.80</td>\n    </tr>\n    <tr>\n      <th>24</th>\n      <td>25</td>\n      <td>12.60</td>\n      <td>250 g</td>\n      <td>Natural</td>\n      <td>Drip (Metody alternatywne)</td>\n      <td>light</td>\n      <td>beans</td>\n      <td>100% Arabica</td>\n      <td>Kolumbia</td>\n      <td>250</td>\n      <td>50.40</td>\n    </tr>\n    <tr>\n      <th>25</th>\n      <td>26</td>\n      <td>23.80</td>\n      <td>1 kg</td>\n      <td>Washed</td>\n      <td>Drip (Metody alternatywne)</td>\n      <td>light</td>\n      <td>beans</td>\n      <td>100% Arabica</td>\n      <td>Brazylia, inne</td>\n      <td>1000</td>\n      <td>23.80</td>\n    </tr>\n    <tr>\n      <th>26</th>\n      <td>27</td>\n      <td>11.60</td>\n      <td>250 g</td>\n      <td>Washed</td>\n      <td>Drip (Metody alternatywne)</td>\n      <td>light</td>\n      <td>beans</td>\n      <td>100% Arabica</td>\n      <td>Etiopia</td>\n      <td>250</td>\n      <td>46.40</td>\n    </tr>\n    <tr>\n      <th>27</th>\n      <td>28</td>\n      <td>12.60</td>\n      <td>250 g</td>\n      <td>Washed Anaerobic</td>\n      <td>Drip (Metody alternatywne)</td>\n      <td>light</td>\n      <td>beans</td>\n      <td>100% Arabica</td>\n      <td>Honduras</td>\n      <td>250</td>\n      <td>50.40</td>\n    </tr>\n    <tr>\n      <th>28</th>\n      <td>29</td>\n      <td>11.20</td>\n      <td>250 g</td>\n      <td>Red Honey</td>\n      <td>Drip (Metody alternatywne)</td>\n      <td>light</td>\n      <td>beans</td>\n      <td>100% Arabica</td>\n      <td>Indie</td>\n      <td>250</td>\n      <td>44.80</td>\n    </tr>\n    <tr>\n      <th>29</th>\n      <td>30</td>\n      <td>11.20</td>\n      <td>250 g</td>\n      <td>Washed</td>\n      <td>Drip (Metody alternatywne)</td>\n      <td>light</td>\n      <td>beans</td>\n      <td>100% Arabica</td>\n      <td>Peru</td>\n      <td>250</td>\n      <td>44.80</td>\n    </tr>\n    <tr>\n      <th>30</th>\n      <td>31</td>\n      <td>11.20</td>\n      <td>250 g</td>\n      <td>Washed</td>\n      <td>Drip (Metody alternatywne)</td>\n      <td>light</td>\n      <td>beans</td>\n      <td>100% Arabica</td>\n      <td>Rwanda</td>\n      <td>250</td>\n      <td>44.80</td>\n    </tr>\n    <tr>\n      <th>31</th>\n      <td>32</td>\n      <td>11.20</td>\n      <td>250 g</td>\n      <td>Washed</td>\n      <td>Drip (Metody alternatywne)</td>\n      <td>light</td>\n      <td>beans</td>\n      <td>100% Arabica</td>\n      <td>Rwanda</td>\n      <td>250</td>\n      <td>44.80</td>\n    </tr>\n    <tr>\n      <th>32</th>\n      <td>33</td>\n      <td>12.60</td>\n      <td>250 g</td>\n      <td>Natural</td>\n      <td>Drip (Metody alternatywne)</td>\n      <td>light</td>\n      <td>beans</td>\n      <td>100% Arabica</td>\n      <td>Etiopia</td>\n      <td>250</td>\n      <td>50.40</td>\n    </tr>\n    <tr>\n      <th>33</th>\n      <td>34</td>\n      <td>11.00</td>\n      <td>250 g</td>\n      <td>Washed</td>\n      <td>Drip (Metody alternatywne)</td>\n      <td>light</td>\n      <td>beans</td>\n      <td>100% Arabica</td>\n      <td>Gwatemala</td>\n      <td>250</td>\n      <td>44.00</td>\n    </tr>\n    <tr>\n      <th>34</th>\n      <td>35</td>\n      <td>11.80</td>\n      <td>250 g</td>\n      <td>Anaerobic</td>\n      <td>Drip (Metody alternatywne)</td>\n      <td>light</td>\n      <td>beans</td>\n      <td>100% Arabica</td>\n      <td>Honduras</td>\n      <td>250</td>\n      <td>47.20</td>\n    </tr>\n    <tr>\n      <th>35</th>\n      <td>36</td>\n      <td>9.80</td>\n      <td>250 g</td>\n      <td>Washed</td>\n      <td>Drip (Metody alternatywne)</td>\n      <td>light</td>\n      <td>beans</td>\n      <td>100% Arabica</td>\n      <td>Kolumbia</td>\n      <td>250</td>\n      <td>39.20</td>\n    </tr>\n    <tr>\n      <th>36</th>\n      <td>37</td>\n      <td>12.00</td>\n      <td>125 g</td>\n      <td>Carbonic Maceration</td>\n      <td>Drip (Metody alternatywne)</td>\n      <td>light</td>\n      <td>beans</td>\n      <td>100% Arabica</td>\n      <td>Gwatemala</td>\n      <td>125</td>\n      <td>96.00</td>\n    </tr>\n    <tr>\n      <th>37</th>\n      <td>38</td>\n      <td>12.80</td>\n      <td>125 g</td>\n      <td>Carbonic Maceration</td>\n      <td>Drip (Metody alternatywne)</td>\n      <td>light</td>\n      <td>beans</td>\n      <td>100% Arabica</td>\n      <td>Gwatemala</td>\n      <td>125</td>\n      <td>102.40</td>\n    </tr>\n    <tr>\n      <th>38</th>\n      <td>39</td>\n      <td>6.60</td>\n      <td>250 g</td>\n      <td>NaN</td>\n      <td>Drip (Metody alternatywne)</td>\n      <td>light</td>\n      <td>beans</td>\n      <td>100% Arabica</td>\n      <td>None</td>\n      <td>250</td>\n      <td>26.40</td>\n    </tr>\n    <tr>\n      <th>39</th>\n      <td>40</td>\n      <td>9.60</td>\n      <td>250 g</td>\n      <td>Washed</td>\n      <td>Drip (Metody alternatywne)</td>\n      <td>light</td>\n      <td>beans</td>\n      <td>100% Arabica</td>\n      <td>Rwanda</td>\n      <td>250</td>\n      <td>38.40</td>\n    </tr>\n    <tr>\n      <th>40</th>\n      <td>41</td>\n      <td>0.90</td>\n      <td>11 g</td>\n      <td>NaN</td>\n      <td>Drip (Metody alternatywne)</td>\n      <td>light</td>\n      <td>ground</td>\n      <td>100% Arabica</td>\n      <td>Brazylia</td>\n      <td>11</td>\n      <td>81.82</td>\n    </tr>\n    <tr>\n      <th>41</th>\n      <td>42</td>\n      <td>6.30</td>\n      <td>8 x 11g</td>\n      <td>NaN</td>\n      <td>Drip (Metody alternatywne)</td>\n      <td>light</td>\n      <td>ground</td>\n      <td>100% Arabica</td>\n      <td>Brazylia</td>\n      <td>88</td>\n      <td>71.59</td>\n    </tr>\n    <tr>\n      <th>42</th>\n      <td>43</td>\n      <td>1.00</td>\n      <td>11 g</td>\n      <td>Washed</td>\n      <td>Drip (Metody alternatywne)</td>\n      <td>light</td>\n      <td>ground</td>\n      <td>100% Arabica</td>\n      <td>Etiopia</td>\n      <td>11</td>\n      <td>90.91</td>\n    </tr>\n    <tr>\n      <th>43</th>\n      <td>44</td>\n      <td>7.00</td>\n      <td>8 x 11g</td>\n      <td>Washed</td>\n      <td>Drip (Metody alternatywne)</td>\n      <td>light</td>\n      <td>ground</td>\n      <td>100% Arabica</td>\n      <td>Etiopia</td>\n      <td>88</td>\n      <td>79.55</td>\n    </tr>\n    <tr>\n      <th>44</th>\n      <td>45</td>\n      <td>0.90</td>\n      <td>11 g</td>\n      <td>NaN</td>\n      <td>Drip (Metody alternatywne)</td>\n      <td>light</td>\n      <td>ground</td>\n      <td>100% Arabica</td>\n      <td>Honduras</td>\n      <td>11</td>\n      <td>81.82</td>\n    </tr>\n    <tr>\n      <th>45</th>\n      <td>46</td>\n      <td>6.30</td>\n      <td>8 x 11g</td>\n      <td>NaN</td>\n      <td>Drip (Metody alternatywne)</td>\n      <td>light</td>\n      <td>ground</td>\n      <td>100% Arabica</td>\n      <td>Honduras</td>\n      <td>88</td>\n      <td>71.59</td>\n    </tr>\n    <tr>\n      <th>46</th>\n      <td>47</td>\n      <td>1.10</td>\n      <td>11 g</td>\n      <td>Washed</td>\n      <td>Drip (Metody alternatywne)</td>\n      <td>light</td>\n      <td>ground</td>\n      <td>100% Arabica</td>\n      <td>Kenia</td>\n      <td>11</td>\n      <td>100.00</td>\n    </tr>\n    <tr>\n      <th>47</th>\n      <td>48</td>\n      <td>7.70</td>\n      <td>8 x 11g</td>\n      <td>Washed</td>\n      <td>Drip (Metody alternatywne)</td>\n      <td>light</td>\n      <td>ground</td>\n      <td>100% Arabica</td>\n      <td>Kenia</td>\n      <td>88</td>\n      <td>87.50</td>\n    </tr>\n    <tr>\n      <th>48</th>\n      <td>49</td>\n      <td>7.00</td>\n      <td>8 x 11g</td>\n      <td>NaN</td>\n      <td>Drip (Metody alternatywne)</td>\n      <td>light</td>\n      <td>ground</td>\n      <td>100% Arabica</td>\n      <td>Kolumbia</td>\n      <td>88</td>\n      <td>79.55</td>\n    </tr>\n    <tr>\n      <th>49</th>\n      <td>50</td>\n      <td>6.50</td>\n      <td>8 x 11g</td>\n      <td>NaN</td>\n      <td>Drip (Metody alternatywne)</td>\n      <td>light</td>\n      <td>ground</td>\n      <td>100% Arabica</td>\n      <td>None</td>\n      <td>88</td>\n      <td>73.86</td>\n    </tr>\n  </tbody>\n</table>\n</div>"
     },
     "metadata": {},
     "execution_count": 27
    }
   ],
   "source": [
    "coffee_df_backup['price(GBP)', 'weight'].drop"
   ]
  },
  {
   "cell_type": "code",
   "execution_count": 140,
   "metadata": {},
   "outputs": [
    {
     "output_type": "execute_result",
     "data": {
      "text/plain": [
       "      process  destination  roast  blend  arabica_robusta     origin\n",
       "0   12.000000          0.0    1.0    0.0              0.0  12.000000\n",
       "1   10.000000          0.0    2.0    0.0              0.0   2.000000\n",
       "2   10.000000          0.0    1.0    0.0              0.0   9.000000\n",
       "3   13.000000          0.0    1.0    0.0              0.0   9.000000\n",
       "4   10.000000          0.0    0.0    0.0              0.0  16.000000\n",
       "5   10.000000          0.0    2.0    0.0              0.0   2.000000\n",
       "6   13.000000          0.0    1.0    0.0              0.0  18.000000\n",
       "7    4.000000          0.0    1.0    0.0              0.0  27.000000\n",
       "8   12.216388          0.0    1.0    2.0              0.0  19.000000\n",
       "9   13.000000          0.0    1.0    0.0              0.0  31.000000\n",
       "10   7.000000          0.0    1.0    0.0              0.0   0.000000\n",
       "11   7.000000          0.0    1.0    0.0              0.0  14.000000\n",
       "12  10.000000          0.0    2.0    2.0              0.0   2.000000\n",
       "13  10.000000          0.0    1.0    0.0              0.0   6.000000\n",
       "14  13.000000          0.0    1.0    0.0              0.0   6.000000\n",
       "15  10.000000          0.0    1.0    2.0              0.0   9.000000\n",
       "16  13.000000          0.0    1.0    2.0              0.0  13.000000\n",
       "17  10.000000          0.0    1.0    0.0              0.0  14.000000\n",
       "18  13.000000          0.0    1.0    0.0              0.0  19.000000\n",
       "19  13.000000          0.0    1.0    0.0              0.0  19.000000\n",
       "20  13.000000          0.0    2.0    0.0              0.0   9.000000\n",
       "21  10.000000          0.0    1.0    0.0              0.0   9.666667\n",
       "22  12.000000          0.0    1.0    0.0              0.0  12.000000\n",
       "23  13.000000          0.0    1.0    0.0              0.0  19.000000\n",
       "24  10.000000          0.0    1.0    0.0              0.0  19.000000\n",
       "25  13.000000          0.0    1.0    0.0              0.0   5.000000\n",
       "26  13.000000          0.0    1.0    0.0              0.0   9.000000\n",
       "27   2.000000          0.0    1.0    0.0              0.0  14.000000\n",
       "28  12.000000          0.0    1.0    0.0              0.0  15.000000\n",
       "29  13.000000          0.0    1.0    0.0              0.0  29.000000\n",
       "30  13.000000          0.0    1.0    0.0              0.0  30.000000\n",
       "31  13.000000          0.0    1.0    0.0              0.0  30.000000\n",
       "32  10.000000          0.0    1.0    0.0              0.0   9.000000\n",
       "33  13.000000          0.0    1.0    0.0              0.0  13.000000\n",
       "34   2.000000          0.0    1.0    0.0              0.0  14.000000\n",
       "35  13.000000          0.0    1.0    0.0              0.0  19.000000\n",
       "36   4.000000          0.0    1.0    0.0              0.0  13.000000\n",
       "37   4.000000          0.0    1.0    0.0              0.0  13.000000\n",
       "38  12.000000          0.0    1.0    0.0              0.0  12.000000\n",
       "39  13.000000          0.0    1.0    0.0              0.0  30.000000\n",
       "40   9.250000          0.0    1.0    2.0              0.0   2.000000\n",
       "41   9.250000          0.0    1.0    2.0              0.0   2.000000\n",
       "42  13.000000          0.0    1.0    2.0              0.0   9.000000\n",
       "43  13.000000          0.0    1.0    2.0              0.0   9.000000\n",
       "44  10.750000          0.0    1.0    2.0              0.0  14.000000\n",
       "45  10.750000          0.0    1.0    2.0              0.0  14.000000\n",
       "46  13.000000          0.0    1.0    2.0              0.0  18.000000\n",
       "47  13.000000          0.0    1.0    2.0              0.0  18.000000\n",
       "48  12.216388          0.0    1.0    2.0              0.0  19.000000\n",
       "49  12.000000          0.0    1.0    2.0              0.0  13.666667"
      ],
      "text/html": "<div>\n<style scoped>\n    .dataframe tbody tr th:only-of-type {\n        vertical-align: middle;\n    }\n\n    .dataframe tbody tr th {\n        vertical-align: top;\n    }\n\n    .dataframe thead th {\n        text-align: right;\n    }\n</style>\n<table border=\"1\" class=\"dataframe\">\n  <thead>\n    <tr style=\"text-align: right;\">\n      <th></th>\n      <th>process</th>\n      <th>destination</th>\n      <th>roast</th>\n      <th>blend</th>\n      <th>arabica_robusta</th>\n      <th>origin</th>\n    </tr>\n  </thead>\n  <tbody>\n    <tr>\n      <th>0</th>\n      <td>12.000000</td>\n      <td>0.0</td>\n      <td>1.0</td>\n      <td>0.0</td>\n      <td>0.0</td>\n      <td>12.000000</td>\n    </tr>\n    <tr>\n      <th>1</th>\n      <td>10.000000</td>\n      <td>0.0</td>\n      <td>2.0</td>\n      <td>0.0</td>\n      <td>0.0</td>\n      <td>2.000000</td>\n    </tr>\n    <tr>\n      <th>2</th>\n      <td>10.000000</td>\n      <td>0.0</td>\n      <td>1.0</td>\n      <td>0.0</td>\n      <td>0.0</td>\n      <td>9.000000</td>\n    </tr>\n    <tr>\n      <th>3</th>\n      <td>13.000000</td>\n      <td>0.0</td>\n      <td>1.0</td>\n      <td>0.0</td>\n      <td>0.0</td>\n      <td>9.000000</td>\n    </tr>\n    <tr>\n      <th>4</th>\n      <td>10.000000</td>\n      <td>0.0</td>\n      <td>0.0</td>\n      <td>0.0</td>\n      <td>0.0</td>\n      <td>16.000000</td>\n    </tr>\n    <tr>\n      <th>5</th>\n      <td>10.000000</td>\n      <td>0.0</td>\n      <td>2.0</td>\n      <td>0.0</td>\n      <td>0.0</td>\n      <td>2.000000</td>\n    </tr>\n    <tr>\n      <th>6</th>\n      <td>13.000000</td>\n      <td>0.0</td>\n      <td>1.0</td>\n      <td>0.0</td>\n      <td>0.0</td>\n      <td>18.000000</td>\n    </tr>\n    <tr>\n      <th>7</th>\n      <td>4.000000</td>\n      <td>0.0</td>\n      <td>1.0</td>\n      <td>0.0</td>\n      <td>0.0</td>\n      <td>27.000000</td>\n    </tr>\n    <tr>\n      <th>8</th>\n      <td>12.216388</td>\n      <td>0.0</td>\n      <td>1.0</td>\n      <td>2.0</td>\n      <td>0.0</td>\n      <td>19.000000</td>\n    </tr>\n    <tr>\n      <th>9</th>\n      <td>13.000000</td>\n      <td>0.0</td>\n      <td>1.0</td>\n      <td>0.0</td>\n      <td>0.0</td>\n      <td>31.000000</td>\n    </tr>\n    <tr>\n      <th>10</th>\n      <td>7.000000</td>\n      <td>0.0</td>\n      <td>1.0</td>\n      <td>0.0</td>\n      <td>0.0</td>\n      <td>0.000000</td>\n    </tr>\n    <tr>\n      <th>11</th>\n      <td>7.000000</td>\n      <td>0.0</td>\n      <td>1.0</td>\n      <td>0.0</td>\n      <td>0.0</td>\n      <td>14.000000</td>\n    </tr>\n    <tr>\n      <th>12</th>\n      <td>10.000000</td>\n      <td>0.0</td>\n      <td>2.0</td>\n      <td>2.0</td>\n      <td>0.0</td>\n      <td>2.000000</td>\n    </tr>\n    <tr>\n      <th>13</th>\n      <td>10.000000</td>\n      <td>0.0</td>\n      <td>1.0</td>\n      <td>0.0</td>\n      <td>0.0</td>\n      <td>6.000000</td>\n    </tr>\n    <tr>\n      <th>14</th>\n      <td>13.000000</td>\n      <td>0.0</td>\n      <td>1.0</td>\n      <td>0.0</td>\n      <td>0.0</td>\n      <td>6.000000</td>\n    </tr>\n    <tr>\n      <th>15</th>\n      <td>10.000000</td>\n      <td>0.0</td>\n      <td>1.0</td>\n      <td>2.0</td>\n      <td>0.0</td>\n      <td>9.000000</td>\n    </tr>\n    <tr>\n      <th>16</th>\n      <td>13.000000</td>\n      <td>0.0</td>\n      <td>1.0</td>\n      <td>2.0</td>\n      <td>0.0</td>\n      <td>13.000000</td>\n    </tr>\n    <tr>\n      <th>17</th>\n      <td>10.000000</td>\n      <td>0.0</td>\n      <td>1.0</td>\n      <td>0.0</td>\n      <td>0.0</td>\n      <td>14.000000</td>\n    </tr>\n    <tr>\n      <th>18</th>\n      <td>13.000000</td>\n      <td>0.0</td>\n      <td>1.0</td>\n      <td>0.0</td>\n      <td>0.0</td>\n      <td>19.000000</td>\n    </tr>\n    <tr>\n      <th>19</th>\n      <td>13.000000</td>\n      <td>0.0</td>\n      <td>1.0</td>\n      <td>0.0</td>\n      <td>0.0</td>\n      <td>19.000000</td>\n    </tr>\n    <tr>\n      <th>20</th>\n      <td>13.000000</td>\n      <td>0.0</td>\n      <td>2.0</td>\n      <td>0.0</td>\n      <td>0.0</td>\n      <td>9.000000</td>\n    </tr>\n    <tr>\n      <th>21</th>\n      <td>10.000000</td>\n      <td>0.0</td>\n      <td>1.0</td>\n      <td>0.0</td>\n      <td>0.0</td>\n      <td>9.666667</td>\n    </tr>\n    <tr>\n      <th>22</th>\n      <td>12.000000</td>\n      <td>0.0</td>\n      <td>1.0</td>\n      <td>0.0</td>\n      <td>0.0</td>\n      <td>12.000000</td>\n    </tr>\n    <tr>\n      <th>23</th>\n      <td>13.000000</td>\n      <td>0.0</td>\n      <td>1.0</td>\n      <td>0.0</td>\n      <td>0.0</td>\n      <td>19.000000</td>\n    </tr>\n    <tr>\n      <th>24</th>\n      <td>10.000000</td>\n      <td>0.0</td>\n      <td>1.0</td>\n      <td>0.0</td>\n      <td>0.0</td>\n      <td>19.000000</td>\n    </tr>\n    <tr>\n      <th>25</th>\n      <td>13.000000</td>\n      <td>0.0</td>\n      <td>1.0</td>\n      <td>0.0</td>\n      <td>0.0</td>\n      <td>5.000000</td>\n    </tr>\n    <tr>\n      <th>26</th>\n      <td>13.000000</td>\n      <td>0.0</td>\n      <td>1.0</td>\n      <td>0.0</td>\n      <td>0.0</td>\n      <td>9.000000</td>\n    </tr>\n    <tr>\n      <th>27</th>\n      <td>2.000000</td>\n      <td>0.0</td>\n      <td>1.0</td>\n      <td>0.0</td>\n      <td>0.0</td>\n      <td>14.000000</td>\n    </tr>\n    <tr>\n      <th>28</th>\n      <td>12.000000</td>\n      <td>0.0</td>\n      <td>1.0</td>\n      <td>0.0</td>\n      <td>0.0</td>\n      <td>15.000000</td>\n    </tr>\n    <tr>\n      <th>29</th>\n      <td>13.000000</td>\n      <td>0.0</td>\n      <td>1.0</td>\n      <td>0.0</td>\n      <td>0.0</td>\n      <td>29.000000</td>\n    </tr>\n    <tr>\n      <th>30</th>\n      <td>13.000000</td>\n      <td>0.0</td>\n      <td>1.0</td>\n      <td>0.0</td>\n      <td>0.0</td>\n      <td>30.000000</td>\n    </tr>\n    <tr>\n      <th>31</th>\n      <td>13.000000</td>\n      <td>0.0</td>\n      <td>1.0</td>\n      <td>0.0</td>\n      <td>0.0</td>\n      <td>30.000000</td>\n    </tr>\n    <tr>\n      <th>32</th>\n      <td>10.000000</td>\n      <td>0.0</td>\n      <td>1.0</td>\n      <td>0.0</td>\n      <td>0.0</td>\n      <td>9.000000</td>\n    </tr>\n    <tr>\n      <th>33</th>\n      <td>13.000000</td>\n      <td>0.0</td>\n      <td>1.0</td>\n      <td>0.0</td>\n      <td>0.0</td>\n      <td>13.000000</td>\n    </tr>\n    <tr>\n      <th>34</th>\n      <td>2.000000</td>\n      <td>0.0</td>\n      <td>1.0</td>\n      <td>0.0</td>\n      <td>0.0</td>\n      <td>14.000000</td>\n    </tr>\n    <tr>\n      <th>35</th>\n      <td>13.000000</td>\n      <td>0.0</td>\n      <td>1.0</td>\n      <td>0.0</td>\n      <td>0.0</td>\n      <td>19.000000</td>\n    </tr>\n    <tr>\n      <th>36</th>\n      <td>4.000000</td>\n      <td>0.0</td>\n      <td>1.0</td>\n      <td>0.0</td>\n      <td>0.0</td>\n      <td>13.000000</td>\n    </tr>\n    <tr>\n      <th>37</th>\n      <td>4.000000</td>\n      <td>0.0</td>\n      <td>1.0</td>\n      <td>0.0</td>\n      <td>0.0</td>\n      <td>13.000000</td>\n    </tr>\n    <tr>\n      <th>38</th>\n      <td>12.000000</td>\n      <td>0.0</td>\n      <td>1.0</td>\n      <td>0.0</td>\n      <td>0.0</td>\n      <td>12.000000</td>\n    </tr>\n    <tr>\n      <th>39</th>\n      <td>13.000000</td>\n      <td>0.0</td>\n      <td>1.0</td>\n      <td>0.0</td>\n      <td>0.0</td>\n      <td>30.000000</td>\n    </tr>\n    <tr>\n      <th>40</th>\n      <td>9.250000</td>\n      <td>0.0</td>\n      <td>1.0</td>\n      <td>2.0</td>\n      <td>0.0</td>\n      <td>2.000000</td>\n    </tr>\n    <tr>\n      <th>41</th>\n      <td>9.250000</td>\n      <td>0.0</td>\n      <td>1.0</td>\n      <td>2.0</td>\n      <td>0.0</td>\n      <td>2.000000</td>\n    </tr>\n    <tr>\n      <th>42</th>\n      <td>13.000000</td>\n      <td>0.0</td>\n      <td>1.0</td>\n      <td>2.0</td>\n      <td>0.0</td>\n      <td>9.000000</td>\n    </tr>\n    <tr>\n      <th>43</th>\n      <td>13.000000</td>\n      <td>0.0</td>\n      <td>1.0</td>\n      <td>2.0</td>\n      <td>0.0</td>\n      <td>9.000000</td>\n    </tr>\n    <tr>\n      <th>44</th>\n      <td>10.750000</td>\n      <td>0.0</td>\n      <td>1.0</td>\n      <td>2.0</td>\n      <td>0.0</td>\n      <td>14.000000</td>\n    </tr>\n    <tr>\n      <th>45</th>\n      <td>10.750000</td>\n      <td>0.0</td>\n      <td>1.0</td>\n      <td>2.0</td>\n      <td>0.0</td>\n      <td>14.000000</td>\n    </tr>\n    <tr>\n      <th>46</th>\n      <td>13.000000</td>\n      <td>0.0</td>\n      <td>1.0</td>\n      <td>2.0</td>\n      <td>0.0</td>\n      <td>18.000000</td>\n    </tr>\n    <tr>\n      <th>47</th>\n      <td>13.000000</td>\n      <td>0.0</td>\n      <td>1.0</td>\n      <td>2.0</td>\n      <td>0.0</td>\n      <td>18.000000</td>\n    </tr>\n    <tr>\n      <th>48</th>\n      <td>12.216388</td>\n      <td>0.0</td>\n      <td>1.0</td>\n      <td>2.0</td>\n      <td>0.0</td>\n      <td>19.000000</td>\n    </tr>\n    <tr>\n      <th>49</th>\n      <td>12.000000</td>\n      <td>0.0</td>\n      <td>1.0</td>\n      <td>2.0</td>\n      <td>0.0</td>\n      <td>13.666667</td>\n    </tr>\n  </tbody>\n</table>\n</div>"
     },
     "metadata": {},
     "execution_count": 140
    }
   ],
   "source": [
    "knn_coffee_arr = knn_impute.fit_transform(coffee_df_imput) # TODO: make sure you don't have the target variable in imputations!!!\n",
    "knn_coffee_df = pd.DataFrame(knn_coffee_arr, columns=columns_for_imput)\n",
    "knn_coffee_df.head(50)"
   ]
  },
  {
   "cell_type": "code",
   "execution_count": 141,
   "metadata": {},
   "outputs": [
    {
     "output_type": "execute_result",
     "data": {
      "text/plain": [
       "process    destination  roast  blend  arabica_robusta  origin   \n",
       "10.000000  2.0          2.0    0.0    0.0              2.000000     40\n",
       "11.000000  2.0          0.0    0.0    0.0              13.000000    38\n",
       "13.000000  0.0          1.0    0.0    0.0              19.000000    27\n",
       "                                                       13.000000    27\n",
       "                                                       9.000000     27\n",
       "                                                                    ..\n",
       "10.000000  2.0          2.0    0.0    14.0             11.666667     1\n",
       "                                      15.0             18.333333     1\n",
       "                               2.0    0.0              2.000000      1\n",
       "10.333333  2.0          0.0    0.0    9.0              2.000000      1\n",
       "16.000000  1.0          2.0    0.0    0.0              20.000000     1\n",
       "Length: 248, dtype: int64"
      ]
     },
     "metadata": {},
     "execution_count": 141
    }
   ],
   "source": [
    "knn_coffee_df.value_counts()"
   ]
  },
  {
   "cell_type": "code",
   "execution_count": null,
   "metadata": {},
   "outputs": [],
   "source": [
    "for col in columns_for_imput:\n",
    "    coffee_df_imput[col] = coffee_df_imput[col].round\n",
    "# coffee_df_imput.index = coffee_df_backup.index\n",
    "coffee_df_imput.head(20)"
   ]
  }
 ]
}